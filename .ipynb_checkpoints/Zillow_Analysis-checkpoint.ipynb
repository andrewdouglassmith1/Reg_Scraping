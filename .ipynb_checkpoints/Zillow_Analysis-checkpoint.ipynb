{
 "cells": [
  {
   "cell_type": "markdown",
   "metadata": {},
   "source": [
    "# Import Key Libraries"
   ]
  },
  {
   "cell_type": "code",
   "execution_count": 1,
   "metadata": {},
   "outputs": [],
   "source": [
    "import requests\n",
    "from bs4 import BeautifulSoup\n",
    "from random import choice\n",
    "from fake_useragent import UserAgent\n",
    "from selenium.webdriver.chrome.options import Options\n",
    "import ssl\n",
    "import time, os\n",
    "import json\n",
    "import random\n",
    "import pickle\n",
    "import pandas as pd"
   ]
  },
  {
   "cell_type": "markdown",
   "metadata": {},
   "source": [
    "# Functions to Rotate Randomly Generated User Agents and Proxies"
   ]
  },
  {
   "cell_type": "code",
   "execution_count": 2,
   "metadata": {},
   "outputs": [],
   "source": [
    "# create functions, will only be relevant when accessing home details - need to use selenium to get initial links"
   ]
  },
  {
   "cell_type": "code",
   "execution_count": 3,
   "metadata": {},
   "outputs": [],
   "source": [
    "def get_proxy():\n",
    "    '''\n",
    "    Returns a random proxy from a sslproxies.org\n",
    "    '''\n",
    "    url = \"https://www.sslproxies.org/\"\n",
    "    r = requests.get(url)\n",
    "    soup = BeautifulSoup(r.content, \"html5lib\")\n",
    "    return {'https': \n",
    "     choice(list(map(lambda x:x[0]+':'+x[1],\n",
    "        list(zip(map(lambda x:x.text, soup.findAll('td')[::8]), \n",
    "                 map(lambda x:x.text, soup.findAll('td')[1::8]))))))}"
   ]
  },
  {
   "cell_type": "code",
   "execution_count": 4,
   "metadata": {},
   "outputs": [],
   "source": [
    "def proxy_agent_request(request_type, url, **kwargs):\n",
    "    '''\n",
    "    A function to request a url through a random user agent and a proxy, the function test the proxy\n",
    "    '''\n",
    "    while 1:\n",
    "        try:\n",
    "            proxy = get_proxy()\n",
    "            ua = UserAgent()\n",
    "            user_agent = {'User-agent': ua.random}\n",
    "            print(\"Using proxy: {}\".format(proxy))\n",
    "            print(\"Using user agent: {}\".format(user_agent))\n",
    "            r = requests.request(request_type, url, proxies=proxy, headers=user_agent, timeout=5, **kwargs)\n",
    "            break\n",
    "        except:\n",
    "            pass\n",
    "    return r "
   ]
  },
  {
   "cell_type": "code",
   "execution_count": 5,
   "metadata": {},
   "outputs": [],
   "source": [
    "def working_proxy():\n",
    "    '''\n",
    "    Returns a working random proxy\n",
    "    '''\n",
    "    while 1:\n",
    "        try:\n",
    "            proxy = get_proxy()\n",
    "            url = \"https://www.sslproxies.org/\"\n",
    "            r = requests.get(url, proxies=proxy, timeout=5)\n",
    "            break\n",
    "        except:\n",
    "            pass\n",
    "    working = proxy\n",
    "    prepped_proxy = list(working.values())[0]\n",
    "    return prepped_proxy "
   ]
  },
  {
   "cell_type": "code",
   "execution_count": 6,
   "metadata": {},
   "outputs": [
    {
     "data": {
      "text/plain": [
       "'168.228.51.197:59144'"
      ]
     },
     "execution_count": 6,
     "metadata": {},
     "output_type": "execute_result"
    }
   ],
   "source": [
    "# testing working_proxy\n",
    "\n",
    "working_proxy()"
   ]
  },
  {
   "cell_type": "code",
   "execution_count": 7,
   "metadata": {},
   "outputs": [
    {
     "name": "stdout",
     "output_type": "stream",
     "text": [
      "Using proxy: {'https': '167.172.109.12:36457'}\n",
      "Using user agent: {'User-agent': 'Mozilla/5.0 (Windows; U; Windows NT 6.1; sv-SE) AppleWebKit/533.19.4 (KHTML, like Gecko) Version/5.0.3 Safari/533.19.4'}\n",
      "Using proxy: {'https': '52.69.19.32:80'}\n",
      "Using user agent: {'User-agent': 'Mozilla/5.0 (X11; Linux x86_64) AppleWebKit/537.36 (KHTML, like Gecko) Chrome/34.0.1847.137 Safari/4E423F'}\n",
      "Using proxy: {'https': '193.233.14.18:3128'}\n",
      "Using user agent: {'User-agent': 'Mozilla/5.0 (Windows NT 5.1) AppleWebKit/537.36 (KHTML, like Gecko) Chrome/35.0.3319.102 Safari/537.36'}\n"
     ]
    }
   ],
   "source": [
    "# testing functions\n",
    "\n",
    "r = proxy_agent_request('get', \"https://www.youtube.com/\")"
   ]
  },
  {
   "cell_type": "code",
   "execution_count": 8,
   "metadata": {},
   "outputs": [
    {
     "data": {
      "text/plain": [
       "200"
      ]
     },
     "execution_count": 8,
     "metadata": {},
     "output_type": "execute_result"
    }
   ],
   "source": [
    "r.status_code"
   ]
  },
  {
   "cell_type": "code",
   "execution_count": 9,
   "metadata": {},
   "outputs": [],
   "source": [
    "# For ignoring SSL certificate errors\n",
    "\n",
    "ctx = ssl.create_default_context()\n",
    "ctx.check_hostname = False\n",
    "ctx.verify_mode = ssl.CERT_NONE"
   ]
  },
  {
   "cell_type": "markdown",
   "metadata": {},
   "source": [
    "# Setup Selenium .get specifications"
   ]
  },
  {
   "cell_type": "code",
   "execution_count": 10,
   "metadata": {},
   "outputs": [],
   "source": [
    "# Setup chromedriver\n",
    "from selenium import webdriver\n",
    "from selenium.webdriver.common.keys import Keys"
   ]
  },
  {
   "cell_type": "code",
   "execution_count": 11,
   "metadata": {},
   "outputs": [],
   "source": [
    "chromedriver = \"/Program Files/Google/Chrome/Application/chromedriver.exe\" # path to the chromedriver executable\n",
    "os.environ[\"webdriver.chrome.driver\"] = chromedriver"
   ]
  },
  {
   "cell_type": "markdown",
   "metadata": {},
   "source": [
    "# Grab URLs for all properties listed in Vermont from homepage"
   ]
  },
  {
   "cell_type": "code",
   "execution_count": 12,
   "metadata": {},
   "outputs": [],
   "source": [
    "# Store initial homepage for single family homes ion Vermont\n",
    "\n",
    "url = \"https://www.zillow.com/vt/houses/?searchQueryState=%7B%22pagination%22%3A%7B%7D%2C%22usersSearchTerm%22%3A%22vermont%22%2C%22mapBounds%22%3A%7B%22west%22%3A-77.06023564843753%2C%22east%22%3A-67.84270635156253%2C%22south%22%3A40.62302590438021%2C%22north%22%3A46.97341636694772%7D%2C%22regionSelection%22%3A%5B%7B%22regionId%22%3A58%2C%22regionType%22%3A2%7D%5D%2C%22isMapVisible%22%3Atrue%2C%22filterState%22%3A%7B%22price%22%3A%7B%22min%22%3A0%7D%2C%22mp%22%3A%7B%22min%22%3A0%7D%2C%22sort%22%3A%7B%22value%22%3A%22globalrelevanceex%22%7D%2C%22ah%22%3A%7B%22value%22%3Atrue%7D%2C%22con%22%3A%7B%22value%22%3Afalse%7D%2C%22mf%22%3A%7B%22value%22%3Afalse%7D%2C%22manu%22%3A%7B%22value%22%3Afalse%7D%2C%22land%22%3A%7B%22value%22%3Afalse%7D%2C%22tow%22%3A%7B%22value%22%3Afalse%7D%2C%22apa%22%3A%7B%22value%22%3Afalse%7D%7D%2C%22isListVisible%22%3Atrue%2C%22mapZoom%22%3A7%7D\""
   ]
  },
  {
   "cell_type": "code",
   "execution_count": 13,
   "metadata": {},
   "outputs": [],
   "source": [
    "# Access url\n",
    "\n",
    "driver = webdriver.Chrome(chromedriver)\n",
    "driver.get(url)"
   ]
  },
  {
   "cell_type": "code",
   "execution_count": 14,
   "metadata": {},
   "outputs": [],
   "source": [
    "soup = BeautifulSoup(driver.page_source,'html.parser')"
   ]
  },
  {
   "cell_type": "code",
   "execution_count": 15,
   "metadata": {},
   "outputs": [
    {
     "data": {
      "text/plain": [
       "[<div class=\"list-card-info\"><a class=\"list-card-link list-card-link-top-margin\" href=\"https://www.zillow.com/homedetails/106-Newton-Ln-Fairlee-VT-05045/115801008_zpid/\" tabindex=\"0\"><address class=\"list-card-addr\">106 Newton Ln, Fairlee, VT 05045</address></a><div class=\"list-card-footer\"></div><div class=\"list-card-heading\"><div class=\"list-card-price\">$84,900</div><ul class=\"list-card-details\"><li class=\"\">2<abbr class=\"list-card-label\"> <!-- -->bds</abbr>,</li><li class=\"\">2<abbr class=\"list-card-label\"> <!-- -->ba</abbr>,</li><li class=\"\">902<abbr class=\"list-card-label\"> <!-- -->sqft</abbr></li><li class=\"list-card-statusText\">-<abbr class=\"list-card-label\"> <!-- -->Active</abbr></li></ul></div></div>,\n",
       " <div class=\"list-card-info\"><a class=\"list-card-link list-card-link-top-margin\" href=\"https://www.zillow.com/homedetails/2811-Gregg-Hill-Rd-Waterbury-Center-VT-05677/75471073_zpid/\" tabindex=\"0\"><address class=\"list-card-addr\">2811 Gregg Hill Rd, Waterbury Center, VT 05677</address></a><div class=\"list-card-footer\"></div><div class=\"list-card-heading\"><div class=\"list-card-price\">$335,000</div><ul class=\"list-card-details\"><li class=\"\">2<abbr class=\"list-card-label\"> <!-- -->bds</abbr>,</li><li class=\"\">2<abbr class=\"list-card-label\"> <!-- -->ba</abbr>,</li><li class=\"\">1,680<abbr class=\"list-card-label\"> <!-- -->sqft</abbr></li><li class=\"list-card-statusText\">-<abbr class=\"list-card-label\"> <!-- -->Active</abbr></li></ul></div></div>,\n",
       " <div class=\"list-card-info\"><a class=\"list-card-link list-card-link-top-margin\" href=\"https://www.zillow.com/homedetails/404-Ridgefield-Rd-Shelburne-VT-05482/247016017_zpid/\" tabindex=\"0\"><address class=\"list-card-addr\">404 Ridgefield Rd, Shelburne, VT 05482</address></a><div class=\"list-card-footer\"></div><div class=\"list-card-heading\"><div class=\"list-card-price\">$899,000</div><ul class=\"list-card-details\"><li class=\"\">4<abbr class=\"list-card-label\"> <!-- -->bds</abbr>,</li><li class=\"\">5<abbr class=\"list-card-label\"> <!-- -->ba</abbr>,</li><li class=\"\">5,059<abbr class=\"list-card-label\"> <!-- -->sqft</abbr></li><li class=\"list-card-statusText\">-<abbr class=\"list-card-label\"> <!-- -->Active</abbr></li></ul></div></div>,\n",
       " <div class=\"list-card-info\"><a class=\"list-card-link list-card-link-top-margin\" href=\"https://www.zillow.com/homedetails/78-Gates-Rd-S-Mount-Holly-VT-05730/115789746_zpid/\" tabindex=\"0\"><address class=\"list-card-addr\">78 Gates Rd S, Mount Holly, VT 05730</address></a><div class=\"list-card-footer\"></div><div class=\"list-card-heading\"><div class=\"list-card-price\">$245,000</div><ul class=\"list-card-details\"><li class=\"\">3<abbr class=\"list-card-label\"> <!-- -->bds</abbr>,</li><li class=\"\">2<abbr class=\"list-card-label\"> <!-- -->ba</abbr>,</li><li class=\"\">1,268<abbr class=\"list-card-label\"> <!-- -->sqft</abbr></li><li class=\"list-card-statusText\">-<abbr class=\"list-card-label\"> <!-- -->Active</abbr></li></ul></div></div>,\n",
       " <div class=\"list-card-info\"><a class=\"list-card-link list-card-link-top-margin\" href=\"https://www.zillow.com/homedetails/225-Pleasant-St-Chester-VT-05143/115813941_zpid/\" tabindex=\"0\"><address class=\"list-card-addr\">225 Pleasant St, Chester, VT 05143</address></a><div class=\"list-card-footer\"></div><div class=\"list-card-heading\"><div class=\"list-card-price\">$374,000</div><ul class=\"list-card-details\"><li class=\"\">9<abbr class=\"list-card-label\"> <!-- -->bds</abbr>,</li><li class=\"\">9<abbr class=\"list-card-label\"> <!-- -->ba</abbr>,</li><li class=\"\">5,788<abbr class=\"list-card-label\"> <!-- -->sqft</abbr></li><li class=\"list-card-statusText\">-<abbr class=\"list-card-label\"> <!-- -->Active</abbr></li></ul></div></div>,\n",
       " <div class=\"list-card-info\"><a class=\"list-card-link list-card-link-top-margin\" href=\"https://www.zillow.com/homedetails/39-Brook-Ln-Shelburne-VT-05482/220864247_zpid/\" tabindex=\"0\"><address class=\"list-card-addr\">39 Brook Ln, Shelburne, VT 05482</address></a><div class=\"list-card-footer\"></div><div class=\"list-card-heading\"><div class=\"list-card-price\">$360,000</div><ul class=\"list-card-details\"><li class=\"\">3<abbr class=\"list-card-label\"> <!-- -->bds</abbr>,</li><li class=\"\">2<abbr class=\"list-card-label\"> <!-- -->ba</abbr>,</li><li class=\"\">1,804<abbr class=\"list-card-label\"> <!-- -->sqft</abbr></li><li class=\"list-card-statusText\">-<abbr class=\"list-card-label\"> <!-- -->Active</abbr></li></ul></div></div>,\n",
       " <div class=\"list-card-info\"><a class=\"list-card-link list-card-link-top-margin\" href=\"https://www.zillow.com/homedetails/23-Bushey-Ln-Westford-VT-05494/220873891_zpid/\" tabindex=\"0\"><address class=\"list-card-addr\">23 Bushey Ln, Westford, VT 05494</address></a><div class=\"list-card-footer\"></div><div class=\"list-card-heading\"><div class=\"list-card-price\">$399,900</div><ul class=\"list-card-details\"><li class=\"\">3<abbr class=\"list-card-label\"> <!-- -->bds</abbr>,</li><li class=\"\">2<abbr class=\"list-card-label\"> <!-- -->ba</abbr>,</li><li class=\"\">1,693<abbr class=\"list-card-label\"> <!-- -->sqft</abbr></li><li class=\"list-card-statusText\">-<abbr class=\"list-card-label\"> <!-- -->Active</abbr></li></ul></div></div>,\n",
       " <div class=\"list-card-info\"><a class=\"list-card-link list-card-link-top-margin\" href=\"https://www.zillow.com/homedetails/1838-Brown-Schoolhouse-Rd-Reading-VT-05062/2089629606_zpid/\" tabindex=\"0\"><address class=\"list-card-addr\">1838 Brown Schoolhouse Rd, Reading, VT 05062</address></a><div class=\"list-card-footer\"></div><div class=\"list-card-heading\"><div class=\"list-card-price\">$89,000</div><ul class=\"list-card-details\"><li class=\"\">4<abbr class=\"list-card-label\"> <!-- -->bds</abbr>,</li><li class=\"\">1<abbr class=\"list-card-label\"> <!-- -->ba</abbr>,</li><li class=\"\">850<abbr class=\"list-card-label\"> <!-- -->sqft</abbr></li><li class=\"list-card-statusText\">-<abbr class=\"list-card-label\"> <!-- -->Active</abbr></li></ul></div></div>,\n",
       " <div class=\"list-card-info\"><a class=\"list-card-link list-card-link-top-margin\" href=\"https://www.zillow.com/homedetails/1711-Abbott-Hill-Rd-West-Burke-VT-05871/115794751_zpid/\" tabindex=\"0\"><address class=\"list-card-addr\">1711 Abbott Hill Rd, West Burke, VT 05871</address></a><div class=\"list-card-footer\"></div><div class=\"list-card-heading\"><div class=\"list-card-price\">$249,900</div><ul class=\"list-card-details\"><li class=\"\">2<abbr class=\"list-card-label\"> <!-- -->bds</abbr>,</li><li class=\"\">1<abbr class=\"list-card-label\"> <!-- -->ba</abbr>,</li><li class=\"\">904<abbr class=\"list-card-label\"> <!-- -->sqft</abbr></li><li class=\"list-card-statusText\">-<abbr class=\"list-card-label\"> <!-- -->Active</abbr></li></ul></div></div>,\n",
       " <div class=\"list-card-info\"><a class=\"list-card-link list-card-link-top-margin\" href=\"https://www.zillow.com/homedetails/1866-Robert-Young-Rd-Starksboro-VT-05487/81624195_zpid/\" tabindex=\"0\"><address class=\"list-card-addr\">1866 Robert Young Rd, Starksboro, VT 05487</address></a><div class=\"list-card-footer\"></div><div class=\"list-card-heading\"><div class=\"list-card-price\">$165,000</div><ul class=\"list-card-details\"><li class=\"\">4<abbr class=\"list-card-label\"> <!-- -->bds</abbr>,</li><li class=\"\">1<abbr class=\"list-card-label\"> <!-- -->ba</abbr>,</li><li class=\"\">1,576<abbr class=\"list-card-label\"> <!-- -->sqft</abbr></li><li class=\"list-card-statusText\">-<abbr class=\"list-card-label\"> <!-- -->Active</abbr></li></ul></div></div>,\n",
       " <div class=\"list-card-info\"><a class=\"list-card-link list-card-link-top-margin\" href=\"https://www.zillow.com/homedetails/12-Ely-Rd-Fairlee-VT-05045/75447285_zpid/\" tabindex=\"0\"><address class=\"list-card-addr\">12 Ely Rd, Fairlee, VT 05045</address></a><div class=\"list-card-footer\"></div><div class=\"list-card-heading\"><div class=\"list-card-price\">$218,000</div><ul class=\"list-card-details\"><li class=\"\">3<abbr class=\"list-card-label\"> <!-- -->bds</abbr>,</li><li class=\"\">2<abbr class=\"list-card-label\"> <!-- -->ba</abbr>,</li><li class=\"\">2,099<abbr class=\"list-card-label\"> <!-- -->sqft</abbr></li><li class=\"list-card-statusText\">-<abbr class=\"list-card-label\"> <!-- -->Active</abbr></li></ul></div></div>,\n",
       " <div class=\"list-card-info\"><a class=\"list-card-link list-card-link-top-margin\" href=\"https://www.zillow.com/homedetails/53-Heath-Rd-Wolcott-VT-05680/92006678_zpid/\" tabindex=\"0\"><address class=\"list-card-addr\">53 Heath Rd, Wolcott, VT 05680</address></a><div class=\"list-card-footer\"></div><div class=\"list-card-heading\"><div class=\"list-card-price\">$393,000</div><ul class=\"list-card-details\"><li class=\"\">4<abbr class=\"list-card-label\"> <!-- -->bds</abbr>,</li><li class=\"\">2<abbr class=\"list-card-label\"> <!-- -->ba</abbr>,</li><li class=\"\">1,990<abbr class=\"list-card-label\"> <!-- -->sqft</abbr></li><li class=\"list-card-statusText\">-<abbr class=\"list-card-label\"> <!-- -->Active</abbr></li></ul></div></div>,\n",
       " <div class=\"list-card-info\"><a class=\"list-card-link list-card-link-top-margin\" href=\"https://www.zillow.com/homedetails/50-Smead-Rd-Wardsboro-VT-05355/235263328_zpid/\" tabindex=\"0\"><address class=\"list-card-addr\">50 Smead Rd, Wardsboro, VT 05355</address></a><div class=\"list-card-footer\"></div><div class=\"list-card-heading\"><div class=\"list-card-price\">$99,900</div><ul class=\"list-card-details\"><li class=\"\">4<abbr class=\"list-card-label\"> <!-- -->bds</abbr>,</li><li class=\"\">3<abbr class=\"list-card-label\"> <!-- -->ba</abbr>,</li><li class=\"\">2,500<abbr class=\"list-card-label\"> <!-- -->sqft</abbr></li><li class=\"list-card-statusText\">-<abbr class=\"list-card-label\"> <!-- -->Active</abbr></li></ul></div></div>,\n",
       " <div class=\"list-card-info\"><a class=\"list-card-link list-card-link-top-margin\" href=\"https://www.zillow.com/homedetails/1442-Watkins-Hill-Rd-Poultney-VT-05764/250978093_zpid/\" tabindex=\"0\"><address class=\"list-card-addr\">1442 Watkins Hill Rd, Poultney, VT 05764</address></a><div class=\"list-card-footer\"></div><div class=\"list-card-heading\"><div class=\"list-card-price\">$440,000</div><ul class=\"list-card-details\"><li class=\"\">4<abbr class=\"list-card-label\"> <!-- -->bds</abbr>,</li><li class=\"\">4<abbr class=\"list-card-label\"> <!-- -->ba</abbr>,</li><li class=\"\">3,992<abbr class=\"list-card-label\"> <!-- -->sqft</abbr></li><li class=\"list-card-statusText\">-<abbr class=\"list-card-label\"> <!-- -->Active</abbr></li></ul></div></div>,\n",
       " <div class=\"list-card-info\"><a class=\"list-card-link list-card-link-top-margin\" href=\"https://www.zillow.com/homedetails/224-Quent-Phelan-Rd-Cavendish-VT-05142/2076740824_zpid/\" tabindex=\"0\"><address class=\"list-card-addr\">224 Quent Phelan Rd, Cavendish, VT 05142</address></a><div class=\"list-card-footer\"></div><div class=\"list-card-heading\"><div class=\"list-card-price\">$320,000</div><ul class=\"list-card-details\"><li class=\"\">4<abbr class=\"list-card-label\"> <!-- -->bds</abbr>,</li><li class=\"\">2<abbr class=\"list-card-label\"> <!-- -->ba</abbr>,</li><li class=\"\">2,129<abbr class=\"list-card-label\"> <!-- -->sqft</abbr></li><li class=\"list-card-statusText\">-<abbr class=\"list-card-label\"> <!-- -->Active</abbr></li></ul></div></div>,\n",
       " <div class=\"list-card-info\"><a class=\"list-card-link list-card-link-top-margin\" href=\"https://www.zillow.com/homedetails/770-Page-Hill-Road-Holland-VT-05830/2093704924_zpid/\" tabindex=\"0\"><address class=\"list-card-addr\">770 Page Hill Road, Holland, VT 05830</address></a><div class=\"list-card-footer\"></div><div class=\"list-card-heading\"><div class=\"list-card-price\">$275,000</div><ul class=\"list-card-details\"><li class=\"\">2<abbr class=\"list-card-label\"> <!-- -->bds</abbr>,</li><li class=\"\">2<abbr class=\"list-card-label\"> <!-- -->ba</abbr>,</li><li class=\"\">1,408<abbr class=\"list-card-label\"> <!-- -->sqft</abbr></li><li class=\"list-card-statusText\">-<abbr class=\"list-card-label\"> <!-- -->Active</abbr></li></ul></div></div>,\n",
       " <div class=\"list-card-info\"><a class=\"list-card-link list-card-link-top-margin\" href=\"https://www.zillow.com/homedetails/2179-Route-5-Brattleboro-VT-05301/2077133800_zpid/\" tabindex=\"0\"><address class=\"list-card-addr\">2179 Route 5, Brattleboro, VT 05301</address></a><div class=\"list-card-footer\"></div><div class=\"list-card-heading\"><div class=\"list-card-price\">$365,000</div><ul class=\"list-card-details\"><li class=\"\">3<abbr class=\"list-card-label\"> <!-- -->bds</abbr>,</li><li class=\"\">3<abbr class=\"list-card-label\"> <!-- -->ba</abbr>,</li><li class=\"\">2,974<abbr class=\"list-card-label\"> <!-- -->sqft</abbr></li><li class=\"list-card-statusText\">-<abbr class=\"list-card-label\"> <!-- -->Active</abbr></li></ul></div></div>,\n",
       " <div class=\"list-card-info\"><a class=\"list-card-link list-card-link-top-margin\" href=\"https://www.zillow.com/homedetails/159-Doe-Hill-Rd-Newbury-VT-05051/92008505_zpid/\" tabindex=\"0\"><address class=\"list-card-addr\">159 Doe Hill Rd, Newbury, VT 05051</address></a><div class=\"list-card-footer\"></div><div class=\"list-card-heading\"><div class=\"list-card-price\">$325,000</div><ul class=\"list-card-details\"><li class=\"\">4<abbr class=\"list-card-label\"> <!-- -->bds</abbr>,</li><li class=\"\">3<abbr class=\"list-card-label\"> <!-- -->ba</abbr>,</li><li class=\"\">2,188<abbr class=\"list-card-label\"> <!-- -->sqft</abbr></li><li class=\"list-card-statusText\">-<abbr class=\"list-card-label\"> <!-- -->Active</abbr></li></ul></div></div>,\n",
       " <div class=\"list-card-info\"><a class=\"list-card-link list-card-link-top-margin\" href=\"https://www.zillow.com/homedetails/484-Halladay-Rd-Middlebury-VT-05753/75411953_zpid/\" tabindex=\"0\"><address class=\"list-card-addr\">484 Halladay Rd, Middlebury, VT 05753</address></a><div class=\"list-card-footer\"></div><div class=\"list-card-heading\"><div class=\"list-card-price\">$849,000</div><ul class=\"list-card-details\"><li class=\"\">5<abbr class=\"list-card-label\"> <!-- -->bds</abbr>,</li><li class=\"\">2<abbr class=\"list-card-label\"> <!-- -->ba</abbr>,</li><li class=\"\">3,668<abbr class=\"list-card-label\"> <!-- -->sqft</abbr></li><li class=\"list-card-statusText\">-<abbr class=\"list-card-label\"> <!-- -->Active</abbr></li></ul></div></div>,\n",
       " <div class=\"list-card-info\"><a class=\"list-card-link list-card-link-top-margin\" href=\"https://www.zillow.com/homedetails/2800-Us-Highway-5-Sutton-VT-05867/2076626515_zpid/\" tabindex=\"0\"><address class=\"list-card-addr\">2800 Us Highway 5, Sutton, VT 05867</address></a><div class=\"list-card-footer\"></div><div class=\"list-card-heading\"><div class=\"list-card-price\">$179,000</div><ul class=\"list-card-details\"><li class=\"\">2<abbr class=\"list-card-label\"> <!-- -->bds</abbr>,</li><li class=\"\">2<abbr class=\"list-card-label\"> <!-- -->ba</abbr>,</li><li class=\"\">1,517<abbr class=\"list-card-label\"> <!-- -->sqft</abbr></li><li class=\"list-card-statusText\">-<abbr class=\"list-card-label\"> <!-- -->Active</abbr></li></ul></div></div>,\n",
       " <div class=\"list-card-info\"><a class=\"list-card-link list-card-link-top-margin\" href=\"https://www.zillow.com/homedetails/1169-Harwood-Hill-Rd-Bennington-VT-05201/75418538_zpid/\" tabindex=\"0\"><address class=\"list-card-addr\">1169 Harwood Hill Rd, Bennington, VT 05201</address></a><div class=\"list-card-footer\"></div><div class=\"list-card-heading\"><div class=\"list-card-price\">$349,900</div><ul class=\"list-card-details\"><li class=\"\">4<abbr class=\"list-card-label\"> <!-- -->bds</abbr>,</li><li class=\"\">3<abbr class=\"list-card-label\"> <!-- -->ba</abbr>,</li><li class=\"\">2,630<abbr class=\"list-card-label\"> <!-- -->sqft</abbr></li><li class=\"list-card-statusText\">-<abbr class=\"list-card-label\"> <!-- -->Active</abbr></li></ul></div></div>,\n",
       " <div class=\"list-card-info\"><a class=\"list-card-link list-card-link-top-margin\" href=\"https://www.zillow.com/homedetails/393-Warren-Hill-Rd-Stowe-VT-05672/227730656_zpid/\" tabindex=\"0\"><address class=\"list-card-addr\">393 Warren Hill Rd, Stowe, VT 05672</address></a><div class=\"list-card-footer\"></div><div class=\"list-card-heading\"><div class=\"list-card-price\">$3,850,000</div><ul class=\"list-card-details\"><li class=\"\">4<abbr class=\"list-card-label\"> <!-- -->bds</abbr>,</li><li class=\"\">4<abbr class=\"list-card-label\"> <!-- -->ba</abbr>,</li><li class=\"\">6,200<abbr class=\"list-card-label\"> <!-- -->sqft</abbr></li><li class=\"list-card-statusText\">-<abbr class=\"list-card-label\"> <!-- -->Active</abbr></li></ul></div></div>,\n",
       " <div class=\"list-card-info\"><a class=\"list-card-link list-card-link-top-margin\" href=\"https://www.zillow.com/homedetails/77-Cemetery-Rd-Putney-VT-05346/92037418_zpid/\" tabindex=\"0\"><address class=\"list-card-addr\">77 Cemetery Rd, Putney, VT 05346</address></a><div class=\"list-card-footer\"></div><div class=\"list-card-heading\"><div class=\"list-card-price\">$240,000</div><ul class=\"list-card-details\"><li class=\"\">4<abbr class=\"list-card-label\"> <!-- -->bds</abbr>,</li><li class=\"\">3<abbr class=\"list-card-label\"> <!-- -->ba</abbr>,</li><li class=\"\">2,376<abbr class=\"list-card-label\"> <!-- -->sqft</abbr></li><li class=\"list-card-statusText\">-<abbr class=\"list-card-label\"> <!-- -->Active</abbr></li></ul></div></div>,\n",
       " <div class=\"list-card-info\"><a class=\"list-card-link list-card-link-top-margin\" href=\"https://www.zillow.com/homedetails/3833-Brandon-Mountain-Rd-Rochester-VT-05767/75482471_zpid/\" tabindex=\"0\"><address class=\"list-card-addr\">3833 Brandon Mountain Rd, Rochester, VT 05767</address></a><div class=\"list-card-footer\"></div><div class=\"list-card-heading\"><div class=\"list-card-price\">$135,000</div><ul class=\"list-card-details\"><li class=\"\">5<abbr class=\"list-card-label\"> <!-- -->bds</abbr>,</li><li class=\"\">4<abbr class=\"list-card-label\"> <!-- -->ba</abbr>,</li><li class=\"\">4,038<abbr class=\"list-card-label\"> <!-- -->sqft</abbr></li><li class=\"list-card-statusText\">-<abbr class=\"list-card-label\"> <!-- -->Active</abbr></li></ul></div></div>,\n",
       " <div class=\"list-card-info\"><a class=\"list-card-link list-card-link-top-margin\" href=\"https://www.zillow.com/homedetails/423-Route-114-Norton-VT-05907/2076635572_zpid/\" tabindex=\"0\"><address class=\"list-card-addr\">423 Route 114, Norton, VT 05907</address></a><div class=\"list-card-footer\"></div><div class=\"list-card-heading\"><div class=\"list-card-price\">$69,900</div><ul class=\"list-card-details\"><li class=\"\">2<abbr class=\"list-card-label\"> <!-- -->bds</abbr>,</li><li class=\"\">2<abbr class=\"list-card-label\"> <!-- -->ba</abbr>,</li><li class=\"\">1,008<abbr class=\"list-card-label\"> <!-- -->sqft</abbr></li><li class=\"list-card-statusText\">-<abbr class=\"list-card-label\"> <!-- -->Active</abbr></li></ul></div></div>,\n",
       " <div class=\"list-card-info\"><a class=\"list-card-link list-card-link-top-margin\" href=\"https://www.zillow.com/homedetails/423-Main-St-Glover-VT-05842/92016246_zpid/\" tabindex=\"0\"><address class=\"list-card-addr\">423 Main St, Glover, VT 05842</address></a><div class=\"list-card-footer\"></div><div class=\"list-card-heading\"><div class=\"list-card-price\">$59,000</div><ul class=\"list-card-details\"><li class=\"\">3<abbr class=\"list-card-label\"> <!-- -->bds</abbr>,</li><li class=\"\">1<abbr class=\"list-card-label\"> <!-- -->ba</abbr>,</li><li class=\"\">1,428<abbr class=\"list-card-label\"> <!-- -->sqft</abbr></li><li class=\"list-card-statusText\">-<abbr class=\"list-card-label\"> <!-- -->Active</abbr></li></ul></div></div>,\n",
       " <div class=\"list-card-info\"><a class=\"list-card-link list-card-link-top-margin\" href=\"https://www.zillow.com/homedetails/202-Morgan-Rd-White-River-Junction-VT-05001/303989478_zpid/\" tabindex=\"0\"><address class=\"list-card-addr\">202 Morgan Rd, White River Junction, VT 05001</address></a><div class=\"list-card-footer\"></div><div class=\"list-card-heading\"><div class=\"list-card-price\">$230,000</div><ul class=\"list-card-details\"><li class=\"\">3<abbr class=\"list-card-label\"> <!-- -->bds</abbr>,</li><li class=\"\">2<abbr class=\"list-card-label\"> <!-- -->ba</abbr>,</li><li class=\"\">1,920<abbr class=\"list-card-label\"> <!-- -->sqft</abbr></li><li class=\"list-card-statusText\">-<abbr class=\"list-card-label\"> <!-- -->Active</abbr></li></ul></div></div>,\n",
       " <div class=\"list-card-info\"><a class=\"list-card-link list-card-link-top-margin\" href=\"https://www.zillow.com/homedetails/109-Highland-Dr-Huntington-VT-05462/220857364_zpid/\" tabindex=\"0\"><address class=\"list-card-addr\">109 Highland Dr, Huntington, VT 05462</address></a><div class=\"list-card-footer\"></div><div class=\"list-card-heading\"><div class=\"list-card-price\">$386,500</div><ul class=\"list-card-details\"><li class=\"\">3<abbr class=\"list-card-label\"> <!-- -->bds</abbr>,</li><li class=\"\">3<abbr class=\"list-card-label\"> <!-- -->ba</abbr>,</li><li class=\"\">2,097<abbr class=\"list-card-label\"> <!-- -->sqft</abbr></li><li class=\"list-card-statusText\">-<abbr class=\"list-card-label\"> <!-- -->Active</abbr></li></ul></div></div>,\n",
       " <div class=\"list-card-info\"><a class=\"list-card-link list-card-link-top-margin\" href=\"https://www.zillow.com/homedetails/198-Stone-Holw-South-Londonderry-VT-05155/304081216_zpid/\" tabindex=\"0\"><address class=\"list-card-addr\">198 Stone Holw, South Londonderry, VT 05155</address></a><div class=\"list-card-footer\"></div><div class=\"list-card-heading\"><div class=\"list-card-price\">$299,999</div><ul class=\"list-card-details\"><li class=\"\">4<abbr class=\"list-card-label\"> <!-- -->bds</abbr>,</li><li class=\"\">3<abbr class=\"list-card-label\"> <!-- -->ba</abbr>,</li><li class=\"\">2,555<abbr class=\"list-card-label\"> <!-- -->sqft</abbr></li><li class=\"list-card-statusText\">-<abbr class=\"list-card-label\"> <!-- -->Active</abbr></li></ul></div></div>,\n",
       " <div class=\"list-card-info\"><a class=\"list-card-link list-card-link-top-margin\" href=\"https://www.zillow.com/homedetails/195-Elliot-St-Brattleboro-VT-05301/2077163430_zpid/\" tabindex=\"0\"><address class=\"list-card-addr\">195 Elliot St, Brattleboro, VT 05301</address></a><div class=\"list-card-footer\"></div><div class=\"list-card-heading\"><div class=\"list-card-price\">$197,000</div><ul class=\"list-card-details\"><li class=\"\">4<abbr class=\"list-card-label\"> <!-- -->bds</abbr>,</li><li class=\"\">2<abbr class=\"list-card-label\"> <!-- -->ba</abbr>,</li><li class=\"\">1,560<abbr class=\"list-card-label\"> <!-- -->sqft</abbr></li><li class=\"list-card-statusText\">-<abbr class=\"list-card-label\"> <!-- -->Active</abbr></li></ul></div></div>,\n",
       " <div class=\"list-card-info\"><a class=\"list-card-link list-card-link-top-margin\" href=\"https://www.zillow.com/homedetails/3186-Route-100-Wardsboro-VT-05355/235263452_zpid/\" tabindex=\"0\"><address class=\"list-card-addr\">3186 Route 100, Wardsboro, VT 05355</address></a><div class=\"list-card-footer\"></div><div class=\"list-card-heading\"><div class=\"list-card-price\">$165,000</div><ul class=\"list-card-details\"><li class=\"\">4<abbr class=\"list-card-label\"> <!-- -->bds</abbr>,</li><li class=\"\">2<abbr class=\"list-card-label\"> <!-- -->ba</abbr>,</li><li class=\"\">1,120<abbr class=\"list-card-label\"> <!-- -->sqft</abbr></li><li class=\"list-card-statusText\">-<abbr class=\"list-card-label\"> <!-- -->Active</abbr></li></ul></div></div>,\n",
       " <div class=\"list-card-info\"><a class=\"list-card-link list-card-link-top-margin\" href=\"https://www.zillow.com/homedetails/438-Old-Bradley-Rd-St-Johnsbury-VT-05819/81602204_zpid/\" tabindex=\"0\"><address class=\"list-card-addr\">438 Old Bradley Rd, St Johnsbury, VT 05819</address></a><div class=\"list-card-footer\"></div><div class=\"list-card-heading\"><div class=\"list-card-price\">$149,000</div><ul class=\"list-card-details\"><li class=\"\">1<abbr class=\"list-card-label\"> <!-- -->bd</abbr>,</li><li class=\"\">1<abbr class=\"list-card-label\"> <!-- -->ba</abbr>,</li><li class=\"\">692<abbr class=\"list-card-label\"> <!-- -->sqft</abbr></li><li class=\"list-card-statusText\">-<abbr class=\"list-card-label\"> <!-- -->Active</abbr></li></ul></div></div>,\n",
       " <div class=\"list-card-info\"><a class=\"list-card-link list-card-link-top-margin\" href=\"https://www.zillow.com/homedetails/6272-State-Route-125-Addison-VT-05491/91992619_zpid/\" tabindex=\"0\"><address class=\"list-card-addr\">6272 State Route 125, Addison, VT 05491</address></a><div class=\"list-card-footer\"></div><div class=\"list-card-heading\"><div class=\"list-card-price\">$220,000</div><ul class=\"list-card-details\"><li class=\"\">2<abbr class=\"list-card-label\"> <!-- -->bds</abbr>,</li><li class=\"\">2<abbr class=\"list-card-label\"> <!-- -->ba</abbr>,</li><li class=\"\">1,636<abbr class=\"list-card-label\"> <!-- -->sqft</abbr></li><li class=\"list-card-statusText\">-<abbr class=\"list-card-label\"> <!-- -->Active</abbr></li></ul></div></div>,\n",
       " <div class=\"list-card-info\"><a class=\"list-card-link list-card-link-top-margin\" href=\"https://www.zillow.com/homedetails/197-Dewing-Rd-Franklin-VT-05457/2076571256_zpid/\" tabindex=\"0\"><address class=\"list-card-addr\">197 Dewing Rd, Franklin, VT 05457</address></a><div class=\"list-card-footer\"></div><div class=\"list-card-heading\"><div class=\"list-card-price\">$124,900</div><ul class=\"list-card-details\"><li class=\"\">3<abbr class=\"list-card-label\"> <!-- -->bds</abbr>,</li><li class=\"\">1<abbr class=\"list-card-label\"> <!-- -->ba</abbr>,</li><li class=\"\">960<abbr class=\"list-card-label\"> <!-- -->sqft</abbr></li><li class=\"list-card-statusText\">-<abbr class=\"list-card-label\"> <!-- -->Active</abbr></li></ul></div></div>,\n",
       " <div class=\"list-card-info\"><a class=\"list-card-link list-card-link-top-margin\" href=\"https://www.zillow.com/homedetails/1581-Happy-Hollow-Rd-S-Royalton-VT-05068/217745607_zpid/\" tabindex=\"0\"><address class=\"list-card-addr\">1581 Happy Hollow Rd, S Royalton, VT 05068</address></a><div class=\"list-card-footer\"></div><div class=\"list-card-heading\"><div class=\"list-card-price\">$280,000</div><ul class=\"list-card-details\"><li class=\"\">2<abbr class=\"list-card-label\"> <!-- -->bds</abbr>,</li><li class=\"\">1<abbr class=\"list-card-label\"> <!-- -->ba</abbr>,</li><li class=\"\">988<abbr class=\"list-card-label\"> <!-- -->sqft</abbr></li><li class=\"list-card-statusText\">-<abbr class=\"list-card-label\"> <!-- -->Active</abbr></li></ul></div></div>,\n",
       " <div class=\"list-card-info\"><a class=\"list-card-link list-card-link-top-margin\" href=\"https://www.zillow.com/homedetails/414-Notch-Rd-Middlesex-VT-05602/92029821_zpid/\" tabindex=\"0\"><address class=\"list-card-addr\">414 Notch Rd, Middlesex, VT 05602</address></a><div class=\"list-card-footer\"></div><div class=\"list-card-heading\"><div class=\"list-card-price\">$425,000</div><ul class=\"list-card-details\"><li class=\"\">2<abbr class=\"list-card-label\"> <!-- -->bds</abbr>,</li><li class=\"\">2<abbr class=\"list-card-label\"> <!-- -->ba</abbr>,</li><li class=\"\">2,476<abbr class=\"list-card-label\"> <!-- -->sqft</abbr></li><li class=\"list-card-statusText\">-<abbr class=\"list-card-label\"> <!-- -->Active</abbr></li></ul></div></div>,\n",
       " <div class=\"list-card-info\"><a class=\"list-card-link list-card-link-top-margin\" href=\"https://www.zillow.com/homedetails/3074-State-Route-10-Chester-VT-05143/75489640_zpid/\" tabindex=\"0\"><address class=\"list-card-addr\">3074 State Route 10, Chester, VT 05143</address></a><div class=\"list-card-footer\"></div><div class=\"list-card-heading\"><div class=\"list-card-price\">$199,000</div><ul class=\"list-card-details\"><li class=\"\">3<abbr class=\"list-card-label\"> <!-- -->bds</abbr>,</li><li class=\"\">2<abbr class=\"list-card-label\"> <!-- -->ba</abbr>,</li><li class=\"\">1,288<abbr class=\"list-card-label\"> <!-- -->sqft</abbr></li><li class=\"list-card-statusText\">-<abbr class=\"list-card-label\"> <!-- -->Active</abbr></li></ul></div></div>,\n",
       " <div class=\"list-card-info\"><a class=\"list-card-link list-card-link-top-margin\" href=\"https://www.zillow.com/homedetails/662-Main-St-Chester-VT-05143/92050857_zpid/\" tabindex=\"0\"><address class=\"list-card-addr\">662 Main St, Chester, VT 05143</address></a><div class=\"list-card-footer\"></div><div class=\"list-card-heading\"><div class=\"list-card-price\">$349,000</div><ul class=\"list-card-details\"><li class=\"\">3<abbr class=\"list-card-label\"> <!-- -->bds</abbr>,</li><li class=\"\">3<abbr class=\"list-card-label\"> <!-- -->ba</abbr>,</li><li class=\"\">2,195<abbr class=\"list-card-label\"> <!-- -->sqft</abbr></li><li class=\"list-card-statusText\">-<abbr class=\"list-card-label\"> <!-- -->Active</abbr></li></ul></div></div>,\n",
       " <div class=\"list-card-info\"><a class=\"list-card-link list-card-link-top-margin\" href=\"https://www.zillow.com/homedetails/112-Thomas-Pasture-Lane-Stowe-VT-05672/227731807_zpid/\" tabindex=\"0\"><address class=\"list-card-addr\">112 Thomas Pasture Lane, Stowe, VT 05672</address></a><div class=\"list-card-footer\"></div><div class=\"list-card-heading\"><div class=\"list-card-price\">$5,995,000</div><ul class=\"list-card-details\"><li class=\"\">6<abbr class=\"list-card-label\"> <!-- -->bds</abbr>,</li><li class=\"\">9<abbr class=\"list-card-label\"> <!-- -->ba</abbr>,</li><li class=\"\">9,303<abbr class=\"list-card-label\"> <!-- -->sqft</abbr></li><li class=\"list-card-statusText\">-<abbr class=\"list-card-label\"> <!-- -->Active</abbr></li></ul></div></div>,\n",
       " <div class=\"list-card-info\"><a class=\"list-card-link list-card-link-top-margin\" href=\"https://www.zillow.com/homedetails/1106-North-Ave-Burlington-VT-05408/110240579_zpid/\" tabindex=\"0\"><address class=\"list-card-addr\">1106 North Ave, Burlington, VT 05408</address></a><div class=\"list-card-footer\"></div><div class=\"list-card-heading\"><div class=\"list-card-price\">$150,000</div><ul class=\"list-card-details\"><li class=\"\">3<abbr class=\"list-card-label\"> <!-- -->bds</abbr>,</li><li class=\"\">2<abbr class=\"list-card-label\"> <!-- -->ba</abbr>,</li><li class=\"\">1,346<abbr class=\"list-card-label\"> <!-- -->sqft</abbr></li><li class=\"list-card-statusText\">-<abbr class=\"list-card-label\"> <!-- -->Active</abbr></li></ul></div></div>]"
      ]
     },
     "execution_count": 15,
     "metadata": {},
     "output_type": "execute_result"
    }
   ],
   "source": [
    "# Locating links\n",
    "\n",
    "soup.findAll('div', {'class' : 'list-card-info'})"
   ]
  },
  {
   "cell_type": "code",
   "execution_count": 16,
   "metadata": {},
   "outputs": [],
   "source": [
    "# Looping through all links and placing in a list\n",
    "\n",
    "home_links = []\n",
    "\n",
    "for div in soup.find_all('div', {'class' : 'list-card-info'}):\n",
    "    for link in div.find_all('a'):\n",
    "        home_links.append(link.get(\"href\"))"
   ]
  },
  {
   "cell_type": "code",
   "execution_count": 17,
   "metadata": {},
   "outputs": [
    {
     "data": {
      "text/plain": [
       "['https://www.zillow.com/homedetails/106-Newton-Ln-Fairlee-VT-05045/115801008_zpid/',\n",
       " 'https://www.zillow.com/homedetails/2811-Gregg-Hill-Rd-Waterbury-Center-VT-05677/75471073_zpid/',\n",
       " 'https://www.zillow.com/homedetails/404-Ridgefield-Rd-Shelburne-VT-05482/247016017_zpid/',\n",
       " 'https://www.zillow.com/homedetails/78-Gates-Rd-S-Mount-Holly-VT-05730/115789746_zpid/',\n",
       " 'https://www.zillow.com/homedetails/225-Pleasant-St-Chester-VT-05143/115813941_zpid/',\n",
       " 'https://www.zillow.com/homedetails/39-Brook-Ln-Shelburne-VT-05482/220864247_zpid/',\n",
       " 'https://www.zillow.com/homedetails/23-Bushey-Ln-Westford-VT-05494/220873891_zpid/',\n",
       " 'https://www.zillow.com/homedetails/1838-Brown-Schoolhouse-Rd-Reading-VT-05062/2089629606_zpid/',\n",
       " 'https://www.zillow.com/homedetails/1711-Abbott-Hill-Rd-West-Burke-VT-05871/115794751_zpid/',\n",
       " 'https://www.zillow.com/homedetails/1866-Robert-Young-Rd-Starksboro-VT-05487/81624195_zpid/',\n",
       " 'https://www.zillow.com/homedetails/12-Ely-Rd-Fairlee-VT-05045/75447285_zpid/',\n",
       " 'https://www.zillow.com/homedetails/53-Heath-Rd-Wolcott-VT-05680/92006678_zpid/',\n",
       " 'https://www.zillow.com/homedetails/50-Smead-Rd-Wardsboro-VT-05355/235263328_zpid/',\n",
       " 'https://www.zillow.com/homedetails/1442-Watkins-Hill-Rd-Poultney-VT-05764/250978093_zpid/',\n",
       " 'https://www.zillow.com/homedetails/224-Quent-Phelan-Rd-Cavendish-VT-05142/2076740824_zpid/',\n",
       " 'https://www.zillow.com/homedetails/770-Page-Hill-Road-Holland-VT-05830/2093704924_zpid/',\n",
       " 'https://www.zillow.com/homedetails/2179-Route-5-Brattleboro-VT-05301/2077133800_zpid/',\n",
       " 'https://www.zillow.com/homedetails/159-Doe-Hill-Rd-Newbury-VT-05051/92008505_zpid/',\n",
       " 'https://www.zillow.com/homedetails/484-Halladay-Rd-Middlebury-VT-05753/75411953_zpid/',\n",
       " 'https://www.zillow.com/homedetails/2800-Us-Highway-5-Sutton-VT-05867/2076626515_zpid/',\n",
       " 'https://www.zillow.com/homedetails/1169-Harwood-Hill-Rd-Bennington-VT-05201/75418538_zpid/',\n",
       " 'https://www.zillow.com/homedetails/393-Warren-Hill-Rd-Stowe-VT-05672/227730656_zpid/',\n",
       " 'https://www.zillow.com/homedetails/77-Cemetery-Rd-Putney-VT-05346/92037418_zpid/',\n",
       " 'https://www.zillow.com/homedetails/3833-Brandon-Mountain-Rd-Rochester-VT-05767/75482471_zpid/',\n",
       " 'https://www.zillow.com/homedetails/423-Route-114-Norton-VT-05907/2076635572_zpid/',\n",
       " 'https://www.zillow.com/homedetails/423-Main-St-Glover-VT-05842/92016246_zpid/',\n",
       " 'https://www.zillow.com/homedetails/202-Morgan-Rd-White-River-Junction-VT-05001/303989478_zpid/',\n",
       " 'https://www.zillow.com/homedetails/109-Highland-Dr-Huntington-VT-05462/220857364_zpid/',\n",
       " 'https://www.zillow.com/homedetails/198-Stone-Holw-South-Londonderry-VT-05155/304081216_zpid/',\n",
       " 'https://www.zillow.com/homedetails/195-Elliot-St-Brattleboro-VT-05301/2077163430_zpid/',\n",
       " 'https://www.zillow.com/homedetails/3186-Route-100-Wardsboro-VT-05355/235263452_zpid/',\n",
       " 'https://www.zillow.com/homedetails/438-Old-Bradley-Rd-St-Johnsbury-VT-05819/81602204_zpid/',\n",
       " 'https://www.zillow.com/homedetails/6272-State-Route-125-Addison-VT-05491/91992619_zpid/',\n",
       " 'https://www.zillow.com/homedetails/197-Dewing-Rd-Franklin-VT-05457/2076571256_zpid/',\n",
       " 'https://www.zillow.com/homedetails/1581-Happy-Hollow-Rd-S-Royalton-VT-05068/217745607_zpid/',\n",
       " 'https://www.zillow.com/homedetails/414-Notch-Rd-Middlesex-VT-05602/92029821_zpid/',\n",
       " 'https://www.zillow.com/homedetails/3074-State-Route-10-Chester-VT-05143/75489640_zpid/',\n",
       " 'https://www.zillow.com/homedetails/662-Main-St-Chester-VT-05143/92050857_zpid/',\n",
       " 'https://www.zillow.com/homedetails/112-Thomas-Pasture-Lane-Stowe-VT-05672/227731807_zpid/',\n",
       " 'https://www.zillow.com/homedetails/1106-North-Ave-Burlington-VT-05408/110240579_zpid/']"
      ]
     },
     "execution_count": 17,
     "metadata": {},
     "output_type": "execute_result"
    }
   ],
   "source": [
    "home_links"
   ]
  },
  {
   "cell_type": "code",
   "execution_count": 18,
   "metadata": {},
   "outputs": [],
   "source": [
    "# Locate links to all pages"
   ]
  },
  {
   "cell_type": "code",
   "execution_count": 19,
   "metadata": {},
   "outputs": [
    {
     "name": "stdout",
     "output_type": "stream",
     "text": [
      "<a class=\"StyledButton-c11n-8-12-0__wpcbcc-0 bNdNgP PaginationButton-c11n-8-12-0__si2hz6-0 bTrxAR\" disabled=\"\" href=\"/homes/for_sale/house_type/\" rel=\"prev\" tabindex=\"-1\" title=\"Previous page\"><svg aria-hidden=\"true\" class=\"Icon-c11n-8-12-0__sc-13llmml-0 hqZXMi IconChevronLeft-c11n-8-12-0__qv0fwu-0 cdJCvY\" focusable=\"false\" role=\"img\" viewbox=\"0 0 32 32\"><title>Chevron Left</title><path d=\"M29.41 8.59a2 2 0 00-2.83 0L16 19.17 5.41 8.59a2 2 0 00-2.83 2.83l12 12a2 2 0 002.82 0l12-12a2 2 0 00.01-2.83z\" stroke=\"none\"></path></svg></a>\n",
      "<a aria-pressed=\"true\" class=\"StyledButton-c11n-8-12-0__wpcbcc-0 bNdNgP PaginationButton-c11n-8-12-0__si2hz6-0 bTrxAR\" disabled=\"\" href=\"/homes/for_sale/house_type/\" tabindex=\"-1\" title=\"Page 1, current page\">1</a>\n",
      "<a class=\"StyledButton-c11n-8-12-0__wpcbcc-0 KOEUR PaginationButton-c11n-8-12-0__si2hz6-0 bTrxAR\" href=\"/homes/for_sale/house_type/2_p/\" title=\"Page 2\">2</a>\n",
      "<a class=\"StyledButton-c11n-8-12-0__wpcbcc-0 KOEUR PaginationButton-c11n-8-12-0__si2hz6-0 bTrxAR\" href=\"/homes/for_sale/house_type/3_p/\" title=\"Page 3\">3</a>\n",
      "<a class=\"StyledButton-c11n-8-12-0__wpcbcc-0 KOEUR PaginationButton-c11n-8-12-0__si2hz6-0 bTrxAR\" href=\"/homes/for_sale/house_type/4_p/\" title=\"Page 4\">4</a>\n",
      "<a class=\"StyledButton-c11n-8-12-0__wpcbcc-0 KOEUR PaginationButton-c11n-8-12-0__si2hz6-0 bTrxAR\" href=\"/homes/for_sale/house_type/5_p/\" title=\"Page 5\">5</a>\n",
      "<a class=\"StyledButton-c11n-8-12-0__wpcbcc-0 KOEUR PaginationButton-c11n-8-12-0__si2hz6-0 bTrxAR\" href=\"/homes/for_sale/house_type/6_p/\" title=\"Page 6\">6</a>\n",
      "<a class=\"StyledButton-c11n-8-12-0__wpcbcc-0 KOEUR PaginationButton-c11n-8-12-0__si2hz6-0 bTrxAR\" href=\"/homes/for_sale/house_type/7_p/\" title=\"Page 7\">7</a>\n",
      "<a class=\"StyledButton-c11n-8-12-0__wpcbcc-0 KOEUR PaginationButton-c11n-8-12-0__si2hz6-0 bTrxAR\" href=\"/homes/for_sale/house_type/2_p/\" rel=\"next\" title=\"Next page\"><svg aria-hidden=\"true\" class=\"Icon-c11n-8-12-0__sc-13llmml-0 hqZXMi IconChevronRight-c11n-8-12-0__sc-1q9rfiy-0 jsDYzk\" focusable=\"false\" role=\"img\" viewbox=\"0 0 32 32\"><title>Chevron Right</title><path d=\"M29.41 8.59a2 2 0 00-2.83 0L16 19.17 5.41 8.59a2 2 0 00-2.83 2.83l12 12a2 2 0 002.82 0l12-12a2 2 0 00.01-2.83z\" stroke=\"none\"></path></svg></a>\n"
     ]
    }
   ],
   "source": [
    "# On each page - selects all possible buttons to be clicked for page navigation\n",
    "\n",
    "all_links = []\n",
    "\n",
    "for div in soup.find_all('div', {'class' : 'search-pagination'}):\n",
    "    for link in div.find_all('a'):\n",
    "        all_links.append(link)\n",
    "        print(link)"
   ]
  },
  {
   "cell_type": "code",
   "execution_count": 20,
   "metadata": {},
   "outputs": [
    {
     "data": {
      "text/plain": [
       "'/homes/for_sale/house_type/2_p/'"
      ]
     },
     "execution_count": 20,
     "metadata": {},
     "output_type": "execute_result"
    }
   ],
   "source": [
    "# Locate the last link, which represents the next page\n",
    "\n",
    "all_links[-1].get('href')"
   ]
  },
  {
   "cell_type": "code",
   "execution_count": 21,
   "metadata": {},
   "outputs": [],
   "source": [
    "# Rather than scraping the link from each page, since the links are in a predicatable format - let's create all links for 2-20"
   ]
  },
  {
   "cell_type": "code",
   "execution_count": 22,
   "metadata": {},
   "outputs": [],
   "source": [
    "def url_creator(page):\n",
    "    '''\n",
    "    A function to add page number to the existing page\n",
    "    '''\n",
    "    return \"https://www.zillow.com//homes/for_sale/house_type/{}_p/\".format(page)    "
   ]
  },
  {
   "cell_type": "code",
   "execution_count": 23,
   "metadata": {},
   "outputs": [],
   "source": [
    "# Create a list of all pages\n",
    "\n",
    "page_links = []\n",
    "\n",
    "for i in range(2,21):\n",
    "    page_links.append(url_creator(i))"
   ]
  },
  {
   "cell_type": "code",
   "execution_count": null,
   "metadata": {},
   "outputs": [],
   "source": [
    "# Loop through each page and add each page to a soup object\n",
    "\n",
    "for i in page_links:\n",
    "    driver.get(i)\n",
    "    soup = BeautifulSoup(driver.page_source,'html.parser')\n",
    "    for div in soup.find_all('div', {'class' : 'list-card-info'}):\n",
    "        for link in div.find_all('a'):\n",
    "            home_links.append(link.get(\"href\"))\n",
    "    time.sleep(15+5*random.random())"
   ]
  },
  {
   "cell_type": "code",
   "execution_count": 49,
   "metadata": {},
   "outputs": [
    {
     "data": {
      "text/plain": [
       "120"
      ]
     },
     "execution_count": 49,
     "metadata": {},
     "output_type": "execute_result"
    }
   ],
   "source": [
    "# Need to re-run.....only got 120 this time! Should be 800!\n",
    "\n",
    "len(home_links)"
   ]
  },
  {
   "cell_type": "code",
   "execution_count": 27,
   "metadata": {},
   "outputs": [
    {
     "data": {
      "text/plain": [
       "['https://www.zillow.com/homedetails/106-Newton-Ln-Fairlee-VT-05045/115801008_zpid/',\n",
       " 'https://www.zillow.com/homedetails/2811-Gregg-Hill-Rd-Waterbury-Center-VT-05677/75471073_zpid/',\n",
       " 'https://www.zillow.com/homedetails/404-Ridgefield-Rd-Shelburne-VT-05482/247016017_zpid/',\n",
       " 'https://www.zillow.com/homedetails/78-Gates-Rd-S-Mount-Holly-VT-05730/115789746_zpid/',\n",
       " 'https://www.zillow.com/homedetails/225-Pleasant-St-Chester-VT-05143/115813941_zpid/',\n",
       " 'https://www.zillow.com/homedetails/39-Brook-Ln-Shelburne-VT-05482/220864247_zpid/',\n",
       " 'https://www.zillow.com/homedetails/23-Bushey-Ln-Westford-VT-05494/220873891_zpid/',\n",
       " 'https://www.zillow.com/homedetails/1838-Brown-Schoolhouse-Rd-Reading-VT-05062/2089629606_zpid/',\n",
       " 'https://www.zillow.com/homedetails/1711-Abbott-Hill-Rd-West-Burke-VT-05871/115794751_zpid/',\n",
       " 'https://www.zillow.com/homedetails/1866-Robert-Young-Rd-Starksboro-VT-05487/81624195_zpid/',\n",
       " 'https://www.zillow.com/homedetails/12-Ely-Rd-Fairlee-VT-05045/75447285_zpid/',\n",
       " 'https://www.zillow.com/homedetails/53-Heath-Rd-Wolcott-VT-05680/92006678_zpid/',\n",
       " 'https://www.zillow.com/homedetails/50-Smead-Rd-Wardsboro-VT-05355/235263328_zpid/',\n",
       " 'https://www.zillow.com/homedetails/1442-Watkins-Hill-Rd-Poultney-VT-05764/250978093_zpid/',\n",
       " 'https://www.zillow.com/homedetails/224-Quent-Phelan-Rd-Cavendish-VT-05142/2076740824_zpid/',\n",
       " 'https://www.zillow.com/homedetails/770-Page-Hill-Road-Holland-VT-05830/2093704924_zpid/',\n",
       " 'https://www.zillow.com/homedetails/2179-Route-5-Brattleboro-VT-05301/2077133800_zpid/',\n",
       " 'https://www.zillow.com/homedetails/159-Doe-Hill-Rd-Newbury-VT-05051/92008505_zpid/',\n",
       " 'https://www.zillow.com/homedetails/484-Halladay-Rd-Middlebury-VT-05753/75411953_zpid/',\n",
       " 'https://www.zillow.com/homedetails/2800-Us-Highway-5-Sutton-VT-05867/2076626515_zpid/',\n",
       " 'https://www.zillow.com/homedetails/1169-Harwood-Hill-Rd-Bennington-VT-05201/75418538_zpid/',\n",
       " 'https://www.zillow.com/homedetails/393-Warren-Hill-Rd-Stowe-VT-05672/227730656_zpid/',\n",
       " 'https://www.zillow.com/homedetails/77-Cemetery-Rd-Putney-VT-05346/92037418_zpid/',\n",
       " 'https://www.zillow.com/homedetails/3833-Brandon-Mountain-Rd-Rochester-VT-05767/75482471_zpid/',\n",
       " 'https://www.zillow.com/homedetails/423-Route-114-Norton-VT-05907/2076635572_zpid/',\n",
       " 'https://www.zillow.com/homedetails/423-Main-St-Glover-VT-05842/92016246_zpid/',\n",
       " 'https://www.zillow.com/homedetails/202-Morgan-Rd-White-River-Junction-VT-05001/303989478_zpid/',\n",
       " 'https://www.zillow.com/homedetails/109-Highland-Dr-Huntington-VT-05462/220857364_zpid/',\n",
       " 'https://www.zillow.com/homedetails/198-Stone-Holw-South-Londonderry-VT-05155/304081216_zpid/',\n",
       " 'https://www.zillow.com/homedetails/195-Elliot-St-Brattleboro-VT-05301/2077163430_zpid/',\n",
       " 'https://www.zillow.com/homedetails/3186-Route-100-Wardsboro-VT-05355/235263452_zpid/',\n",
       " 'https://www.zillow.com/homedetails/438-Old-Bradley-Rd-St-Johnsbury-VT-05819/81602204_zpid/',\n",
       " 'https://www.zillow.com/homedetails/6272-State-Route-125-Addison-VT-05491/91992619_zpid/',\n",
       " 'https://www.zillow.com/homedetails/197-Dewing-Rd-Franklin-VT-05457/2076571256_zpid/',\n",
       " 'https://www.zillow.com/homedetails/1581-Happy-Hollow-Rd-S-Royalton-VT-05068/217745607_zpid/',\n",
       " 'https://www.zillow.com/homedetails/414-Notch-Rd-Middlesex-VT-05602/92029821_zpid/',\n",
       " 'https://www.zillow.com/homedetails/3074-State-Route-10-Chester-VT-05143/75489640_zpid/',\n",
       " 'https://www.zillow.com/homedetails/662-Main-St-Chester-VT-05143/92050857_zpid/',\n",
       " 'https://www.zillow.com/homedetails/112-Thomas-Pasture-Lane-Stowe-VT-05672/227731807_zpid/',\n",
       " 'https://www.zillow.com/homedetails/1106-North-Ave-Burlington-VT-05408/110240579_zpid/',\n",
       " 'https://www.zillow.com/homedetails/401-Brook-Rd-Chelsea-VT-05038/75446336_zpid/',\n",
       " 'https://www.zillow.com/homedetails/11-Maple-St-North-Springfield-VT-05150/75483876_zpid/',\n",
       " 'https://www.zillow.com/homedetails/12-Sunny-Meadow-Ln-Wolcott-VT-05680/92006305_zpid/',\n",
       " 'https://www.zillow.com/homedetails/186-N-Shore-Rd-Isle-La-Motte-VT-05463/2097238767_zpid/',\n",
       " 'https://www.zillow.com/homedetails/935-Scott-Rd-Franklin-VT-05457/75436452_zpid/',\n",
       " 'https://www.zillow.com/homedetails/921-River-Ridge-Rd-Hyde-Park-VT-05655/92004345_zpid/',\n",
       " 'https://www.zillow.com/homedetails/88-Monument-Ave-Bennington-VT-05201/75419722_zpid/',\n",
       " 'https://www.zillow.com/homedetails/295-Lochlea-Ln-Wells-VT-05774/115790070_zpid/',\n",
       " 'https://www.zillow.com/homedetails/115-Anderson-Rd-Grafton-VT-05143/235254849_zpid/',\n",
       " 'https://www.zillow.com/homedetails/98-Elm-St-Hardwick-VT-05843/91998550_zpid/',\n",
       " 'https://www.zillow.com/homedetails/1075-Grandey-Rd-Vergennes-VT-05491/2076570724_zpid/',\n",
       " 'https://www.zillow.com/homedetails/64-Pleasant-St-East-Hardwick-VT-05836/227749818_zpid/',\n",
       " 'https://www.zillow.com/homedetails/210-Hurlbut-Hill-Ln-Waterford-VT-05819/75427417_zpid/',\n",
       " 'https://www.zillow.com/homedetails/420-Steendom-Ln-Lyndonville-VT-05851/81600200_zpid/',\n",
       " 'https://www.zillow.com/homedetails/5491-State-Route-315-West-Rupert-VT-05776/2076637985_zpid/',\n",
       " 'https://www.zillow.com/homedetails/161-Church-St-Rutland-VT-05701/92022615_zpid/',\n",
       " 'https://www.zillow.com/homedetails/738-Stage-Rd-South-Pomfret-VT-05067/115811662_zpid/',\n",
       " 'https://www.zillow.com/homedetails/1246-Bricketts-Crossing-Rd-Cabot-VT-05467/75472239_zpid/',\n",
       " 'https://www.zillow.com/homedetails/2895-Bridgewater-Hill-Rd-Bridgewater-VT-05034/2077360019_zpid/',\n",
       " 'https://www.zillow.com/homedetails/153-Upper-Pasture-Rd-Norwich-VT-05055/75481333_zpid/',\n",
       " 'https://www.zillow.com/homedetails/60-Red-Cedar-Ln-Shelburne-VT-05482/220864255_zpid/',\n",
       " 'https://www.zillow.com/homedetails/1430-Cahoon-Farm-Rd-West-Danville-VT-05873/91997910_zpid/',\n",
       " 'https://www.zillow.com/homedetails/73-Phillips-St-Rutland-VT-05701/92019427_zpid/',\n",
       " 'https://www.zillow.com/homedetails/1847-Scales-Hill-Rd-Washington-VT-05675/115789480_zpid/',\n",
       " 'https://www.zillow.com/homedetails/335-Jordan-Rd-Springfield-VT-05156/248265922_zpid/',\n",
       " 'https://www.zillow.com/homedetails/116-Stratton-Rd-Rutland-VT-05701/92021867_zpid/',\n",
       " 'https://www.zillow.com/homedetails/210-Collins-Ln-North-Clarendon-VT-05759/94939932_zpid/',\n",
       " 'https://www.zillow.com/homedetails/89-Main-St-Rupert-VT-05768/2107212278_zpid/',\n",
       " 'https://www.zillow.com/homedetails/230-Blockhouse-Rd-Greensboro-VT-05841/2121817307_zpid/',\n",
       " 'https://www.zillow.com/homedetails/348-Chapin-Rd-1-Essex-Junction-VT-05452/2076569051_zpid/',\n",
       " 'https://www.zillow.com/homedetails/24-Brook-Dr-Burlington-VT-05408/12650557_zpid/',\n",
       " 'https://www.zillow.com/homedetails/10-Ives-Rd-Wilmington-VT-05363/235265535_zpid/',\n",
       " 'https://www.zillow.com/homedetails/1297-Scotch-Hill-Rd-Fair-Haven-VT-05743/75461673_zpid/',\n",
       " 'https://www.zillow.com/homedetails/463-Main-St-Cavendish-VT-05143/217735511_zpid/',\n",
       " 'https://www.zillow.com/homedetails/312-W-Jamaica-Rd-Stratton-VT-05360/115809571_zpid/',\n",
       " 'https://www.zillow.com/homedetails/115-Fenton-Rd-St-Johnsbury-VT-05819/118894546_zpid/',\n",
       " 'https://www.zillow.com/homedetails/416-River-St-Fair-Haven-VT-05743/75461578_zpid/',\n",
       " 'https://www.zillow.com/homedetails/5051-State-Route-103-N-Chester-VT-05143/2076567064_zpid/',\n",
       " 'https://www.zillow.com/homedetails/2368-Kenniston-Hill-Rd-Wheelock-VT-05866/2093631158_zpid/',\n",
       " 'https://www.zillow.com/homedetails/3559-State-Route-58-E-Lowell-VT-05847/303860833_zpid/',\n",
       " 'https://www.zillow.com/homedetails/1392-Dublin-Rd-Plymouth-VT-05056/2078233237_zpid/',\n",
       " 'https://www.zillow.com/homedetails/91-Prospect-St-Northfield-VT-05663/250871928_zpid/',\n",
       " 'https://www.zillow.com/homedetails/3390-State-Highway-100-Hyde-Park-VT-05655/92008199_zpid/',\n",
       " 'https://www.zillow.com/homedetails/762-Hampshire-Hill-Rd-Worcester-VT-05682/2077802649_zpid/',\n",
       " 'https://www.zillow.com/homedetails/59-Elm-Hill-St-Springfield-VT-05156/2078128977_zpid/',\n",
       " 'https://www.zillow.com/homedetails/663-Old-Center-Rd-Saint-Johnsbury-VT-05819/2076567301_zpid/',\n",
       " 'https://www.zillow.com/homedetails/110-Cape-Cod-Rd-Stowe-VT-05672/115799387_zpid/',\n",
       " 'https://www.zillow.com/homedetails/3-Lower-Notch-Rd-Bristol-VT-05443/2076637264_zpid/',\n",
       " 'https://www.zillow.com/homedetails/1033-Portland-St-Saint-Johnsbury-VT-05819/2076567111_zpid/',\n",
       " 'https://www.zillow.com/homedetails/2375-Island-Pond-Rd-East-Haven-VT-05837/2077706073_zpid/',\n",
       " 'https://www.zillow.com/homedetails/139-Toll-House-Rd-Newbury-VT-05051/92008535_zpid/',\n",
       " 'https://www.zillow.com/homedetails/1579-Broad-Brook-Rd-South-Royalton-VT-05068/75482980_zpid/',\n",
       " 'https://www.zillow.com/homedetails/313-Montgomery-Rd-East-Berkshire-VT-05447/224236875_zpid/',\n",
       " 'https://www.zillow.com/homedetails/64-Two-Brook-Dr-Wilmington-VT-05363/235267837_zpid/',\n",
       " 'https://www.zillow.com/homedetails/1863-Howard-Hill-Rd-Benson-VT-05743/75456273_zpid/',\n",
       " 'https://www.zillow.com/homedetails/1270-Mountain-Rd-Montgomery-Center-VT-05471/2107353051_zpid/',\n",
       " 'https://www.zillow.com/homedetails/354-Moore-Rd-Sharon-VT-05068/217746091_zpid/',\n",
       " 'https://www.zillow.com/homedetails/69-Jewett-Rd-Chester-VT-05143/2111343176_zpid/',\n",
       " 'https://www.zillow.com/homedetails/63-Grove-Ln-Shelburne-VT-05482/220864659_zpid/',\n",
       " 'https://www.zillow.com/homedetails/136-Stowell-Rd-Norwich-VT-05055/75481884_zpid/',\n",
       " 'https://www.zillow.com/homedetails/2838-State-Route-105-Richford-VT-05476/91999637_zpid/',\n",
       " 'https://www.zillow.com/homedetails/1157-W-Woodstock-Rd-Woodstock-VT-05091/75488729_zpid/',\n",
       " 'https://www.zillow.com/homedetails/185-Spruce-Ln-Dorset-VT-05251/81747558_zpid/',\n",
       " 'https://www.zillow.com/homedetails/671-Harrel-St-Morrisville-VT-05661/75439434_zpid/',\n",
       " 'https://www.zillow.com/homedetails/34-West-Rd-Bennington-VT-05201/81745711_zpid/',\n",
       " 'https://www.zillow.com/homedetails/359-Chaves-Rd-Londonderry-VT-05148/235257688_zpid/',\n",
       " 'https://www.zillow.com/homedetails/106-Fawn-Ledge-Ln-Jamaica-VT-05343/304081180_zpid/',\n",
       " 'https://www.zillow.com/homedetails/855-Marcs-Dr-Chester-VT-05143/217736618_zpid/',\n",
       " 'https://www.zillow.com/homedetails/552-State-Route-25-West-Topsham-VT-05086/115801321_zpid/',\n",
       " 'https://www.zillow.com/homedetails/32-Route-3-Pittsford-VT-05763/2087011199_zpid/',\n",
       " 'https://www.zillow.com/homedetails/1621-State-Highway-128-Westford-VT-05494/2077922893_zpid/',\n",
       " 'https://www.zillow.com/homedetails/145-Station-Rd-Mount-Holly-VT-05758/220890639_zpid/',\n",
       " 'https://www.zillow.com/homedetails/553-Coffeehouse-Rd-Killington-VT-05751/250978702_zpid/',\n",
       " 'https://www.zillow.com/homedetails/43-Idlewild-Rd-South-Hero-VT-05486/115789291_zpid/',\n",
       " 'https://www.zillow.com/homedetails/963-Route-100-Weston-VT-05161/217750885_zpid/',\n",
       " 'https://www.zillow.com/homedetails/78-River-St-Rutland-VT-05701/92023361_zpid/',\n",
       " 'https://www.zillow.com/homedetails/506-N-Hill-Rd-UNIT-3B-Stowe-VT-05672/2076567133_zpid/',\n",
       " 'https://www.zillow.com/homedetails/114-Main-St-Concord-VT-05824/126997760_zpid/',\n",
       " 'https://www.zillow.com/homedetails/968-Route-30-Dr-Dorset-VT-05251/2079258190_zpid/',\n",
       " 'https://www.zillow.com/homedetails/106-Maslack-Dr-Poultney-VT-05764/75454683_zpid/']"
      ]
     },
     "execution_count": 27,
     "metadata": {},
     "output_type": "execute_result"
    }
   ],
   "source": [
    "home_links"
   ]
  },
  {
   "cell_type": "code",
   "execution_count": 33,
   "metadata": {},
   "outputs": [],
   "source": [
    "# save list of links to a csv for storage\n",
    "\n",
    "df= pd.DataFrame(home_links)\n",
    "df.to_csv('home_links.csv')"
   ]
  },
  {
   "cell_type": "markdown",
   "metadata": {},
   "source": [
    "# Utilize list of links to scrape details from each individual home"
   ]
  },
  {
   "cell_type": "code",
   "execution_count": 42,
   "metadata": {},
   "outputs": [],
   "source": [
    "# Testing first on one property"
   ]
  },
  {
   "cell_type": "code",
   "execution_count": 40,
   "metadata": {},
   "outputs": [
    {
     "name": "stdout",
     "output_type": "stream",
     "text": [
      "Using proxy: {'https': '51.158.119.88:8811'}\n",
      "Using user agent: {'User-agent': 'Mozilla/5.0 (Windows NT 6.2; WOW64) AppleWebKit/537.36 (KHTML like Gecko) Chrome/44.0.2403.155 Safari/537.36'}\n"
     ]
    }
   ],
   "source": [
    "r = proxy_agent_request('get', \"https://www.zillow.com/homedetails/506-N-Hill-Rd-Stowe-VT-05672/227730817_zpid/\")"
   ]
  },
  {
   "cell_type": "code",
   "execution_count": 41,
   "metadata": {},
   "outputs": [
    {
     "data": {
      "text/plain": [
       "200"
      ]
     },
     "execution_count": 41,
     "metadata": {},
     "output_type": "execute_result"
    }
   ],
   "source": [
    "r.status_code"
   ]
  },
  {
   "cell_type": "code",
   "execution_count": 46,
   "metadata": {},
   "outputs": [
    {
     "ename": "TypeError",
     "evalue": "object of type 'Response' has no len()",
     "output_type": "error",
     "traceback": [
      "\u001b[1;31m---------------------------------------------------------------------------\u001b[0m",
      "\u001b[1;31mTypeError\u001b[0m                                 Traceback (most recent call last)",
      "\u001b[1;32m<ipython-input-46-05a8056108c5>\u001b[0m in \u001b[0;36m<module>\u001b[1;34m\u001b[0m\n\u001b[1;32m----> 1\u001b[1;33m \u001b[0msoup\u001b[0m \u001b[1;33m=\u001b[0m \u001b[0mBeautifulSoup\u001b[0m\u001b[1;33m(\u001b[0m\u001b[0mr\u001b[0m\u001b[1;33m,\u001b[0m \u001b[1;34m'html.parser'\u001b[0m\u001b[1;33m)\u001b[0m\u001b[1;33m\u001b[0m\u001b[1;33m\u001b[0m\u001b[0m\n\u001b[0m\u001b[0;32m      2\u001b[0m \u001b[0mhtml\u001b[0m \u001b[1;33m=\u001b[0m \u001b[0msoup\u001b[0m\u001b[1;33m.\u001b[0m\u001b[0mprettify\u001b[0m\u001b[1;33m(\u001b[0m\u001b[1;34m'utf-8'\u001b[0m\u001b[1;33m)\u001b[0m\u001b[1;33m\u001b[0m\u001b[1;33m\u001b[0m\u001b[0m\n",
      "\u001b[1;32m~\\anaconda3\\lib\\site-packages\\bs4\\__init__.py\u001b[0m in \u001b[0;36m__init__\u001b[1;34m(self, markup, features, builder, parse_only, from_encoding, exclude_encodings, element_classes, **kwargs)\u001b[0m\n\u001b[0;32m    308\u001b[0m         \u001b[1;32mif\u001b[0m \u001b[0mhasattr\u001b[0m\u001b[1;33m(\u001b[0m\u001b[0mmarkup\u001b[0m\u001b[1;33m,\u001b[0m \u001b[1;34m'read'\u001b[0m\u001b[1;33m)\u001b[0m\u001b[1;33m:\u001b[0m        \u001b[1;31m# It's a file-type object.\u001b[0m\u001b[1;33m\u001b[0m\u001b[1;33m\u001b[0m\u001b[0m\n\u001b[0;32m    309\u001b[0m             \u001b[0mmarkup\u001b[0m \u001b[1;33m=\u001b[0m \u001b[0mmarkup\u001b[0m\u001b[1;33m.\u001b[0m\u001b[0mread\u001b[0m\u001b[1;33m(\u001b[0m\u001b[1;33m)\u001b[0m\u001b[1;33m\u001b[0m\u001b[1;33m\u001b[0m\u001b[0m\n\u001b[1;32m--> 310\u001b[1;33m         elif len(markup) <= 256 and (\n\u001b[0m\u001b[0;32m    311\u001b[0m                 \u001b[1;33m(\u001b[0m\u001b[0misinstance\u001b[0m\u001b[1;33m(\u001b[0m\u001b[0mmarkup\u001b[0m\u001b[1;33m,\u001b[0m \u001b[0mbytes\u001b[0m\u001b[1;33m)\u001b[0m \u001b[1;32mand\u001b[0m \u001b[1;32mnot\u001b[0m \u001b[1;34mb'<'\u001b[0m \u001b[1;32min\u001b[0m \u001b[0mmarkup\u001b[0m\u001b[1;33m)\u001b[0m\u001b[1;33m\u001b[0m\u001b[1;33m\u001b[0m\u001b[0m\n\u001b[0;32m    312\u001b[0m                 \u001b[1;32mor\u001b[0m \u001b[1;33m(\u001b[0m\u001b[0misinstance\u001b[0m\u001b[1;33m(\u001b[0m\u001b[0mmarkup\u001b[0m\u001b[1;33m,\u001b[0m \u001b[0mstr\u001b[0m\u001b[1;33m)\u001b[0m \u001b[1;32mand\u001b[0m \u001b[1;32mnot\u001b[0m \u001b[1;34m'<'\u001b[0m \u001b[1;32min\u001b[0m \u001b[0mmarkup\u001b[0m\u001b[1;33m)\u001b[0m\u001b[1;33m\u001b[0m\u001b[1;33m\u001b[0m\u001b[0m\n",
      "\u001b[1;31mTypeError\u001b[0m: object of type 'Response' has no len()"
     ]
    }
   ],
   "source": [
    "soup = BeautifulSoup(r, 'html.parser')\n",
    "html = soup.prettify('utf-8')"
   ]
  },
  {
   "cell_type": "code",
   "execution_count": null,
   "metadata": {},
   "outputs": [],
   "source": []
  },
  {
   "cell_type": "code",
   "execution_count": null,
   "metadata": {},
   "outputs": [],
   "source": []
  }
 ],
 "metadata": {
  "kernelspec": {
   "display_name": "Python 3",
   "language": "python",
   "name": "python3"
  },
  "language_info": {
   "codemirror_mode": {
    "name": "ipython",
    "version": 3
   },
   "file_extension": ".py",
   "mimetype": "text/x-python",
   "name": "python",
   "nbconvert_exporter": "python",
   "pygments_lexer": "ipython3",
   "version": "3.8.5"
  }
 },
 "nbformat": 4,
 "nbformat_minor": 4
}
