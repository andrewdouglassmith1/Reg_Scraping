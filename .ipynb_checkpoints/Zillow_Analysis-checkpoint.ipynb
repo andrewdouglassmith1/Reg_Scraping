{
 "cells": [
  {
   "cell_type": "markdown",
   "metadata": {},
   "source": [
    "# Import Key Libraries"
   ]
  },
  {
   "cell_type": "code",
   "execution_count": 244,
   "metadata": {},
   "outputs": [],
   "source": [
    "import requests\n",
    "from bs4 import BeautifulSoup\n",
    "from random import choice\n",
    "from fake_useragent import UserAgent\n",
    "from selenium.webdriver.chrome.options import Options\n",
    "import ssl\n",
    "import time, os\n",
    "import ast\n",
    "import json"
   ]
  },
  {
   "cell_type": "markdown",
   "metadata": {},
   "source": [
    "# Functions to Rotate Randomly Generated User Agents and Proxies"
   ]
  },
  {
   "cell_type": "code",
   "execution_count": 245,
   "metadata": {},
   "outputs": [],
   "source": [
    "# create functions, will only be relevant when accessing home details - need to use selenium to get initial links"
   ]
  },
  {
   "cell_type": "code",
   "execution_count": 246,
   "metadata": {},
   "outputs": [],
   "source": [
    "def get_proxy():\n",
    "    '''\n",
    "    Returns a random proxy from a sslproxies.org\n",
    "    '''\n",
    "    url = \"https://www.sslproxies.org/\"\n",
    "    r = requests.get(url)\n",
    "    soup = BeautifulSoup(r.content, \"html5lib\")\n",
    "    return {'https': \n",
    "     choice(list(map(lambda x:x[0]+':'+x[1],\n",
    "        list(zip(map(lambda x:x.text, soup.findAll('td')[::8]), \n",
    "                 map(lambda x:x.text, soup.findAll('td')[1::8]))))))}"
   ]
  },
  {
   "cell_type": "code",
   "execution_count": 247,
   "metadata": {},
   "outputs": [],
   "source": [
    "def proxy_agent_request(request_type, url, **kwargs):\n",
    "    '''\n",
    "    A function to request a url through a random user agent and a proxy, the function test the proxy\n",
    "    '''\n",
    "    while 1:\n",
    "        try:\n",
    "            proxy = get_proxy()\n",
    "            ua = UserAgent()\n",
    "            user_agent = {'User-agent': ua.random}\n",
    "            print(\"Using proxy: {}\".format(proxy))\n",
    "            print(\"Using user agent: {}\".format(user_agent))\n",
    "            r = requests.request(request_type, url, proxies=proxy, headers=user_agent, timeout=5, **kwargs)\n",
    "            break\n",
    "        except:\n",
    "            pass\n",
    "    return r "
   ]
  },
  {
   "cell_type": "code",
   "execution_count": 248,
   "metadata": {},
   "outputs": [],
   "source": [
    "def working_proxy():\n",
    "    '''\n",
    "    Returns a working random proxy\n",
    "    '''\n",
    "    while 1:\n",
    "        try:\n",
    "            proxy = get_proxy()\n",
    "            url = \"https://www.sslproxies.org/\"\n",
    "            r = requests.get(url, proxies=proxy, timeout=5)\n",
    "            break\n",
    "        except:\n",
    "            pass\n",
    "    working = proxy\n",
    "    prepped_proxy = list(working.values())[0]\n",
    "    return prepped_proxy "
   ]
  },
  {
   "cell_type": "code",
   "execution_count": 249,
   "metadata": {},
   "outputs": [
    {
     "data": {
      "text/plain": [
       "'185.198.188.54:8080'"
      ]
     },
     "execution_count": 249,
     "metadata": {},
     "output_type": "execute_result"
    }
   ],
   "source": [
    "# testing working_proxy\n",
    "\n",
    "working_proxy()"
   ]
  },
  {
   "cell_type": "code",
   "execution_count": 250,
   "metadata": {},
   "outputs": [
    {
     "name": "stdout",
     "output_type": "stream",
     "text": [
      "Using proxy: {'https': '91.108.134.66:8080'}\n",
      "Using user agent: {'User-agent': 'Mozilla/5.0 (Windows NT 6.1; WOW64) AppleWebKit/537.36 (KHTML, like Gecko) Chrome/36.0.1985.67 Safari/537.36'}\n",
      "Using proxy: {'https': '150.129.148.88:35101'}\n",
      "Using user agent: {'User-agent': 'Mozilla/5.0 (Windows NT 5.1) AppleWebKit/537.36 (KHTML, like Gecko) Chrome/36.0.1985.67 Safari/537.36'}\n"
     ]
    }
   ],
   "source": [
    "# testing functions\n",
    "\n",
    "r = proxy_agent_request('get', \"https://www.youtube.com/\")"
   ]
  },
  {
   "cell_type": "code",
   "execution_count": 251,
   "metadata": {},
   "outputs": [
    {
     "data": {
      "text/plain": [
       "200"
      ]
     },
     "execution_count": 251,
     "metadata": {},
     "output_type": "execute_result"
    }
   ],
   "source": [
    "r.status_code"
   ]
  },
  {
   "cell_type": "code",
   "execution_count": 252,
   "metadata": {},
   "outputs": [],
   "source": [
    "# For ignoring SSL certificate errors\n",
    "\n",
    "ctx = ssl.create_default_context()\n",
    "ctx.check_hostname = False\n",
    "ctx.verify_mode = ssl.CERT_NONE"
   ]
  },
  {
   "cell_type": "markdown",
   "metadata": {},
   "source": [
    "# Setup Selenium .get specifications"
   ]
  },
  {
   "cell_type": "code",
   "execution_count": 253,
   "metadata": {},
   "outputs": [],
   "source": [
    "# Setup chromedriver\n",
    "from selenium import webdriver\n",
    "from selenium.webdriver.common.keys import Keys"
   ]
  },
  {
   "cell_type": "code",
   "execution_count": 254,
   "metadata": {},
   "outputs": [],
   "source": [
    "chromedriver = \"/Program Files/Google/Chrome/Application/chromedriver.exe\" # path to the chromedriver executable\n",
    "os.environ[\"webdriver.chrome.driver\"] = chromedriver"
   ]
  },
  {
   "cell_type": "markdown",
   "metadata": {},
   "source": [
    "# Grab URLs for all properties listed in Vermont from homepage"
   ]
  },
  {
   "cell_type": "code",
   "execution_count": 255,
   "metadata": {},
   "outputs": [],
   "source": [
    "# Store initial homepage for single family homes ion Vermont\n",
    "\n",
    "url = \"https://www.zillow.com/vt/houses/?searchQueryState=%7B%22pagination%22%3A%7B%7D%2C%22usersSearchTerm%22%3A%22vermont%22%2C%22mapBounds%22%3A%7B%22west%22%3A-77.06023564843753%2C%22east%22%3A-67.84270635156253%2C%22south%22%3A40.62302590438021%2C%22north%22%3A46.97341636694772%7D%2C%22regionSelection%22%3A%5B%7B%22regionId%22%3A58%2C%22regionType%22%3A2%7D%5D%2C%22isMapVisible%22%3Atrue%2C%22filterState%22%3A%7B%22price%22%3A%7B%22min%22%3A0%7D%2C%22mp%22%3A%7B%22min%22%3A0%7D%2C%22sort%22%3A%7B%22value%22%3A%22globalrelevanceex%22%7D%2C%22ah%22%3A%7B%22value%22%3Atrue%7D%2C%22con%22%3A%7B%22value%22%3Afalse%7D%2C%22mf%22%3A%7B%22value%22%3Afalse%7D%2C%22manu%22%3A%7B%22value%22%3Afalse%7D%2C%22land%22%3A%7B%22value%22%3Afalse%7D%2C%22tow%22%3A%7B%22value%22%3Afalse%7D%2C%22apa%22%3A%7B%22value%22%3Afalse%7D%7D%2C%22isListVisible%22%3Atrue%2C%22mapZoom%22%3A7%7D\""
   ]
  },
  {
   "cell_type": "code",
   "execution_count": 256,
   "metadata": {},
   "outputs": [],
   "source": [
    "# Access url\n",
    "\n",
    "driver = webdriver.Chrome(chromedriver)\n",
    "driver.get(url)"
   ]
  },
  {
   "cell_type": "code",
   "execution_count": 257,
   "metadata": {},
   "outputs": [],
   "source": [
    "soup = BeautifulSoup(driver.page_source,'html.parser')"
   ]
  },
  {
   "cell_type": "code",
   "execution_count": 280,
   "metadata": {},
   "outputs": [
    {
     "data": {
      "text/plain": [
       "[<div class=\"list-card-info\"><a class=\"list-card-link list-card-link-top-margin\" href=\"https://www.zillow.com/homedetails/2368-Kenniston-Hill-Rd-Wheelock-VT-05866/2093631158_zpid/\" tabindex=\"0\"><address class=\"list-card-addr\">2368 Kenniston Hill Rd, Wheelock, VT 05866</address></a><div class=\"list-card-footer\"></div><div class=\"list-card-heading\"><div class=\"list-card-price\">$199,000</div><ul class=\"list-card-details\"><li class=\"\">3<abbr class=\"list-card-label\"> <!-- -->bds</abbr>,</li><li class=\"\">2<abbr class=\"list-card-label\"> <!-- -->ba</abbr>,</li><li class=\"\">1,200<abbr class=\"list-card-label\"> <!-- -->sqft</abbr></li><li class=\"list-card-statusText\">-<abbr class=\"list-card-label\"> <!-- -->Active</abbr></li></ul></div></div>,\n",
       " <div class=\"list-card-info\"><a class=\"list-card-link list-card-link-top-margin\" href=\"https://www.zillow.com/homedetails/50-Smead-Rd-Wardsboro-VT-05355/235263328_zpid/\" tabindex=\"0\"><address class=\"list-card-addr\">50 Smead Rd, Wardsboro, VT 05355</address></a><div class=\"list-card-footer\"></div><div class=\"list-card-heading\"><div class=\"list-card-price\">$99,900</div><ul class=\"list-card-details\"><li class=\"\">4<abbr class=\"list-card-label\"> <!-- -->bds</abbr>,</li><li class=\"\">3<abbr class=\"list-card-label\"> <!-- -->ba</abbr>,</li><li class=\"\">2,500<abbr class=\"list-card-label\"> <!-- -->sqft</abbr></li><li class=\"list-card-statusText\">-<abbr class=\"list-card-label\"> <!-- -->Active</abbr></li></ul></div></div>,\n",
       " <div class=\"list-card-info\"><a class=\"list-card-link list-card-link-top-margin\" href=\"https://www.zillow.com/homedetails/109-Highland-Dr-Huntington-VT-05462/220857364_zpid/\" tabindex=\"0\"><address class=\"list-card-addr\">109 Highland Dr, Huntington, VT 05462</address></a><div class=\"list-card-footer\"></div><div class=\"list-card-heading\"><div class=\"list-card-price\">$386,500</div><ul class=\"list-card-details\"><li class=\"\">3<abbr class=\"list-card-label\"> <!-- -->bds</abbr>,</li><li class=\"\">3<abbr class=\"list-card-label\"> <!-- -->ba</abbr>,</li><li class=\"\">2,097<abbr class=\"list-card-label\"> <!-- -->sqft</abbr></li><li class=\"list-card-statusText\">-<abbr class=\"list-card-label\"> <!-- -->Active</abbr></li></ul></div></div>,\n",
       " <div class=\"list-card-info\"><a class=\"list-card-link list-card-link-top-margin\" href=\"https://www.zillow.com/homedetails/225-Pleasant-St-Chester-VT-05143/115813941_zpid/\" tabindex=\"0\"><address class=\"list-card-addr\">225 Pleasant St, Chester, VT 05143</address></a><div class=\"list-card-footer\"></div><div class=\"list-card-heading\"><div class=\"list-card-price\">$374,000</div><ul class=\"list-card-details\"><li class=\"\">9<abbr class=\"list-card-label\"> <!-- -->bds</abbr>,</li><li class=\"\">9<abbr class=\"list-card-label\"> <!-- -->ba</abbr>,</li><li class=\"\">5,788<abbr class=\"list-card-label\"> <!-- -->sqft</abbr></li><li class=\"list-card-statusText\">-<abbr class=\"list-card-label\"> <!-- -->Active</abbr></li></ul></div></div>,\n",
       " <div class=\"list-card-info\"><a class=\"list-card-link list-card-link-top-margin\" href=\"https://www.zillow.com/homedetails/3833-Brandon-Mountain-Rd-Rochester-VT-05767/75482471_zpid/\" tabindex=\"0\"><address class=\"list-card-addr\">3833 Brandon Mountain Rd, Rochester, VT 05767</address></a><div class=\"list-card-footer\"></div><div class=\"list-card-heading\"><div class=\"list-card-price\">$135,000</div><ul class=\"list-card-details\"><li class=\"\">5<abbr class=\"list-card-label\"> <!-- -->bds</abbr>,</li><li class=\"\">4<abbr class=\"list-card-label\"> <!-- -->ba</abbr>,</li><li class=\"\">4,038<abbr class=\"list-card-label\"> <!-- -->sqft</abbr></li><li class=\"list-card-statusText\">-<abbr class=\"list-card-label\"> <!-- -->Active</abbr></li></ul></div></div>,\n",
       " <div class=\"list-card-info\"><a class=\"list-card-link list-card-link-top-margin\" href=\"https://www.zillow.com/homedetails/143-State-Route-25-West-Topsham-VT-05086/304032163_zpid/\" tabindex=\"0\"><address class=\"list-card-addr\">143 State Route 25, West Topsham, VT 05086</address></a><div class=\"list-card-footer\"></div><div class=\"list-card-heading\"><div class=\"list-card-price\">$295,000</div><ul class=\"list-card-details\"><li class=\"\">6<abbr class=\"list-card-label\"> <!-- -->bds</abbr>,</li><li class=\"\">2<abbr class=\"list-card-label\"> <!-- -->ba</abbr>,</li><li class=\"\">2,524<abbr class=\"list-card-label\"> <!-- -->sqft</abbr></li><li class=\"list-card-statusText\">-<abbr class=\"list-card-label\"> <!-- -->Active</abbr></li></ul></div></div>,\n",
       " <div class=\"list-card-info\"><a class=\"list-card-link list-card-link-top-margin\" href=\"https://www.zillow.com/homedetails/552-State-Route-25-West-Topsham-VT-05086/115801321_zpid/\" tabindex=\"0\"><address class=\"list-card-addr\">552 State Route 25, West Topsham, VT 05086</address></a><div class=\"list-card-footer\"></div><div class=\"list-card-heading\"><div class=\"list-card-price\">$125,000</div><ul class=\"list-card-details\"><li class=\"\">2<abbr class=\"list-card-label\"> <!-- -->bds</abbr>,</li><li class=\"\">1<abbr class=\"list-card-label\"> <!-- -->ba</abbr>,</li><li class=\"\">1,083<abbr class=\"list-card-label\"> <!-- -->sqft</abbr></li><li class=\"list-card-statusText\">-<abbr class=\"list-card-label\"> <!-- -->Active</abbr></li></ul></div></div>,\n",
       " <div class=\"list-card-info\"><a class=\"list-card-link list-card-link-top-margin\" href=\"https://www.zillow.com/homedetails/3186-Route-100-Wardsboro-VT-05355/235263452_zpid/\" tabindex=\"0\"><address class=\"list-card-addr\">3186 Route 100, Wardsboro, VT 05355</address></a><div class=\"list-card-footer\"></div><div class=\"list-card-heading\"><div class=\"list-card-price\">$165,000</div><ul class=\"list-card-details\"><li class=\"\">4<abbr class=\"list-card-label\"> <!-- -->bds</abbr>,</li><li class=\"\">2<abbr class=\"list-card-label\"> <!-- -->ba</abbr>,</li><li class=\"\">1,120<abbr class=\"list-card-label\"> <!-- -->sqft</abbr></li><li class=\"list-card-statusText\">-<abbr class=\"list-card-label\"> <!-- -->Active</abbr></li></ul></div></div>,\n",
       " <div class=\"list-card-info\"><a class=\"list-card-link list-card-link-top-margin\" href=\"https://www.zillow.com/homedetails/106-Newton-Ln-Fairlee-VT-05045/115801008_zpid/\" tabindex=\"0\"><address class=\"list-card-addr\">106 Newton Ln, Fairlee, VT 05045</address></a><div class=\"list-card-footer\"></div><div class=\"list-card-heading\"><div class=\"list-card-price\">$84,900</div><ul class=\"list-card-details\"><li class=\"\">2<abbr class=\"list-card-label\"> <!-- -->bds</abbr>,</li><li class=\"\">2<abbr class=\"list-card-label\"> <!-- -->ba</abbr>,</li><li class=\"\">902<abbr class=\"list-card-label\"> <!-- -->sqft</abbr></li><li class=\"list-card-statusText\">-<abbr class=\"list-card-label\"> <!-- -->Active</abbr></li></ul></div></div>,\n",
       " <div class=\"list-card-info\"><a class=\"list-card-link list-card-link-top-margin\" href=\"https://www.zillow.com/homedetails/420-Steendom-Ln-Lyndonville-VT-05851/81600200_zpid/\" tabindex=\"0\"><address class=\"list-card-addr\">420 Steendom Ln, Lyndonville, VT 05851</address></a><div class=\"list-card-footer\"></div><div class=\"list-card-heading\"><div class=\"list-card-price\">$495,000</div><ul class=\"list-card-details\"><li class=\"\">3<abbr class=\"list-card-label\"> <!-- -->bds</abbr>,</li><li class=\"\">2<abbr class=\"list-card-label\"> <!-- -->ba</abbr>,</li><li class=\"\">2,000<abbr class=\"list-card-label\"> <!-- -->sqft</abbr></li><li class=\"list-card-statusText\">-<abbr class=\"list-card-label\"> <!-- -->Active</abbr></li></ul></div></div>,\n",
       " <div class=\"list-card-info\"><a class=\"list-card-link list-card-link-top-margin\" href=\"https://www.zillow.com/homedetails/5-Leonard-Ave-Springfield-VT-05156/75485030_zpid/\" tabindex=\"0\"><address class=\"list-card-addr\">5 Leonard Ave, Springfield, VT 05156</address></a><div class=\"list-card-footer\"></div><div class=\"list-card-heading\"><div class=\"list-card-price\">$139,900</div><ul class=\"list-card-details\"><li class=\"\">4<abbr class=\"list-card-label\"> <!-- -->bds</abbr>,</li><li class=\"\">2<abbr class=\"list-card-label\"> <!-- -->ba</abbr>,</li><li class=\"\">1,925<abbr class=\"list-card-label\"> <!-- -->sqft</abbr></li><li class=\"list-card-statusText\">-<abbr class=\"list-card-label\"> <!-- -->Active</abbr></li></ul></div></div>,\n",
       " <div class=\"list-card-info\"><a class=\"list-card-link list-card-link-top-margin\" href=\"https://www.zillow.com/homedetails/2811-Gregg-Hill-Rd-Waterbury-Center-VT-05677/75471073_zpid/\" tabindex=\"0\"><address class=\"list-card-addr\">2811 Gregg Hill Rd, Waterbury Center, VT 05677</address></a><div class=\"list-card-footer\"></div><div class=\"list-card-heading\"><div class=\"list-card-price\">$335,000</div><ul class=\"list-card-details\"><li class=\"\">2<abbr class=\"list-card-label\"> <!-- -->bds</abbr>,</li><li class=\"\">2<abbr class=\"list-card-label\"> <!-- -->ba</abbr>,</li><li class=\"\">1,680<abbr class=\"list-card-label\"> <!-- -->sqft</abbr></li><li class=\"list-card-statusText\">-<abbr class=\"list-card-label\"> <!-- -->Active</abbr></li></ul></div></div>,\n",
       " <div class=\"list-card-info\"><a class=\"list-card-link list-card-link-top-margin\" href=\"https://www.zillow.com/homedetails/292-Mountain-St-Island-Pond-VT-05846/299399618_zpid/\" tabindex=\"0\"><address class=\"list-card-addr\">292 Mountain St, Island Pond, VT 05846</address></a><div class=\"list-card-footer\"></div><div class=\"list-card-heading\"><div class=\"list-card-price\">$89,900</div><ul class=\"list-card-details\"><li class=\"\">3<abbr class=\"list-card-label\"> <!-- -->bds</abbr>,</li><li class=\"\">1<abbr class=\"list-card-label\"> <!-- -->ba</abbr>,</li><li class=\"\">2,184<abbr class=\"list-card-label\"> <!-- -->sqft</abbr></li><li class=\"list-card-statusText\">-<abbr class=\"list-card-label\"> <!-- -->Active</abbr></li></ul></div></div>,\n",
       " <div class=\"list-card-info\"><a class=\"list-card-link list-card-link-top-margin\" href=\"https://www.zillow.com/homedetails/253-Airport-Rd-Lyndonville-VT-05851/81600236_zpid/\" tabindex=\"0\"><address class=\"list-card-addr\">253 Airport Rd, Lyndonville, VT 05851</address></a><div class=\"list-card-footer\"></div><div class=\"list-card-heading\"><div class=\"list-card-price\">$229,000</div><ul class=\"list-card-details\"><li class=\"\">3<abbr class=\"list-card-label\"> <!-- -->bds</abbr>,</li><li class=\"\">2<abbr class=\"list-card-label\"> <!-- -->ba</abbr>,</li><li class=\"\">1,804<abbr class=\"list-card-label\"> <!-- -->sqft</abbr></li><li class=\"list-card-statusText\">-<abbr class=\"list-card-label\"> <!-- -->Active</abbr></li></ul></div></div>,\n",
       " <div class=\"list-card-info\"><a class=\"list-card-link list-card-link-top-margin\" href=\"https://www.zillow.com/homedetails/54-East-St-Bristol-VT-05443/75415057_zpid/\" tabindex=\"0\"><address class=\"list-card-addr\">54 East St, Bristol, VT 05443</address></a><div class=\"list-card-footer\"></div><div class=\"list-card-heading\"><div class=\"list-card-price\">$405,000</div><ul class=\"list-card-details\"><li class=\"\">5<abbr class=\"list-card-label\"> <!-- -->bds</abbr>,</li><li class=\"\">3<abbr class=\"list-card-label\"> <!-- -->ba</abbr>,</li><li class=\"\">3,088<abbr class=\"list-card-label\"> <!-- -->sqft</abbr></li><li class=\"list-card-statusText\">-<abbr class=\"list-card-label\"> <!-- -->Active</abbr></li></ul></div></div>,\n",
       " <div class=\"list-card-info\"><a class=\"list-card-link list-card-link-top-margin\" href=\"https://www.zillow.com/homedetails/89-Main-St-Rupert-VT-05768/2107212278_zpid/\" tabindex=\"0\"><address class=\"list-card-addr\">89 Main St, Rupert, VT 05768</address></a><div class=\"list-card-footer\"></div><div class=\"list-card-heading\"><div class=\"list-card-price\">$279,000</div><ul class=\"list-card-details\"><li class=\"\">5<abbr class=\"list-card-label\"> <!-- -->bds</abbr>,</li><li class=\"\">2<abbr class=\"list-card-label\"> <!-- -->ba</abbr>,</li><li class=\"\">2,600<abbr class=\"list-card-label\"> <!-- -->sqft</abbr></li><li class=\"list-card-statusText\">-<abbr class=\"list-card-label\"> <!-- -->Active</abbr></li></ul></div></div>,\n",
       " <div class=\"list-card-info\"><a class=\"list-card-link list-card-link-top-margin\" href=\"https://www.zillow.com/homedetails/186-N-Shore-Rd-Isle-La-Motte-VT-05463/2097238767_zpid/\" tabindex=\"0\"><address class=\"list-card-addr\">186 N Shore Rd, Isle La Motte, VT 05463</address></a><div class=\"list-card-footer\"></div><div class=\"list-card-heading\"><div class=\"list-card-price\">$339,000</div><ul class=\"list-card-details\"><li class=\"\">3<abbr class=\"list-card-label\"> <!-- -->bds</abbr>,</li><li class=\"\">1<abbr class=\"list-card-label\"> <!-- -->ba</abbr>,</li><li class=\"\">1,080<abbr class=\"list-card-label\"> <!-- -->sqft</abbr></li><li class=\"list-card-statusText\">-<abbr class=\"list-card-label\"> <!-- -->Active</abbr></li></ul></div></div>,\n",
       " <div class=\"list-card-info\"><a class=\"list-card-link list-card-link-top-margin\" href=\"https://www.zillow.com/homedetails/1525-S-Route-116-Bristol-VT-05443/2083880674_zpid/\" tabindex=\"0\"><address class=\"list-card-addr\">1525 S Route 116, Bristol, VT 05443</address></a><div class=\"list-card-footer\"></div><div class=\"list-card-heading\"><div class=\"list-card-price\">$389,000</div><ul class=\"list-card-details\"><li class=\"\">3<abbr class=\"list-card-label\"> <!-- -->bds</abbr>,</li><li class=\"\">3<abbr class=\"list-card-label\"> <!-- -->ba</abbr>,</li><li class=\"\">2,581<abbr class=\"list-card-label\"> <!-- -->sqft</abbr></li><li class=\"list-card-statusText\">-<abbr class=\"list-card-label\"> <!-- -->Active</abbr></li></ul></div></div>,\n",
       " <div class=\"list-card-info\"><a class=\"list-card-link list-card-link-top-margin\" href=\"https://www.zillow.com/homedetails/98-Goodsell-Point-Colchester-VT-05446/220851915_zpid/\" tabindex=\"0\"><address class=\"list-card-addr\">98 Goodsell Point, Colchester, VT 05446</address></a><div class=\"list-card-footer\"></div><div class=\"list-card-heading\"><div class=\"list-card-price\">$129,500</div><ul class=\"list-card-details\"><li class=\"\">4<abbr class=\"list-card-label\"> <!-- -->bds</abbr>,</li><li class=\"\">1<abbr class=\"list-card-label\"> <!-- -->ba</abbr>,</li><li class=\"\">792<abbr class=\"list-card-label\"> <!-- -->sqft</abbr></li><li class=\"list-card-statusText\">-<abbr class=\"list-card-label\"> <!-- -->Active</abbr></li></ul></div></div>,\n",
       " <div class=\"list-card-info\"><a class=\"list-card-link list-card-link-top-margin\" href=\"https://www.zillow.com/homedetails/1157-W-Woodstock-Rd-Woodstock-VT-05091/75488729_zpid/\" tabindex=\"0\"><address class=\"list-card-addr\">1157 W Woodstock Rd, Woodstock, VT 05091</address></a><div class=\"list-card-footer\"></div><div class=\"list-card-heading\"><div class=\"list-card-price\">$419,000</div><ul class=\"list-card-details\"><li class=\"\">4<abbr class=\"list-card-label\"> <!-- -->bds</abbr>,</li><li class=\"\">3<abbr class=\"list-card-label\"> <!-- -->ba</abbr>,</li><li class=\"\">2,760<abbr class=\"list-card-label\"> <!-- -->sqft</abbr></li><li class=\"list-card-statusText\">-<abbr class=\"list-card-label\"> <!-- -->Active</abbr></li></ul></div></div>,\n",
       " <div class=\"list-card-info\"><a class=\"list-card-link list-card-link-top-margin\" href=\"https://www.zillow.com/homedetails/1380-Town-Line-Rd-Craftsbury-Common-VT-05827/2085251000_zpid/\" tabindex=\"0\"><address class=\"list-card-addr\">1380 Town Line Rd, Craftsbury Common, VT 05827</address></a><div class=\"list-card-footer\"></div><div class=\"list-card-heading\"><div class=\"list-card-price\">$265,800</div><ul class=\"list-card-details\"><li class=\"\">3<abbr class=\"list-card-label\"> <!-- -->bds</abbr>,</li><li class=\"\">3<abbr class=\"list-card-label\"> <!-- -->ba</abbr>,</li><li class=\"\">2,217<abbr class=\"list-card-label\"> <!-- -->sqft</abbr></li><li class=\"list-card-statusText\">-<abbr class=\"list-card-label\"> <!-- -->Active</abbr></li></ul></div></div>,\n",
       " <div class=\"list-card-info\"><a class=\"list-card-link list-card-link-top-margin\" href=\"https://www.zillow.com/homedetails/53-Heath-Rd-Wolcott-VT-05680/92006678_zpid/\" tabindex=\"0\"><address class=\"list-card-addr\">53 Heath Rd, Wolcott, VT 05680</address></a><div class=\"list-card-footer\"></div><div class=\"list-card-heading\"><div class=\"list-card-price\">$393,000</div><ul class=\"list-card-details\"><li class=\"\">4<abbr class=\"list-card-label\"> <!-- -->bds</abbr>,</li><li class=\"\">2<abbr class=\"list-card-label\"> <!-- -->ba</abbr>,</li><li class=\"\">1,990<abbr class=\"list-card-label\"> <!-- -->sqft</abbr></li><li class=\"list-card-statusText\">-<abbr class=\"list-card-label\"> <!-- -->Active</abbr></li></ul></div></div>,\n",
       " <div class=\"list-card-info\"><a class=\"list-card-link list-card-link-top-margin\" href=\"https://www.zillow.com/homedetails/91-Prospect-St-Northfield-VT-05663/250871928_zpid/\" tabindex=\"0\"><address class=\"list-card-addr\">91 Prospect St, Northfield, VT 05663</address></a><div class=\"list-card-footer\"></div><div class=\"list-card-heading\"><div class=\"list-card-price\">$189,900</div><ul class=\"list-card-details\"><li class=\"\">7<abbr class=\"list-card-label\"> <!-- -->bds</abbr>,</li><li class=\"\">4<abbr class=\"list-card-label\"> <!-- -->ba</abbr>,</li><li class=\"\">3,710<abbr class=\"list-card-label\"> <!-- -->sqft</abbr></li><li class=\"list-card-statusText\">-<abbr class=\"list-card-label\"> <!-- -->Active</abbr></li></ul></div></div>,\n",
       " <div class=\"list-card-info\"><a class=\"list-card-link list-card-link-top-margin\" href=\"https://www.zillow.com/homedetails/2800-Us-Highway-5-Sutton-VT-05867/2076626515_zpid/\" tabindex=\"0\"><address class=\"list-card-addr\">2800 Us Highway 5, Sutton, VT 05867</address></a><div class=\"list-card-footer\"></div><div class=\"list-card-heading\"><div class=\"list-card-price\">$179,000</div><ul class=\"list-card-details\"><li class=\"\">2<abbr class=\"list-card-label\"> <!-- -->bds</abbr>,</li><li class=\"\">2<abbr class=\"list-card-label\"> <!-- -->ba</abbr>,</li><li class=\"\">1,517<abbr class=\"list-card-label\"> <!-- -->sqft</abbr></li><li class=\"list-card-statusText\">-<abbr class=\"list-card-label\"> <!-- -->Active</abbr></li></ul></div></div>,\n",
       " <div class=\"list-card-info\"><a class=\"list-card-link list-card-link-top-margin\" href=\"https://www.zillow.com/homedetails/78-Gates-Rd-S-Mount-Holly-VT-05730/115789746_zpid/\" tabindex=\"0\"><address class=\"list-card-addr\">78 Gates Rd S, Mount Holly, VT 05730</address></a><div class=\"list-card-footer\"></div><div class=\"list-card-heading\"><div class=\"list-card-price\">$245,000</div><ul class=\"list-card-details\"><li class=\"\">3<abbr class=\"list-card-label\"> <!-- -->bds</abbr>,</li><li class=\"\">2<abbr class=\"list-card-label\"> <!-- -->ba</abbr>,</li><li class=\"\">1,268<abbr class=\"list-card-label\"> <!-- -->sqft</abbr></li><li class=\"list-card-statusText\">-<abbr class=\"list-card-label\"> <!-- -->Active</abbr></li></ul></div></div>,\n",
       " <div class=\"list-card-info\"><a class=\"list-card-link list-card-link-top-margin\" href=\"https://www.zillow.com/homedetails/414-Notch-Rd-Middlesex-VT-05602/92029821_zpid/\" tabindex=\"0\"><address class=\"list-card-addr\">414 Notch Rd, Middlesex, VT 05602</address></a><div class=\"list-card-footer\"></div><div class=\"list-card-heading\"><div class=\"list-card-price\">$425,000</div><ul class=\"list-card-details\"><li class=\"\">2<abbr class=\"list-card-label\"> <!-- -->bds</abbr>,</li><li class=\"\">2<abbr class=\"list-card-label\"> <!-- -->ba</abbr>,</li><li class=\"\">2,476<abbr class=\"list-card-label\"> <!-- -->sqft</abbr></li><li class=\"list-card-statusText\">-<abbr class=\"list-card-label\"> <!-- -->Active</abbr></li></ul></div></div>,\n",
       " <div class=\"list-card-info\"><a class=\"list-card-link list-card-link-top-margin\" href=\"https://www.zillow.com/homedetails/1442-Watkins-Hill-Rd-Poultney-VT-05764/250978093_zpid/\" tabindex=\"0\"><address class=\"list-card-addr\">1442 Watkins Hill Rd, Poultney, VT 05764</address></a><div class=\"list-card-footer\"></div><div class=\"list-card-heading\"><div class=\"list-card-price\">$440,000</div><ul class=\"list-card-details\"><li class=\"\">4<abbr class=\"list-card-label\"> <!-- -->bds</abbr>,</li><li class=\"\">4<abbr class=\"list-card-label\"> <!-- -->ba</abbr>,</li><li class=\"\">3,992<abbr class=\"list-card-label\"> <!-- -->sqft</abbr></li><li class=\"list-card-statusText\">-<abbr class=\"list-card-label\"> <!-- -->Active</abbr></li></ul></div></div>,\n",
       " <div class=\"list-card-info\"><a class=\"list-card-link list-card-link-top-margin\" href=\"https://www.zillow.com/homedetails/202-Morgan-Rd-White-River-Junction-VT-05001/303989478_zpid/\" tabindex=\"0\"><address class=\"list-card-addr\">202 Morgan Rd, White River Junction, VT 05001</address></a><div class=\"list-card-footer\"></div><div class=\"list-card-heading\"><div class=\"list-card-price\">$230,000</div><ul class=\"list-card-details\"><li class=\"\">3<abbr class=\"list-card-label\"> <!-- -->bds</abbr>,</li><li class=\"\">2<abbr class=\"list-card-label\"> <!-- -->ba</abbr>,</li><li class=\"\">1,920<abbr class=\"list-card-label\"> <!-- -->sqft</abbr></li><li class=\"list-card-statusText\">-<abbr class=\"list-card-label\"> <!-- -->Active</abbr></li></ul></div></div>,\n",
       " <div class=\"list-card-info\"><a class=\"list-card-link list-card-link-top-margin\" href=\"https://www.zillow.com/homedetails/7-Belknap-Brook-Rd-Tunbridge-VT-05077/92012347_zpid/\" tabindex=\"0\"><address class=\"list-card-addr\">7 Belknap Brook Rd, Tunbridge, VT 05077</address></a><div class=\"list-card-footer\"></div><div class=\"list-card-heading\"><div class=\"list-card-price\">$770,000</div><ul class=\"list-card-details\"><li class=\"\">8<abbr class=\"list-card-label\"> <!-- -->bds</abbr>,</li><li class=\"\">3<abbr class=\"list-card-label\"> <!-- -->ba</abbr>,</li><li class=\"\">5,760<abbr class=\"list-card-label\"> <!-- -->sqft</abbr></li><li class=\"list-card-statusText\">-<abbr class=\"list-card-label\"> <!-- -->Active</abbr></li></ul></div></div>,\n",
       " <div class=\"list-card-info\"><a class=\"list-card-link list-card-link-top-margin\" href=\"https://www.zillow.com/homedetails/13-Toad-Pond-Rd-Morgan-VT-05853/299441426_zpid/\" tabindex=\"0\"><address class=\"list-card-addr\">13 Toad Pond Rd, Morgan, VT 05853</address></a><div class=\"list-card-footer\"></div><div class=\"list-card-heading\"><div class=\"list-card-price\">$195,000</div><ul class=\"list-card-details\"><li class=\"\">3<abbr class=\"list-card-label\"> <!-- -->bds</abbr>,</li><li class=\"\">2<abbr class=\"list-card-label\"> <!-- -->ba</abbr>,</li><li class=\"\">1,900<abbr class=\"list-card-label\"> <!-- -->sqft</abbr></li><li class=\"list-card-statusText\">-<abbr class=\"list-card-label\"> <!-- -->Active</abbr></li></ul></div></div>,\n",
       " <div class=\"list-card-info\"><a class=\"list-card-link list-card-link-top-margin\" href=\"https://www.zillow.com/homedetails/188-Cottage-Grv-Burlington-VT-05408/12649296_zpid/\" tabindex=\"0\"><address class=\"list-card-addr\">188 Cottage Grv, Burlington, VT 05408</address></a><div class=\"list-card-footer\"></div><div class=\"list-card-heading\"><div class=\"list-card-price\">$329,000</div><ul class=\"list-card-details\"><li class=\"\">4<abbr class=\"list-card-label\"> <!-- -->bds</abbr>,</li><li class=\"\">1<abbr class=\"list-card-label\"> <!-- -->ba</abbr>,</li><li class=\"\">1,478<abbr class=\"list-card-label\"> <!-- -->sqft</abbr></li><li class=\"list-card-statusText\">-<abbr class=\"list-card-label\"> <!-- -->Active</abbr></li></ul></div></div>,\n",
       " <div class=\"list-card-info\"><a class=\"list-card-link list-card-link-top-margin\" href=\"https://www.zillow.com/homedetails/583-Dunn-Mountain-Rd-Sheffield-VT-05866/2076571234_zpid/\" tabindex=\"0\"><address class=\"list-card-addr\">583 Dunn Mountain Rd, Sheffield, VT 05866</address></a><div class=\"list-card-footer\"></div><div class=\"list-card-heading\"><div class=\"list-card-price\">$235,000</div><ul class=\"list-card-details\"><li class=\"\">3<abbr class=\"list-card-label\"> <!-- -->bds</abbr>,</li><li class=\"\">1<abbr class=\"list-card-label\"> <!-- -->ba</abbr>,</li><li class=\"\">1,512<abbr class=\"list-card-label\"> <!-- -->sqft</abbr></li><li class=\"list-card-statusText\">-<abbr class=\"list-card-label\"> <!-- -->Active</abbr></li></ul></div></div>,\n",
       " <div class=\"list-card-info\"><a class=\"list-card-link list-card-link-top-margin\" href=\"https://www.zillow.com/homedetails/130-Hemlock-Hill-Dr-Huntington-VT-05462/220857294_zpid/\" tabindex=\"0\"><address class=\"list-card-addr\">130 Hemlock Hill Dr, Huntington, VT 05462</address></a><div class=\"list-card-footer\"></div><div class=\"list-card-heading\"><div class=\"list-card-price\">$169,900</div><ul class=\"list-card-details\"><li class=\"\">3<abbr class=\"list-card-label\"> <!-- -->bds</abbr>,</li><li class=\"\">2<abbr class=\"list-card-label\"> <!-- -->ba</abbr>,</li><li class=\"\">1,080<abbr class=\"list-card-label\"> <!-- -->sqft</abbr></li><li class=\"list-card-statusText\">-<abbr class=\"list-card-label\"> <!-- -->Active</abbr></li></ul></div></div>,\n",
       " <div class=\"list-card-info\"><a class=\"list-card-link list-card-link-top-margin\" href=\"https://www.zillow.com/homedetails/1106-North-Ave-Burlington-VT-05408/110240579_zpid/\" tabindex=\"0\"><address class=\"list-card-addr\">1106 North Ave, Burlington, VT 05408</address></a><div class=\"list-card-footer\"></div><div class=\"list-card-heading\"><div class=\"list-card-price\">$150,000</div><ul class=\"list-card-details\"><li class=\"\">3<abbr class=\"list-card-label\"> <!-- -->bds</abbr>,</li><li class=\"\">2<abbr class=\"list-card-label\"> <!-- -->ba</abbr>,</li><li class=\"\">1,346<abbr class=\"list-card-label\"> <!-- -->sqft</abbr></li><li class=\"list-card-statusText\">-<abbr class=\"list-card-label\"> <!-- -->Active</abbr></li></ul></div></div>,\n",
       " <div class=\"list-card-info\"><a class=\"list-card-link list-card-link-top-margin\" href=\"https://www.zillow.com/homedetails/323-Fee-Fee-Point-Rd-North-Hero-VT-05474/299113269_zpid/\" tabindex=\"0\"><address class=\"list-card-addr\">323 Fee Fee Point Rd, North Hero, VT 05474</address></a><div class=\"list-card-footer\"></div><div class=\"list-card-heading\"><div class=\"list-card-price\">$539,900</div><ul class=\"list-card-details\"><li class=\"\">3<abbr class=\"list-card-label\"> <!-- -->bds</abbr>,</li><li class=\"\">2<abbr class=\"list-card-label\"> <!-- -->ba</abbr>,</li><li class=\"\">1,719<abbr class=\"list-card-label\"> <!-- -->sqft</abbr></li><li class=\"list-card-statusText\">-<abbr class=\"list-card-label\"> <!-- -->Active</abbr></li></ul></div></div>,\n",
       " <div class=\"list-card-info\"><a class=\"list-card-link list-card-link-top-margin\" href=\"https://www.zillow.com/homedetails/3-Lower-Notch-Rd-Bristol-VT-05443/2076637264_zpid/\" tabindex=\"0\"><address class=\"list-card-addr\">3 Lower Notch Rd, Bristol, VT 05443</address></a><div class=\"list-card-footer\"></div><div class=\"list-card-heading\"><div class=\"list-card-price\">$300,000</div><ul class=\"list-card-details\"><li class=\"\">3<abbr class=\"list-card-label\"> <!-- -->bds</abbr>,</li><li class=\"\">3<abbr class=\"list-card-label\"> <!-- -->ba</abbr>,</li><li class=\"\">1,660<abbr class=\"list-card-label\"> <!-- -->sqft</abbr></li><li class=\"list-card-statusText\">-<abbr class=\"list-card-label\"> <!-- -->Active</abbr></li></ul></div></div>,\n",
       " <div class=\"list-card-info\"><a class=\"list-card-link list-card-link-top-margin\" href=\"https://www.zillow.com/homedetails/484-Halladay-Rd-Middlebury-VT-05753/75411953_zpid/\" tabindex=\"0\"><address class=\"list-card-addr\">484 Halladay Rd, Middlebury, VT 05753</address></a><div class=\"list-card-footer\"></div><div class=\"list-card-heading\"><div class=\"list-card-price\">$849,000</div><ul class=\"list-card-details\"><li class=\"\">5<abbr class=\"list-card-label\"> <!-- -->bds</abbr>,</li><li class=\"\">2<abbr class=\"list-card-label\"> <!-- -->ba</abbr>,</li><li class=\"\">3,668<abbr class=\"list-card-label\"> <!-- -->sqft</abbr></li><li class=\"list-card-statusText\">-<abbr class=\"list-card-label\"> <!-- -->Active</abbr></li></ul></div></div>,\n",
       " <div class=\"list-card-info\"><a class=\"list-card-link list-card-link-top-margin\" href=\"https://www.zillow.com/homedetails/39-Brook-Ln-Shelburne-VT-05482/220864247_zpid/\" tabindex=\"0\"><address class=\"list-card-addr\">39 Brook Ln, Shelburne, VT 05482</address></a><div class=\"list-card-footer\"></div><div class=\"list-card-heading\"><div class=\"list-card-price\">$360,000</div><ul class=\"list-card-details\"><li class=\"\">3<abbr class=\"list-card-label\"> <!-- -->bds</abbr>,</li><li class=\"\">2<abbr class=\"list-card-label\"> <!-- -->ba</abbr>,</li><li class=\"\">1,804<abbr class=\"list-card-label\"> <!-- -->sqft</abbr></li><li class=\"list-card-statusText\">-<abbr class=\"list-card-label\"> <!-- -->Active</abbr></li></ul></div></div>,\n",
       " <div class=\"list-card-info\"><a class=\"list-card-link list-card-link-top-margin\" href=\"https://www.zillow.com/homedetails/88-Peters-Ln-Wardsboro-VT-05355/2106218927_zpid/\" tabindex=\"0\"><address class=\"list-card-addr\">88 Peters Ln, Wardsboro, VT 05355</address></a><div class=\"list-card-footer\"></div><div class=\"list-card-heading\"><div class=\"list-card-price\">$344,000</div><ul class=\"list-card-details\"><li class=\"\">4<abbr class=\"list-card-label\"> <!-- -->bds</abbr>,</li><li class=\"\">3<abbr class=\"list-card-label\"> <!-- -->ba</abbr>,</li><li class=\"\">2,688<abbr class=\"list-card-label\"> <!-- -->sqft</abbr></li><li class=\"list-card-statusText\">-<abbr class=\"list-card-label\"> <!-- -->Active</abbr></li></ul></div></div>,\n",
       " <div class=\"list-card-info\"><a class=\"list-card-link list-card-link-top-margin\" href=\"https://www.zillow.com/homedetails/32-Route-3-Pittsford-VT-05763/2087011199_zpid/\" tabindex=\"0\"><address class=\"list-card-addr\">32 Route 3, Pittsford, VT 05763</address></a><div class=\"list-card-footer\"></div><div class=\"list-card-heading\"><div class=\"list-card-price\">$99,900</div><ul class=\"list-card-details\"><li class=\"\">5<abbr class=\"list-card-label\"> <!-- -->bds</abbr>,</li><li class=\"\">3<abbr class=\"list-card-label\"> <!-- -->ba</abbr>,</li><li class=\"\">3,006<abbr class=\"list-card-label\"> <!-- -->sqft</abbr></li><li class=\"list-card-statusText\">-<abbr class=\"list-card-label\"> <!-- -->Active</abbr></li></ul></div></div>]"
      ]
     },
     "execution_count": 280,
     "metadata": {},
     "output_type": "execute_result"
    }
   ],
   "source": [
    "# Locating links\n",
    "\n",
    "soup.findAll('div', {'class' : 'list-card-info'})"
   ]
  },
  {
   "cell_type": "code",
   "execution_count": 281,
   "metadata": {},
   "outputs": [],
   "source": [
    "# Looping through all links and placing in a list\n",
    "\n",
    "home_links = []\n",
    "\n",
    "for div in soup.find_all('div', {'class' : 'list-card-info'}):\n",
    "    for link in div.find_all('a'):\n",
    "        home_links.append(link.get(\"href\"))"
   ]
  },
  {
   "cell_type": "code",
   "execution_count": 283,
   "metadata": {},
   "outputs": [
    {
     "data": {
      "text/plain": [
       "['https://www.zillow.com/homedetails/2368-Kenniston-Hill-Rd-Wheelock-VT-05866/2093631158_zpid/',\n",
       " 'https://www.zillow.com/homedetails/50-Smead-Rd-Wardsboro-VT-05355/235263328_zpid/',\n",
       " 'https://www.zillow.com/homedetails/109-Highland-Dr-Huntington-VT-05462/220857364_zpid/',\n",
       " 'https://www.zillow.com/homedetails/225-Pleasant-St-Chester-VT-05143/115813941_zpid/',\n",
       " 'https://www.zillow.com/homedetails/3833-Brandon-Mountain-Rd-Rochester-VT-05767/75482471_zpid/',\n",
       " 'https://www.zillow.com/homedetails/143-State-Route-25-West-Topsham-VT-05086/304032163_zpid/',\n",
       " 'https://www.zillow.com/homedetails/552-State-Route-25-West-Topsham-VT-05086/115801321_zpid/',\n",
       " 'https://www.zillow.com/homedetails/3186-Route-100-Wardsboro-VT-05355/235263452_zpid/',\n",
       " 'https://www.zillow.com/homedetails/106-Newton-Ln-Fairlee-VT-05045/115801008_zpid/',\n",
       " 'https://www.zillow.com/homedetails/420-Steendom-Ln-Lyndonville-VT-05851/81600200_zpid/',\n",
       " 'https://www.zillow.com/homedetails/5-Leonard-Ave-Springfield-VT-05156/75485030_zpid/',\n",
       " 'https://www.zillow.com/homedetails/2811-Gregg-Hill-Rd-Waterbury-Center-VT-05677/75471073_zpid/',\n",
       " 'https://www.zillow.com/homedetails/292-Mountain-St-Island-Pond-VT-05846/299399618_zpid/',\n",
       " 'https://www.zillow.com/homedetails/253-Airport-Rd-Lyndonville-VT-05851/81600236_zpid/',\n",
       " 'https://www.zillow.com/homedetails/54-East-St-Bristol-VT-05443/75415057_zpid/',\n",
       " 'https://www.zillow.com/homedetails/89-Main-St-Rupert-VT-05768/2107212278_zpid/',\n",
       " 'https://www.zillow.com/homedetails/186-N-Shore-Rd-Isle-La-Motte-VT-05463/2097238767_zpid/',\n",
       " 'https://www.zillow.com/homedetails/1525-S-Route-116-Bristol-VT-05443/2083880674_zpid/',\n",
       " 'https://www.zillow.com/homedetails/98-Goodsell-Point-Colchester-VT-05446/220851915_zpid/',\n",
       " 'https://www.zillow.com/homedetails/1157-W-Woodstock-Rd-Woodstock-VT-05091/75488729_zpid/',\n",
       " 'https://www.zillow.com/homedetails/1380-Town-Line-Rd-Craftsbury-Common-VT-05827/2085251000_zpid/',\n",
       " 'https://www.zillow.com/homedetails/53-Heath-Rd-Wolcott-VT-05680/92006678_zpid/',\n",
       " 'https://www.zillow.com/homedetails/91-Prospect-St-Northfield-VT-05663/250871928_zpid/',\n",
       " 'https://www.zillow.com/homedetails/2800-Us-Highway-5-Sutton-VT-05867/2076626515_zpid/',\n",
       " 'https://www.zillow.com/homedetails/78-Gates-Rd-S-Mount-Holly-VT-05730/115789746_zpid/',\n",
       " 'https://www.zillow.com/homedetails/414-Notch-Rd-Middlesex-VT-05602/92029821_zpid/',\n",
       " 'https://www.zillow.com/homedetails/1442-Watkins-Hill-Rd-Poultney-VT-05764/250978093_zpid/',\n",
       " 'https://www.zillow.com/homedetails/202-Morgan-Rd-White-River-Junction-VT-05001/303989478_zpid/',\n",
       " 'https://www.zillow.com/homedetails/7-Belknap-Brook-Rd-Tunbridge-VT-05077/92012347_zpid/',\n",
       " 'https://www.zillow.com/homedetails/13-Toad-Pond-Rd-Morgan-VT-05853/299441426_zpid/',\n",
       " 'https://www.zillow.com/homedetails/188-Cottage-Grv-Burlington-VT-05408/12649296_zpid/',\n",
       " 'https://www.zillow.com/homedetails/583-Dunn-Mountain-Rd-Sheffield-VT-05866/2076571234_zpid/',\n",
       " 'https://www.zillow.com/homedetails/130-Hemlock-Hill-Dr-Huntington-VT-05462/220857294_zpid/',\n",
       " 'https://www.zillow.com/homedetails/1106-North-Ave-Burlington-VT-05408/110240579_zpid/',\n",
       " 'https://www.zillow.com/homedetails/323-Fee-Fee-Point-Rd-North-Hero-VT-05474/299113269_zpid/',\n",
       " 'https://www.zillow.com/homedetails/3-Lower-Notch-Rd-Bristol-VT-05443/2076637264_zpid/',\n",
       " 'https://www.zillow.com/homedetails/484-Halladay-Rd-Middlebury-VT-05753/75411953_zpid/',\n",
       " 'https://www.zillow.com/homedetails/39-Brook-Ln-Shelburne-VT-05482/220864247_zpid/',\n",
       " 'https://www.zillow.com/homedetails/88-Peters-Ln-Wardsboro-VT-05355/2106218927_zpid/',\n",
       " 'https://www.zillow.com/homedetails/32-Route-3-Pittsford-VT-05763/2087011199_zpid/']"
      ]
     },
     "execution_count": 283,
     "metadata": {},
     "output_type": "execute_result"
    }
   ],
   "source": [
    "home_links"
   ]
  },
  {
   "cell_type": "code",
   "execution_count": 261,
   "metadata": {},
   "outputs": [],
   "source": [
    "# Locate links to all pages"
   ]
  },
  {
   "cell_type": "code",
   "execution_count": null,
   "metadata": {},
   "outputs": [],
   "source": []
  },
  {
   "cell_type": "code",
   "execution_count": 298,
   "metadata": {},
   "outputs": [
    {
     "name": "stdout",
     "output_type": "stream",
     "text": [
      "<a class=\"StyledButton-c11n-8-12-0__wpcbcc-0 bNdNgP PaginationButton-c11n-8-12-0__si2hz6-0 bTrxAR\" disabled=\"\" href=\"/homes/for_sale/house_type/\" rel=\"prev\" tabindex=\"-1\" title=\"Previous page\"><svg aria-hidden=\"true\" class=\"Icon-c11n-8-12-0__sc-13llmml-0 hqZXMi IconChevronLeft-c11n-8-12-0__qv0fwu-0 cdJCvY\" focusable=\"false\" role=\"img\" viewbox=\"0 0 32 32\"><title>Chevron Left</title><path d=\"M29.41 8.59a2 2 0 00-2.83 0L16 19.17 5.41 8.59a2 2 0 00-2.83 2.83l12 12a2 2 0 002.82 0l12-12a2 2 0 00.01-2.83z\" stroke=\"none\"></path></svg></a>\n",
      "<a aria-pressed=\"true\" class=\"StyledButton-c11n-8-12-0__wpcbcc-0 bNdNgP PaginationButton-c11n-8-12-0__si2hz6-0 bTrxAR\" disabled=\"\" href=\"/homes/for_sale/house_type/\" tabindex=\"-1\" title=\"Page 1, current page\">1</a>\n",
      "<a class=\"StyledButton-c11n-8-12-0__wpcbcc-0 KOEUR PaginationButton-c11n-8-12-0__si2hz6-0 bTrxAR\" href=\"/homes/for_sale/house_type/2_p/\" title=\"Page 2\">2</a>\n",
      "<a class=\"StyledButton-c11n-8-12-0__wpcbcc-0 KOEUR PaginationButton-c11n-8-12-0__si2hz6-0 bTrxAR\" href=\"/homes/for_sale/house_type/3_p/\" title=\"Page 3\">3</a>\n",
      "<a class=\"StyledButton-c11n-8-12-0__wpcbcc-0 KOEUR PaginationButton-c11n-8-12-0__si2hz6-0 bTrxAR\" href=\"/homes/for_sale/house_type/4_p/\" title=\"Page 4\">4</a>\n",
      "<a class=\"StyledButton-c11n-8-12-0__wpcbcc-0 KOEUR PaginationButton-c11n-8-12-0__si2hz6-0 bTrxAR\" href=\"/homes/for_sale/house_type/5_p/\" title=\"Page 5\">5</a>\n",
      "<a class=\"StyledButton-c11n-8-12-0__wpcbcc-0 KOEUR PaginationButton-c11n-8-12-0__si2hz6-0 bTrxAR\" href=\"/homes/for_sale/house_type/6_p/\" title=\"Page 6\">6</a>\n",
      "<a class=\"StyledButton-c11n-8-12-0__wpcbcc-0 KOEUR PaginationButton-c11n-8-12-0__si2hz6-0 bTrxAR\" href=\"/homes/for_sale/house_type/7_p/\" title=\"Page 7\">7</a>\n",
      "<a class=\"StyledButton-c11n-8-12-0__wpcbcc-0 KOEUR PaginationButton-c11n-8-12-0__si2hz6-0 bTrxAR\" href=\"/homes/for_sale/house_type/2_p/\" rel=\"next\" title=\"Next page\"><svg aria-hidden=\"true\" class=\"Icon-c11n-8-12-0__sc-13llmml-0 hqZXMi IconChevronRight-c11n-8-12-0__sc-1q9rfiy-0 jsDYzk\" focusable=\"false\" role=\"img\" viewbox=\"0 0 32 32\"><title>Chevron Right</title><path d=\"M29.41 8.59a2 2 0 00-2.83 0L16 19.17 5.41 8.59a2 2 0 00-2.83 2.83l12 12a2 2 0 002.82 0l12-12a2 2 0 00.01-2.83z\" stroke=\"none\"></path></svg></a>\n"
     ]
    }
   ],
   "source": [
    "# On each page - selects all possible buttons to be clicked for page navigation\n",
    "\n",
    "all_links = []\n",
    "\n",
    "for div in soup.find_all('div', {'class' : 'search-pagination'}):\n",
    "    for link in div.find_all('a'):\n",
    "        all_links.append(link)\n",
    "        print(link)"
   ]
  },
  {
   "cell_type": "code",
   "execution_count": 294,
   "metadata": {},
   "outputs": [
    {
     "data": {
      "text/plain": [
       "'/homes/for_sale/house_type/2_p/'"
      ]
     },
     "execution_count": 294,
     "metadata": {},
     "output_type": "execute_result"
    }
   ],
   "source": [
    "# Locate the last link, which represents the next page\n",
    "\n",
    "all_links[-1].get('href')"
   ]
  },
  {
   "cell_type": "code",
   "execution_count": 299,
   "metadata": {},
   "outputs": [],
   "source": [
    "# Rather than scraping the link from each page, since the links are in a predicatable format - let's create all links for 1-19"
   ]
  },
  {
   "cell_type": "code",
   "execution_count": null,
   "metadata": {},
   "outputs": [],
   "source": []
  },
  {
   "cell_type": "code",
   "execution_count": null,
   "metadata": {},
   "outputs": [],
   "source": []
  },
  {
   "cell_type": "code",
   "execution_count": null,
   "metadata": {},
   "outputs": [],
   "source": []
  },
  {
   "cell_type": "code",
   "execution_count": 102,
   "metadata": {},
   "outputs": [
    {
     "data": {
      "text/plain": [
       "''"
      ]
     },
     "execution_count": 102,
     "metadata": {},
     "output_type": "execute_result"
    }
   ],
   "source": []
  },
  {
   "cell_type": "code",
   "execution_count": null,
   "metadata": {},
   "outputs": [],
   "source": []
  },
  {
   "cell_type": "code",
   "execution_count": null,
   "metadata": {},
   "outputs": [],
   "source": []
  },
  {
   "cell_type": "code",
   "execution_count": null,
   "metadata": {},
   "outputs": [],
   "source": []
  }
 ],
 "metadata": {
  "kernelspec": {
   "display_name": "Python 3",
   "language": "python",
   "name": "python3"
  },
  "language_info": {
   "codemirror_mode": {
    "name": "ipython",
    "version": 3
   },
   "file_extension": ".py",
   "mimetype": "text/x-python",
   "name": "python",
   "nbconvert_exporter": "python",
   "pygments_lexer": "ipython3",
   "version": "3.8.5"
  }
 },
 "nbformat": 4,
 "nbformat_minor": 4
}
