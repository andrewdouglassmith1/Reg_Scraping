{
 "cells": [
  {
   "cell_type": "markdown",
   "metadata": {},
   "source": [
    "# Import Key Libraries"
   ]
  },
  {
   "cell_type": "code",
   "execution_count": 679,
   "metadata": {},
   "outputs": [
    {
     "name": "stdout",
     "output_type": "stream",
     "text": [
      "Populating the interactive namespace from numpy and matplotlib\n"
     ]
    }
   ],
   "source": [
    "import pandas as pd\n",
    "import matplotlib.pyplot as plt\n",
    "import numpy as np\n",
    "from sklearn.linear_model import LinearRegression\n",
    "import seaborn as sns\n",
    "from sklearn.preprocessing import OneHotEncoder\n",
    "%pylab inline\n",
    "%config InlineBackend.figure_formats = ['retina']\n",
    "\n",
    "import pandas as pd\n",
    "import seaborn as sns\n",
    "sns.set()\n",
    "\n",
    "from sklearn.model_selection import train_test_split\n",
    "from sklearn.linear_model import LinearRegression\n",
    "from sklearn.pipeline import Pipeline\n",
    "from sklearn.preprocessing import StandardScaler"
   ]
  },
  {
   "cell_type": "markdown",
   "metadata": {},
   "source": [
    "# Data Cleaning"
   ]
  },
  {
   "cell_type": "code",
   "execution_count": 680,
   "metadata": {},
   "outputs": [],
   "source": [
    "# Load dataset\n",
    "\n",
    "df = pd.read_csv(\"df_all_rounds.csv\")"
   ]
  },
  {
   "cell_type": "markdown",
   "metadata": {},
   "source": [
    "### Zip Code"
   ]
  },
  {
   "cell_type": "code",
   "execution_count": 681,
   "metadata": {},
   "outputs": [],
   "source": [
    "# Create a column for zip code\n",
    "\n",
    "df['zip_code'] = [url[url.find(\"VT\")+3:url.find(\"VT\")+8] for url in df['link']]"
   ]
  },
  {
   "cell_type": "code",
   "execution_count": 682,
   "metadata": {},
   "outputs": [],
   "source": [
    "# Drop links column\n",
    "\n",
    "df = df.drop(['link'], axis = 1)"
   ]
  },
  {
   "cell_type": "markdown",
   "metadata": {},
   "source": [
    "### View Description"
   ]
  },
  {
   "cell_type": "code",
   "execution_count": 683,
   "metadata": {},
   "outputs": [
    {
     "data": {
      "text/plain": [
       "array(['{}', ' Mountain(s)', ' Mountain(s), Water', ' Water', ' Mountain'],\n",
       "      dtype=object)"
      ]
     },
     "execution_count": 683,
     "metadata": {},
     "output_type": "execute_result"
    }
   ],
   "source": [
    "# Regroup view description so all \"Mountain(s)\" become \"Mountain\"\n",
    "\n",
    "df['view_description'].unique()"
   ]
  },
  {
   "cell_type": "code",
   "execution_count": 684,
   "metadata": {},
   "outputs": [
    {
     "data": {
      "text/plain": [
       "array(['{}', ' Mountain', ' Mountain, Water', ' Water'], dtype=object)"
      ]
     },
     "execution_count": 684,
     "metadata": {},
     "output_type": "execute_result"
    }
   ],
   "source": [
    "df['view_description'] = [view.replace(\"Mountain(s)\",\"Mountain\") for view in df['view_description']]\n",
    "df['view_description'].unique()"
   ]
  },
  {
   "cell_type": "markdown",
   "metadata": {},
   "source": [
    "### Lot Size"
   ]
  },
  {
   "cell_type": "code",
   "execution_count": 685,
   "metadata": {},
   "outputs": [],
   "source": [
    "# Drop where lot size column includes a price per year (a few HOA fees are here)\n",
    "\n",
    "df = df.drop(df[df.lot_size.str.contains(r'[$]')].index)"
   ]
  },
  {
   "cell_type": "code",
   "execution_count": 686,
   "metadata": {},
   "outputs": [],
   "source": [
    "# Take acres out of lot size \n",
    "\n",
    "df['lot_size'] = [lot.split(\" \")[0] for lot in df['lot_size']]\n",
    "df['lot_size'] = [lot.replace(\",\",\"\") for lot in df['lot_size']]"
   ]
  },
  {
   "cell_type": "code",
   "execution_count": 687,
   "metadata": {},
   "outputs": [],
   "source": [
    "# Convert to float 64\n",
    "\n",
    "df['lot_size'] = pd.to_numeric(df['lot_size'],errors='coerce')"
   ]
  },
  {
   "cell_type": "markdown",
   "metadata": {},
   "source": [
    "### Home Square Footage"
   ]
  },
  {
   "cell_type": "code",
   "execution_count": 688,
   "metadata": {},
   "outputs": [],
   "source": [
    "# Take sqft out of square footage\n",
    "\n",
    "df['sf'] = [footage.split(\" \")[0] for footage in df['sf']]\n",
    "df['sf'] = [footage.replace(\",\",\"\") for footage in df['sf']]"
   ]
  },
  {
   "cell_type": "code",
   "execution_count": 689,
   "metadata": {},
   "outputs": [],
   "source": [
    "# Convert to float 64\n",
    "\n",
    "df['sf'] = pd.to_numeric(df['sf'],errors='coerce')"
   ]
  },
  {
   "cell_type": "markdown",
   "metadata": {},
   "source": [
    "### Bathrooms"
   ]
  },
  {
   "cell_type": "code",
   "execution_count": 690,
   "metadata": {},
   "outputs": [],
   "source": [
    "# Take ba out of bathrooms\n",
    "\n",
    "df['bathrooms'] = [bathroom.split(\" \")[0] for bathroom in df['bathrooms']]"
   ]
  },
  {
   "cell_type": "code",
   "execution_count": 691,
   "metadata": {},
   "outputs": [],
   "source": [
    "# Convert to float 64\n",
    "\n",
    "df['bathrooms'] = pd.to_numeric(df['bathrooms'],errors='coerce')"
   ]
  },
  {
   "cell_type": "markdown",
   "metadata": {},
   "source": [
    "### Home Price"
   ]
  },
  {
   "cell_type": "code",
   "execution_count": 692,
   "metadata": {},
   "outputs": [],
   "source": [
    "# Take dollar signs out of price\n",
    "\n",
    "df['price'] = [value.split(\"$\")[1] for value in df['price']]\n",
    "df['price'] = [value.replace(\",\",\"\") for value in df['price']]"
   ]
  },
  {
   "cell_type": "code",
   "execution_count": 693,
   "metadata": {},
   "outputs": [],
   "source": [
    "# Convert to float 64\n",
    "\n",
    "df['price'] = pd.to_numeric(df['price'],errors='coerce')"
   ]
  },
  {
   "cell_type": "code",
   "execution_count": 694,
   "metadata": {},
   "outputs": [
    {
     "data": {
      "text/plain": [
       "Index(['Unnamed: 0', 'price', 'bedrooms', 'bathrooms', 'sf', 'year_built',\n",
       "       'lot_size', 'view_description', 'on_waterfront', 'house_style',\n",
       "       'new_construction', 'garage_spaces', 'zip_code'],\n",
       "      dtype='object')"
      ]
     },
     "execution_count": 694,
     "metadata": {},
     "output_type": "execute_result"
    }
   ],
   "source": [
    "df.columns"
   ]
  },
  {
   "cell_type": "code",
   "execution_count": 695,
   "metadata": {},
   "outputs": [],
   "source": [
    "df = df.drop(['Unnamed: 0'], axis = 1)"
   ]
  },
  {
   "cell_type": "code",
   "execution_count": 696,
   "metadata": {},
   "outputs": [
    {
     "data": {
      "text/html": [
       "<div>\n",
       "<style scoped>\n",
       "    .dataframe tbody tr th:only-of-type {\n",
       "        vertical-align: middle;\n",
       "    }\n",
       "\n",
       "    .dataframe tbody tr th {\n",
       "        vertical-align: top;\n",
       "    }\n",
       "\n",
       "    .dataframe thead th {\n",
       "        text-align: right;\n",
       "    }\n",
       "</style>\n",
       "<table border=\"1\" class=\"dataframe\">\n",
       "  <thead>\n",
       "    <tr style=\"text-align: right;\">\n",
       "      <th></th>\n",
       "      <th>price</th>\n",
       "      <th>bedrooms</th>\n",
       "      <th>bathrooms</th>\n",
       "      <th>sf</th>\n",
       "      <th>year_built</th>\n",
       "      <th>lot_size</th>\n",
       "      <th>view_description</th>\n",
       "      <th>on_waterfront</th>\n",
       "      <th>house_style</th>\n",
       "      <th>new_construction</th>\n",
       "      <th>garage_spaces</th>\n",
       "      <th>zip_code</th>\n",
       "    </tr>\n",
       "  </thead>\n",
       "  <tbody>\n",
       "    <tr>\n",
       "      <th>0</th>\n",
       "      <td>84900</td>\n",
       "      <td>2</td>\n",
       "      <td>2.0</td>\n",
       "      <td>902.0</td>\n",
       "      <td>1960</td>\n",
       "      <td>400752.0</td>\n",
       "      <td>{}</td>\n",
       "      <td>{}</td>\n",
       "      <td>Ranch</td>\n",
       "      <td>No</td>\n",
       "      <td>1</td>\n",
       "      <td>05045</td>\n",
       "    </tr>\n",
       "    <tr>\n",
       "      <th>1</th>\n",
       "      <td>335000</td>\n",
       "      <td>2</td>\n",
       "      <td>2.0</td>\n",
       "      <td>1680.0</td>\n",
       "      <td>1986</td>\n",
       "      <td>304920.0</td>\n",
       "      <td>{}</td>\n",
       "      <td>{}</td>\n",
       "      <td>Cape</td>\n",
       "      <td>No</td>\n",
       "      <td>0</td>\n",
       "      <td>05677</td>\n",
       "    </tr>\n",
       "    <tr>\n",
       "      <th>3</th>\n",
       "      <td>245000</td>\n",
       "      <td>3</td>\n",
       "      <td>2.0</td>\n",
       "      <td>1268.0</td>\n",
       "      <td>1960</td>\n",
       "      <td>174240.0</td>\n",
       "      <td>{}</td>\n",
       "      <td>{}</td>\n",
       "      <td>Cape</td>\n",
       "      <td>No</td>\n",
       "      <td>0</td>\n",
       "      <td>05730</td>\n",
       "    </tr>\n",
       "    <tr>\n",
       "      <th>4</th>\n",
       "      <td>374000</td>\n",
       "      <td>9</td>\n",
       "      <td>9.0</td>\n",
       "      <td>5788.0</td>\n",
       "      <td>1861</td>\n",
       "      <td>56628.0</td>\n",
       "      <td>{}</td>\n",
       "      <td>{}</td>\n",
       "      <td>Victorian</td>\n",
       "      <td>No</td>\n",
       "      <td>2</td>\n",
       "      <td>05143</td>\n",
       "    </tr>\n",
       "    <tr>\n",
       "      <th>5</th>\n",
       "      <td>360000</td>\n",
       "      <td>3</td>\n",
       "      <td>2.0</td>\n",
       "      <td>1804.0</td>\n",
       "      <td>1962</td>\n",
       "      <td>18295.0</td>\n",
       "      <td>{}</td>\n",
       "      <td>{}</td>\n",
       "      <td>Raised Ranch</td>\n",
       "      <td>No</td>\n",
       "      <td>2</td>\n",
       "      <td>05482</td>\n",
       "    </tr>\n",
       "  </tbody>\n",
       "</table>\n",
       "</div>"
      ],
      "text/plain": [
       "    price  bedrooms  bathrooms      sf year_built  lot_size view_description  \\\n",
       "0   84900         2        2.0   902.0       1960  400752.0               {}   \n",
       "1  335000         2        2.0  1680.0       1986  304920.0               {}   \n",
       "3  245000         3        2.0  1268.0       1960  174240.0               {}   \n",
       "4  374000         9        9.0  5788.0       1861   56628.0               {}   \n",
       "5  360000         3        2.0  1804.0       1962   18295.0               {}   \n",
       "\n",
       "  on_waterfront    house_style new_construction  garage_spaces zip_code  \n",
       "0            {}          Ranch               No              1    05045  \n",
       "1            {}           Cape               No              0    05677  \n",
       "3            {}           Cape               No              0    05730  \n",
       "4            {}      Victorian               No              2    05143  \n",
       "5            {}   Raised Ranch               No              2    05482  "
      ]
     },
     "execution_count": 696,
     "metadata": {},
     "output_type": "execute_result"
    }
   ],
   "source": [
    "df.head()"
   ]
  },
  {
   "cell_type": "markdown",
   "metadata": {},
   "source": [
    "### Year Built"
   ]
  },
  {
   "cell_type": "code",
   "execution_count": 697,
   "metadata": {},
   "outputs": [],
   "source": [
    "# Convert to float 64\n",
    "df['year_built'] = pd.to_numeric(df['year_built'],errors='coerce')\n",
    "# Drop rows where equal to zero"
   ]
  },
  {
   "cell_type": "markdown",
   "metadata": {},
   "source": [
    "### Waterfront"
   ]
  },
  {
   "cell_type": "code",
   "execution_count": 698,
   "metadata": {},
   "outputs": [],
   "source": [
    "df['on_waterfront'] = [value.replace(\"{}\",\"No\") for value in df['on_waterfront']]"
   ]
  },
  {
   "cell_type": "markdown",
   "metadata": {},
   "source": [
    "### Drop NaNs and null values"
   ]
  },
  {
   "cell_type": "code",
   "execution_count": 699,
   "metadata": {},
   "outputs": [],
   "source": [
    "df.dropna(inplace=True)"
   ]
  },
  {
   "cell_type": "code",
   "execution_count": 700,
   "metadata": {},
   "outputs": [],
   "source": [
    "# Removing zero from year\n",
    "\n",
    "df = df.loc[(df[['year_built']] != 0).all(axis=1)]"
   ]
  },
  {
   "cell_type": "code",
   "execution_count": 701,
   "metadata": {},
   "outputs": [
    {
     "data": {
      "text/plain": [
       "(729, 12)"
      ]
     },
     "execution_count": 701,
     "metadata": {},
     "output_type": "execute_result"
    }
   ],
   "source": [
    "df.shape"
   ]
  },
  {
   "cell_type": "markdown",
   "metadata": {},
   "source": [
    "# Exploratory Work"
   ]
  },
  {
   "cell_type": "code",
   "execution_count": 702,
   "metadata": {},
   "outputs": [
    {
     "data": {
      "text/html": [
       "<div>\n",
       "<style scoped>\n",
       "    .dataframe tbody tr th:only-of-type {\n",
       "        vertical-align: middle;\n",
       "    }\n",
       "\n",
       "    .dataframe tbody tr th {\n",
       "        vertical-align: top;\n",
       "    }\n",
       "\n",
       "    .dataframe thead th {\n",
       "        text-align: right;\n",
       "    }\n",
       "</style>\n",
       "<table border=\"1\" class=\"dataframe\">\n",
       "  <thead>\n",
       "    <tr style=\"text-align: right;\">\n",
       "      <th></th>\n",
       "      <th>price</th>\n",
       "      <th>bedrooms</th>\n",
       "      <th>bathrooms</th>\n",
       "      <th>sf</th>\n",
       "      <th>year_built</th>\n",
       "      <th>lot_size</th>\n",
       "      <th>view_description</th>\n",
       "      <th>on_waterfront</th>\n",
       "      <th>house_style</th>\n",
       "      <th>new_construction</th>\n",
       "      <th>garage_spaces</th>\n",
       "      <th>zip_code</th>\n",
       "    </tr>\n",
       "  </thead>\n",
       "  <tbody>\n",
       "    <tr>\n",
       "      <th>0</th>\n",
       "      <td>84900</td>\n",
       "      <td>2</td>\n",
       "      <td>2.0</td>\n",
       "      <td>902.0</td>\n",
       "      <td>1960.0</td>\n",
       "      <td>400752.0</td>\n",
       "      <td>{}</td>\n",
       "      <td>No</td>\n",
       "      <td>Ranch</td>\n",
       "      <td>No</td>\n",
       "      <td>1</td>\n",
       "      <td>05045</td>\n",
       "    </tr>\n",
       "    <tr>\n",
       "      <th>1</th>\n",
       "      <td>335000</td>\n",
       "      <td>2</td>\n",
       "      <td>2.0</td>\n",
       "      <td>1680.0</td>\n",
       "      <td>1986.0</td>\n",
       "      <td>304920.0</td>\n",
       "      <td>{}</td>\n",
       "      <td>No</td>\n",
       "      <td>Cape</td>\n",
       "      <td>No</td>\n",
       "      <td>0</td>\n",
       "      <td>05677</td>\n",
       "    </tr>\n",
       "    <tr>\n",
       "      <th>3</th>\n",
       "      <td>245000</td>\n",
       "      <td>3</td>\n",
       "      <td>2.0</td>\n",
       "      <td>1268.0</td>\n",
       "      <td>1960.0</td>\n",
       "      <td>174240.0</td>\n",
       "      <td>{}</td>\n",
       "      <td>No</td>\n",
       "      <td>Cape</td>\n",
       "      <td>No</td>\n",
       "      <td>0</td>\n",
       "      <td>05730</td>\n",
       "    </tr>\n",
       "    <tr>\n",
       "      <th>4</th>\n",
       "      <td>374000</td>\n",
       "      <td>9</td>\n",
       "      <td>9.0</td>\n",
       "      <td>5788.0</td>\n",
       "      <td>1861.0</td>\n",
       "      <td>56628.0</td>\n",
       "      <td>{}</td>\n",
       "      <td>No</td>\n",
       "      <td>Victorian</td>\n",
       "      <td>No</td>\n",
       "      <td>2</td>\n",
       "      <td>05143</td>\n",
       "    </tr>\n",
       "    <tr>\n",
       "      <th>5</th>\n",
       "      <td>360000</td>\n",
       "      <td>3</td>\n",
       "      <td>2.0</td>\n",
       "      <td>1804.0</td>\n",
       "      <td>1962.0</td>\n",
       "      <td>18295.0</td>\n",
       "      <td>{}</td>\n",
       "      <td>No</td>\n",
       "      <td>Raised Ranch</td>\n",
       "      <td>No</td>\n",
       "      <td>2</td>\n",
       "      <td>05482</td>\n",
       "    </tr>\n",
       "  </tbody>\n",
       "</table>\n",
       "</div>"
      ],
      "text/plain": [
       "    price  bedrooms  bathrooms      sf  year_built  lot_size view_description  \\\n",
       "0   84900         2        2.0   902.0      1960.0  400752.0               {}   \n",
       "1  335000         2        2.0  1680.0      1986.0  304920.0               {}   \n",
       "3  245000         3        2.0  1268.0      1960.0  174240.0               {}   \n",
       "4  374000         9        9.0  5788.0      1861.0   56628.0               {}   \n",
       "5  360000         3        2.0  1804.0      1962.0   18295.0               {}   \n",
       "\n",
       "  on_waterfront    house_style new_construction  garage_spaces zip_code  \n",
       "0            No          Ranch               No              1    05045  \n",
       "1            No           Cape               No              0    05677  \n",
       "3            No           Cape               No              0    05730  \n",
       "4            No      Victorian               No              2    05143  \n",
       "5            No   Raised Ranch               No              2    05482  "
      ]
     },
     "execution_count": 702,
     "metadata": {},
     "output_type": "execute_result"
    }
   ],
   "source": [
    "df.head()"
   ]
  },
  {
   "cell_type": "code",
   "execution_count": 703,
   "metadata": {},
   "outputs": [
    {
     "data": {
      "text/html": [
       "<div>\n",
       "<style scoped>\n",
       "    .dataframe tbody tr th:only-of-type {\n",
       "        vertical-align: middle;\n",
       "    }\n",
       "\n",
       "    .dataframe tbody tr th {\n",
       "        vertical-align: top;\n",
       "    }\n",
       "\n",
       "    .dataframe thead th {\n",
       "        text-align: right;\n",
       "    }\n",
       "</style>\n",
       "<table border=\"1\" class=\"dataframe\">\n",
       "  <thead>\n",
       "    <tr style=\"text-align: right;\">\n",
       "      <th></th>\n",
       "      <th>price</th>\n",
       "      <th>bedrooms</th>\n",
       "      <th>bathrooms</th>\n",
       "      <th>sf</th>\n",
       "      <th>year_built</th>\n",
       "      <th>lot_size</th>\n",
       "      <th>garage_spaces</th>\n",
       "    </tr>\n",
       "  </thead>\n",
       "  <tbody>\n",
       "    <tr>\n",
       "      <th>price</th>\n",
       "      <td>1.000000</td>\n",
       "      <td>0.295404</td>\n",
       "      <td>0.531818</td>\n",
       "      <td>0.702748</td>\n",
       "      <td>0.101296</td>\n",
       "      <td>0.315941</td>\n",
       "      <td>0.276560</td>\n",
       "    </tr>\n",
       "    <tr>\n",
       "      <th>bedrooms</th>\n",
       "      <td>0.295404</td>\n",
       "      <td>1.000000</td>\n",
       "      <td>0.709588</td>\n",
       "      <td>0.605379</td>\n",
       "      <td>-0.226979</td>\n",
       "      <td>0.110349</td>\n",
       "      <td>0.338864</td>\n",
       "    </tr>\n",
       "    <tr>\n",
       "      <th>bathrooms</th>\n",
       "      <td>0.531818</td>\n",
       "      <td>0.709588</td>\n",
       "      <td>1.000000</td>\n",
       "      <td>0.814085</td>\n",
       "      <td>-0.011695</td>\n",
       "      <td>0.146997</td>\n",
       "      <td>0.447119</td>\n",
       "    </tr>\n",
       "    <tr>\n",
       "      <th>sf</th>\n",
       "      <td>0.702748</td>\n",
       "      <td>0.605379</td>\n",
       "      <td>0.814085</td>\n",
       "      <td>1.000000</td>\n",
       "      <td>-0.011003</td>\n",
       "      <td>0.252858</td>\n",
       "      <td>0.430629</td>\n",
       "    </tr>\n",
       "    <tr>\n",
       "      <th>year_built</th>\n",
       "      <td>0.101296</td>\n",
       "      <td>-0.226979</td>\n",
       "      <td>-0.011695</td>\n",
       "      <td>-0.011003</td>\n",
       "      <td>1.000000</td>\n",
       "      <td>-0.005619</td>\n",
       "      <td>0.020644</td>\n",
       "    </tr>\n",
       "    <tr>\n",
       "      <th>lot_size</th>\n",
       "      <td>0.315941</td>\n",
       "      <td>0.110349</td>\n",
       "      <td>0.146997</td>\n",
       "      <td>0.252858</td>\n",
       "      <td>-0.005619</td>\n",
       "      <td>1.000000</td>\n",
       "      <td>0.142634</td>\n",
       "    </tr>\n",
       "    <tr>\n",
       "      <th>garage_spaces</th>\n",
       "      <td>0.276560</td>\n",
       "      <td>0.338864</td>\n",
       "      <td>0.447119</td>\n",
       "      <td>0.430629</td>\n",
       "      <td>0.020644</td>\n",
       "      <td>0.142634</td>\n",
       "      <td>1.000000</td>\n",
       "    </tr>\n",
       "  </tbody>\n",
       "</table>\n",
       "</div>"
      ],
      "text/plain": [
       "                  price  bedrooms  bathrooms        sf  year_built  lot_size  \\\n",
       "price          1.000000  0.295404   0.531818  0.702748    0.101296  0.315941   \n",
       "bedrooms       0.295404  1.000000   0.709588  0.605379   -0.226979  0.110349   \n",
       "bathrooms      0.531818  0.709588   1.000000  0.814085   -0.011695  0.146997   \n",
       "sf             0.702748  0.605379   0.814085  1.000000   -0.011003  0.252858   \n",
       "year_built     0.101296 -0.226979  -0.011695 -0.011003    1.000000 -0.005619   \n",
       "lot_size       0.315941  0.110349   0.146997  0.252858   -0.005619  1.000000   \n",
       "garage_spaces  0.276560  0.338864   0.447119  0.430629    0.020644  0.142634   \n",
       "\n",
       "               garage_spaces  \n",
       "price               0.276560  \n",
       "bedrooms            0.338864  \n",
       "bathrooms           0.447119  \n",
       "sf                  0.430629  \n",
       "year_built          0.020644  \n",
       "lot_size            0.142634  \n",
       "garage_spaces       1.000000  "
      ]
     },
     "execution_count": 703,
     "metadata": {},
     "output_type": "execute_result"
    }
   ],
   "source": [
    "df.corr()"
   ]
  },
  {
   "cell_type": "code",
   "execution_count": 704,
   "metadata": {},
   "outputs": [],
   "source": [
    "#sns.pairplot(df)"
   ]
  },
  {
   "cell_type": "code",
   "execution_count": 705,
   "metadata": {},
   "outputs": [],
   "source": [
    "#sns.pairplot(df, hue = 'on_waterfront')"
   ]
  },
  {
   "cell_type": "code",
   "execution_count": 706,
   "metadata": {},
   "outputs": [],
   "source": [
    "#sns.pairplot(df, hue = 'view_description')"
   ]
  },
  {
   "cell_type": "code",
   "execution_count": 707,
   "metadata": {},
   "outputs": [],
   "source": [
    "#sns.pairplot(df, hue = 'new_construction')"
   ]
  },
  {
   "cell_type": "markdown",
   "metadata": {},
   "source": [
    "### Determining Categorical Variable Impact on price"
   ]
  },
  {
   "cell_type": "code",
   "execution_count": 708,
   "metadata": {},
   "outputs": [],
   "source": [
    "#sns.catplot(x=\"on_waterfront\", y=\"price\", kind=\"point\", data=df)"
   ]
  },
  {
   "cell_type": "code",
   "execution_count": 709,
   "metadata": {},
   "outputs": [],
   "source": [
    "#sns.catplot(x=\"new_construction\", y=\"price\", kind=\"point\", data=df)"
   ]
  },
  {
   "cell_type": "code",
   "execution_count": 710,
   "metadata": {},
   "outputs": [],
   "source": [
    "#sns.catplot(x=\"view_description\", y=\"price\", kind=\"point\", data=df)"
   ]
  },
  {
   "cell_type": "markdown",
   "metadata": {},
   "source": [
    "### Let's determing the impact of each categorical variable on other numerical variables"
   ]
  },
  {
   "cell_type": "code",
   "execution_count": 711,
   "metadata": {},
   "outputs": [
    {
     "data": {
      "text/plain": [
       "Index(['price', 'bedrooms', 'bathrooms', 'sf', 'year_built', 'lot_size',\n",
       "       'view_description', 'on_waterfront', 'house_style', 'new_construction',\n",
       "       'garage_spaces', 'zip_code'],\n",
       "      dtype='object')"
      ]
     },
     "execution_count": 711,
     "metadata": {},
     "output_type": "execute_result"
    }
   ],
   "source": [
    "df.columns"
   ]
  },
  {
   "cell_type": "markdown",
   "metadata": {},
   "source": [
    "### Start with waterfront"
   ]
  },
  {
   "cell_type": "code",
   "execution_count": 712,
   "metadata": {},
   "outputs": [],
   "source": [
    "#sns.scatterplot(x=\"bathrooms\", y=\"price\",hue=\"on_waterfront\", data=df)"
   ]
  },
  {
   "cell_type": "code",
   "execution_count": 713,
   "metadata": {},
   "outputs": [],
   "source": [
    "#sns.scatterplot(x=\"lot_size\", y=\"price\",hue=\"on_waterfront\",data=df)"
   ]
  },
  {
   "cell_type": "code",
   "execution_count": 714,
   "metadata": {},
   "outputs": [],
   "source": [
    "#sns.scatterplot(x=\"garage_spaces\", y=\"price\",hue=\"on_waterfront\",data=df)"
   ]
  },
  {
   "cell_type": "code",
   "execution_count": 715,
   "metadata": {},
   "outputs": [],
   "source": [
    "#sns.catplot(x=\"new_construction\", y=\"price\", hue = \"on_waterfront\", kind=\"point\", data=df)"
   ]
  },
  {
   "cell_type": "code",
   "execution_count": 716,
   "metadata": {},
   "outputs": [],
   "source": [
    "mask = (df.on_waterfront == ' Yes')\n",
    "mask2 = (df.on_waterfront == 'No')"
   ]
  },
  {
   "cell_type": "code",
   "execution_count": 717,
   "metadata": {},
   "outputs": [],
   "source": [
    "# Waterfront only\n",
    "\n",
    "#sns.pairplot(df[mask])"
   ]
  },
  {
   "cell_type": "code",
   "execution_count": 718,
   "metadata": {},
   "outputs": [],
   "source": [
    "# Excluding waterfront\n",
    "\n",
    "#sns.pairplot(df[mask2])"
   ]
  },
  {
   "cell_type": "code",
   "execution_count": 719,
   "metadata": {},
   "outputs": [
    {
     "data": {
      "text/html": [
       "<div>\n",
       "<style scoped>\n",
       "    .dataframe tbody tr th:only-of-type {\n",
       "        vertical-align: middle;\n",
       "    }\n",
       "\n",
       "    .dataframe tbody tr th {\n",
       "        vertical-align: top;\n",
       "    }\n",
       "\n",
       "    .dataframe thead th {\n",
       "        text-align: right;\n",
       "    }\n",
       "</style>\n",
       "<table border=\"1\" class=\"dataframe\">\n",
       "  <thead>\n",
       "    <tr style=\"text-align: right;\">\n",
       "      <th></th>\n",
       "      <th>price</th>\n",
       "      <th>bedrooms</th>\n",
       "      <th>bathrooms</th>\n",
       "      <th>sf</th>\n",
       "      <th>year_built</th>\n",
       "      <th>lot_size</th>\n",
       "      <th>garage_spaces</th>\n",
       "    </tr>\n",
       "  </thead>\n",
       "  <tbody>\n",
       "    <tr>\n",
       "      <th>price</th>\n",
       "      <td>1.000000</td>\n",
       "      <td>0.349928</td>\n",
       "      <td>0.591804</td>\n",
       "      <td>0.779716</td>\n",
       "      <td>0.106550</td>\n",
       "      <td>0.269501</td>\n",
       "      <td>0.367065</td>\n",
       "    </tr>\n",
       "    <tr>\n",
       "      <th>bedrooms</th>\n",
       "      <td>0.349928</td>\n",
       "      <td>1.000000</td>\n",
       "      <td>0.765196</td>\n",
       "      <td>0.679500</td>\n",
       "      <td>-0.150840</td>\n",
       "      <td>0.117242</td>\n",
       "      <td>0.537412</td>\n",
       "    </tr>\n",
       "    <tr>\n",
       "      <th>bathrooms</th>\n",
       "      <td>0.591804</td>\n",
       "      <td>0.765196</td>\n",
       "      <td>1.000000</td>\n",
       "      <td>0.874950</td>\n",
       "      <td>0.039597</td>\n",
       "      <td>0.141927</td>\n",
       "      <td>0.638387</td>\n",
       "    </tr>\n",
       "    <tr>\n",
       "      <th>sf</th>\n",
       "      <td>0.779716</td>\n",
       "      <td>0.679500</td>\n",
       "      <td>0.874950</td>\n",
       "      <td>1.000000</td>\n",
       "      <td>0.035508</td>\n",
       "      <td>0.221386</td>\n",
       "      <td>0.592151</td>\n",
       "    </tr>\n",
       "    <tr>\n",
       "      <th>year_built</th>\n",
       "      <td>0.106550</td>\n",
       "      <td>-0.150840</td>\n",
       "      <td>0.039597</td>\n",
       "      <td>0.035508</td>\n",
       "      <td>1.000000</td>\n",
       "      <td>-0.078642</td>\n",
       "      <td>0.022939</td>\n",
       "    </tr>\n",
       "    <tr>\n",
       "      <th>lot_size</th>\n",
       "      <td>0.269501</td>\n",
       "      <td>0.117242</td>\n",
       "      <td>0.141927</td>\n",
       "      <td>0.221386</td>\n",
       "      <td>-0.078642</td>\n",
       "      <td>1.000000</td>\n",
       "      <td>0.188823</td>\n",
       "    </tr>\n",
       "    <tr>\n",
       "      <th>garage_spaces</th>\n",
       "      <td>0.367065</td>\n",
       "      <td>0.537412</td>\n",
       "      <td>0.638387</td>\n",
       "      <td>0.592151</td>\n",
       "      <td>0.022939</td>\n",
       "      <td>0.188823</td>\n",
       "      <td>1.000000</td>\n",
       "    </tr>\n",
       "  </tbody>\n",
       "</table>\n",
       "</div>"
      ],
      "text/plain": [
       "                  price  bedrooms  bathrooms        sf  year_built  lot_size  \\\n",
       "price          1.000000  0.349928   0.591804  0.779716    0.106550  0.269501   \n",
       "bedrooms       0.349928  1.000000   0.765196  0.679500   -0.150840  0.117242   \n",
       "bathrooms      0.591804  0.765196   1.000000  0.874950    0.039597  0.141927   \n",
       "sf             0.779716  0.679500   0.874950  1.000000    0.035508  0.221386   \n",
       "year_built     0.106550 -0.150840   0.039597  0.035508    1.000000 -0.078642   \n",
       "lot_size       0.269501  0.117242   0.141927  0.221386   -0.078642  1.000000   \n",
       "garage_spaces  0.367065  0.537412   0.638387  0.592151    0.022939  0.188823   \n",
       "\n",
       "               garage_spaces  \n",
       "price               0.367065  \n",
       "bedrooms            0.537412  \n",
       "bathrooms           0.638387  \n",
       "sf                  0.592151  \n",
       "year_built          0.022939  \n",
       "lot_size            0.188823  \n",
       "garage_spaces       1.000000  "
      ]
     },
     "execution_count": 719,
     "metadata": {},
     "output_type": "execute_result"
    }
   ],
   "source": [
    "# Waterfront only\n",
    "\n",
    "df[mask].corr()"
   ]
  },
  {
   "cell_type": "code",
   "execution_count": 720,
   "metadata": {},
   "outputs": [
    {
     "data": {
      "text/html": [
       "<div>\n",
       "<style scoped>\n",
       "    .dataframe tbody tr th:only-of-type {\n",
       "        vertical-align: middle;\n",
       "    }\n",
       "\n",
       "    .dataframe tbody tr th {\n",
       "        vertical-align: top;\n",
       "    }\n",
       "\n",
       "    .dataframe thead th {\n",
       "        text-align: right;\n",
       "    }\n",
       "</style>\n",
       "<table border=\"1\" class=\"dataframe\">\n",
       "  <thead>\n",
       "    <tr style=\"text-align: right;\">\n",
       "      <th></th>\n",
       "      <th>price</th>\n",
       "      <th>bedrooms</th>\n",
       "      <th>bathrooms</th>\n",
       "      <th>sf</th>\n",
       "      <th>year_built</th>\n",
       "      <th>lot_size</th>\n",
       "      <th>garage_spaces</th>\n",
       "    </tr>\n",
       "  </thead>\n",
       "  <tbody>\n",
       "    <tr>\n",
       "      <th>price</th>\n",
       "      <td>1.000000</td>\n",
       "      <td>0.268485</td>\n",
       "      <td>0.477390</td>\n",
       "      <td>0.636987</td>\n",
       "      <td>0.122499</td>\n",
       "      <td>0.310540</td>\n",
       "      <td>0.226553</td>\n",
       "    </tr>\n",
       "    <tr>\n",
       "      <th>bedrooms</th>\n",
       "      <td>0.268485</td>\n",
       "      <td>1.000000</td>\n",
       "      <td>0.671615</td>\n",
       "      <td>0.551005</td>\n",
       "      <td>-0.270522</td>\n",
       "      <td>0.083612</td>\n",
       "      <td>0.223173</td>\n",
       "    </tr>\n",
       "    <tr>\n",
       "      <th>bathrooms</th>\n",
       "      <td>0.477390</td>\n",
       "      <td>0.671615</td>\n",
       "      <td>1.000000</td>\n",
       "      <td>0.749870</td>\n",
       "      <td>-0.048901</td>\n",
       "      <td>0.100908</td>\n",
       "      <td>0.317978</td>\n",
       "    </tr>\n",
       "    <tr>\n",
       "      <th>sf</th>\n",
       "      <td>0.636987</td>\n",
       "      <td>0.551005</td>\n",
       "      <td>0.749870</td>\n",
       "      <td>1.000000</td>\n",
       "      <td>-0.046689</td>\n",
       "      <td>0.257984</td>\n",
       "      <td>0.320315</td>\n",
       "    </tr>\n",
       "    <tr>\n",
       "      <th>year_built</th>\n",
       "      <td>0.122499</td>\n",
       "      <td>-0.270522</td>\n",
       "      <td>-0.048901</td>\n",
       "      <td>-0.046689</td>\n",
       "      <td>1.000000</td>\n",
       "      <td>0.051601</td>\n",
       "      <td>0.018746</td>\n",
       "    </tr>\n",
       "    <tr>\n",
       "      <th>lot_size</th>\n",
       "      <td>0.310540</td>\n",
       "      <td>0.083612</td>\n",
       "      <td>0.100908</td>\n",
       "      <td>0.257984</td>\n",
       "      <td>0.051601</td>\n",
       "      <td>1.000000</td>\n",
       "      <td>0.107196</td>\n",
       "    </tr>\n",
       "    <tr>\n",
       "      <th>garage_spaces</th>\n",
       "      <td>0.226553</td>\n",
       "      <td>0.223173</td>\n",
       "      <td>0.317978</td>\n",
       "      <td>0.320315</td>\n",
       "      <td>0.018746</td>\n",
       "      <td>0.107196</td>\n",
       "      <td>1.000000</td>\n",
       "    </tr>\n",
       "  </tbody>\n",
       "</table>\n",
       "</div>"
      ],
      "text/plain": [
       "                  price  bedrooms  bathrooms        sf  year_built  lot_size  \\\n",
       "price          1.000000  0.268485   0.477390  0.636987    0.122499  0.310540   \n",
       "bedrooms       0.268485  1.000000   0.671615  0.551005   -0.270522  0.083612   \n",
       "bathrooms      0.477390  0.671615   1.000000  0.749870   -0.048901  0.100908   \n",
       "sf             0.636987  0.551005   0.749870  1.000000   -0.046689  0.257984   \n",
       "year_built     0.122499 -0.270522  -0.048901 -0.046689    1.000000  0.051601   \n",
       "lot_size       0.310540  0.083612   0.100908  0.257984    0.051601  1.000000   \n",
       "garage_spaces  0.226553  0.223173   0.317978  0.320315    0.018746  0.107196   \n",
       "\n",
       "               garage_spaces  \n",
       "price               0.226553  \n",
       "bedrooms            0.223173  \n",
       "bathrooms           0.317978  \n",
       "sf                  0.320315  \n",
       "year_built          0.018746  \n",
       "lot_size            0.107196  \n",
       "garage_spaces       1.000000  "
      ]
     },
     "execution_count": 720,
     "metadata": {},
     "output_type": "execute_result"
    }
   ],
   "source": [
    "# Excluding waterfront\n",
    "\n",
    "df[mask2].corr()"
   ]
  },
  {
   "cell_type": "code",
   "execution_count": 721,
   "metadata": {},
   "outputs": [
    {
     "data": {
      "text/html": [
       "<div>\n",
       "<style scoped>\n",
       "    .dataframe tbody tr th:only-of-type {\n",
       "        vertical-align: middle;\n",
       "    }\n",
       "\n",
       "    .dataframe tbody tr th {\n",
       "        vertical-align: top;\n",
       "    }\n",
       "\n",
       "    .dataframe thead th {\n",
       "        text-align: right;\n",
       "    }\n",
       "</style>\n",
       "<table border=\"1\" class=\"dataframe\">\n",
       "  <thead>\n",
       "    <tr style=\"text-align: right;\">\n",
       "      <th></th>\n",
       "      <th>price</th>\n",
       "      <th>bedrooms</th>\n",
       "      <th>bathrooms</th>\n",
       "      <th>sf</th>\n",
       "      <th>year_built</th>\n",
       "      <th>lot_size</th>\n",
       "      <th>garage_spaces</th>\n",
       "    </tr>\n",
       "  </thead>\n",
       "  <tbody>\n",
       "    <tr>\n",
       "      <th>price</th>\n",
       "      <td>1.000000</td>\n",
       "      <td>0.295404</td>\n",
       "      <td>0.531818</td>\n",
       "      <td>0.702748</td>\n",
       "      <td>0.101296</td>\n",
       "      <td>0.315941</td>\n",
       "      <td>0.276560</td>\n",
       "    </tr>\n",
       "    <tr>\n",
       "      <th>bedrooms</th>\n",
       "      <td>0.295404</td>\n",
       "      <td>1.000000</td>\n",
       "      <td>0.709588</td>\n",
       "      <td>0.605379</td>\n",
       "      <td>-0.226979</td>\n",
       "      <td>0.110349</td>\n",
       "      <td>0.338864</td>\n",
       "    </tr>\n",
       "    <tr>\n",
       "      <th>bathrooms</th>\n",
       "      <td>0.531818</td>\n",
       "      <td>0.709588</td>\n",
       "      <td>1.000000</td>\n",
       "      <td>0.814085</td>\n",
       "      <td>-0.011695</td>\n",
       "      <td>0.146997</td>\n",
       "      <td>0.447119</td>\n",
       "    </tr>\n",
       "    <tr>\n",
       "      <th>sf</th>\n",
       "      <td>0.702748</td>\n",
       "      <td>0.605379</td>\n",
       "      <td>0.814085</td>\n",
       "      <td>1.000000</td>\n",
       "      <td>-0.011003</td>\n",
       "      <td>0.252858</td>\n",
       "      <td>0.430629</td>\n",
       "    </tr>\n",
       "    <tr>\n",
       "      <th>year_built</th>\n",
       "      <td>0.101296</td>\n",
       "      <td>-0.226979</td>\n",
       "      <td>-0.011695</td>\n",
       "      <td>-0.011003</td>\n",
       "      <td>1.000000</td>\n",
       "      <td>-0.005619</td>\n",
       "      <td>0.020644</td>\n",
       "    </tr>\n",
       "    <tr>\n",
       "      <th>lot_size</th>\n",
       "      <td>0.315941</td>\n",
       "      <td>0.110349</td>\n",
       "      <td>0.146997</td>\n",
       "      <td>0.252858</td>\n",
       "      <td>-0.005619</td>\n",
       "      <td>1.000000</td>\n",
       "      <td>0.142634</td>\n",
       "    </tr>\n",
       "    <tr>\n",
       "      <th>garage_spaces</th>\n",
       "      <td>0.276560</td>\n",
       "      <td>0.338864</td>\n",
       "      <td>0.447119</td>\n",
       "      <td>0.430629</td>\n",
       "      <td>0.020644</td>\n",
       "      <td>0.142634</td>\n",
       "      <td>1.000000</td>\n",
       "    </tr>\n",
       "  </tbody>\n",
       "</table>\n",
       "</div>"
      ],
      "text/plain": [
       "                  price  bedrooms  bathrooms        sf  year_built  lot_size  \\\n",
       "price          1.000000  0.295404   0.531818  0.702748    0.101296  0.315941   \n",
       "bedrooms       0.295404  1.000000   0.709588  0.605379   -0.226979  0.110349   \n",
       "bathrooms      0.531818  0.709588   1.000000  0.814085   -0.011695  0.146997   \n",
       "sf             0.702748  0.605379   0.814085  1.000000   -0.011003  0.252858   \n",
       "year_built     0.101296 -0.226979  -0.011695 -0.011003    1.000000 -0.005619   \n",
       "lot_size       0.315941  0.110349   0.146997  0.252858   -0.005619  1.000000   \n",
       "garage_spaces  0.276560  0.338864   0.447119  0.430629    0.020644  0.142634   \n",
       "\n",
       "               garage_spaces  \n",
       "price               0.276560  \n",
       "bedrooms            0.338864  \n",
       "bathrooms           0.447119  \n",
       "sf                  0.430629  \n",
       "year_built          0.020644  \n",
       "lot_size            0.142634  \n",
       "garage_spaces       1.000000  "
      ]
     },
     "execution_count": 721,
     "metadata": {},
     "output_type": "execute_result"
    }
   ],
   "source": [
    "# All data \n",
    "\n",
    "df.corr()"
   ]
  },
  {
   "cell_type": "markdown",
   "metadata": {},
   "source": [
    "# Simple Model - SF and Sale Price"
   ]
  },
  {
   "cell_type": "code",
   "execution_count": 722,
   "metadata": {},
   "outputs": [
    {
     "data": {
      "text/plain": [
       "Text(0.5, 1.0, 'House Price vs. Square Footage in VT')"
      ]
     },
     "execution_count": 722,
     "metadata": {},
     "output_type": "execute_result"
    },
    {
     "data": {
      "image/png": "[encoded data removed]",
      "text/plain": [
       "<Figure size 648x504 with 1 Axes>"
      ]
     },
     "metadata": {
      "image/png": {
       "height": 444,
       "width": 557
      }
     },
     "output_type": "display_data"
    }
   ],
   "source": [
    "# Plot sale price vs. square footage\n",
    "\n",
    "fig, ax = plt.subplots(figsize = (9,7))\n",
    "\n",
    "x = df[['sf']]\n",
    "y = df['price'] \n",
    "\n",
    "ax.scatter(x,y,alpha=.5)\n",
    "ax.set_xlabel(\"Square Footage\")\n",
    "ax.set_ylabel(\"House Price\")\n",
    "ax.set_title(\"House Price vs. Square Footage in VT\")"
   ]
  },
  {
   "cell_type": "code",
   "execution_count": 723,
   "metadata": {},
   "outputs": [
    {
     "data": {
      "text/plain": [
       "0.4938553252449921"
      ]
     },
     "execution_count": 723,
     "metadata": {},
     "output_type": "execute_result"
    }
   ],
   "source": [
    "# Simple regression\n",
    "\n",
    "lr = LinearRegression()\n",
    "\n",
    "lr.fit(x,y)\n",
    "lr.score(x,y)"
   ]
  },
  {
   "cell_type": "code",
   "execution_count": 724,
   "metadata": {},
   "outputs": [],
   "source": [
    "# Plot our prediction"
   ]
  },
  {
   "cell_type": "code",
   "execution_count": 725,
   "metadata": {},
   "outputs": [
    {
     "data": {
      "text/plain": [
       "[<matplotlib.lines.Line2D at 0x210431453d0>]"
      ]
     },
     "execution_count": 725,
     "metadata": {},
     "output_type": "execute_result"
    },
    {
     "data": {
      "image/png": "[encoded data removed]",
      "text/plain": [
       "<Figure size 648x504 with 1 Axes>"
      ]
     },
     "metadata": {
      "image/png": {
       "height": 440,
       "width": 557
      }
     },
     "output_type": "display_data"
    }
   ],
   "source": [
    "fig, ax = plt.subplots(figsize=(9, 7))\n",
    "plt.xlabel(\"Square Footage Feet\")\n",
    "plt.ylabel(\"Home Price ($)\")\n",
    "\n",
    "\n",
    "x = df[['sf']]\n",
    "y = df['price']\n",
    "ax.scatter(x, y, alpha=.5)\n",
    "\n",
    "_x = np.linspace(x.min(), x.max())\n",
    "_y = lr.predict(_x)\n",
    "\n",
    "ax.plot(_x, _y, color='orange')"
   ]
  },
  {
   "cell_type": "code",
   "execution_count": 726,
   "metadata": {},
   "outputs": [
    {
     "name": "stdout",
     "output_type": "stream",
     "text": [
      "slope: 368.43\n",
      "y-intercept: -438274.59\n"
     ]
    }
   ],
   "source": [
    "# Caclulat eequation of line \n",
    "\n",
    "print(f'slope: {lr.coef_[0]:.2f}')\n",
    "print(f'y-intercept: {lr.intercept_:.2f}')"
   ]
  },
  {
   "cell_type": "markdown",
   "metadata": {},
   "source": [
    "# Categorical Variables "
   ]
  },
  {
   "cell_type": "code",
   "execution_count": 727,
   "metadata": {},
   "outputs": [],
   "source": [
    "# Start with on waterfront\n",
    "\n",
    "df['on_waterfront'].value_counts()\n",
    "cat_X = df.loc[:,[\"on_waterfront\"]]\n",
    "cat_Y = df['price']"
   ]
  },
  {
   "cell_type": "code",
   "execution_count": 728,
   "metadata": {},
   "outputs": [],
   "source": [
    "ohe = OneHotEncoder(drop=\"first\",sparse=False)\n",
    "\n",
    "ohe.fit(cat_X)\n",
    "\n",
    "ohe_X = ohe.transform(cat_X)\n",
    "\n",
    "columns = ohe.get_feature_names(['on_waterfront'])\n",
    "\n",
    "ohe_X_df = pd.DataFrame(ohe_X,columns = columns, index = cat_X.index)"
   ]
  },
  {
   "cell_type": "code",
   "execution_count": 729,
   "metadata": {},
   "outputs": [
    {
     "data": {
      "text/plain": [
       "0.03699823724816731"
      ]
     },
     "execution_count": 729,
     "metadata": {},
     "output_type": "execute_result"
    }
   ],
   "source": [
    "cat_lr = LinearRegression()\n",
    "\n",
    "cat_lr.fit(ohe_X_df, cat_Y)\n",
    "\n",
    "cat_lr.score(ohe_X_df, cat_Y)"
   ]
  },
  {
   "cell_type": "code",
   "execution_count": 730,
   "metadata": {},
   "outputs": [
    {
     "data": {
      "text/plain": [
       "array([-385673.70107858])"
      ]
     },
     "execution_count": 730,
     "metadata": {},
     "output_type": "execute_result"
    }
   ],
   "source": [
    "cat_lr.coef_"
   ]
  },
  {
   "cell_type": "code",
   "execution_count": 731,
   "metadata": {},
   "outputs": [
    {
     "data": {
      "text/html": [
       "<div>\n",
       "<style scoped>\n",
       "    .dataframe tbody tr th:only-of-type {\n",
       "        vertical-align: middle;\n",
       "    }\n",
       "\n",
       "    .dataframe tbody tr th {\n",
       "        vertical-align: top;\n",
       "    }\n",
       "\n",
       "    .dataframe thead th {\n",
       "        text-align: right;\n",
       "    }\n",
       "</style>\n",
       "<table border=\"1\" class=\"dataframe\">\n",
       "  <thead>\n",
       "    <tr style=\"text-align: right;\">\n",
       "      <th></th>\n",
       "      <th>on_waterfront_No</th>\n",
       "      <th>sf</th>\n",
       "    </tr>\n",
       "  </thead>\n",
       "  <tbody>\n",
       "    <tr>\n",
       "      <th>0</th>\n",
       "      <td>1.0</td>\n",
       "      <td>902.0</td>\n",
       "    </tr>\n",
       "    <tr>\n",
       "      <th>1</th>\n",
       "      <td>1.0</td>\n",
       "      <td>1680.0</td>\n",
       "    </tr>\n",
       "    <tr>\n",
       "      <th>3</th>\n",
       "      <td>1.0</td>\n",
       "      <td>1268.0</td>\n",
       "    </tr>\n",
       "    <tr>\n",
       "      <th>4</th>\n",
       "      <td>1.0</td>\n",
       "      <td>5788.0</td>\n",
       "    </tr>\n",
       "    <tr>\n",
       "      <th>5</th>\n",
       "      <td>1.0</td>\n",
       "      <td>1804.0</td>\n",
       "    </tr>\n",
       "  </tbody>\n",
       "</table>\n",
       "</div>"
      ],
      "text/plain": [
       "   on_waterfront_No      sf\n",
       "0               1.0   902.0\n",
       "1               1.0  1680.0\n",
       "3               1.0  1268.0\n",
       "4               1.0  5788.0\n",
       "5               1.0  1804.0"
      ]
     },
     "execution_count": 731,
     "metadata": {},
     "output_type": "execute_result"
    }
   ],
   "source": [
    "# Combining into one model\n",
    "\n",
    "combined_df = pd.concat([ohe_X_df, df[['sf']]], axis=1)\n",
    "combined_df.head()"
   ]
  },
  {
   "cell_type": "code",
   "execution_count": 732,
   "metadata": {},
   "outputs": [
    {
     "data": {
      "text/plain": [
       "0.5065476608000881"
      ]
     },
     "execution_count": 732,
     "metadata": {},
     "output_type": "execute_result"
    }
   ],
   "source": [
    "combined_lr = LinearRegression()\n",
    "\n",
    "combined_lr.fit(combined_df, cat_Y)\n",
    "\n",
    "combined_lr.score(combined_df, cat_Y)"
   ]
  },
  {
   "cell_type": "code",
   "execution_count": 733,
   "metadata": {},
   "outputs": [
    {
     "data": {
      "text/plain": [
       "(array([-227385.8438714 ,     361.62470497]), -255241.3519864304)"
      ]
     },
     "execution_count": 733,
     "metadata": {},
     "output_type": "execute_result"
    }
   ],
   "source": [
    "combined_lr.coef_, combined_lr.intercept_"
   ]
  },
  {
   "cell_type": "markdown",
   "metadata": {},
   "source": [
    "## Test and validate "
   ]
  },
  {
   "cell_type": "markdown",
   "metadata": {},
   "source": [
    "#### Start by excluding categorical variables"
   ]
  },
  {
   "cell_type": "code",
   "execution_count": 734,
   "metadata": {},
   "outputs": [
    {
     "data": {
      "text/html": [
       "<div>\n",
       "<style scoped>\n",
       "    .dataframe tbody tr th:only-of-type {\n",
       "        vertical-align: middle;\n",
       "    }\n",
       "\n",
       "    .dataframe tbody tr th {\n",
       "        vertical-align: top;\n",
       "    }\n",
       "\n",
       "    .dataframe thead th {\n",
       "        text-align: right;\n",
       "    }\n",
       "</style>\n",
       "<table border=\"1\" class=\"dataframe\">\n",
       "  <thead>\n",
       "    <tr style=\"text-align: right;\">\n",
       "      <th></th>\n",
       "      <th>price</th>\n",
       "      <th>bedrooms</th>\n",
       "      <th>bathrooms</th>\n",
       "      <th>sf</th>\n",
       "      <th>year_built</th>\n",
       "      <th>lot_size</th>\n",
       "      <th>view_description</th>\n",
       "      <th>on_waterfront</th>\n",
       "      <th>house_style</th>\n",
       "      <th>new_construction</th>\n",
       "      <th>garage_spaces</th>\n",
       "      <th>zip_code</th>\n",
       "    </tr>\n",
       "  </thead>\n",
       "  <tbody>\n",
       "    <tr>\n",
       "      <th>0</th>\n",
       "      <td>84900</td>\n",
       "      <td>2</td>\n",
       "      <td>2.0</td>\n",
       "      <td>902.0</td>\n",
       "      <td>1960.0</td>\n",
       "      <td>400752.0</td>\n",
       "      <td>{}</td>\n",
       "      <td>No</td>\n",
       "      <td>Ranch</td>\n",
       "      <td>No</td>\n",
       "      <td>1</td>\n",
       "      <td>05045</td>\n",
       "    </tr>\n",
       "    <tr>\n",
       "      <th>1</th>\n",
       "      <td>335000</td>\n",
       "      <td>2</td>\n",
       "      <td>2.0</td>\n",
       "      <td>1680.0</td>\n",
       "      <td>1986.0</td>\n",
       "      <td>304920.0</td>\n",
       "      <td>{}</td>\n",
       "      <td>No</td>\n",
       "      <td>Cape</td>\n",
       "      <td>No</td>\n",
       "      <td>0</td>\n",
       "      <td>05677</td>\n",
       "    </tr>\n",
       "    <tr>\n",
       "      <th>3</th>\n",
       "      <td>245000</td>\n",
       "      <td>3</td>\n",
       "      <td>2.0</td>\n",
       "      <td>1268.0</td>\n",
       "      <td>1960.0</td>\n",
       "      <td>174240.0</td>\n",
       "      <td>{}</td>\n",
       "      <td>No</td>\n",
       "      <td>Cape</td>\n",
       "      <td>No</td>\n",
       "      <td>0</td>\n",
       "      <td>05730</td>\n",
       "    </tr>\n",
       "    <tr>\n",
       "      <th>4</th>\n",
       "      <td>374000</td>\n",
       "      <td>9</td>\n",
       "      <td>9.0</td>\n",
       "      <td>5788.0</td>\n",
       "      <td>1861.0</td>\n",
       "      <td>56628.0</td>\n",
       "      <td>{}</td>\n",
       "      <td>No</td>\n",
       "      <td>Victorian</td>\n",
       "      <td>No</td>\n",
       "      <td>2</td>\n",
       "      <td>05143</td>\n",
       "    </tr>\n",
       "    <tr>\n",
       "      <th>5</th>\n",
       "      <td>360000</td>\n",
       "      <td>3</td>\n",
       "      <td>2.0</td>\n",
       "      <td>1804.0</td>\n",
       "      <td>1962.0</td>\n",
       "      <td>18295.0</td>\n",
       "      <td>{}</td>\n",
       "      <td>No</td>\n",
       "      <td>Raised Ranch</td>\n",
       "      <td>No</td>\n",
       "      <td>2</td>\n",
       "      <td>05482</td>\n",
       "    </tr>\n",
       "  </tbody>\n",
       "</table>\n",
       "</div>"
      ],
      "text/plain": [
       "    price  bedrooms  bathrooms      sf  year_built  lot_size view_description  \\\n",
       "0   84900         2        2.0   902.0      1960.0  400752.0               {}   \n",
       "1  335000         2        2.0  1680.0      1986.0  304920.0               {}   \n",
       "3  245000         3        2.0  1268.0      1960.0  174240.0               {}   \n",
       "4  374000         9        9.0  5788.0      1861.0   56628.0               {}   \n",
       "5  360000         3        2.0  1804.0      1962.0   18295.0               {}   \n",
       "\n",
       "  on_waterfront    house_style new_construction  garage_spaces zip_code  \n",
       "0            No          Ranch               No              1    05045  \n",
       "1            No           Cape               No              0    05677  \n",
       "3            No           Cape               No              0    05730  \n",
       "4            No      Victorian               No              2    05143  \n",
       "5            No   Raised Ranch               No              2    05482  "
      ]
     },
     "execution_count": 734,
     "metadata": {},
     "output_type": "execute_result"
    }
   ],
   "source": [
    "df.head()"
   ]
  },
  {
   "cell_type": "code",
   "execution_count": 735,
   "metadata": {},
   "outputs": [
    {
     "data": {
      "text/plain": [
       "price                 int64\n",
       "bedrooms              int64\n",
       "bathrooms           float64\n",
       "sf                  float64\n",
       "year_built          float64\n",
       "lot_size            float64\n",
       "view_description     object\n",
       "on_waterfront        object\n",
       "house_style          object\n",
       "new_construction     object\n",
       "garage_spaces         int64\n",
       "zip_code             object\n",
       "dtype: object"
      ]
     },
     "execution_count": 735,
     "metadata": {},
     "output_type": "execute_result"
    }
   ],
   "source": [
    "df.dtypes"
   ]
  },
  {
   "cell_type": "code",
   "execution_count": 736,
   "metadata": {},
   "outputs": [],
   "source": [
    "#Separate our features from our target\n",
    "\n",
    "X = df.loc[:,['bedrooms','bathrooms','sf','year_built','lot_size','garage_spaces']]\n",
    "\n",
    "y = df['price']"
   ]
  },
  {
   "cell_type": "code",
   "execution_count": 737,
   "metadata": {},
   "outputs": [],
   "source": [
    "def split_and_validate(X, y):\n",
    "    '''\n",
    "    For a set of features and target X, y, perform a 80/20 train/val split, \n",
    "    fit and validate a linear regression model, and report results\n",
    "    '''\n",
    "    \n",
    "    # perform train/val split\n",
    "    X_train, X_val, y_train, y_val = \\\n",
    "        train_test_split(X, y, test_size=0.2, random_state=42)\n",
    "    \n",
    "    # fit linear regression to training data\n",
    "    lr_model = LinearRegression()\n",
    "    lr_model.fit(X_train, y_train)\n",
    "    \n",
    "    # score fit model on training & validation data\n",
    "    train_score = lr_model.score(X_train, y_train)\n",
    "    val_score = lr_model.score(X_val, y_val)\n",
    "    \n",
    "    # report training results\n",
    "    print('\\nTraining R^2 score was:', train_score)\n",
    "    \n",
    "    # report validation results\n",
    "    print('\\nValidation R^2 score was:', val_score)\n",
    "    print('Feature coefficient results: \\n')\n",
    "    for feature, coef in zip(X.columns, lr_model.coef_):\n",
    "        print(feature, ':', f'{coef:.2f}') "
   ]
  },
  {
   "cell_type": "code",
   "execution_count": 738,
   "metadata": {},
   "outputs": [
    {
     "name": "stdout",
     "output_type": "stream",
     "text": [
      "\n",
      "Training R^2 score was: 0.5697327655093318\n",
      "\n",
      "Validation R^2 score was: -0.45109047482382003\n",
      "Feature coefficient results: \n",
      "\n",
      "bedrooms : -124895.07\n",
      "bathrooms : 5632.03\n",
      "sf : 458.02\n",
      "year_built : 859.26\n",
      "lot_size : 0.06\n",
      "garage_spaces : -22450.60\n"
     ]
    }
   ],
   "source": [
    "split_and_validate(X, y)"
   ]
  },
  {
   "cell_type": "markdown",
   "metadata": {},
   "source": [
    "## Try squaring certain terms"
   ]
  },
  {
   "cell_type": "code",
   "execution_count": 739,
   "metadata": {},
   "outputs": [],
   "source": [
    "#Separate our features from our target\n",
    "\n",
    "X1 = df.loc[:,['bedrooms','bathrooms','sf']]\n",
    "\n",
    "X1['bed2'] = X1['bedrooms'] ** 2\n",
    "X1['bath2'] = X1['bathrooms'] ** 2"
   ]
  },
  {
   "cell_type": "code",
   "execution_count": 740,
   "metadata": {},
   "outputs": [
    {
     "name": "stdout",
     "output_type": "stream",
     "text": [
      "\n",
      "Training R^2 score was: 0.5957311796738631\n",
      "\n",
      "Validation R^2 score was: -0.7008442128397103\n",
      "Feature coefficient results: \n",
      "\n",
      "bedrooms : 232436.92\n",
      "bathrooms : -185939.79\n",
      "sf : 446.96\n",
      "bed2 : -39491.21\n",
      "bath2 : 25017.50\n"
     ]
    }
   ],
   "source": [
    "split_and_validate(X1, y)"
   ]
  },
  {
   "cell_type": "markdown",
   "metadata": {},
   "source": [
    "# Adding Categorical Variables"
   ]
  },
  {
   "cell_type": "markdown",
   "metadata": {},
   "source": [
    "### Waterfront"
   ]
  },
  {
   "cell_type": "code",
   "execution_count": 741,
   "metadata": {},
   "outputs": [
    {
     "data": {
      "text/plain": [
       "No      531\n",
       " Yes    198\n",
       "Name: on_waterfront, dtype: int64"
      ]
     },
     "execution_count": 741,
     "metadata": {},
     "output_type": "execute_result"
    }
   ],
   "source": [
    "df['on_waterfront'].value_counts()"
   ]
  },
  {
   "cell_type": "code",
   "execution_count": 742,
   "metadata": {},
   "outputs": [
    {
     "data": {
      "text/html": [
       "<div>\n",
       "<style scoped>\n",
       "    .dataframe tbody tr th:only-of-type {\n",
       "        vertical-align: middle;\n",
       "    }\n",
       "\n",
       "    .dataframe tbody tr th {\n",
       "        vertical-align: top;\n",
       "    }\n",
       "\n",
       "    .dataframe thead th {\n",
       "        text-align: right;\n",
       "    }\n",
       "</style>\n",
       "<table border=\"1\" class=\"dataframe\">\n",
       "  <thead>\n",
       "    <tr style=\"text-align: right;\">\n",
       "      <th></th>\n",
       "      <th>Yes</th>\n",
       "      <th>No</th>\n",
       "    </tr>\n",
       "  </thead>\n",
       "  <tbody>\n",
       "    <tr>\n",
       "      <th>0</th>\n",
       "      <td>0</td>\n",
       "      <td>1</td>\n",
       "    </tr>\n",
       "    <tr>\n",
       "      <th>1</th>\n",
       "      <td>0</td>\n",
       "      <td>1</td>\n",
       "    </tr>\n",
       "    <tr>\n",
       "      <th>3</th>\n",
       "      <td>0</td>\n",
       "      <td>1</td>\n",
       "    </tr>\n",
       "    <tr>\n",
       "      <th>4</th>\n",
       "      <td>0</td>\n",
       "      <td>1</td>\n",
       "    </tr>\n",
       "    <tr>\n",
       "      <th>5</th>\n",
       "      <td>0</td>\n",
       "      <td>1</td>\n",
       "    </tr>\n",
       "  </tbody>\n",
       "</table>\n",
       "</div>"
      ],
      "text/plain": [
       "    Yes  No\n",
       "0     0   1\n",
       "1     0   1\n",
       "3     0   1\n",
       "4     0   1\n",
       "5     0   1"
      ]
     },
     "execution_count": 742,
     "metadata": {},
     "output_type": "execute_result"
    }
   ],
   "source": [
    "pd.get_dummies(df['on_waterfront']).head()"
   ]
  },
  {
   "cell_type": "code",
   "execution_count": 743,
   "metadata": {
    "scrolled": true
   },
   "outputs": [
    {
     "name": "stdout",
     "output_type": "stream",
     "text": [
      "\n",
      "Training R^2 score was: 0.5736168633746781\n",
      "\n",
      "Validation R^2 score was: -0.3817150485316443\n",
      "Feature coefficient results: \n",
      "\n",
      "bedrooms : -123393.84\n",
      "bathrooms : -396.87\n",
      "sf : 458.59\n",
      "year_built : 846.12\n",
      "lot_size : 0.05\n",
      "garage_spaces : -20268.38\n",
      "on_waterfront_ Yes : 71516.02\n",
      "on_waterfront_No : -71516.02\n"
     ]
    }
   ],
   "source": [
    "X2 = X.copy()\n",
    "\n",
    "X2['on_waterfront'] = df['on_waterfront']\n",
    "\n",
    "split_and_validate(pd.get_dummies(X2), y)"
   ]
  },
  {
   "cell_type": "code",
   "execution_count": 744,
   "metadata": {},
   "outputs": [],
   "source": [
    "# Confused why bedrooms is negative"
   ]
  },
  {
   "cell_type": "code",
   "execution_count": 745,
   "metadata": {},
   "outputs": [
    {
     "data": {
      "text/plain": [
       "<seaborn.axisgrid.FacetGrid at 0x210434d3640>"
      ]
     },
     "execution_count": 745,
     "metadata": {},
     "output_type": "execute_result"
    },
    {
     "data": {
      "image/png": "[encoded data removed]",
      "text/plain": [
       "<Figure size 360x360 with 1 Axes>"
      ]
     },
     "metadata": {
      "image/png": {
       "height": 349,
       "width": 350
      }
     },
     "output_type": "display_data"
    }
   ],
   "source": [
    "sns.displot(df, x=\"bedrooms\")"
   ]
  },
  {
   "cell_type": "code",
   "execution_count": 746,
   "metadata": {},
   "outputs": [
    {
     "data": {
      "text/plain": [
       "<AxesSubplot:xlabel='bedrooms', ylabel='price'>"
      ]
     },
     "execution_count": 746,
     "metadata": {},
     "output_type": "execute_result"
    },
    {
     "data": {
      "image/png": "[encoded data removed]",
      "text/plain": [
       "<Figure size 432x288 with 1 Axes>"
      ]
     },
     "metadata": {
      "image/png": {
       "height": 277,
       "width": 393
      }
     },
     "output_type": "display_data"
    }
   ],
   "source": [
    "sns.scatterplot(x=\"bedrooms\", y=\"price\",data=df)"
   ]
  },
  {
   "cell_type": "code",
   "execution_count": 747,
   "metadata": {},
   "outputs": [
    {
     "data": {
      "text/plain": [
       "<AxesSubplot:xlabel='bathrooms', ylabel='price'>"
      ]
     },
     "execution_count": 747,
     "metadata": {},
     "output_type": "execute_result"
    },
    {
     "data": {
      "image/png": "[encoded data removed]",
      "text/plain": [
       "<Figure size 432x288 with 1 Axes>"
      ]
     },
     "metadata": {
      "image/png": {
       "height": 277,
       "width": 389
      }
     },
     "output_type": "display_data"
    }
   ],
   "source": [
    "sns.scatterplot(x=\"bathrooms\", y=\"price\",data=df)"
   ]
  },
  {
   "cell_type": "markdown",
   "metadata": {},
   "source": [
    "## Interaction Terms"
   ]
  },
  {
   "cell_type": "code",
   "execution_count": 748,
   "metadata": {},
   "outputs": [
    {
     "data": {
      "text/plain": [
       "<AxesSubplot:xlabel='year_built', ylabel='price'>"
      ]
     },
     "execution_count": 748,
     "metadata": {},
     "output_type": "execute_result"
    },
    {
     "data": {
      "image/png": "[encoded data removed]",
      "text/plain": [
       "<Figure size 432x288 with 1 Axes>"
      ]
     },
     "metadata": {
      "image/png": {
       "height": 277,
       "width": 389
      }
     },
     "output_type": "display_data"
    }
   ],
   "source": [
    "sns.scatterplot(x=\"year_built\", y=\"price\",data=df)"
   ]
  },
  {
   "cell_type": "code",
   "execution_count": 749,
   "metadata": {},
   "outputs": [],
   "source": [
    "# Looking back at the homes, it appears to be these \n",
    "#old, large homes are less expensive and have many bathrooms/beds"
   ]
  },
  {
   "cell_type": "code",
   "execution_count": 750,
   "metadata": {},
   "outputs": [],
   "source": [
    "# Adding interaction terms of year_built on bedrooms and bathrooms"
   ]
  },
  {
   "cell_type": "code",
   "execution_count": 751,
   "metadata": {},
   "outputs": [
    {
     "name": "stdout",
     "output_type": "stream",
     "text": [
      "\n",
      "Training R^2 score was: 0.5966695543395821\n",
      "\n",
      "Validation R^2 score was: -0.17998218823273393\n",
      "Feature coefficient results: \n",
      "\n",
      "bedrooms : 347052.18\n",
      "bathrooms : -3104244.74\n",
      "sf : 383.01\n",
      "year_built : -2949.39\n",
      "lot_size : 0.05\n",
      "garage_spaces : -19629.15\n",
      "Bed_x_YB : -230.99\n",
      "Bath_x_YB : 1631.88\n",
      "on_waterfront_ Yes : 73268.74\n",
      "on_waterfront_No : -73268.74\n"
     ]
    }
   ],
   "source": [
    "X3 = X2.copy()\n",
    "\n",
    "# multiplicative interaction\n",
    "X3['Bed_x_YB'] = X3['bedrooms'] * X3['year_built']\n",
    "\n",
    "# division interaction\n",
    "X3['Bath_x_YB'] = X3['bathrooms'] * X3['year_built']\n",
    "\n",
    "split_and_validate(pd.get_dummies(X3), y)"
   ]
  },
  {
   "cell_type": "code",
   "execution_count": 752,
   "metadata": {},
   "outputs": [
    {
     "name": "stdout",
     "output_type": "stream",
     "text": [
      "\n",
      "Training R^2 score was: 0.5955811356053635\n",
      "\n",
      "Validation R^2 score was: -0.14747654632441942\n",
      "Feature coefficient results: \n",
      "\n",
      "bedrooms : -103467.59\n",
      "bathrooms : -2821532.12\n",
      "sf : 379.71\n",
      "year_built : -3457.51\n",
      "lot_size : 0.05\n",
      "Bath_x_YB : 1484.20\n",
      "on_waterfront_ Yes : 74286.97\n",
      "on_waterfront_No : -74286.97\n"
     ]
    }
   ],
   "source": [
    "X4 = X2.copy()\n",
    "\n",
    "# division interaction\n",
    "X4['Bath_x_YB'] = X4['bathrooms'] * X4['year_built']\n",
    "X4 = X4.drop(['garage_spaces'], axis=1)\n",
    "\n",
    "split_and_validate(pd.get_dummies(X4), y)"
   ]
  },
  {
   "cell_type": "markdown",
   "metadata": {},
   "source": [
    "## Adding more categorical variables and interaction terms"
   ]
  },
  {
   "cell_type": "code",
   "execution_count": 753,
   "metadata": {},
   "outputs": [],
   "source": [
    "df[\"view_description\"].replace({\"{}\":\"None\"}, inplace=True)"
   ]
  },
  {
   "cell_type": "code",
   "execution_count": 754,
   "metadata": {},
   "outputs": [
    {
     "data": {
      "text/html": [
       "<div>\n",
       "<style scoped>\n",
       "    .dataframe tbody tr th:only-of-type {\n",
       "        vertical-align: middle;\n",
       "    }\n",
       "\n",
       "    .dataframe tbody tr th {\n",
       "        vertical-align: top;\n",
       "    }\n",
       "\n",
       "    .dataframe thead th {\n",
       "        text-align: right;\n",
       "    }\n",
       "</style>\n",
       "<table border=\"1\" class=\"dataframe\">\n",
       "  <thead>\n",
       "    <tr style=\"text-align: right;\">\n",
       "      <th></th>\n",
       "      <th>Mountain</th>\n",
       "      <th>Mountain, Water</th>\n",
       "      <th>Water</th>\n",
       "      <th>None</th>\n",
       "    </tr>\n",
       "  </thead>\n",
       "  <tbody>\n",
       "    <tr>\n",
       "      <th>0</th>\n",
       "      <td>0</td>\n",
       "      <td>0</td>\n",
       "      <td>0</td>\n",
       "      <td>1</td>\n",
       "    </tr>\n",
       "    <tr>\n",
       "      <th>1</th>\n",
       "      <td>0</td>\n",
       "      <td>0</td>\n",
       "      <td>0</td>\n",
       "      <td>1</td>\n",
       "    </tr>\n",
       "    <tr>\n",
       "      <th>3</th>\n",
       "      <td>0</td>\n",
       "      <td>0</td>\n",
       "      <td>0</td>\n",
       "      <td>1</td>\n",
       "    </tr>\n",
       "    <tr>\n",
       "      <th>4</th>\n",
       "      <td>0</td>\n",
       "      <td>0</td>\n",
       "      <td>0</td>\n",
       "      <td>1</td>\n",
       "    </tr>\n",
       "    <tr>\n",
       "      <th>5</th>\n",
       "      <td>0</td>\n",
       "      <td>0</td>\n",
       "      <td>0</td>\n",
       "      <td>1</td>\n",
       "    </tr>\n",
       "  </tbody>\n",
       "</table>\n",
       "</div>"
      ],
      "text/plain": [
       "    Mountain   Mountain, Water   Water  None\n",
       "0          0                 0       0     1\n",
       "1          0                 0       0     1\n",
       "3          0                 0       0     1\n",
       "4          0                 0       0     1\n",
       "5          0                 0       0     1"
      ]
     },
     "execution_count": 754,
     "metadata": {},
     "output_type": "execute_result"
    }
   ],
   "source": [
    "pd.get_dummies(df['view_description']).head()"
   ]
  },
  {
   "cell_type": "code",
   "execution_count": 755,
   "metadata": {},
   "outputs": [
    {
     "name": "stdout",
     "output_type": "stream",
     "text": [
      "\n",
      "Training R^2 score was: 0.5979699091339556\n",
      "\n",
      "Validation R^2 score was: -0.15046836878456182\n",
      "Feature coefficient results: \n",
      "\n",
      "bedrooms : -104742.30\n",
      "bathrooms : -2826086.15\n",
      "sf : 384.03\n",
      "year_built : -3380.84\n",
      "lot_size : 0.05\n",
      "Bath_x_YB : 1487.85\n",
      "on_waterfront_ Yes : 63079.72\n",
      "on_waterfront_No : -63079.72\n",
      "view_description_ Mountain : -99103.63\n",
      "view_description_ Mountain, Water : 31231.71\n",
      "view_description_ Water : 59116.18\n",
      "view_description_None : 8755.73\n"
     ]
    }
   ],
   "source": [
    "# View description gets worse\n",
    "\n",
    "X5 = X2.copy()\n",
    "\n",
    "# division interaction\n",
    "X5['Bath_x_YB'] = X5['bathrooms'] * X5['year_built']\n",
    "X5 = X5.drop(['garage_spaces'], axis=1)\n",
    "X5['view_description'] = df['view_description']\n",
    "\n",
    "split_and_validate(pd.get_dummies(X5), y)"
   ]
  },
  {
   "cell_type": "code",
   "execution_count": 756,
   "metadata": {},
   "outputs": [
    {
     "name": "stdout",
     "output_type": "stream",
     "text": [
      "\n",
      "Training R^2 score was: 0.5955854819118784\n",
      "\n",
      "Validation R^2 score was: -0.14717615654343907\n",
      "Feature coefficient results: \n",
      "\n",
      "bedrooms : -103500.29\n",
      "bathrooms : -2820214.85\n",
      "sf : 379.89\n",
      "year_built : -3460.15\n",
      "lot_size : 0.05\n",
      "Bath_x_YB : 1483.44\n",
      "on_waterfront_ Yes : 74365.79\n",
      "on_waterfront_No : -74365.79\n",
      "new_construction_ No : -9502.24\n",
      "new_construction_ Yes : 9502.24\n"
     ]
    }
   ],
   "source": [
    "# Adding interaction term for new construction\n",
    "\n",
    "X6 = X2.copy()\n",
    "\n",
    "# division interaction\n",
    "X6['Bath_x_YB'] = X6['bathrooms'] * X6['year_built']\n",
    "X6 = X6.drop(['garage_spaces'], axis=1)\n",
    "X6['new_construction'] = df['new_construction']\n",
    "\n",
    "\n",
    "split_and_validate(pd.get_dummies(X6), y)"
   ]
  },
  {
   "cell_type": "markdown",
   "metadata": {},
   "source": [
    "### Zip Code"
   ]
  },
  {
   "cell_type": "code",
   "execution_count": 757,
   "metadata": {},
   "outputs": [],
   "source": [
    "zip_code_counts = df.zip_code.value_counts()\n",
    "df_zip_code = pd.DataFrame(zip_code_counts)"
   ]
  },
  {
   "cell_type": "code",
   "execution_count": 758,
   "metadata": {},
   "outputs": [],
   "source": [
    "#sns.displot(df_zip_code, x=\"zip_code\")"
   ]
  },
  {
   "cell_type": "code",
   "execution_count": 759,
   "metadata": {},
   "outputs": [
    {
     "data": {
      "text/plain": [
       "05701    36\n",
       "05143    21\n",
       "05301    18\n",
       "05201    16\n",
       "05251    15\n",
       "         ..\n",
       "05874     1\n",
       "05161     1\n",
       "05837     1\n",
       "05079     1\n",
       "05067     1\n",
       "Name: zip_code, Length: 196, dtype: int64"
      ]
     },
     "execution_count": 759,
     "metadata": {},
     "output_type": "execute_result"
    }
   ],
   "source": [
    "zip_code_counts"
   ]
  },
  {
   "cell_type": "code",
   "execution_count": 760,
   "metadata": {},
   "outputs": [
    {
     "name": "stdout",
     "output_type": "stream",
     "text": [
      "\n",
      "Training R^2 score was: 0.6737637795873531\n",
      "\n",
      "Validation R^2 score was: 0.20266081161923688\n",
      "Feature coefficient results: \n",
      "\n",
      "bathrooms : -2417034.26\n",
      "sf : 318.85\n",
      "year_built : -2373.82\n",
      "lot_size : 0.06\n",
      "Bath_x_YB : 1246.31\n",
      "on_waterfront_ Yes : 70179.39\n",
      "on_waterfront_No : -70179.39\n",
      "new_construction_ No : -29126.18\n",
      "new_construction_ Yes : 29126.18\n",
      "zip_code_05143 : -182023.59\n",
      "zip_code_05149 : -36132.42\n",
      "zip_code_05156 : -139356.86\n",
      "zip_code_05201 : -167406.86\n",
      "zip_code_05251 : 152963.48\n",
      "zip_code_05301 : -87389.95\n",
      "zip_code_05356 : -222047.50\n",
      "zip_code_05363 : -102506.57\n",
      "zip_code_05641 : -108185.36\n",
      "zip_code_05661 : 315687.10\n",
      "zip_code_05672 : 2055995.78\n",
      "zip_code_05701 : -50446.18\n",
      "zip_code_05733 : -146413.47\n",
      "zip_code_05743 : -423732.64\n",
      "zip_code_05753 : -27055.02\n",
      "zip_code_05764 : -292447.16\n",
      "zip_code_05819 : -129967.97\n",
      "zip_code_05830 : -18892.55\n",
      "zip_code_05855 : -238676.45\n",
      "zip_code_Other : -151965.80\n",
      "view_description_ Mountain : -132504.72\n",
      "view_description_ Mountain, Water : 80857.35\n",
      "view_description_ Water : 68505.47\n",
      "view_description_None : -16858.10\n"
     ]
    }
   ],
   "source": [
    "other_zips = list(zip_code_counts[zip_code_counts <= 7].index)\n",
    "\n",
    "X7 = X6.copy()\n",
    "\n",
    "X7['zip_code'] = df['zip_code'].replace(other_zips, 'Other')\n",
    "X7['view_description'] = df['view_description']\n",
    "X7 = X7.drop(['bedrooms'], axis=1)\n",
    "\n",
    "split_and_validate(pd.get_dummies(X7), y)"
   ]
  },
  {
   "cell_type": "code",
   "execution_count": 761,
   "metadata": {},
   "outputs": [],
   "source": [
    "# Try stripping down the variables amd addomg polynomials\n",
    "\n",
    "X8 = X7.copy()\n",
    "\n",
    "X8 = X8.drop(['year_built'], axis=1)\n",
    "X8['sf3'] = X8['sf'] ** 3\n",
    "X8['bathrooms3'] = X8['bathrooms'] ** 3\n",
    "X8 = X8.drop(['new_construction'], axis=1)\n",
    "X8 = X8.drop(['sf'], axis=1)\n",
    "X8['on_waterfront'] = pd.get_dummies(X8['on_waterfront'])\n",
    "X8['on_waterfrontXSF'] = X8['on_waterfront'] * df['sf'] ** 2\n",
    "X8['on_waterfrontXbedrooms'] = X8['on_waterfront'] * df['bedrooms'] ** 3\n",
    "\n",
    "#split_and_validate(pd.get_dummies(X8), y)"
   ]
  },
  {
   "cell_type": "code",
   "execution_count": 762,
   "metadata": {},
   "outputs": [
    {
     "name": "stdout",
     "output_type": "stream",
     "text": [
      "\n",
      "Training R^2 score was: 0.861825199230305\n",
      "\n",
      "Validation R^2 score was: 0.672157356426301\n",
      "Feature coefficient results: \n",
      "\n",
      "on_waterfront : 132426.75\n",
      "Bath_x_YB : 67.15\n",
      "view_description : 109900.82\n",
      "sf3 : 0.00\n",
      "bathrooms3 : -609.04\n",
      "on_waterfrontXSF : 0.02\n",
      "on_waterfrontXbedrooms : -562.17\n",
      "view_descriptionXbathrooms : -150576.56\n",
      "sfXlot_size2 : 0.00\n",
      "on_waterfrontXview_description : -151321.05\n",
      "zip_code_05143 : -103790.30\n",
      "zip_code_05149 : 63605.69\n",
      "zip_code_05156 : -142031.68\n",
      "zip_code_05201 : -150460.92\n",
      "zip_code_05251 : 357982.05\n",
      "zip_code_05301 : -99244.79\n",
      "zip_code_05356 : -123187.78\n",
      "zip_code_05363 : -122820.32\n",
      "zip_code_05641 : -98786.93\n",
      "zip_code_05661 : 469012.94\n",
      "zip_code_05672 : 1162556.01\n",
      "zip_code_05701 : -40225.78\n",
      "zip_code_05733 : -186408.89\n",
      "zip_code_05743 : -265220.41\n",
      "zip_code_05753 : 40340.05\n",
      "zip_code_05764 : -140309.59\n",
      "zip_code_05819 : -134243.12\n",
      "zip_code_05830 : -163816.95\n",
      "zip_code_05855 : -259143.83\n",
      "zip_code_Other : -62055.75\n"
     ]
    }
   ],
   "source": [
    "# Adding view description\n",
    "\n",
    "X9 = X8.copy()\n",
    "\n",
    "X9['view_description'] = pd.get_dummies(X9['view_description'])\n",
    "X9['view_descriptionXbathrooms'] = X9['view_description'] * X9['on_waterfront'] \n",
    "X9['sfXlot_size2'] = X9['lot_size'] * df['sf'] **2\n",
    "X9['on_waterfrontXview_description'] = X9['view_description'] * X9['on_waterfront'] \n",
    "X9 = X9.drop(['bathrooms'], axis=1)\n",
    "X9 = X9.drop(['lot_size'], axis=1)\n",
    "\n",
    "split_and_validate(pd.get_dummies(X9), y)"
   ]
  },
  {
   "cell_type": "code",
   "execution_count": 763,
   "metadata": {},
   "outputs": [
    {
     "data": {
      "text/plain": [
       "Index(['on_waterfront', 'Bath_x_YB', 'zip_code', 'view_description', 'sf3',\n",
       "       'bathrooms3', 'on_waterfrontXSF', 'on_waterfrontXbedrooms',\n",
       "       'view_descriptionXbathrooms', 'sfXlot_size2',\n",
       "       'on_waterfrontXview_description'],\n",
       "      dtype='object')"
      ]
     },
     "execution_count": 763,
     "metadata": {},
     "output_type": "execute_result"
    }
   ],
   "source": [
    "X9.columns"
   ]
  },
  {
   "cell_type": "markdown",
   "metadata": {},
   "source": [
    "### Focussing on Best Model"
   ]
  },
  {
   "cell_type": "code",
   "execution_count": 764,
   "metadata": {},
   "outputs": [],
   "source": [
    "# Splitting zip codes\n",
    "\n",
    "other_zips = list(zip_code_counts[zip_code_counts <= 7].index)\n",
    "df['zip_code'] = df['zip_code'].replace(other_zips, 'Other')\n",
    "df = pd.concat([df,pd.get_dummies(df['zip_code'], prefix='zip')],axis=1)\n",
    "df = df.drop(['zip_code'], axis=1)"
   ]
  },
  {
   "cell_type": "code",
   "execution_count": 765,
   "metadata": {},
   "outputs": [
    {
     "data": {
      "text/plain": [
       "Index(['price', 'bedrooms', 'bathrooms', 'sf', 'year_built', 'lot_size',\n",
       "       'view_description', 'on_waterfront', 'house_style', 'new_construction',\n",
       "       'garage_spaces', 'zip_05143', 'zip_05149', 'zip_05156', 'zip_05201',\n",
       "       'zip_05251', 'zip_05301', 'zip_05356', 'zip_05363', 'zip_05641',\n",
       "       'zip_05661', 'zip_05672', 'zip_05701', 'zip_05733', 'zip_05743',\n",
       "       'zip_05753', 'zip_05764', 'zip_05819', 'zip_05830', 'zip_05855',\n",
       "       'zip_Other'],\n",
       "      dtype='object')"
      ]
     },
     "execution_count": 765,
     "metadata": {},
     "output_type": "execute_result"
    }
   ],
   "source": [
    "df.columns"
   ]
  },
  {
   "cell_type": "code",
   "execution_count": 766,
   "metadata": {},
   "outputs": [],
   "source": [
    "### Focusing on model X10\n",
    "\n",
    "X_train, X_test, y_train, y_test = train_test_split(df[['bedrooms','bathrooms','sf','lot_size', 'view_description',\n",
    "       'on_waterfront','garage_spaces','year_built','zip_05143', 'zip_05149', 'zip_05156', 'zip_05201',\n",
    "       'zip_05251', 'zip_05301', 'zip_05356', 'zip_05363', 'zip_05641',\n",
    "       'zip_05661', 'zip_05672', 'zip_05701', 'zip_05733', 'zip_05743',\n",
    "       'zip_05753', 'zip_05764', 'zip_05819', 'zip_05830', 'zip_05855',\n",
    "       'zip_Other']], df['price'], test_size=0.2, random_state=42)"
   ]
  },
  {
   "cell_type": "code",
   "execution_count": 767,
   "metadata": {},
   "outputs": [],
   "source": [
    "# Training data\n",
    "\n",
    "# Adding variables \n",
    "X_train['on_waterfront'] = pd.get_dummies(X_train['on_waterfront'],drop_first=True)\n",
    "X_train['view_description'] = pd.get_dummies(X_train['view_description'],drop_first=True)\n",
    "X_train['Bath_x_YB'] = X_train['bathrooms'] * X_train['year_built']\n",
    "X_train['sf3'] = X_train['sf'] ** 3\n",
    "X_train['bathrooms3'] = X_train['bathrooms'] ** 3\n",
    "X_train['on_waterfrontXsf'] = X_train['on_waterfront'] * X_train['sf']\n",
    "X_train['on_waterfrontXbedrooms'] = X_train['on_waterfront'] * X_train['bedrooms']\n",
    "X_train['view_descriptionXbathrooms'] = X_train['view_description'] * X_train['bathrooms']\n",
    "X_train['sfXlot_size2'] = X_train['sf'] * X_train['lot_size'] ** 2\n",
    "X_train['on_waterfrontXview_description'] = X_train['on_waterfront'] * X_train['view_description']\n",
    "\n",
    "# Dropping variables\n",
    "X_train = X_train.drop(['lot_size'], axis=1)\n",
    "X_train = X_train.drop(['bedrooms'], axis=1)\n",
    "X_train = X_train.drop(['bathrooms'], axis=1)\n",
    "X_train = X_train.drop(['sf'], axis=1)\n",
    "X_train = X_train.drop(['garage_spaces'], axis=1)\n",
    "X_train = X_train.drop(['year_built'], axis=1)"
   ]
  },
  {
   "cell_type": "code",
   "execution_count": 771,
   "metadata": {},
   "outputs": [
    {
     "data": {
      "text/plain": [
       "Index(['view_description', 'on_waterfront', 'zip_05143', 'zip_05149',\n",
       "       'zip_05156', 'zip_05201', 'zip_05251', 'zip_05301', 'zip_05356',\n",
       "       'zip_05363', 'zip_05641', 'zip_05661', 'zip_05672', 'zip_05701',\n",
       "       'zip_05733', 'zip_05743', 'zip_05753', 'zip_05764', 'zip_05819',\n",
       "       'zip_05830', 'zip_05855', 'zip_Other', 'Bath_x_YB', 'sf3', 'bathrooms3',\n",
       "       'on_waterfrontXsf', 'on_waterfrontXbedrooms',\n",
       "       'view_descriptionXbathrooms', 'sfXlot_size2',\n",
       "       'on_waterfrontXview_description'],\n",
       "      dtype='object')"
      ]
     },
     "execution_count": 771,
     "metadata": {},
     "output_type": "execute_result"
    }
   ],
   "source": [
    "X_train.columns"
   ]
  },
  {
   "cell_type": "code",
   "execution_count": 769,
   "metadata": {},
   "outputs": [
    {
     "data": {
      "text/plain": [
       "0.8095062874640322"
      ]
     },
     "execution_count": 769,
     "metadata": {},
     "output_type": "execute_result"
    }
   ],
   "source": [
    "# Training test\n",
    "\n",
    "m = LinearRegression()\n",
    "m.fit(pd.get_dummies(X_train),y_train)\n",
    "m.score(X_train,y_train)"
   ]
  },
  {
   "cell_type": "code",
   "execution_count": 772,
   "metadata": {},
   "outputs": [
    {
     "name": "stdout",
     "output_type": "stream",
     "text": [
      "view_description : 4.67\n",
      "on_waterfront : -2.57\n",
      "zip_05143 : 0.01\n",
      "zip_05149 : 0.01\n",
      "zip_05156 : 0.01\n",
      "zip_05201 : -0.01\n",
      "zip_05251 : -0.01\n",
      "zip_05301 : -0.00\n",
      "zip_05356 : 0.01\n",
      "zip_05363 : -0.00\n",
      "zip_05641 : -0.01\n",
      "zip_05661 : -0.01\n",
      "zip_05672 : 0.11\n",
      "zip_05701 : 0.00\n",
      "zip_05733 : -0.00\n",
      "zip_05743 : 0.01\n",
      "zip_05753 : -0.00\n",
      "zip_05764 : -0.00\n",
      "zip_05819 : -0.02\n",
      "zip_05830 : -0.01\n",
      "zip_05855 : -0.00\n",
      "zip_Other : -0.09\n",
      "Bath_x_YB : 99.39\n",
      "sf3 : 0.00\n",
      "bathrooms3 : -1196.73\n",
      "on_waterfrontXsf : -35.58\n",
      "on_waterfrontXbedrooms : -1.04\n",
      "view_descriptionXbathrooms : 0.50\n",
      "sfXlot_size2 : 0.00\n",
      "on_waterfrontXview_description : 0.00\n"
     ]
    }
   ],
   "source": [
    "for feature, coef in zip(X_train.columns, m.coef_):\n",
    "    print(feature, ':', f'{coef:.2f}') "
   ]
  },
  {
   "cell_type": "code",
   "execution_count": 773,
   "metadata": {},
   "outputs": [],
   "source": [
    "# test data\n",
    "\n",
    "# Adding variables \n",
    "X_test['on_waterfront'] = pd.get_dummies(X_test['on_waterfront'],drop_first=True)\n",
    "X_test['view_description'] = pd.get_dummies(X_test['view_description'],drop_first=True)\n",
    "X_test['Bath_x_YB'] = X_test['bathrooms'] * X_test['year_built']\n",
    "X_test['sf3'] = X_test['sf'] ** 3\n",
    "X_test['bathrooms3'] = X_test['bathrooms'] ** 3\n",
    "X_test['on_waterfrontXsf'] = X_test['on_waterfront'] * X_test['sf']\n",
    "X_test['on_waterfrontXbedrooms'] = X_test['on_waterfront'] * X_test['bedrooms']\n",
    "X_test['view_descriptionXbathrooms'] = X_test['view_description'] * X_test['bathrooms']\n",
    "X_test['sfXlot_size2'] = X_test['sf'] * X_test['lot_size'] ** 2\n",
    "X_test['on_waterfrontXview_description'] = X_test['on_waterfront'] * X_test['view_description']\n",
    "\n",
    "\n",
    "# Dropping variables\n",
    "X_test = X_test.drop(['lot_size'], axis=1)\n",
    "X_test = X_test.drop(['bedrooms'], axis=1)\n",
    "X_test = X_test.drop(['bathrooms'], axis=1)\n",
    "X_test = X_test.drop(['sf'], axis=1)\n",
    "X_test = X_test.drop(['garage_spaces'], axis=1)\n",
    "X_test = X_test.drop(['year_built'], axis=1)"
   ]
  },
  {
   "cell_type": "code",
   "execution_count": 774,
   "metadata": {},
   "outputs": [
    {
     "data": {
      "text/plain": [
       "0.3818219195679001"
      ]
     },
     "execution_count": 774,
     "metadata": {},
     "output_type": "execute_result"
    }
   ],
   "source": [
    "# test score\n",
    "\n",
    "m.score(pd.get_dummies(X_test),y_test)"
   ]
  },
  {
   "cell_type": "code",
   "execution_count": 776,
   "metadata": {},
   "outputs": [
    {
     "data": {
      "text/plain": [
       "Index(['view_description', 'on_waterfront', 'zip_05143', 'zip_05149',\n",
       "       'zip_05156', 'zip_05201', 'zip_05251', 'zip_05301', 'zip_05356',\n",
       "       'zip_05363', 'zip_05641', 'zip_05661', 'zip_05672', 'zip_05701',\n",
       "       'zip_05733', 'zip_05743', 'zip_05753', 'zip_05764', 'zip_05819',\n",
       "       'zip_05830', 'zip_05855', 'zip_Other', 'Bath_x_YB', 'sf3', 'bathrooms3',\n",
       "       'on_waterfrontXsf', 'on_waterfrontXbedrooms',\n",
       "       'view_descriptionXbathrooms', 'sfXlot_size2',\n",
       "       'on_waterfrontXview_description'],\n",
       "      dtype='object')"
      ]
     },
     "execution_count": 776,
     "metadata": {},
     "output_type": "execute_result"
    }
   ],
   "source": [
    "X_test.columns"
   ]
  },
  {
   "cell_type": "markdown",
   "metadata": {},
   "source": [
    "#### Apply lasso to the above"
   ]
  },
  {
   "cell_type": "code",
   "execution_count": 95,
   "metadata": {},
   "outputs": [
    {
     "ename": "NameError",
     "evalue": "name 'LassoCV' is not defined",
     "output_type": "error",
     "traceback": [
      "\u001b[1;31m---------------------------------------------------------------------------\u001b[0m",
      "\u001b[1;31mNameError\u001b[0m                                 Traceback (most recent call last)",
      "\u001b[1;32m<ipython-input-95-bdd3b0642cfa>\u001b[0m in \u001b[0;36m<module>\u001b[1;34m\u001b[0m\n\u001b[1;32m----> 1\u001b[1;33m \u001b[0mm\u001b[0m \u001b[1;33m=\u001b[0m \u001b[0mLassoCV\u001b[0m\u001b[1;33m(\u001b[0m\u001b[1;33m)\u001b[0m\u001b[1;33m\u001b[0m\u001b[1;33m\u001b[0m\u001b[0m\n\u001b[0m\u001b[0;32m      2\u001b[0m \u001b[0ms\u001b[0m \u001b[1;33m=\u001b[0m \u001b[0mStandardScaler\u001b[0m\u001b[1;33m(\u001b[0m\u001b[0mwith_mean\u001b[0m\u001b[1;33m=\u001b[0m\u001b[1;32mFalse\u001b[0m\u001b[1;33m)\u001b[0m\u001b[1;33m\u001b[0m\u001b[1;33m\u001b[0m\u001b[0m\n\u001b[0;32m      3\u001b[0m \u001b[0mX_train\u001b[0m \u001b[1;33m=\u001b[0m \u001b[0ms\u001b[0m\u001b[1;33m.\u001b[0m\u001b[0mfit_transform\u001b[0m\u001b[1;33m(\u001b[0m\u001b[0mX_train\u001b[0m\u001b[1;33m)\u001b[0m\u001b[1;33m\u001b[0m\u001b[1;33m\u001b[0m\u001b[0m\n\u001b[0;32m      4\u001b[0m \u001b[0mm\u001b[0m\u001b[1;33m.\u001b[0m\u001b[0mfit\u001b[0m\u001b[1;33m(\u001b[0m\u001b[0mX_train\u001b[0m\u001b[1;33m,\u001b[0m\u001b[0my_train\u001b[0m\u001b[1;33m)\u001b[0m\u001b[1;33m\u001b[0m\u001b[1;33m\u001b[0m\u001b[0m\n\u001b[0;32m      5\u001b[0m \u001b[0mm\u001b[0m\u001b[1;33m.\u001b[0m\u001b[0mscore\u001b[0m\u001b[1;33m(\u001b[0m\u001b[0mX_train\u001b[0m\u001b[1;33m,\u001b[0m\u001b[0my_train\u001b[0m\u001b[1;33m)\u001b[0m\u001b[1;33m\u001b[0m\u001b[1;33m\u001b[0m\u001b[0m\n",
      "\u001b[1;31mNameError\u001b[0m: name 'LassoCV' is not defined"
     ]
    }
   ],
   "source": [
    "m = LassoCV()\n",
    "s = StandardScaler(with_mean=False)\n",
    "X_train = s.fit_transform(X_train)\n",
    "m.fit(X_train,y_train)\n",
    "m.score(X_train,y_train)"
   ]
  },
  {
   "cell_type": "code",
   "execution_count": 96,
   "metadata": {},
   "outputs": [
    {
     "ename": "NameError",
     "evalue": "name 's' is not defined",
     "output_type": "error",
     "traceback": [
      "\u001b[1;31m---------------------------------------------------------------------------\u001b[0m",
      "\u001b[1;31mNameError\u001b[0m                                 Traceback (most recent call last)",
      "\u001b[1;32m<ipython-input-96-0e5448016095>\u001b[0m in \u001b[0;36m<module>\u001b[1;34m\u001b[0m\n\u001b[1;32m----> 1\u001b[1;33m \u001b[0mm\u001b[0m\u001b[1;33m.\u001b[0m\u001b[0mscore\u001b[0m\u001b[1;33m(\u001b[0m\u001b[0ms\u001b[0m\u001b[1;33m.\u001b[0m\u001b[0mtransform\u001b[0m\u001b[1;33m(\u001b[0m\u001b[0mX_test\u001b[0m\u001b[1;33m)\u001b[0m\u001b[1;33m,\u001b[0m\u001b[0my_test\u001b[0m\u001b[1;33m)\u001b[0m\u001b[1;33m\u001b[0m\u001b[1;33m\u001b[0m\u001b[0m\n\u001b[0m",
      "\u001b[1;31mNameError\u001b[0m: name 's' is not defined"
     ]
    }
   ],
   "source": [
    "m.score(s.transform(X_test),y_test)"
   ]
  },
  {
   "cell_type": "markdown",
   "metadata": {},
   "source": [
    "### Testing changing variables on \"Best Model\""
   ]
  },
  {
   "cell_type": "code",
   "execution_count": 97,
   "metadata": {},
   "outputs": [],
   "source": [
    "### Testing changing variables\n",
    "\n",
    "X_train, X_test, y_train, y_test = train_test_split(df[['bedrooms','bathrooms','sf','lot_size', 'view_description',\n",
    "       'on_waterfront','garage_spaces',\n",
    "       'zip_code','year_built']], df['price'], test_size=0.2, random_state=42)\n"
   ]
  },
  {
   "cell_type": "code",
   "execution_count": 98,
   "metadata": {},
   "outputs": [],
   "source": [
    "# Training data\n",
    "\n",
    "# Adding variables \n",
    "X_train['on_waterfront'] = pd.get_dummies(X_train['on_waterfront'],drop_first=True)\n",
    "X_train['view_description'] = pd.get_dummies(X_train['view_description'],drop_first=True)\n",
    "X_train['Bath_x_YB'] = X_train['bathrooms'] * X_train['year_built']\n",
    "X_train['sf3'] = X_train['sf'] ** 3\n",
    "X_train['bathrooms3'] = X_train['bathrooms'] ** 3\n",
    "X_train['on_waterfrontXsf'] = X_train['on_waterfront'] * X_train['sf']\n",
    "X_train['on_waterfrontXbedrooms'] = X_train['on_waterfront'] * X_train['bedrooms']\n",
    "X_train['view_descriptionXbathrooms'] = X_train['view_description'] * X_train['bathrooms']\n",
    "X_train['sfXlot_size2'] = X_train['sf'] * X_train['lot_size'] ** 2\n",
    "X_train['on_waterfrontXview_description'] = X_train['on_waterfront'] * X_train['view_description']\n",
    "\n",
    "# Dropping variables\n",
    "X_train = X_train.drop(['lot_size'], axis=1)\n",
    "X_train = X_train.drop(['bedrooms'], axis=1)\n",
    "X_train = X_train.drop(['bathrooms'], axis=1)\n",
    "X_train = X_train.drop(['sf'], axis=1)\n",
    "X_train = X_train.drop(['garage_spaces'], axis=1)\n",
    "X_train = X_train.drop(['year_built'], axis=1)"
   ]
  },
  {
   "cell_type": "code",
   "execution_count": 1378,
   "metadata": {},
   "outputs": [
    {
     "data": {
      "text/plain": [
       "0.8101224169328136"
      ]
     },
     "execution_count": 1378,
     "metadata": {},
     "output_type": "execute_result"
    }
   ],
   "source": [
    "# Training test\n",
    "\n",
    "m = LinearRegression()\n",
    "m.fit(X_train,y_train)\n",
    "m.score(X_train,y_train)"
   ]
  },
  {
   "cell_type": "code",
   "execution_count": 1379,
   "metadata": {},
   "outputs": [],
   "source": [
    "# test data\n",
    "\n",
    "# Adding variables \n",
    "X_test['on_waterfront'] = pd.get_dummies(X_test['on_waterfront'],drop_first=True)\n",
    "X_test['view_description'] = pd.get_dummies(X_test['view_description'],drop_first=True)\n",
    "X_test['Bath_x_YB'] = X_test['bathrooms'] * X_test['year_built']\n",
    "X_test['sf3'] = X_test['sf'] ** 3\n",
    "X_test['bathrooms3'] = X_test['bathrooms'] ** 3\n",
    "X_test['on_waterfrontXsf'] = X_test['on_waterfront'] * X_test['sf']\n",
    "X_test['on_waterfrontXbedrooms'] = X_test['on_waterfront'] * X_test['bedrooms']\n",
    "X_test['view_descriptionXbathrooms'] = X_test['view_description'] * X_test['bathrooms']\n",
    "X_test['sfXlot_size2'] = X_test['sf'] * X_test['lot_size'] ** 2\n",
    "X_test['on_waterfrontXview_description'] = X_test['on_waterfront'] * X_test['view_description']\n",
    "\n",
    "# Dropping variables\n",
    "X_test = X_test.drop(['lot_size'], axis=1)\n",
    "X_test = X_test.drop(['bedrooms'], axis=1)\n",
    "X_test = X_test.drop(['bathrooms'], axis=1)\n",
    "X_test = X_test.drop(['sf'], axis=1)\n",
    "X_test = X_test.drop(['garage_spaces'], axis=1)\n",
    "X_test = X_test.drop(['year_built'], axis=1)"
   ]
  },
  {
   "cell_type": "code",
   "execution_count": 1380,
   "metadata": {},
   "outputs": [
    {
     "data": {
      "text/plain": [
       "Index(['view_description', 'on_waterfront', 'zip_code', 'Bath_x_YB', 'sf3',\n",
       "       'bathrooms3', 'on_waterfrontXsf', 'on_waterfrontXbedrooms',\n",
       "       'view_descriptionXbathrooms', 'sfXlot_size2',\n",
       "       'on_waterfrontXview_description'],\n",
       "      dtype='object')"
      ]
     },
     "execution_count": 1380,
     "metadata": {},
     "output_type": "execute_result"
    }
   ],
   "source": [
    "X_test.columns"
   ]
  },
  {
   "cell_type": "code",
   "execution_count": 1381,
   "metadata": {},
   "outputs": [
    {
     "data": {
      "text/plain": [
       "0.3980630861496379"
      ]
     },
     "execution_count": 1381,
     "metadata": {},
     "output_type": "execute_result"
    }
   ],
   "source": [
    "# test score\n",
    "\n",
    "m.score(X_test,y_test)"
   ]
  },
  {
   "cell_type": "code",
   "execution_count": 1384,
   "metadata": {},
   "outputs": [
    {
     "ename": "KeyError",
     "evalue": "\"['on_waterfrontXbedrooms', 'Bath_x_YB', 'on_waterfrontXview_description', 'sf3', 'on_waterfrontXsf', 'sfXlot_size2', 'bathrooms3', 'view_descriptionXbathrooms'] not in index\"",
     "output_type": "error",
     "traceback": [
      "\u001b[1;31m---------------------------------------------------------------------------\u001b[0m",
      "\u001b[1;31mKeyError\u001b[0m                                  Traceback (most recent call last)",
      "\u001b[1;32m<ipython-input-1384-49ccbb31358c>\u001b[0m in \u001b[0;36m<module>\u001b[1;34m\u001b[0m\n\u001b[0;32m      1\u001b[0m \u001b[1;31m# Finding residuals\u001b[0m\u001b[1;33m\u001b[0m\u001b[1;33m\u001b[0m\u001b[1;33m\u001b[0m\u001b[0m\n\u001b[1;32m----> 2\u001b[1;33m df['res'] = m.predict(df[['view_description','on_waterfront','zip_code','Bath_x_YB','sf3','bathrooms3',\n\u001b[0m\u001b[0;32m      3\u001b[0m                              \u001b[1;34m'on_waterfrontXsf'\u001b[0m\u001b[1;33m,\u001b[0m\u001b[1;34m'on_waterfrontXbedrooms'\u001b[0m\u001b[1;33m,\u001b[0m\u001b[1;34m'view_descriptionXbathrooms'\u001b[0m\u001b[1;33m,\u001b[0m\u001b[1;33m\u001b[0m\u001b[1;33m\u001b[0m\u001b[0m\n\u001b[0;32m      4\u001b[0m                              'sfXlot_size2','on_waterfrontXview_description']])- df['price']\n",
      "\u001b[1;32m~\\anaconda3\\lib\\site-packages\\pandas\\core\\frame.py\u001b[0m in \u001b[0;36m__getitem__\u001b[1;34m(self, key)\u001b[0m\n\u001b[0;32m   2910\u001b[0m             \u001b[1;32mif\u001b[0m \u001b[0mis_iterator\u001b[0m\u001b[1;33m(\u001b[0m\u001b[0mkey\u001b[0m\u001b[1;33m)\u001b[0m\u001b[1;33m:\u001b[0m\u001b[1;33m\u001b[0m\u001b[1;33m\u001b[0m\u001b[0m\n\u001b[0;32m   2911\u001b[0m                 \u001b[0mkey\u001b[0m \u001b[1;33m=\u001b[0m \u001b[0mlist\u001b[0m\u001b[1;33m(\u001b[0m\u001b[0mkey\u001b[0m\u001b[1;33m)\u001b[0m\u001b[1;33m\u001b[0m\u001b[1;33m\u001b[0m\u001b[0m\n\u001b[1;32m-> 2912\u001b[1;33m             \u001b[0mindexer\u001b[0m \u001b[1;33m=\u001b[0m \u001b[0mself\u001b[0m\u001b[1;33m.\u001b[0m\u001b[0mloc\u001b[0m\u001b[1;33m.\u001b[0m\u001b[0m_get_listlike_indexer\u001b[0m\u001b[1;33m(\u001b[0m\u001b[0mkey\u001b[0m\u001b[1;33m,\u001b[0m \u001b[0maxis\u001b[0m\u001b[1;33m=\u001b[0m\u001b[1;36m1\u001b[0m\u001b[1;33m,\u001b[0m \u001b[0mraise_missing\u001b[0m\u001b[1;33m=\u001b[0m\u001b[1;32mTrue\u001b[0m\u001b[1;33m)\u001b[0m\u001b[1;33m[\u001b[0m\u001b[1;36m1\u001b[0m\u001b[1;33m]\u001b[0m\u001b[1;33m\u001b[0m\u001b[1;33m\u001b[0m\u001b[0m\n\u001b[0m\u001b[0;32m   2913\u001b[0m \u001b[1;33m\u001b[0m\u001b[0m\n\u001b[0;32m   2914\u001b[0m         \u001b[1;31m# take() does not accept boolean indexers\u001b[0m\u001b[1;33m\u001b[0m\u001b[1;33m\u001b[0m\u001b[1;33m\u001b[0m\u001b[0m\n",
      "\u001b[1;32m~\\anaconda3\\lib\\site-packages\\pandas\\core\\indexing.py\u001b[0m in \u001b[0;36m_get_listlike_indexer\u001b[1;34m(self, key, axis, raise_missing)\u001b[0m\n\u001b[0;32m   1252\u001b[0m             \u001b[0mkeyarr\u001b[0m\u001b[1;33m,\u001b[0m \u001b[0mindexer\u001b[0m\u001b[1;33m,\u001b[0m \u001b[0mnew_indexer\u001b[0m \u001b[1;33m=\u001b[0m \u001b[0max\u001b[0m\u001b[1;33m.\u001b[0m\u001b[0m_reindex_non_unique\u001b[0m\u001b[1;33m(\u001b[0m\u001b[0mkeyarr\u001b[0m\u001b[1;33m)\u001b[0m\u001b[1;33m\u001b[0m\u001b[1;33m\u001b[0m\u001b[0m\n\u001b[0;32m   1253\u001b[0m \u001b[1;33m\u001b[0m\u001b[0m\n\u001b[1;32m-> 1254\u001b[1;33m         \u001b[0mself\u001b[0m\u001b[1;33m.\u001b[0m\u001b[0m_validate_read_indexer\u001b[0m\u001b[1;33m(\u001b[0m\u001b[0mkeyarr\u001b[0m\u001b[1;33m,\u001b[0m \u001b[0mindexer\u001b[0m\u001b[1;33m,\u001b[0m \u001b[0maxis\u001b[0m\u001b[1;33m,\u001b[0m \u001b[0mraise_missing\u001b[0m\u001b[1;33m=\u001b[0m\u001b[0mraise_missing\u001b[0m\u001b[1;33m)\u001b[0m\u001b[1;33m\u001b[0m\u001b[1;33m\u001b[0m\u001b[0m\n\u001b[0m\u001b[0;32m   1255\u001b[0m         \u001b[1;32mreturn\u001b[0m \u001b[0mkeyarr\u001b[0m\u001b[1;33m,\u001b[0m \u001b[0mindexer\u001b[0m\u001b[1;33m\u001b[0m\u001b[1;33m\u001b[0m\u001b[0m\n\u001b[0;32m   1256\u001b[0m \u001b[1;33m\u001b[0m\u001b[0m\n",
      "\u001b[1;32m~\\anaconda3\\lib\\site-packages\\pandas\\core\\indexing.py\u001b[0m in \u001b[0;36m_validate_read_indexer\u001b[1;34m(self, key, indexer, axis, raise_missing)\u001b[0m\n\u001b[0;32m   1302\u001b[0m             \u001b[1;32mif\u001b[0m \u001b[0mraise_missing\u001b[0m\u001b[1;33m:\u001b[0m\u001b[1;33m\u001b[0m\u001b[1;33m\u001b[0m\u001b[0m\n\u001b[0;32m   1303\u001b[0m                 \u001b[0mnot_found\u001b[0m \u001b[1;33m=\u001b[0m \u001b[0mlist\u001b[0m\u001b[1;33m(\u001b[0m\u001b[0mset\u001b[0m\u001b[1;33m(\u001b[0m\u001b[0mkey\u001b[0m\u001b[1;33m)\u001b[0m \u001b[1;33m-\u001b[0m \u001b[0mset\u001b[0m\u001b[1;33m(\u001b[0m\u001b[0max\u001b[0m\u001b[1;33m)\u001b[0m\u001b[1;33m)\u001b[0m\u001b[1;33m\u001b[0m\u001b[1;33m\u001b[0m\u001b[0m\n\u001b[1;32m-> 1304\u001b[1;33m                 \u001b[1;32mraise\u001b[0m \u001b[0mKeyError\u001b[0m\u001b[1;33m(\u001b[0m\u001b[1;34mf\"{not_found} not in index\"\u001b[0m\u001b[1;33m)\u001b[0m\u001b[1;33m\u001b[0m\u001b[1;33m\u001b[0m\u001b[0m\n\u001b[0m\u001b[0;32m   1305\u001b[0m \u001b[1;33m\u001b[0m\u001b[0m\n\u001b[0;32m   1306\u001b[0m             \u001b[1;31m# we skip the warning on Categorical\u001b[0m\u001b[1;33m\u001b[0m\u001b[1;33m\u001b[0m\u001b[1;33m\u001b[0m\u001b[0m\n",
      "\u001b[1;31mKeyError\u001b[0m: \"['on_waterfrontXbedrooms', 'Bath_x_YB', 'on_waterfrontXview_description', 'sf3', 'on_waterfrontXsf', 'sfXlot_size2', 'bathrooms3', 'view_descriptionXbathrooms'] not in index\""
     ]
    }
   ],
   "source": [
    "# Finding residuals\n",
    "df['res'] = m.predict(df[['view_description','on_waterfront','zip_code','Bath_x_YB','sf3','bathrooms3',\n",
    "                             'on_waterfrontXsf','on_waterfrontXbedrooms','view_descriptionXbathrooms',\n",
    "                             'sfXlot_size2','on_waterfrontXview_description']])- df['price']"
   ]
  },
  {
   "cell_type": "code",
   "execution_count": 1383,
   "metadata": {},
   "outputs": [
    {
     "data": {
      "text/plain": [
       "0             NaN\n",
       "1             NaN\n",
       "3    27177.353953\n",
       "4             NaN\n",
       "5             NaN\n",
       "Name: res, dtype: float64"
      ]
     },
     "execution_count": 1383,
     "metadata": {},
     "output_type": "execute_result"
    }
   ],
   "source": [
    "df['res'].head()"
   ]
  },
  {
   "cell_type": "markdown",
   "metadata": {},
   "source": [
    "### Generating Interaction Terms and using Lasso"
   ]
  },
  {
   "cell_type": "markdown",
   "metadata": {},
   "source": [
    "#### Without lasso"
   ]
  },
  {
   "cell_type": "code",
   "execution_count": 953,
   "metadata": {},
   "outputs": [
    {
     "data": {
      "text/plain": [
       "Index(['price', 'bedrooms', 'bathrooms', 'sf', 'year_built', 'lot_size',\n",
       "       'view_description', 'on_waterfront', 'house_style', 'new_construction',\n",
       "       'garage_spaces', 'zip_code'],\n",
       "      dtype='object')"
      ]
     },
     "execution_count": 953,
     "metadata": {},
     "output_type": "execute_result"
    }
   ],
   "source": [
    "df.columns"
   ]
  },
  {
   "cell_type": "code",
   "execution_count": 954,
   "metadata": {},
   "outputs": [],
   "source": [
    "# Set x and y\n",
    "\n",
    "x_train, x_test, y_train, y_test = train_test_split(\n",
    "    df[['bedrooms','bathrooms','sf','sf','lot_size', 'view_description',\n",
    "       'on_waterfront','house_style','new_construction','garage_spaces',\n",
    "       'zip_code']], df['price']\n",
    "    , test_size=0.33, random_state=42)"
   ]
  },
  {
   "cell_type": "code",
   "execution_count": 955,
   "metadata": {},
   "outputs": [],
   "source": [
    "m = LinearRegression()"
   ]
  },
  {
   "cell_type": "code",
   "execution_count": 956,
   "metadata": {},
   "outputs": [
    {
     "data": {
      "text/plain": [
       "0.8603119761035467"
      ]
     },
     "execution_count": 956,
     "metadata": {},
     "output_type": "execute_result"
    }
   ],
   "source": [
    "# Train\n",
    "\n",
    "from sklearn.preprocessing import PolynomialFeatures\n",
    "p = PolynomialFeatures(degree=2,interaction_only=True)\n",
    "# Get dummies\n",
    "x_train['on_waterfront'] = pd.get_dummies(x_train['on_waterfront'],drop_first=True)\n",
    "x_train['view_description'] = pd.get_dummies(x_train['view_description'],drop_first=True)\n",
    "x_train['house_style'] = pd.get_dummies(x_train['house_style'],drop_first=True)\n",
    "x_train['new_construction'] = pd.get_dummies(x_train['new_construction'],drop_first=True)\n",
    "x_train_poly = p.fit_transform(x_train)\n",
    "# Fit and score\n",
    "m.fit(x_train_poly,y_train)\n",
    "m.score(x_train_poly,y_train)"
   ]
  },
  {
   "cell_type": "code",
   "execution_count": 957,
   "metadata": {},
   "outputs": [],
   "source": [
    "#list(zip(p.get_feature_names(['bedrooms','bathrooms','sf','sf','lot_size', 'view_description',\n",
    "#       'on_waterfront','house_style','new_construction','garage_spaces',\n",
    "#       'zip_code']),m.coef_))"
   ]
  },
  {
   "cell_type": "code",
   "execution_count": 958,
   "metadata": {},
   "outputs": [
    {
     "data": {
      "text/plain": [
       "-23.19951981937141"
      ]
     },
     "execution_count": 958,
     "metadata": {},
     "output_type": "execute_result"
    }
   ],
   "source": [
    "# Apply to test data\n",
    "x_test['on_waterfront'] = pd.get_dummies(x_test['on_waterfront'],drop_first=True)\n",
    "x_test['view_description'] = pd.get_dummies(x_test['view_description'],drop_first=True)\n",
    "x_test['house_style'] = pd.get_dummies(x_test['house_style'],drop_first=True)\n",
    "x_test['new_construction'] = pd.get_dummies(x_test['new_construction'],drop_first=True)\n",
    "#Transform and score\n",
    "x_test_poly = p.transform(x_test)\n",
    "m.score(x_test_poly,y_test)"
   ]
  },
  {
   "cell_type": "markdown",
   "metadata": {},
   "source": [
    "### Apply Lasso - all variables"
   ]
  },
  {
   "cell_type": "code",
   "execution_count": 959,
   "metadata": {},
   "outputs": [],
   "source": [
    "from sklearn.linear_model import LassoCV\n",
    "from sklearn.linear_model import RidgeCV"
   ]
  },
  {
   "cell_type": "code",
   "execution_count": 960,
   "metadata": {},
   "outputs": [],
   "source": [
    "# Set x and y\n",
    "\n",
    "x_train, x_test, y_train, y_test = train_test_split(\n",
    "    df[['bedrooms','bathrooms','sf','sf','lot_size', 'view_description',\n",
    "       'on_waterfront','house_style','new_construction','garage_spaces',\n",
    "       'zip_code']], df['price']\n",
    "    , test_size=0.33, random_state=42)"
   ]
  },
  {
   "cell_type": "code",
   "execution_count": 961,
   "metadata": {},
   "outputs": [
    {
     "data": {
      "text/plain": [
       "0.8148179460170832"
      ]
     },
     "execution_count": 961,
     "metadata": {},
     "output_type": "execute_result"
    }
   ],
   "source": [
    "# Lasso squared and interaction terms training\n",
    "\n",
    "m = LassoCV()\n",
    "p = PolynomialFeatures(degree=2)\n",
    "# Create Dummies\n",
    "x_train['on_waterfront'] = pd.get_dummies(x_train['on_waterfront'],drop_first=True)\n",
    "x_train['view_description'] = pd.get_dummies(x_train['view_description'],drop_first=True)\n",
    "x_train['house_style'] = pd.get_dummies(x_train['house_style'],drop_first=True)\n",
    "x_train['new_construction'] = pd.get_dummies(x_train['new_construction'],drop_first=True)\n",
    "x_train_poly = p.fit_transform(x_train)\n",
    "# Standardize, train, and fit \n",
    "s = StandardScaler(with_mean=False)\n",
    "x_train_poly_scaled = s.fit_transform(x_train_poly)\n",
    "m.fit(x_train_poly_scaled,y_train)\n",
    "m.score(x_train_poly_scaled,y_train)"
   ]
  },
  {
   "cell_type": "code",
   "execution_count": 962,
   "metadata": {},
   "outputs": [
    {
     "data": {
      "text/plain": [
       "-1.0226498228329044"
      ]
     },
     "execution_count": 962,
     "metadata": {},
     "output_type": "execute_result"
    }
   ],
   "source": [
    "# Lasso squared and interaction terms test\n",
    "\n",
    "# Create Dummies\n",
    "x_test['on_waterfront'] = pd.get_dummies(x_test['on_waterfront'],drop_first=True)\n",
    "x_test['view_description'] = pd.get_dummies(x_test['view_description'],drop_first=True)\n",
    "x_test['house_style'] = pd.get_dummies(x_test['house_style'],drop_first=True)\n",
    "x_test['new_construction'] = pd.get_dummies(x_test['new_construction'],drop_first=True)\n",
    "# Standardize and transform\n",
    "x_test_poly = p.transform(x_test)\n",
    "x_test_poly_scaled = s.transform(x_test_poly)\n",
    "m.score(x_test_poly_scaled,y_test)"
   ]
  },
  {
   "cell_type": "code",
   "execution_count": 963,
   "metadata": {},
   "outputs": [
    {
     "data": {
      "text/plain": [
       "[('1', 0.0),\n",
       " ('bedrooms', -0.0),\n",
       " ('bathrooms', 0.0),\n",
       " ('sf', 0.0),\n",
       " ('sf', 0.0),\n",
       " ('lot_size', 0.0),\n",
       " ('view_description', 0.0),\n",
       " ('on_waterfront', -0.0),\n",
       " ('house_style', -0.0),\n",
       " ('new_construction', 0.0),\n",
       " ('garage_spaces', -0.0),\n",
       " ('zip_code', -0.0),\n",
       " ('bedrooms^2', -42746.83100329199),\n",
       " ('bedrooms bathrooms', -0.0),\n",
       " ('bedrooms sf', -0.0),\n",
       " ('bedrooms sf', -0.0),\n",
       " ('bedrooms lot_size', 0.0),\n",
       " ('bedrooms view_description', 0.0),\n",
       " ('bedrooms on_waterfront', -0.0),\n",
       " ('bedrooms house_style', -0.0),\n",
       " ('bedrooms new_construction', 0.0),\n",
       " ('bedrooms garage_spaces', -0.0),\n",
       " ('bedrooms zip_code', -0.0),\n",
       " ('bathrooms^2', 0.0),\n",
       " ('bathrooms sf', 0.0),\n",
       " ('bathrooms sf', 0.0),\n",
       " ('bathrooms lot_size', 92145.65075056403),\n",
       " ('bathrooms view_description', 0.0),\n",
       " ('bathrooms on_waterfront', -0.0),\n",
       " ('bathrooms house_style', -0.0),\n",
       " ('bathrooms new_construction', 0.0),\n",
       " ('bathrooms garage_spaces', -0.0),\n",
       " ('bathrooms zip_code', 0.0),\n",
       " ('sf^2', 849914.9452297478),\n",
       " ('sf sf', 0.0),\n",
       " ('sf lot_size', 27783.95467594039),\n",
       " ('sf view_description', 51349.616846189594),\n",
       " ('sf on_waterfront', -21667.98579270453),\n",
       " ('sf house_style', -0.0),\n",
       " ('sf new_construction', 0.0),\n",
       " ('sf garage_spaces', -0.0),\n",
       " ('sf zip_code', 0.0),\n",
       " ('sf^2', 0.0),\n",
       " ('sf lot_size', 0.0),\n",
       " ('sf view_description', 3.4144778478676545),\n",
       " ('sf on_waterfront', -8606.230624350988),\n",
       " ('sf house_style', -0.0),\n",
       " ('sf new_construction', 0.0),\n",
       " ('sf garage_spaces', -0.0),\n",
       " ('sf zip_code', 0.0),\n",
       " ('lot_size^2', 0.0),\n",
       " ('lot_size view_description', 0.0),\n",
       " ('lot_size on_waterfront', -5344.704593112933),\n",
       " ('lot_size house_style', -0.0),\n",
       " ('lot_size new_construction', -0.0),\n",
       " ('lot_size garage_spaces', 0.0),\n",
       " ('lot_size zip_code', 0.0),\n",
       " ('view_description^2', 0.0),\n",
       " ('view_description on_waterfront', 0.0),\n",
       " ('view_description house_style', 0.0),\n",
       " ('view_description new_construction', -0.0),\n",
       " ('view_description garage_spaces', 0.0),\n",
       " ('view_description zip_code', 0.0),\n",
       " ('on_waterfront^2', -0.0),\n",
       " ('on_waterfront house_style', -0.0),\n",
       " ('on_waterfront new_construction', 0.0),\n",
       " ('on_waterfront garage_spaces', -0.0),\n",
       " ('on_waterfront zip_code', -0.0),\n",
       " ('house_style^2', -0.0),\n",
       " ('house_style new_construction', 0.0),\n",
       " ('house_style garage_spaces', -0.0),\n",
       " ('house_style zip_code', -0.0),\n",
       " ('new_construction^2', 0.0),\n",
       " ('new_construction garage_spaces', 0.0),\n",
       " ('new_construction zip_code', 0.0),\n",
       " ('garage_spaces^2', -4353.607478802834),\n",
       " ('garage_spaces zip_code', -0.0),\n",
       " ('zip_code^2', -0.0)]"
      ]
     },
     "execution_count": 963,
     "metadata": {},
     "output_type": "execute_result"
    }
   ],
   "source": [
    "# Investigate the high value coefficients\n",
    "\n",
    "list(zip(p.get_feature_names(['bedrooms','bathrooms','sf','sf','lot_size', 'view_description',\n",
    "       'on_waterfront','house_style','new_construction','garage_spaces',\n",
    "       'zip_code']),m.coef_))"
   ]
  },
  {
   "cell_type": "markdown",
   "metadata": {},
   "source": [
    "Variables with a large impact\n",
    "- ('bedrooms^2', -42746.83100329199),\n",
    "- ('bathrooms lot_size', 92145.65075056403),\n",
    "- ('sf^2', 849914.9452297478),\n",
    "- ('sf lot_size', 27783.95467594039),\n",
    "- ('sf view_description', 51349.616846189594),\n",
    "- ('sf on_waterfront', -21667.98579270453),\n",
    "- ('sf on_waterfront', -8606.230624350988),\n",
    "- ('lot_size on_waterfront', -5344.704593112933),\n",
    "- ('garage_spaces^2', -4353.607478802834),"
   ]
  },
  {
   "cell_type": "markdown",
   "metadata": {},
   "source": [
    "## Apply Lasso - all variables"
   ]
  },
  {
   "cell_type": "code",
   "execution_count": 964,
   "metadata": {},
   "outputs": [],
   "source": [
    "# Set x and y\n",
    "\n",
    "x_train, x_test, y_train, y_test = train_test_split(\n",
    "    df[['bedrooms','bathrooms','sf','sf','lot_size', 'view_description',\n",
    "       'on_waterfront','garage_spaces',\n",
    "       'zip_code']], df['price']\n",
    "    , test_size=0.33, random_state=42)"
   ]
  },
  {
   "cell_type": "code",
   "execution_count": 965,
   "metadata": {},
   "outputs": [
    {
     "data": {
      "text/plain": [
       "0.8123706739793402"
      ]
     },
     "execution_count": 965,
     "metadata": {},
     "output_type": "execute_result"
    }
   ],
   "source": [
    "# Lasso squared and interaction terms training\n",
    "\n",
    "m = LassoCV()\n",
    "p = PolynomialFeatures(interaction_only=True)\n",
    "# Create Dummies\n",
    "x_train['on_waterfront'] = pd.get_dummies(x_train['on_waterfront'],drop_first=True)\n",
    "x_train['view_description'] = pd.get_dummies(x_train['view_description'],drop_first=True)\n",
    "x_train_poly = p.fit_transform(x_train)\n",
    "# Standardize, train, and fit \n",
    "s = StandardScaler(with_mean=False)\n",
    "x_train_poly_scaled = s.fit_transform(x_train_poly)\n",
    "m.fit(x_train_poly_scaled,y_train)\n",
    "m.score(x_train_poly_scaled,y_train)"
   ]
  },
  {
   "cell_type": "code",
   "execution_count": 966,
   "metadata": {},
   "outputs": [
    {
     "data": {
      "text/plain": [
       "-1.2926588135086896"
      ]
     },
     "execution_count": 966,
     "metadata": {},
     "output_type": "execute_result"
    }
   ],
   "source": [
    "# Lasso squared and interaction terms test\n",
    "\n",
    "# Create Dummies\n",
    "x_test['on_waterfront'] = pd.get_dummies(x_test['on_waterfront'],drop_first=True)\n",
    "x_test['view_description'] = pd.get_dummies(x_test['view_description'],drop_first=True)\n",
    "# Standardize and transform\n",
    "x_test_poly = p.transform(x_test)\n",
    "x_test_poly_scaled = s.transform(x_test_poly)\n",
    "m.score(x_test_poly_scaled,y_test)"
   ]
  },
  {
   "cell_type": "code",
   "execution_count": null,
   "metadata": {},
   "outputs": [],
   "source": []
  },
  {
   "cell_type": "code",
   "execution_count": null,
   "metadata": {},
   "outputs": [],
   "source": []
  },
  {
   "cell_type": "code",
   "execution_count": null,
   "metadata": {},
   "outputs": [],
   "source": []
  },
  {
   "cell_type": "code",
   "execution_count": null,
   "metadata": {},
   "outputs": [],
   "source": []
  },
  {
   "cell_type": "code",
   "execution_count": null,
   "metadata": {},
   "outputs": [],
   "source": []
  }
 ],
 "metadata": {
  "kernelspec": {
   "display_name": "Python 3",
   "language": "python",
   "name": "python3"
  },
  "language_info": {
   "codemirror_mode": {
    "name": "ipython",
    "version": 3
   },
   "file_extension": ".py",
   "mimetype": "text/x-python",
   "name": "python",
   "nbconvert_exporter": "python",
   "pygments_lexer": "ipython3",
   "version": "3.8.5"
  }
 },
 "nbformat": 4,
 "nbformat_minor": 4
}
