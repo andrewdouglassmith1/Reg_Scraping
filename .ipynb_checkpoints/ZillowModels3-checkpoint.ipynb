{
 "cells": [
  {
   "cell_type": "markdown",
   "metadata": {},
   "source": [
    "# Import Key Libraries"
   ]
  },
  {
   "cell_type": "code",
   "execution_count": 1,
   "metadata": {},
   "outputs": [
    {
     "name": "stdout",
     "output_type": "stream",
     "text": [
      "Populating the interactive namespace from numpy and matplotlib\n"
     ]
    }
   ],
   "source": [
    "import pandas as pd\n",
    "import matplotlib.pyplot as plt\n",
    "import numpy as np\n",
    "from sklearn.linear_model import LinearRegression\n",
    "import seaborn as sns\n",
    "from sklearn.preprocessing import OneHotEncoder\n",
    "%pylab inline\n",
    "%config InlineBackend.figure_formats = ['retina']\n",
    "\n",
    "import pandas as pd\n",
    "import seaborn as sns\n",
    "sns.set()\n",
    "\n",
    "from sklearn.model_selection import train_test_split\n",
    "from sklearn.linear_model import LinearRegression\n",
    "from sklearn.pipeline import Pipeline\n",
    "from sklearn.preprocessing import StandardScaler\n",
    "from sklearn.linear_model import LassoCV\n",
    "from sklearn.linear_model import RidgeCV\n",
    "import statsmodels.api as sm\n",
    "import statsmodels.formula.api as smf"
   ]
  },
  {
   "cell_type": "markdown",
   "metadata": {},
   "source": [
    "# Data Cleaning"
   ]
  },
  {
   "cell_type": "code",
   "execution_count": 2,
   "metadata": {},
   "outputs": [],
   "source": [
    "# Load dataset\n",
    "\n",
    "df = pd.read_csv(\"df_all_rounds.csv\")"
   ]
  },
  {
   "cell_type": "markdown",
   "metadata": {},
   "source": [
    "### Zip Code"
   ]
  },
  {
   "cell_type": "code",
   "execution_count": 3,
   "metadata": {},
   "outputs": [],
   "source": [
    "# Create a column for zip code\n",
    "\n",
    "df['zip_code'] = [url[url.find(\"VT\")+3:url.find(\"VT\")+8] for url in df['link']]"
   ]
  },
  {
   "cell_type": "code",
   "execution_count": 4,
   "metadata": {},
   "outputs": [],
   "source": [
    "# Drop links column\n",
    "\n",
    "df = df.drop(['link'], axis = 1)"
   ]
  },
  {
   "cell_type": "markdown",
   "metadata": {},
   "source": [
    "### View Description"
   ]
  },
  {
   "cell_type": "code",
   "execution_count": 5,
   "metadata": {},
   "outputs": [
    {
     "data": {
      "text/plain": [
       "array(['{}', ' Mountain(s)', ' Mountain(s), Water', ' Water', ' Mountain'],\n",
       "      dtype=object)"
      ]
     },
     "execution_count": 5,
     "metadata": {},
     "output_type": "execute_result"
    }
   ],
   "source": [
    "# Regroup view description so all \"Mountain(s)\" become \"Mountain\"\n",
    "\n",
    "df['view_description'].unique()"
   ]
  },
  {
   "cell_type": "code",
   "execution_count": 6,
   "metadata": {},
   "outputs": [
    {
     "data": {
      "text/plain": [
       "array(['{}', ' Mountain', ' Mountain, Water', ' Water'], dtype=object)"
      ]
     },
     "execution_count": 6,
     "metadata": {},
     "output_type": "execute_result"
    }
   ],
   "source": [
    "df['view_description'] = [view.replace(\"Mountain(s)\",\"Mountain\") for view in df['view_description']]\n",
    "df['view_description'].unique()"
   ]
  },
  {
   "cell_type": "markdown",
   "metadata": {},
   "source": [
    "### Lot Size"
   ]
  },
  {
   "cell_type": "code",
   "execution_count": 7,
   "metadata": {},
   "outputs": [],
   "source": [
    "# Drop where lot size column includes a price per year (a few HOA fees are here)\n",
    "\n",
    "df = df.drop(df[df.lot_size.str.contains(r'[$]')].index)"
   ]
  },
  {
   "cell_type": "code",
   "execution_count": 8,
   "metadata": {},
   "outputs": [],
   "source": [
    "# Take acres out of lot size \n",
    "\n",
    "df['lot_size'] = [lot.split(\" \")[0] for lot in df['lot_size']]\n",
    "df['lot_size'] = [lot.replace(\",\",\"\") for lot in df['lot_size']]"
   ]
  },
  {
   "cell_type": "code",
   "execution_count": 9,
   "metadata": {},
   "outputs": [],
   "source": [
    "# Convert to float 64\n",
    "\n",
    "df['lot_size'] = pd.to_numeric(df['lot_size'],errors='coerce')"
   ]
  },
  {
   "cell_type": "markdown",
   "metadata": {},
   "source": [
    "### Home Square Footage"
   ]
  },
  {
   "cell_type": "code",
   "execution_count": 10,
   "metadata": {},
   "outputs": [],
   "source": [
    "# Take sqft out of square footage\n",
    "\n",
    "df['sf'] = [footage.split(\" \")[0] for footage in df['sf']]\n",
    "df['sf'] = [footage.replace(\",\",\"\") for footage in df['sf']]"
   ]
  },
  {
   "cell_type": "code",
   "execution_count": 11,
   "metadata": {},
   "outputs": [],
   "source": [
    "# Convert to float 64\n",
    "\n",
    "df['sf'] = pd.to_numeric(df['sf'],errors='coerce')"
   ]
  },
  {
   "cell_type": "markdown",
   "metadata": {},
   "source": [
    "### Bathrooms"
   ]
  },
  {
   "cell_type": "code",
   "execution_count": 12,
   "metadata": {},
   "outputs": [],
   "source": [
    "# Take ba out of bathrooms\n",
    "\n",
    "df['bathrooms'] = [bathroom.split(\" \")[0] for bathroom in df['bathrooms']]"
   ]
  },
  {
   "cell_type": "code",
   "execution_count": 13,
   "metadata": {},
   "outputs": [],
   "source": [
    "# Convert to float 64\n",
    "\n",
    "df['bathrooms'] = pd.to_numeric(df['bathrooms'],errors='coerce')"
   ]
  },
  {
   "cell_type": "markdown",
   "metadata": {},
   "source": [
    "### Home Price"
   ]
  },
  {
   "cell_type": "code",
   "execution_count": 14,
   "metadata": {},
   "outputs": [],
   "source": [
    "# Take dollar signs out of price\n",
    "\n",
    "df['price'] = [value.split(\"$\")[1] for value in df['price']]\n",
    "df['price'] = [value.replace(\",\",\"\") for value in df['price']]"
   ]
  },
  {
   "cell_type": "code",
   "execution_count": 15,
   "metadata": {},
   "outputs": [],
   "source": [
    "# Convert to float 64\n",
    "\n",
    "df['price'] = pd.to_numeric(df['price'],errors='coerce')"
   ]
  },
  {
   "cell_type": "code",
   "execution_count": 16,
   "metadata": {},
   "outputs": [
    {
     "data": {
      "text/plain": [
       "Index(['Unnamed: 0', 'price', 'bedrooms', 'bathrooms', 'sf', 'year_built',\n",
       "       'lot_size', 'view_description', 'on_waterfront', 'house_style',\n",
       "       'new_construction', 'garage_spaces', 'zip_code'],\n",
       "      dtype='object')"
      ]
     },
     "execution_count": 16,
     "metadata": {},
     "output_type": "execute_result"
    }
   ],
   "source": [
    "df.columns"
   ]
  },
  {
   "cell_type": "code",
   "execution_count": 17,
   "metadata": {},
   "outputs": [],
   "source": [
    "df = df.drop(['Unnamed: 0'], axis = 1)"
   ]
  },
  {
   "cell_type": "code",
   "execution_count": 18,
   "metadata": {},
   "outputs": [
    {
     "data": {
      "text/html": [
       "<div>\n",
       "<style scoped>\n",
       "    .dataframe tbody tr th:only-of-type {\n",
       "        vertical-align: middle;\n",
       "    }\n",
       "\n",
       "    .dataframe tbody tr th {\n",
       "        vertical-align: top;\n",
       "    }\n",
       "\n",
       "    .dataframe thead th {\n",
       "        text-align: right;\n",
       "    }\n",
       "</style>\n",
       "<table border=\"1\" class=\"dataframe\">\n",
       "  <thead>\n",
       "    <tr style=\"text-align: right;\">\n",
       "      <th></th>\n",
       "      <th>price</th>\n",
       "      <th>bedrooms</th>\n",
       "      <th>bathrooms</th>\n",
       "      <th>sf</th>\n",
       "      <th>year_built</th>\n",
       "      <th>lot_size</th>\n",
       "      <th>view_description</th>\n",
       "      <th>on_waterfront</th>\n",
       "      <th>house_style</th>\n",
       "      <th>new_construction</th>\n",
       "      <th>garage_spaces</th>\n",
       "      <th>zip_code</th>\n",
       "    </tr>\n",
       "  </thead>\n",
       "  <tbody>\n",
       "    <tr>\n",
       "      <th>0</th>\n",
       "      <td>84900</td>\n",
       "      <td>2</td>\n",
       "      <td>2.0</td>\n",
       "      <td>902.0</td>\n",
       "      <td>1960</td>\n",
       "      <td>400752.0</td>\n",
       "      <td>{}</td>\n",
       "      <td>{}</td>\n",
       "      <td>Ranch</td>\n",
       "      <td>No</td>\n",
       "      <td>1</td>\n",
       "      <td>05045</td>\n",
       "    </tr>\n",
       "    <tr>\n",
       "      <th>1</th>\n",
       "      <td>335000</td>\n",
       "      <td>2</td>\n",
       "      <td>2.0</td>\n",
       "      <td>1680.0</td>\n",
       "      <td>1986</td>\n",
       "      <td>304920.0</td>\n",
       "      <td>{}</td>\n",
       "      <td>{}</td>\n",
       "      <td>Cape</td>\n",
       "      <td>No</td>\n",
       "      <td>0</td>\n",
       "      <td>05677</td>\n",
       "    </tr>\n",
       "    <tr>\n",
       "      <th>3</th>\n",
       "      <td>245000</td>\n",
       "      <td>3</td>\n",
       "      <td>2.0</td>\n",
       "      <td>1268.0</td>\n",
       "      <td>1960</td>\n",
       "      <td>174240.0</td>\n",
       "      <td>{}</td>\n",
       "      <td>{}</td>\n",
       "      <td>Cape</td>\n",
       "      <td>No</td>\n",
       "      <td>0</td>\n",
       "      <td>05730</td>\n",
       "    </tr>\n",
       "    <tr>\n",
       "      <th>4</th>\n",
       "      <td>374000</td>\n",
       "      <td>9</td>\n",
       "      <td>9.0</td>\n",
       "      <td>5788.0</td>\n",
       "      <td>1861</td>\n",
       "      <td>56628.0</td>\n",
       "      <td>{}</td>\n",
       "      <td>{}</td>\n",
       "      <td>Victorian</td>\n",
       "      <td>No</td>\n",
       "      <td>2</td>\n",
       "      <td>05143</td>\n",
       "    </tr>\n",
       "    <tr>\n",
       "      <th>5</th>\n",
       "      <td>360000</td>\n",
       "      <td>3</td>\n",
       "      <td>2.0</td>\n",
       "      <td>1804.0</td>\n",
       "      <td>1962</td>\n",
       "      <td>18295.0</td>\n",
       "      <td>{}</td>\n",
       "      <td>{}</td>\n",
       "      <td>Raised Ranch</td>\n",
       "      <td>No</td>\n",
       "      <td>2</td>\n",
       "      <td>05482</td>\n",
       "    </tr>\n",
       "  </tbody>\n",
       "</table>\n",
       "</div>"
      ],
      "text/plain": [
       "    price  bedrooms  bathrooms      sf year_built  lot_size view_description  \\\n",
       "0   84900         2        2.0   902.0       1960  400752.0               {}   \n",
       "1  335000         2        2.0  1680.0       1986  304920.0               {}   \n",
       "3  245000         3        2.0  1268.0       1960  174240.0               {}   \n",
       "4  374000         9        9.0  5788.0       1861   56628.0               {}   \n",
       "5  360000         3        2.0  1804.0       1962   18295.0               {}   \n",
       "\n",
       "  on_waterfront    house_style new_construction  garage_spaces zip_code  \n",
       "0            {}          Ranch               No              1    05045  \n",
       "1            {}           Cape               No              0    05677  \n",
       "3            {}           Cape               No              0    05730  \n",
       "4            {}      Victorian               No              2    05143  \n",
       "5            {}   Raised Ranch               No              2    05482  "
      ]
     },
     "execution_count": 18,
     "metadata": {},
     "output_type": "execute_result"
    }
   ],
   "source": [
    "df.head()"
   ]
  },
  {
   "cell_type": "markdown",
   "metadata": {},
   "source": [
    "### Year Built"
   ]
  },
  {
   "cell_type": "code",
   "execution_count": 19,
   "metadata": {},
   "outputs": [],
   "source": [
    "# Convert to float 64\n",
    "df['year_built'] = pd.to_numeric(df['year_built'],errors='coerce')\n",
    "# Drop rows where equal to zero"
   ]
  },
  {
   "cell_type": "markdown",
   "metadata": {},
   "source": [
    "### Waterfront"
   ]
  },
  {
   "cell_type": "code",
   "execution_count": 20,
   "metadata": {},
   "outputs": [],
   "source": [
    "df['on_waterfront'] = [value.replace(\"{}\",\"No\") for value in df['on_waterfront']]"
   ]
  },
  {
   "cell_type": "markdown",
   "metadata": {},
   "source": [
    "### Drop NaNs and null values"
   ]
  },
  {
   "cell_type": "code",
   "execution_count": 21,
   "metadata": {},
   "outputs": [],
   "source": [
    "df.dropna(inplace=True)"
   ]
  },
  {
   "cell_type": "code",
   "execution_count": 22,
   "metadata": {},
   "outputs": [],
   "source": [
    "# Removing zero from year\n",
    "\n",
    "df = df.loc[(df[['year_built']] != 0).all(axis=1)]"
   ]
  },
  {
   "cell_type": "code",
   "execution_count": 23,
   "metadata": {},
   "outputs": [
    {
     "data": {
      "text/plain": [
       "(729, 12)"
      ]
     },
     "execution_count": 23,
     "metadata": {},
     "output_type": "execute_result"
    }
   ],
   "source": [
    "df.shape"
   ]
  },
  {
   "cell_type": "markdown",
   "metadata": {},
   "source": [
    "### Add Median Income from Vermont HUD"
   ]
  },
  {
   "cell_type": "code",
   "execution_count": 24,
   "metadata": {},
   "outputs": [
    {
     "data": {
      "text/plain": [
       "Index(['Zip Codes, Cities, and Counties in Vermont', 'Zip_Code', 'Unnamed: 2'], dtype='object')"
      ]
     },
     "execution_count": 24,
     "metadata": {},
     "output_type": "execute_result"
    }
   ],
   "source": [
    "# Read county zip code data\n",
    "df_county_zips = pd.read_csv('County_Zip_Codes.csv')\n",
    "df_county_zips.columns"
   ]
  },
  {
   "cell_type": "code",
   "execution_count": 25,
   "metadata": {},
   "outputs": [],
   "source": [
    "df_county_zips = df_county_zips.drop(['Zip_Code'], axis = 1)\n",
    "df_county_zips = df_county_zips.drop(['Unnamed: 2'], axis = 1)"
   ]
  },
  {
   "cell_type": "code",
   "execution_count": 26,
   "metadata": {},
   "outputs": [
    {
     "data": {
      "text/html": [
       "<div>\n",
       "<style scoped>\n",
       "    .dataframe tbody tr th:only-of-type {\n",
       "        vertical-align: middle;\n",
       "    }\n",
       "\n",
       "    .dataframe tbody tr th {\n",
       "        vertical-align: top;\n",
       "    }\n",
       "\n",
       "    .dataframe thead th {\n",
       "        text-align: right;\n",
       "    }\n",
       "</style>\n",
       "<table border=\"1\" class=\"dataframe\">\n",
       "  <thead>\n",
       "    <tr style=\"text-align: right;\">\n",
       "      <th></th>\n",
       "      <th>zip_code</th>\n",
       "      <th>county</th>\n",
       "    </tr>\n",
       "  </thead>\n",
       "  <tbody>\n",
       "    <tr>\n",
       "      <th>0</th>\n",
       "      <td>05001</td>\n",
       "      <td>Windsor</td>\n",
       "    </tr>\n",
       "    <tr>\n",
       "      <th>1</th>\n",
       "      <td>05009</td>\n",
       "      <td>Windsor</td>\n",
       "    </tr>\n",
       "    <tr>\n",
       "      <th>2</th>\n",
       "      <td>05030</td>\n",
       "      <td>Windsor</td>\n",
       "    </tr>\n",
       "    <tr>\n",
       "      <th>3</th>\n",
       "      <td>05031</td>\n",
       "      <td>Windsor</td>\n",
       "    </tr>\n",
       "    <tr>\n",
       "      <th>4</th>\n",
       "      <td>05032</td>\n",
       "      <td>Windsor</td>\n",
       "    </tr>\n",
       "  </tbody>\n",
       "</table>\n",
       "</div>"
      ],
      "text/plain": [
       "  zip_code   county\n",
       "0    05001  Windsor\n",
       "1    05009  Windsor\n",
       "2    05030  Windsor\n",
       "3    05031  Windsor\n",
       "4    05032  Windsor"
      ]
     },
     "execution_count": 26,
     "metadata": {},
     "output_type": "execute_result"
    }
   ],
   "source": [
    "# Create a column with county name only and a column with zip code only\n",
    "\n",
    "df_county_zips['zip_code'] = [value.split(\",\")[0] for value in df_county_zips['Zip Codes, Cities, and Counties in Vermont']]\n",
    "df_county_zips['county'] = [value.rsplit(',', 1)[1] for value in df_county_zips['Zip Codes, Cities, and Counties in Vermont']]\n",
    "df_county_zips = df_county_zips.drop(['Zip Codes, Cities, and Counties in Vermont'], axis = 1)\n",
    "df_county_zips['county'] = df_county_zips['county'].str.strip()\n",
    "df_county_zips.head()"
   ]
  },
  {
   "cell_type": "code",
   "execution_count": 27,
   "metadata": {},
   "outputs": [],
   "source": [
    "# Read county median income data\n",
    "\n",
    "df_income = pd.read_csv(\"median_income.csv\")\n",
    "df_income = df_income.drop(['Unnamed: 2'], axis = 1)\n",
    "df_income = df_income.drop(['Unnamed: 3'], axis = 1)"
   ]
  },
  {
   "cell_type": "code",
   "execution_count": 28,
   "metadata": {},
   "outputs": [
    {
     "data": {
      "text/html": [
       "<div>\n",
       "<style scoped>\n",
       "    .dataframe tbody tr th:only-of-type {\n",
       "        vertical-align: middle;\n",
       "    }\n",
       "\n",
       "    .dataframe tbody tr th {\n",
       "        vertical-align: top;\n",
       "    }\n",
       "\n",
       "    .dataframe thead th {\n",
       "        text-align: right;\n",
       "    }\n",
       "</style>\n",
       "<table border=\"1\" class=\"dataframe\">\n",
       "  <thead>\n",
       "    <tr style=\"text-align: right;\">\n",
       "      <th></th>\n",
       "      <th>zip_code</th>\n",
       "      <th>county</th>\n",
       "    </tr>\n",
       "  </thead>\n",
       "  <tbody>\n",
       "    <tr>\n",
       "      <th>0</th>\n",
       "      <td>05001</td>\n",
       "      <td>Windsor</td>\n",
       "    </tr>\n",
       "    <tr>\n",
       "      <th>1</th>\n",
       "      <td>05009</td>\n",
       "      <td>Windsor</td>\n",
       "    </tr>\n",
       "    <tr>\n",
       "      <th>2</th>\n",
       "      <td>05030</td>\n",
       "      <td>Windsor</td>\n",
       "    </tr>\n",
       "    <tr>\n",
       "      <th>3</th>\n",
       "      <td>05031</td>\n",
       "      <td>Windsor</td>\n",
       "    </tr>\n",
       "    <tr>\n",
       "      <th>4</th>\n",
       "      <td>05032</td>\n",
       "      <td>Windsor</td>\n",
       "    </tr>\n",
       "    <tr>\n",
       "      <th>...</th>\n",
       "      <td>...</td>\n",
       "      <td>...</td>\n",
       "    </tr>\n",
       "    <tr>\n",
       "      <th>304</th>\n",
       "      <td>05903</td>\n",
       "      <td>Essex</td>\n",
       "    </tr>\n",
       "    <tr>\n",
       "      <th>305</th>\n",
       "      <td>05904</td>\n",
       "      <td>Essex</td>\n",
       "    </tr>\n",
       "    <tr>\n",
       "      <th>306</th>\n",
       "      <td>05905</td>\n",
       "      <td>Essex</td>\n",
       "    </tr>\n",
       "    <tr>\n",
       "      <th>307</th>\n",
       "      <td>05906</td>\n",
       "      <td>Essex</td>\n",
       "    </tr>\n",
       "    <tr>\n",
       "      <th>308</th>\n",
       "      <td>05907</td>\n",
       "      <td>Essex</td>\n",
       "    </tr>\n",
       "  </tbody>\n",
       "</table>\n",
       "<p>309 rows × 2 columns</p>\n",
       "</div>"
      ],
      "text/plain": [
       "    zip_code   county\n",
       "0      05001  Windsor\n",
       "1      05009  Windsor\n",
       "2      05030  Windsor\n",
       "3      05031  Windsor\n",
       "4      05032  Windsor\n",
       "..       ...      ...\n",
       "304    05903    Essex\n",
       "305    05904    Essex\n",
       "306    05905    Essex\n",
       "307    05906    Essex\n",
       "308    05907    Essex\n",
       "\n",
       "[309 rows x 2 columns]"
      ]
     },
     "execution_count": 28,
     "metadata": {},
     "output_type": "execute_result"
    }
   ],
   "source": [
    "# Remove dollar signs and commas\n",
    "\n",
    "df_income['Median_Income'] = [value.split(\"$\")[1] for value in df_income['Median Income']]\n",
    "df_income['Median_Income'] = [value.replace(\",\",\"\") for value in df_income['Median_Income']]\n",
    "df_income = df_income.drop(['Median Income'], axis = 1)\n",
    "df_income = df_income.rename(columns={\"County\":\"county\"})\n",
    "df_county_zips"
   ]
  },
  {
   "cell_type": "code",
   "execution_count": 29,
   "metadata": {},
   "outputs": [],
   "source": [
    "df_county_zips.to_csv('df_county_zips.csv', index = False)\n",
    "df_income.to_csv('df_income.csv', index = False)"
   ]
  },
  {
   "cell_type": "code",
   "execution_count": 30,
   "metadata": {},
   "outputs": [],
   "source": [
    "# Formatting problems - was forced to merge outside of jupyter - merged dataset beleow\n",
    "\n",
    "df_agg_income = pd.read_csv(\"df_agg_income.csv\")"
   ]
  },
  {
   "cell_type": "code",
   "execution_count": 31,
   "metadata": {},
   "outputs": [
    {
     "data": {
      "text/plain": [
       "zip_code          int64\n",
       "county           object\n",
       "median_income     int64\n",
       "dtype: object"
      ]
     },
     "execution_count": 31,
     "metadata": {},
     "output_type": "execute_result"
    }
   ],
   "source": [
    "df_agg_income.dtypes"
   ]
  },
  {
   "cell_type": "code",
   "execution_count": null,
   "metadata": {},
   "outputs": [],
   "source": []
  },
  {
   "cell_type": "markdown",
   "metadata": {},
   "source": [
    "# Exploratory Work"
   ]
  },
  {
   "cell_type": "code",
   "execution_count": 32,
   "metadata": {},
   "outputs": [
    {
     "data": {
      "text/html": [
       "<div>\n",
       "<style scoped>\n",
       "    .dataframe tbody tr th:only-of-type {\n",
       "        vertical-align: middle;\n",
       "    }\n",
       "\n",
       "    .dataframe tbody tr th {\n",
       "        vertical-align: top;\n",
       "    }\n",
       "\n",
       "    .dataframe thead th {\n",
       "        text-align: right;\n",
       "    }\n",
       "</style>\n",
       "<table border=\"1\" class=\"dataframe\">\n",
       "  <thead>\n",
       "    <tr style=\"text-align: right;\">\n",
       "      <th></th>\n",
       "      <th>price</th>\n",
       "      <th>bedrooms</th>\n",
       "      <th>bathrooms</th>\n",
       "      <th>sf</th>\n",
       "      <th>year_built</th>\n",
       "      <th>lot_size</th>\n",
       "      <th>view_description</th>\n",
       "      <th>on_waterfront</th>\n",
       "      <th>house_style</th>\n",
       "      <th>new_construction</th>\n",
       "      <th>garage_spaces</th>\n",
       "      <th>zip_code</th>\n",
       "    </tr>\n",
       "  </thead>\n",
       "  <tbody>\n",
       "    <tr>\n",
       "      <th>0</th>\n",
       "      <td>84900</td>\n",
       "      <td>2</td>\n",
       "      <td>2.0</td>\n",
       "      <td>902.0</td>\n",
       "      <td>1960.0</td>\n",
       "      <td>400752.0</td>\n",
       "      <td>{}</td>\n",
       "      <td>No</td>\n",
       "      <td>Ranch</td>\n",
       "      <td>No</td>\n",
       "      <td>1</td>\n",
       "      <td>05045</td>\n",
       "    </tr>\n",
       "    <tr>\n",
       "      <th>1</th>\n",
       "      <td>335000</td>\n",
       "      <td>2</td>\n",
       "      <td>2.0</td>\n",
       "      <td>1680.0</td>\n",
       "      <td>1986.0</td>\n",
       "      <td>304920.0</td>\n",
       "      <td>{}</td>\n",
       "      <td>No</td>\n",
       "      <td>Cape</td>\n",
       "      <td>No</td>\n",
       "      <td>0</td>\n",
       "      <td>05677</td>\n",
       "    </tr>\n",
       "    <tr>\n",
       "      <th>3</th>\n",
       "      <td>245000</td>\n",
       "      <td>3</td>\n",
       "      <td>2.0</td>\n",
       "      <td>1268.0</td>\n",
       "      <td>1960.0</td>\n",
       "      <td>174240.0</td>\n",
       "      <td>{}</td>\n",
       "      <td>No</td>\n",
       "      <td>Cape</td>\n",
       "      <td>No</td>\n",
       "      <td>0</td>\n",
       "      <td>05730</td>\n",
       "    </tr>\n",
       "    <tr>\n",
       "      <th>4</th>\n",
       "      <td>374000</td>\n",
       "      <td>9</td>\n",
       "      <td>9.0</td>\n",
       "      <td>5788.0</td>\n",
       "      <td>1861.0</td>\n",
       "      <td>56628.0</td>\n",
       "      <td>{}</td>\n",
       "      <td>No</td>\n",
       "      <td>Victorian</td>\n",
       "      <td>No</td>\n",
       "      <td>2</td>\n",
       "      <td>05143</td>\n",
       "    </tr>\n",
       "    <tr>\n",
       "      <th>5</th>\n",
       "      <td>360000</td>\n",
       "      <td>3</td>\n",
       "      <td>2.0</td>\n",
       "      <td>1804.0</td>\n",
       "      <td>1962.0</td>\n",
       "      <td>18295.0</td>\n",
       "      <td>{}</td>\n",
       "      <td>No</td>\n",
       "      <td>Raised Ranch</td>\n",
       "      <td>No</td>\n",
       "      <td>2</td>\n",
       "      <td>05482</td>\n",
       "    </tr>\n",
       "  </tbody>\n",
       "</table>\n",
       "</div>"
      ],
      "text/plain": [
       "    price  bedrooms  bathrooms      sf  year_built  lot_size view_description  \\\n",
       "0   84900         2        2.0   902.0      1960.0  400752.0               {}   \n",
       "1  335000         2        2.0  1680.0      1986.0  304920.0               {}   \n",
       "3  245000         3        2.0  1268.0      1960.0  174240.0               {}   \n",
       "4  374000         9        9.0  5788.0      1861.0   56628.0               {}   \n",
       "5  360000         3        2.0  1804.0      1962.0   18295.0               {}   \n",
       "\n",
       "  on_waterfront    house_style new_construction  garage_spaces zip_code  \n",
       "0            No          Ranch               No              1    05045  \n",
       "1            No           Cape               No              0    05677  \n",
       "3            No           Cape               No              0    05730  \n",
       "4            No      Victorian               No              2    05143  \n",
       "5            No   Raised Ranch               No              2    05482  "
      ]
     },
     "execution_count": 32,
     "metadata": {},
     "output_type": "execute_result"
    }
   ],
   "source": [
    "df.head()"
   ]
  },
  {
   "cell_type": "code",
   "execution_count": 33,
   "metadata": {},
   "outputs": [
    {
     "data": {
      "text/html": [
       "<div>\n",
       "<style scoped>\n",
       "    .dataframe tbody tr th:only-of-type {\n",
       "        vertical-align: middle;\n",
       "    }\n",
       "\n",
       "    .dataframe tbody tr th {\n",
       "        vertical-align: top;\n",
       "    }\n",
       "\n",
       "    .dataframe thead th {\n",
       "        text-align: right;\n",
       "    }\n",
       "</style>\n",
       "<table border=\"1\" class=\"dataframe\">\n",
       "  <thead>\n",
       "    <tr style=\"text-align: right;\">\n",
       "      <th></th>\n",
       "      <th>price</th>\n",
       "      <th>bedrooms</th>\n",
       "      <th>bathrooms</th>\n",
       "      <th>sf</th>\n",
       "      <th>year_built</th>\n",
       "      <th>lot_size</th>\n",
       "      <th>garage_spaces</th>\n",
       "    </tr>\n",
       "  </thead>\n",
       "  <tbody>\n",
       "    <tr>\n",
       "      <th>price</th>\n",
       "      <td>1.000000</td>\n",
       "      <td>0.295404</td>\n",
       "      <td>0.531818</td>\n",
       "      <td>0.702748</td>\n",
       "      <td>0.101296</td>\n",
       "      <td>0.315941</td>\n",
       "      <td>0.276560</td>\n",
       "    </tr>\n",
       "    <tr>\n",
       "      <th>bedrooms</th>\n",
       "      <td>0.295404</td>\n",
       "      <td>1.000000</td>\n",
       "      <td>0.709588</td>\n",
       "      <td>0.605379</td>\n",
       "      <td>-0.226979</td>\n",
       "      <td>0.110349</td>\n",
       "      <td>0.338864</td>\n",
       "    </tr>\n",
       "    <tr>\n",
       "      <th>bathrooms</th>\n",
       "      <td>0.531818</td>\n",
       "      <td>0.709588</td>\n",
       "      <td>1.000000</td>\n",
       "      <td>0.814085</td>\n",
       "      <td>-0.011695</td>\n",
       "      <td>0.146997</td>\n",
       "      <td>0.447119</td>\n",
       "    </tr>\n",
       "    <tr>\n",
       "      <th>sf</th>\n",
       "      <td>0.702748</td>\n",
       "      <td>0.605379</td>\n",
       "      <td>0.814085</td>\n",
       "      <td>1.000000</td>\n",
       "      <td>-0.011003</td>\n",
       "      <td>0.252858</td>\n",
       "      <td>0.430629</td>\n",
       "    </tr>\n",
       "    <tr>\n",
       "      <th>year_built</th>\n",
       "      <td>0.101296</td>\n",
       "      <td>-0.226979</td>\n",
       "      <td>-0.011695</td>\n",
       "      <td>-0.011003</td>\n",
       "      <td>1.000000</td>\n",
       "      <td>-0.005619</td>\n",
       "      <td>0.020644</td>\n",
       "    </tr>\n",
       "    <tr>\n",
       "      <th>lot_size</th>\n",
       "      <td>0.315941</td>\n",
       "      <td>0.110349</td>\n",
       "      <td>0.146997</td>\n",
       "      <td>0.252858</td>\n",
       "      <td>-0.005619</td>\n",
       "      <td>1.000000</td>\n",
       "      <td>0.142634</td>\n",
       "    </tr>\n",
       "    <tr>\n",
       "      <th>garage_spaces</th>\n",
       "      <td>0.276560</td>\n",
       "      <td>0.338864</td>\n",
       "      <td>0.447119</td>\n",
       "      <td>0.430629</td>\n",
       "      <td>0.020644</td>\n",
       "      <td>0.142634</td>\n",
       "      <td>1.000000</td>\n",
       "    </tr>\n",
       "  </tbody>\n",
       "</table>\n",
       "</div>"
      ],
      "text/plain": [
       "                  price  bedrooms  bathrooms        sf  year_built  lot_size  \\\n",
       "price          1.000000  0.295404   0.531818  0.702748    0.101296  0.315941   \n",
       "bedrooms       0.295404  1.000000   0.709588  0.605379   -0.226979  0.110349   \n",
       "bathrooms      0.531818  0.709588   1.000000  0.814085   -0.011695  0.146997   \n",
       "sf             0.702748  0.605379   0.814085  1.000000   -0.011003  0.252858   \n",
       "year_built     0.101296 -0.226979  -0.011695 -0.011003    1.000000 -0.005619   \n",
       "lot_size       0.315941  0.110349   0.146997  0.252858   -0.005619  1.000000   \n",
       "garage_spaces  0.276560  0.338864   0.447119  0.430629    0.020644  0.142634   \n",
       "\n",
       "               garage_spaces  \n",
       "price               0.276560  \n",
       "bedrooms            0.338864  \n",
       "bathrooms           0.447119  \n",
       "sf                  0.430629  \n",
       "year_built          0.020644  \n",
       "lot_size            0.142634  \n",
       "garage_spaces       1.000000  "
      ]
     },
     "execution_count": 33,
     "metadata": {},
     "output_type": "execute_result"
    }
   ],
   "source": [
    "df.corr()"
   ]
  },
  {
   "cell_type": "code",
   "execution_count": 34,
   "metadata": {},
   "outputs": [],
   "source": [
    "#sns.pairplot(df)"
   ]
  },
  {
   "cell_type": "code",
   "execution_count": 35,
   "metadata": {},
   "outputs": [],
   "source": [
    "#sns.pairplot(df, hue = 'on_waterfront')"
   ]
  },
  {
   "cell_type": "code",
   "execution_count": 36,
   "metadata": {},
   "outputs": [],
   "source": [
    "#sns.pairplot(df, hue = 'view_description')"
   ]
  },
  {
   "cell_type": "code",
   "execution_count": 37,
   "metadata": {},
   "outputs": [],
   "source": [
    "#sns.pairplot(df, hue = 'new_construction')"
   ]
  },
  {
   "cell_type": "markdown",
   "metadata": {},
   "source": [
    "### Determining Categorical Variable Impact on price"
   ]
  },
  {
   "cell_type": "code",
   "execution_count": 38,
   "metadata": {},
   "outputs": [],
   "source": [
    "#sns.catplot(x=\"on_waterfront\", y=\"price\", kind=\"point\", data=df)"
   ]
  },
  {
   "cell_type": "code",
   "execution_count": 39,
   "metadata": {},
   "outputs": [],
   "source": [
    "#sns.catplot(x=\"new_construction\", y=\"price\", kind=\"point\", data=df)"
   ]
  },
  {
   "cell_type": "code",
   "execution_count": 40,
   "metadata": {},
   "outputs": [],
   "source": [
    "#sns.catplot(x=\"view_description\", y=\"price\", kind=\"point\", data=df)"
   ]
  },
  {
   "cell_type": "markdown",
   "metadata": {},
   "source": [
    "### Let's determing the impact of each categorical variable on other numerical variables"
   ]
  },
  {
   "cell_type": "code",
   "execution_count": 41,
   "metadata": {},
   "outputs": [
    {
     "data": {
      "text/plain": [
       "Index(['price', 'bedrooms', 'bathrooms', 'sf', 'year_built', 'lot_size',\n",
       "       'view_description', 'on_waterfront', 'house_style', 'new_construction',\n",
       "       'garage_spaces', 'zip_code'],\n",
       "      dtype='object')"
      ]
     },
     "execution_count": 41,
     "metadata": {},
     "output_type": "execute_result"
    }
   ],
   "source": [
    "df.columns"
   ]
  },
  {
   "cell_type": "markdown",
   "metadata": {},
   "source": [
    "### Start with waterfront"
   ]
  },
  {
   "cell_type": "code",
   "execution_count": 42,
   "metadata": {},
   "outputs": [],
   "source": [
    "#sns.scatterplot(x=\"bathrooms\", y=\"price\",hue=\"on_waterfront\", data=df)"
   ]
  },
  {
   "cell_type": "code",
   "execution_count": 43,
   "metadata": {},
   "outputs": [],
   "source": [
    "#sns.scatterplot(x=\"lot_size\", y=\"price\",hue=\"on_waterfront\",data=df)"
   ]
  },
  {
   "cell_type": "code",
   "execution_count": 44,
   "metadata": {},
   "outputs": [],
   "source": [
    "#sns.scatterplot(x=\"garage_spaces\", y=\"price\",hue=\"on_waterfront\",data=df)"
   ]
  },
  {
   "cell_type": "code",
   "execution_count": 45,
   "metadata": {},
   "outputs": [],
   "source": [
    "#sns.catplot(x=\"new_construction\", y=\"price\", hue = \"on_waterfront\", kind=\"point\", data=df)"
   ]
  },
  {
   "cell_type": "code",
   "execution_count": 46,
   "metadata": {},
   "outputs": [],
   "source": [
    "mask = (df.on_waterfront == ' Yes')\n",
    "mask2 = (df.on_waterfront == 'No')"
   ]
  },
  {
   "cell_type": "code",
   "execution_count": 47,
   "metadata": {},
   "outputs": [],
   "source": [
    "# Waterfront only\n",
    "\n",
    "#sns.pairplot(df[mask])"
   ]
  },
  {
   "cell_type": "code",
   "execution_count": 48,
   "metadata": {},
   "outputs": [],
   "source": [
    "# Excluding waterfront\n",
    "\n",
    "#sns.pairplot(df[mask2])"
   ]
  },
  {
   "cell_type": "code",
   "execution_count": 49,
   "metadata": {},
   "outputs": [
    {
     "data": {
      "text/html": [
       "<div>\n",
       "<style scoped>\n",
       "    .dataframe tbody tr th:only-of-type {\n",
       "        vertical-align: middle;\n",
       "    }\n",
       "\n",
       "    .dataframe tbody tr th {\n",
       "        vertical-align: top;\n",
       "    }\n",
       "\n",
       "    .dataframe thead th {\n",
       "        text-align: right;\n",
       "    }\n",
       "</style>\n",
       "<table border=\"1\" class=\"dataframe\">\n",
       "  <thead>\n",
       "    <tr style=\"text-align: right;\">\n",
       "      <th></th>\n",
       "      <th>price</th>\n",
       "      <th>bedrooms</th>\n",
       "      <th>bathrooms</th>\n",
       "      <th>sf</th>\n",
       "      <th>year_built</th>\n",
       "      <th>lot_size</th>\n",
       "      <th>garage_spaces</th>\n",
       "    </tr>\n",
       "  </thead>\n",
       "  <tbody>\n",
       "    <tr>\n",
       "      <th>price</th>\n",
       "      <td>1.000000</td>\n",
       "      <td>0.349928</td>\n",
       "      <td>0.591804</td>\n",
       "      <td>0.779716</td>\n",
       "      <td>0.106550</td>\n",
       "      <td>0.269501</td>\n",
       "      <td>0.367065</td>\n",
       "    </tr>\n",
       "    <tr>\n",
       "      <th>bedrooms</th>\n",
       "      <td>0.349928</td>\n",
       "      <td>1.000000</td>\n",
       "      <td>0.765196</td>\n",
       "      <td>0.679500</td>\n",
       "      <td>-0.150840</td>\n",
       "      <td>0.117242</td>\n",
       "      <td>0.537412</td>\n",
       "    </tr>\n",
       "    <tr>\n",
       "      <th>bathrooms</th>\n",
       "      <td>0.591804</td>\n",
       "      <td>0.765196</td>\n",
       "      <td>1.000000</td>\n",
       "      <td>0.874950</td>\n",
       "      <td>0.039597</td>\n",
       "      <td>0.141927</td>\n",
       "      <td>0.638387</td>\n",
       "    </tr>\n",
       "    <tr>\n",
       "      <th>sf</th>\n",
       "      <td>0.779716</td>\n",
       "      <td>0.679500</td>\n",
       "      <td>0.874950</td>\n",
       "      <td>1.000000</td>\n",
       "      <td>0.035508</td>\n",
       "      <td>0.221386</td>\n",
       "      <td>0.592151</td>\n",
       "    </tr>\n",
       "    <tr>\n",
       "      <th>year_built</th>\n",
       "      <td>0.106550</td>\n",
       "      <td>-0.150840</td>\n",
       "      <td>0.039597</td>\n",
       "      <td>0.035508</td>\n",
       "      <td>1.000000</td>\n",
       "      <td>-0.078642</td>\n",
       "      <td>0.022939</td>\n",
       "    </tr>\n",
       "    <tr>\n",
       "      <th>lot_size</th>\n",
       "      <td>0.269501</td>\n",
       "      <td>0.117242</td>\n",
       "      <td>0.141927</td>\n",
       "      <td>0.221386</td>\n",
       "      <td>-0.078642</td>\n",
       "      <td>1.000000</td>\n",
       "      <td>0.188823</td>\n",
       "    </tr>\n",
       "    <tr>\n",
       "      <th>garage_spaces</th>\n",
       "      <td>0.367065</td>\n",
       "      <td>0.537412</td>\n",
       "      <td>0.638387</td>\n",
       "      <td>0.592151</td>\n",
       "      <td>0.022939</td>\n",
       "      <td>0.188823</td>\n",
       "      <td>1.000000</td>\n",
       "    </tr>\n",
       "  </tbody>\n",
       "</table>\n",
       "</div>"
      ],
      "text/plain": [
       "                  price  bedrooms  bathrooms        sf  year_built  lot_size  \\\n",
       "price          1.000000  0.349928   0.591804  0.779716    0.106550  0.269501   \n",
       "bedrooms       0.349928  1.000000   0.765196  0.679500   -0.150840  0.117242   \n",
       "bathrooms      0.591804  0.765196   1.000000  0.874950    0.039597  0.141927   \n",
       "sf             0.779716  0.679500   0.874950  1.000000    0.035508  0.221386   \n",
       "year_built     0.106550 -0.150840   0.039597  0.035508    1.000000 -0.078642   \n",
       "lot_size       0.269501  0.117242   0.141927  0.221386   -0.078642  1.000000   \n",
       "garage_spaces  0.367065  0.537412   0.638387  0.592151    0.022939  0.188823   \n",
       "\n",
       "               garage_spaces  \n",
       "price               0.367065  \n",
       "bedrooms            0.537412  \n",
       "bathrooms           0.638387  \n",
       "sf                  0.592151  \n",
       "year_built          0.022939  \n",
       "lot_size            0.188823  \n",
       "garage_spaces       1.000000  "
      ]
     },
     "execution_count": 49,
     "metadata": {},
     "output_type": "execute_result"
    }
   ],
   "source": [
    "# Waterfront only\n",
    "\n",
    "df[mask].corr()"
   ]
  },
  {
   "cell_type": "code",
   "execution_count": 50,
   "metadata": {},
   "outputs": [
    {
     "data": {
      "text/html": [
       "<div>\n",
       "<style scoped>\n",
       "    .dataframe tbody tr th:only-of-type {\n",
       "        vertical-align: middle;\n",
       "    }\n",
       "\n",
       "    .dataframe tbody tr th {\n",
       "        vertical-align: top;\n",
       "    }\n",
       "\n",
       "    .dataframe thead th {\n",
       "        text-align: right;\n",
       "    }\n",
       "</style>\n",
       "<table border=\"1\" class=\"dataframe\">\n",
       "  <thead>\n",
       "    <tr style=\"text-align: right;\">\n",
       "      <th></th>\n",
       "      <th>price</th>\n",
       "      <th>bedrooms</th>\n",
       "      <th>bathrooms</th>\n",
       "      <th>sf</th>\n",
       "      <th>year_built</th>\n",
       "      <th>lot_size</th>\n",
       "      <th>garage_spaces</th>\n",
       "    </tr>\n",
       "  </thead>\n",
       "  <tbody>\n",
       "    <tr>\n",
       "      <th>price</th>\n",
       "      <td>1.000000</td>\n",
       "      <td>0.268485</td>\n",
       "      <td>0.477390</td>\n",
       "      <td>0.636987</td>\n",
       "      <td>0.122499</td>\n",
       "      <td>0.310540</td>\n",
       "      <td>0.226553</td>\n",
       "    </tr>\n",
       "    <tr>\n",
       "      <th>bedrooms</th>\n",
       "      <td>0.268485</td>\n",
       "      <td>1.000000</td>\n",
       "      <td>0.671615</td>\n",
       "      <td>0.551005</td>\n",
       "      <td>-0.270522</td>\n",
       "      <td>0.083612</td>\n",
       "      <td>0.223173</td>\n",
       "    </tr>\n",
       "    <tr>\n",
       "      <th>bathrooms</th>\n",
       "      <td>0.477390</td>\n",
       "      <td>0.671615</td>\n",
       "      <td>1.000000</td>\n",
       "      <td>0.749870</td>\n",
       "      <td>-0.048901</td>\n",
       "      <td>0.100908</td>\n",
       "      <td>0.317978</td>\n",
       "    </tr>\n",
       "    <tr>\n",
       "      <th>sf</th>\n",
       "      <td>0.636987</td>\n",
       "      <td>0.551005</td>\n",
       "      <td>0.749870</td>\n",
       "      <td>1.000000</td>\n",
       "      <td>-0.046689</td>\n",
       "      <td>0.257984</td>\n",
       "      <td>0.320315</td>\n",
       "    </tr>\n",
       "    <tr>\n",
       "      <th>year_built</th>\n",
       "      <td>0.122499</td>\n",
       "      <td>-0.270522</td>\n",
       "      <td>-0.048901</td>\n",
       "      <td>-0.046689</td>\n",
       "      <td>1.000000</td>\n",
       "      <td>0.051601</td>\n",
       "      <td>0.018746</td>\n",
       "    </tr>\n",
       "    <tr>\n",
       "      <th>lot_size</th>\n",
       "      <td>0.310540</td>\n",
       "      <td>0.083612</td>\n",
       "      <td>0.100908</td>\n",
       "      <td>0.257984</td>\n",
       "      <td>0.051601</td>\n",
       "      <td>1.000000</td>\n",
       "      <td>0.107196</td>\n",
       "    </tr>\n",
       "    <tr>\n",
       "      <th>garage_spaces</th>\n",
       "      <td>0.226553</td>\n",
       "      <td>0.223173</td>\n",
       "      <td>0.317978</td>\n",
       "      <td>0.320315</td>\n",
       "      <td>0.018746</td>\n",
       "      <td>0.107196</td>\n",
       "      <td>1.000000</td>\n",
       "    </tr>\n",
       "  </tbody>\n",
       "</table>\n",
       "</div>"
      ],
      "text/plain": [
       "                  price  bedrooms  bathrooms        sf  year_built  lot_size  \\\n",
       "price          1.000000  0.268485   0.477390  0.636987    0.122499  0.310540   \n",
       "bedrooms       0.268485  1.000000   0.671615  0.551005   -0.270522  0.083612   \n",
       "bathrooms      0.477390  0.671615   1.000000  0.749870   -0.048901  0.100908   \n",
       "sf             0.636987  0.551005   0.749870  1.000000   -0.046689  0.257984   \n",
       "year_built     0.122499 -0.270522  -0.048901 -0.046689    1.000000  0.051601   \n",
       "lot_size       0.310540  0.083612   0.100908  0.257984    0.051601  1.000000   \n",
       "garage_spaces  0.226553  0.223173   0.317978  0.320315    0.018746  0.107196   \n",
       "\n",
       "               garage_spaces  \n",
       "price               0.226553  \n",
       "bedrooms            0.223173  \n",
       "bathrooms           0.317978  \n",
       "sf                  0.320315  \n",
       "year_built          0.018746  \n",
       "lot_size            0.107196  \n",
       "garage_spaces       1.000000  "
      ]
     },
     "execution_count": 50,
     "metadata": {},
     "output_type": "execute_result"
    }
   ],
   "source": [
    "# Excluding waterfront\n",
    "\n",
    "df[mask2].corr()"
   ]
  },
  {
   "cell_type": "code",
   "execution_count": 51,
   "metadata": {},
   "outputs": [
    {
     "data": {
      "text/html": [
       "<div>\n",
       "<style scoped>\n",
       "    .dataframe tbody tr th:only-of-type {\n",
       "        vertical-align: middle;\n",
       "    }\n",
       "\n",
       "    .dataframe tbody tr th {\n",
       "        vertical-align: top;\n",
       "    }\n",
       "\n",
       "    .dataframe thead th {\n",
       "        text-align: right;\n",
       "    }\n",
       "</style>\n",
       "<table border=\"1\" class=\"dataframe\">\n",
       "  <thead>\n",
       "    <tr style=\"text-align: right;\">\n",
       "      <th></th>\n",
       "      <th>price</th>\n",
       "      <th>bedrooms</th>\n",
       "      <th>bathrooms</th>\n",
       "      <th>sf</th>\n",
       "      <th>year_built</th>\n",
       "      <th>lot_size</th>\n",
       "      <th>garage_spaces</th>\n",
       "    </tr>\n",
       "  </thead>\n",
       "  <tbody>\n",
       "    <tr>\n",
       "      <th>price</th>\n",
       "      <td>1.000000</td>\n",
       "      <td>0.295404</td>\n",
       "      <td>0.531818</td>\n",
       "      <td>0.702748</td>\n",
       "      <td>0.101296</td>\n",
       "      <td>0.315941</td>\n",
       "      <td>0.276560</td>\n",
       "    </tr>\n",
       "    <tr>\n",
       "      <th>bedrooms</th>\n",
       "      <td>0.295404</td>\n",
       "      <td>1.000000</td>\n",
       "      <td>0.709588</td>\n",
       "      <td>0.605379</td>\n",
       "      <td>-0.226979</td>\n",
       "      <td>0.110349</td>\n",
       "      <td>0.338864</td>\n",
       "    </tr>\n",
       "    <tr>\n",
       "      <th>bathrooms</th>\n",
       "      <td>0.531818</td>\n",
       "      <td>0.709588</td>\n",
       "      <td>1.000000</td>\n",
       "      <td>0.814085</td>\n",
       "      <td>-0.011695</td>\n",
       "      <td>0.146997</td>\n",
       "      <td>0.447119</td>\n",
       "    </tr>\n",
       "    <tr>\n",
       "      <th>sf</th>\n",
       "      <td>0.702748</td>\n",
       "      <td>0.605379</td>\n",
       "      <td>0.814085</td>\n",
       "      <td>1.000000</td>\n",
       "      <td>-0.011003</td>\n",
       "      <td>0.252858</td>\n",
       "      <td>0.430629</td>\n",
       "    </tr>\n",
       "    <tr>\n",
       "      <th>year_built</th>\n",
       "      <td>0.101296</td>\n",
       "      <td>-0.226979</td>\n",
       "      <td>-0.011695</td>\n",
       "      <td>-0.011003</td>\n",
       "      <td>1.000000</td>\n",
       "      <td>-0.005619</td>\n",
       "      <td>0.020644</td>\n",
       "    </tr>\n",
       "    <tr>\n",
       "      <th>lot_size</th>\n",
       "      <td>0.315941</td>\n",
       "      <td>0.110349</td>\n",
       "      <td>0.146997</td>\n",
       "      <td>0.252858</td>\n",
       "      <td>-0.005619</td>\n",
       "      <td>1.000000</td>\n",
       "      <td>0.142634</td>\n",
       "    </tr>\n",
       "    <tr>\n",
       "      <th>garage_spaces</th>\n",
       "      <td>0.276560</td>\n",
       "      <td>0.338864</td>\n",
       "      <td>0.447119</td>\n",
       "      <td>0.430629</td>\n",
       "      <td>0.020644</td>\n",
       "      <td>0.142634</td>\n",
       "      <td>1.000000</td>\n",
       "    </tr>\n",
       "  </tbody>\n",
       "</table>\n",
       "</div>"
      ],
      "text/plain": [
       "                  price  bedrooms  bathrooms        sf  year_built  lot_size  \\\n",
       "price          1.000000  0.295404   0.531818  0.702748    0.101296  0.315941   \n",
       "bedrooms       0.295404  1.000000   0.709588  0.605379   -0.226979  0.110349   \n",
       "bathrooms      0.531818  0.709588   1.000000  0.814085   -0.011695  0.146997   \n",
       "sf             0.702748  0.605379   0.814085  1.000000   -0.011003  0.252858   \n",
       "year_built     0.101296 -0.226979  -0.011695 -0.011003    1.000000 -0.005619   \n",
       "lot_size       0.315941  0.110349   0.146997  0.252858   -0.005619  1.000000   \n",
       "garage_spaces  0.276560  0.338864   0.447119  0.430629    0.020644  0.142634   \n",
       "\n",
       "               garage_spaces  \n",
       "price               0.276560  \n",
       "bedrooms            0.338864  \n",
       "bathrooms           0.447119  \n",
       "sf                  0.430629  \n",
       "year_built          0.020644  \n",
       "lot_size            0.142634  \n",
       "garage_spaces       1.000000  "
      ]
     },
     "execution_count": 51,
     "metadata": {},
     "output_type": "execute_result"
    }
   ],
   "source": [
    "# All data \n",
    "\n",
    "df.corr()"
   ]
  },
  {
   "cell_type": "markdown",
   "metadata": {},
   "source": [
    "# Simple Model - SF and Sale Price"
   ]
  },
  {
   "cell_type": "code",
   "execution_count": 52,
   "metadata": {},
   "outputs": [
    {
     "data": {
      "text/plain": [
       "Text(0.5, 1.0, 'House Price vs. Square Footage in VT')"
      ]
     },
     "execution_count": 52,
     "metadata": {},
     "output_type": "execute_result"
    },
    {
     "data": {
      "image/png": "[encoded data removed]",
      "text/plain": [
       "<Figure size 648x504 with 1 Axes>"
      ]
     },
     "metadata": {
      "image/png": {
       "height": 444,
       "width": 557
      }
     },
     "output_type": "display_data"
    }
   ],
   "source": [
    "# Plot sale price vs. square footage\n",
    "\n",
    "fig, ax = plt.subplots(figsize = (9,7))\n",
    "\n",
    "x = df[['sf']]\n",
    "y = df['price'] \n",
    "\n",
    "ax.scatter(x,y,alpha=.5)\n",
    "ax.set_xlabel(\"Square Footage\")\n",
    "ax.set_ylabel(\"House Price\")\n",
    "ax.set_title(\"House Price vs. Square Footage in VT\")"
   ]
  },
  {
   "cell_type": "code",
   "execution_count": 53,
   "metadata": {},
   "outputs": [
    {
     "data": {
      "text/plain": [
       "0.4938553252449921"
      ]
     },
     "execution_count": 53,
     "metadata": {},
     "output_type": "execute_result"
    }
   ],
   "source": [
    "# Simple regression\n",
    "\n",
    "lr = LinearRegression()\n",
    "\n",
    "lr.fit(x,y)\n",
    "lr.score(x,y)"
   ]
  },
  {
   "cell_type": "code",
   "execution_count": 54,
   "metadata": {},
   "outputs": [],
   "source": [
    "# Plot our prediction"
   ]
  },
  {
   "cell_type": "code",
   "execution_count": 55,
   "metadata": {},
   "outputs": [
    {
     "data": {
      "text/plain": [
       "[<matplotlib.lines.Line2D at 0x1ae5e37f8b0>]"
      ]
     },
     "execution_count": 55,
     "metadata": {},
     "output_type": "execute_result"
    },
    {
     "data": {
      "image/png": "[encoded data removed]",
      "text/plain": [
       "<Figure size 648x504 with 1 Axes>"
      ]
     },
     "metadata": {
      "image/png": {
       "height": 440,
       "width": 557
      }
     },
     "output_type": "display_data"
    }
   ],
   "source": [
    "fig, ax = plt.subplots(figsize=(9, 7))\n",
    "plt.xlabel(\"Square Footage Feet\")\n",
    "plt.ylabel(\"Home Price ($)\")\n",
    "\n",
    "\n",
    "x = df[['sf']]\n",
    "y = df['price']\n",
    "ax.scatter(x, y, alpha=.5)\n",
    "\n",
    "_x = np.linspace(x.min(), x.max())\n",
    "_y = lr.predict(_x)\n",
    "\n",
    "ax.plot(_x, _y, color='orange')"
   ]
  },
  {
   "cell_type": "code",
   "execution_count": 56,
   "metadata": {},
   "outputs": [
    {
     "name": "stdout",
     "output_type": "stream",
     "text": [
      "slope: 368.43\n",
      "y-intercept: -438274.59\n"
     ]
    }
   ],
   "source": [
    "# Caclulat eequation of line \n",
    "\n",
    "print(f'slope: {lr.coef_[0]:.2f}')\n",
    "print(f'y-intercept: {lr.intercept_:.2f}')"
   ]
  },
  {
   "cell_type": "markdown",
   "metadata": {},
   "source": [
    "# Categorical Variables "
   ]
  },
  {
   "cell_type": "code",
   "execution_count": 57,
   "metadata": {},
   "outputs": [],
   "source": [
    "# Start with on waterfront\n",
    "\n",
    "df['on_waterfront'].value_counts()\n",
    "cat_X = df.loc[:,[\"on_waterfront\"]]\n",
    "cat_Y = df['price']"
   ]
  },
  {
   "cell_type": "code",
   "execution_count": 58,
   "metadata": {},
   "outputs": [],
   "source": [
    "ohe = OneHotEncoder(drop=\"first\",sparse=False)\n",
    "\n",
    "ohe.fit(cat_X)\n",
    "\n",
    "ohe_X = ohe.transform(cat_X)\n",
    "\n",
    "columns = ohe.get_feature_names(['on_waterfront'])\n",
    "\n",
    "ohe_X_df = pd.DataFrame(ohe_X,columns = columns, index = cat_X.index)"
   ]
  },
  {
   "cell_type": "code",
   "execution_count": 59,
   "metadata": {},
   "outputs": [
    {
     "data": {
      "text/plain": [
       "0.03699823724816731"
      ]
     },
     "execution_count": 59,
     "metadata": {},
     "output_type": "execute_result"
    }
   ],
   "source": [
    "cat_lr = LinearRegression()\n",
    "\n",
    "cat_lr.fit(ohe_X_df, cat_Y)\n",
    "\n",
    "cat_lr.score(ohe_X_df, cat_Y)"
   ]
  },
  {
   "cell_type": "code",
   "execution_count": 60,
   "metadata": {},
   "outputs": [
    {
     "data": {
      "text/plain": [
       "array([-385673.70107858])"
      ]
     },
     "execution_count": 60,
     "metadata": {},
     "output_type": "execute_result"
    }
   ],
   "source": [
    "cat_lr.coef_"
   ]
  },
  {
   "cell_type": "code",
   "execution_count": 61,
   "metadata": {},
   "outputs": [
    {
     "data": {
      "text/html": [
       "<div>\n",
       "<style scoped>\n",
       "    .dataframe tbody tr th:only-of-type {\n",
       "        vertical-align: middle;\n",
       "    }\n",
       "\n",
       "    .dataframe tbody tr th {\n",
       "        vertical-align: top;\n",
       "    }\n",
       "\n",
       "    .dataframe thead th {\n",
       "        text-align: right;\n",
       "    }\n",
       "</style>\n",
       "<table border=\"1\" class=\"dataframe\">\n",
       "  <thead>\n",
       "    <tr style=\"text-align: right;\">\n",
       "      <th></th>\n",
       "      <th>on_waterfront_No</th>\n",
       "      <th>sf</th>\n",
       "    </tr>\n",
       "  </thead>\n",
       "  <tbody>\n",
       "    <tr>\n",
       "      <th>0</th>\n",
       "      <td>1.0</td>\n",
       "      <td>902.0</td>\n",
       "    </tr>\n",
       "    <tr>\n",
       "      <th>1</th>\n",
       "      <td>1.0</td>\n",
       "      <td>1680.0</td>\n",
       "    </tr>\n",
       "    <tr>\n",
       "      <th>3</th>\n",
       "      <td>1.0</td>\n",
       "      <td>1268.0</td>\n",
       "    </tr>\n",
       "    <tr>\n",
       "      <th>4</th>\n",
       "      <td>1.0</td>\n",
       "      <td>5788.0</td>\n",
       "    </tr>\n",
       "    <tr>\n",
       "      <th>5</th>\n",
       "      <td>1.0</td>\n",
       "      <td>1804.0</td>\n",
       "    </tr>\n",
       "  </tbody>\n",
       "</table>\n",
       "</div>"
      ],
      "text/plain": [
       "   on_waterfront_No      sf\n",
       "0               1.0   902.0\n",
       "1               1.0  1680.0\n",
       "3               1.0  1268.0\n",
       "4               1.0  5788.0\n",
       "5               1.0  1804.0"
      ]
     },
     "execution_count": 61,
     "metadata": {},
     "output_type": "execute_result"
    }
   ],
   "source": [
    "# Combining into one model\n",
    "\n",
    "combined_df = pd.concat([ohe_X_df, df[['sf']]], axis=1)\n",
    "combined_df.head()"
   ]
  },
  {
   "cell_type": "code",
   "execution_count": 62,
   "metadata": {},
   "outputs": [
    {
     "data": {
      "text/plain": [
       "0.5065476608000881"
      ]
     },
     "execution_count": 62,
     "metadata": {},
     "output_type": "execute_result"
    }
   ],
   "source": [
    "combined_lr = LinearRegression()\n",
    "\n",
    "combined_lr.fit(combined_df, cat_Y)\n",
    "\n",
    "combined_lr.score(combined_df, cat_Y)"
   ]
  },
  {
   "cell_type": "code",
   "execution_count": 63,
   "metadata": {},
   "outputs": [
    {
     "data": {
      "text/plain": [
       "(array([-227385.8438714 ,     361.62470497]), -255241.3519864304)"
      ]
     },
     "execution_count": 63,
     "metadata": {},
     "output_type": "execute_result"
    }
   ],
   "source": [
    "combined_lr.coef_, combined_lr.intercept_"
   ]
  },
  {
   "cell_type": "markdown",
   "metadata": {},
   "source": [
    "## Test and validate "
   ]
  },
  {
   "cell_type": "markdown",
   "metadata": {},
   "source": [
    "#### Start by excluding categorical variables"
   ]
  },
  {
   "cell_type": "code",
   "execution_count": 64,
   "metadata": {},
   "outputs": [
    {
     "data": {
      "text/html": [
       "<div>\n",
       "<style scoped>\n",
       "    .dataframe tbody tr th:only-of-type {\n",
       "        vertical-align: middle;\n",
       "    }\n",
       "\n",
       "    .dataframe tbody tr th {\n",
       "        vertical-align: top;\n",
       "    }\n",
       "\n",
       "    .dataframe thead th {\n",
       "        text-align: right;\n",
       "    }\n",
       "</style>\n",
       "<table border=\"1\" class=\"dataframe\">\n",
       "  <thead>\n",
       "    <tr style=\"text-align: right;\">\n",
       "      <th></th>\n",
       "      <th>price</th>\n",
       "      <th>bedrooms</th>\n",
       "      <th>bathrooms</th>\n",
       "      <th>sf</th>\n",
       "      <th>year_built</th>\n",
       "      <th>lot_size</th>\n",
       "      <th>view_description</th>\n",
       "      <th>on_waterfront</th>\n",
       "      <th>house_style</th>\n",
       "      <th>new_construction</th>\n",
       "      <th>garage_spaces</th>\n",
       "      <th>zip_code</th>\n",
       "    </tr>\n",
       "  </thead>\n",
       "  <tbody>\n",
       "    <tr>\n",
       "      <th>0</th>\n",
       "      <td>84900</td>\n",
       "      <td>2</td>\n",
       "      <td>2.0</td>\n",
       "      <td>902.0</td>\n",
       "      <td>1960.0</td>\n",
       "      <td>400752.0</td>\n",
       "      <td>{}</td>\n",
       "      <td>No</td>\n",
       "      <td>Ranch</td>\n",
       "      <td>No</td>\n",
       "      <td>1</td>\n",
       "      <td>05045</td>\n",
       "    </tr>\n",
       "    <tr>\n",
       "      <th>1</th>\n",
       "      <td>335000</td>\n",
       "      <td>2</td>\n",
       "      <td>2.0</td>\n",
       "      <td>1680.0</td>\n",
       "      <td>1986.0</td>\n",
       "      <td>304920.0</td>\n",
       "      <td>{}</td>\n",
       "      <td>No</td>\n",
       "      <td>Cape</td>\n",
       "      <td>No</td>\n",
       "      <td>0</td>\n",
       "      <td>05677</td>\n",
       "    </tr>\n",
       "    <tr>\n",
       "      <th>3</th>\n",
       "      <td>245000</td>\n",
       "      <td>3</td>\n",
       "      <td>2.0</td>\n",
       "      <td>1268.0</td>\n",
       "      <td>1960.0</td>\n",
       "      <td>174240.0</td>\n",
       "      <td>{}</td>\n",
       "      <td>No</td>\n",
       "      <td>Cape</td>\n",
       "      <td>No</td>\n",
       "      <td>0</td>\n",
       "      <td>05730</td>\n",
       "    </tr>\n",
       "    <tr>\n",
       "      <th>4</th>\n",
       "      <td>374000</td>\n",
       "      <td>9</td>\n",
       "      <td>9.0</td>\n",
       "      <td>5788.0</td>\n",
       "      <td>1861.0</td>\n",
       "      <td>56628.0</td>\n",
       "      <td>{}</td>\n",
       "      <td>No</td>\n",
       "      <td>Victorian</td>\n",
       "      <td>No</td>\n",
       "      <td>2</td>\n",
       "      <td>05143</td>\n",
       "    </tr>\n",
       "    <tr>\n",
       "      <th>5</th>\n",
       "      <td>360000</td>\n",
       "      <td>3</td>\n",
       "      <td>2.0</td>\n",
       "      <td>1804.0</td>\n",
       "      <td>1962.0</td>\n",
       "      <td>18295.0</td>\n",
       "      <td>{}</td>\n",
       "      <td>No</td>\n",
       "      <td>Raised Ranch</td>\n",
       "      <td>No</td>\n",
       "      <td>2</td>\n",
       "      <td>05482</td>\n",
       "    </tr>\n",
       "  </tbody>\n",
       "</table>\n",
       "</div>"
      ],
      "text/plain": [
       "    price  bedrooms  bathrooms      sf  year_built  lot_size view_description  \\\n",
       "0   84900         2        2.0   902.0      1960.0  400752.0               {}   \n",
       "1  335000         2        2.0  1680.0      1986.0  304920.0               {}   \n",
       "3  245000         3        2.0  1268.0      1960.0  174240.0               {}   \n",
       "4  374000         9        9.0  5788.0      1861.0   56628.0               {}   \n",
       "5  360000         3        2.0  1804.0      1962.0   18295.0               {}   \n",
       "\n",
       "  on_waterfront    house_style new_construction  garage_spaces zip_code  \n",
       "0            No          Ranch               No              1    05045  \n",
       "1            No           Cape               No              0    05677  \n",
       "3            No           Cape               No              0    05730  \n",
       "4            No      Victorian               No              2    05143  \n",
       "5            No   Raised Ranch               No              2    05482  "
      ]
     },
     "execution_count": 64,
     "metadata": {},
     "output_type": "execute_result"
    }
   ],
   "source": [
    "df.head()"
   ]
  },
  {
   "cell_type": "code",
   "execution_count": 65,
   "metadata": {},
   "outputs": [
    {
     "data": {
      "text/plain": [
       "price                 int64\n",
       "bedrooms              int64\n",
       "bathrooms           float64\n",
       "sf                  float64\n",
       "year_built          float64\n",
       "lot_size            float64\n",
       "view_description     object\n",
       "on_waterfront        object\n",
       "house_style          object\n",
       "new_construction     object\n",
       "garage_spaces         int64\n",
       "zip_code             object\n",
       "dtype: object"
      ]
     },
     "execution_count": 65,
     "metadata": {},
     "output_type": "execute_result"
    }
   ],
   "source": [
    "df.dtypes"
   ]
  },
  {
   "cell_type": "code",
   "execution_count": 66,
   "metadata": {},
   "outputs": [],
   "source": [
    "#Separate our features from our target\n",
    "\n",
    "X = df.loc[:,['bedrooms','bathrooms','sf','year_built','lot_size','garage_spaces']]\n",
    "\n",
    "y = df['price']"
   ]
  },
  {
   "cell_type": "code",
   "execution_count": 67,
   "metadata": {},
   "outputs": [
    {
     "data": {
      "text/plain": [
       "(729, 6)"
      ]
     },
     "execution_count": 67,
     "metadata": {},
     "output_type": "execute_result"
    }
   ],
   "source": [
    "X.shape"
   ]
  },
  {
   "cell_type": "code",
   "execution_count": 68,
   "metadata": {},
   "outputs": [
    {
     "data": {
      "text/plain": [
       "(729,)"
      ]
     },
     "execution_count": 68,
     "metadata": {},
     "output_type": "execute_result"
    }
   ],
   "source": [
    "y.shape"
   ]
  },
  {
   "cell_type": "code",
   "execution_count": 69,
   "metadata": {},
   "outputs": [],
   "source": [
    "def split_and_validate(X, y):\n",
    "    '''\n",
    "    For a set of features and target X, y, perform a 80/20 train/val split, \n",
    "    fit and validate a linear regression model, and report results\n",
    "    '''\n",
    "    \n",
    "    # perform train/val split\n",
    "    X_train, X_val, y_train, y_val = \\\n",
    "        train_test_split(X, y, test_size=0.2, random_state=42)\n",
    "    \n",
    "    # fit linear regression to training data\n",
    "    lr_model = LinearRegression()\n",
    "    lr_model.fit(X_train, y_train)\n",
    "    \n",
    "    # score fit model on training & validation data\n",
    "    train_score = lr_model.score(X_train, y_train)\n",
    "    val_score = lr_model.score(X_val, y_val)\n",
    "    \n",
    "    # report training results\n",
    "    print('\\nTraining R^2 score was:', train_score)\n",
    "    \n",
    "    # report validation results\n",
    "    print('\\nValidation R^2 score was:', val_score)\n",
    "    print('Feature coefficient results: \\n')\n",
    "    for feature, coef in zip(X.columns, lr_model.coef_):\n",
    "        print(feature, ':', f'{coef:.2f}') "
   ]
  },
  {
   "cell_type": "code",
   "execution_count": 70,
   "metadata": {},
   "outputs": [
    {
     "name": "stdout",
     "output_type": "stream",
     "text": [
      "\n",
      "Training R^2 score was: 0.5697327655093318\n",
      "\n",
      "Validation R^2 score was: -0.45109047482382003\n",
      "Feature coefficient results: \n",
      "\n",
      "bedrooms : -124895.07\n",
      "bathrooms : 5632.03\n",
      "sf : 458.02\n",
      "year_built : 859.26\n",
      "lot_size : 0.06\n",
      "garage_spaces : -22450.60\n"
     ]
    }
   ],
   "source": [
    "split_and_validate(X, y)"
   ]
  },
  {
   "cell_type": "markdown",
   "metadata": {},
   "source": [
    "## Try squaring certain terms"
   ]
  },
  {
   "cell_type": "code",
   "execution_count": 71,
   "metadata": {},
   "outputs": [],
   "source": [
    "#Separate our features from our target\n",
    "\n",
    "X1 = df.loc[:,['bedrooms','bathrooms','sf']]\n",
    "\n",
    "X1['bed2'] = X1['bedrooms'] ** 2\n",
    "X1['bath2'] = X1['bathrooms'] ** 2"
   ]
  },
  {
   "cell_type": "code",
   "execution_count": 72,
   "metadata": {},
   "outputs": [
    {
     "name": "stdout",
     "output_type": "stream",
     "text": [
      "\n",
      "Training R^2 score was: 0.5957311796738631\n",
      "\n",
      "Validation R^2 score was: -0.7008442128397103\n",
      "Feature coefficient results: \n",
      "\n",
      "bedrooms : 232436.92\n",
      "bathrooms : -185939.79\n",
      "sf : 446.96\n",
      "bed2 : -39491.21\n",
      "bath2 : 25017.50\n"
     ]
    }
   ],
   "source": [
    "split_and_validate(X1, y)"
   ]
  },
  {
   "cell_type": "markdown",
   "metadata": {},
   "source": [
    "# Adding Categorical Variables"
   ]
  },
  {
   "cell_type": "markdown",
   "metadata": {},
   "source": [
    "### Waterfront"
   ]
  },
  {
   "cell_type": "code",
   "execution_count": 73,
   "metadata": {},
   "outputs": [
    {
     "data": {
      "text/plain": [
       "No      531\n",
       " Yes    198\n",
       "Name: on_waterfront, dtype: int64"
      ]
     },
     "execution_count": 73,
     "metadata": {},
     "output_type": "execute_result"
    }
   ],
   "source": [
    "df['on_waterfront'].value_counts()"
   ]
  },
  {
   "cell_type": "code",
   "execution_count": 74,
   "metadata": {},
   "outputs": [
    {
     "data": {
      "text/html": [
       "<div>\n",
       "<style scoped>\n",
       "    .dataframe tbody tr th:only-of-type {\n",
       "        vertical-align: middle;\n",
       "    }\n",
       "\n",
       "    .dataframe tbody tr th {\n",
       "        vertical-align: top;\n",
       "    }\n",
       "\n",
       "    .dataframe thead th {\n",
       "        text-align: right;\n",
       "    }\n",
       "</style>\n",
       "<table border=\"1\" class=\"dataframe\">\n",
       "  <thead>\n",
       "    <tr style=\"text-align: right;\">\n",
       "      <th></th>\n",
       "      <th>Yes</th>\n",
       "      <th>No</th>\n",
       "    </tr>\n",
       "  </thead>\n",
       "  <tbody>\n",
       "    <tr>\n",
       "      <th>0</th>\n",
       "      <td>0</td>\n",
       "      <td>1</td>\n",
       "    </tr>\n",
       "    <tr>\n",
       "      <th>1</th>\n",
       "      <td>0</td>\n",
       "      <td>1</td>\n",
       "    </tr>\n",
       "    <tr>\n",
       "      <th>3</th>\n",
       "      <td>0</td>\n",
       "      <td>1</td>\n",
       "    </tr>\n",
       "    <tr>\n",
       "      <th>4</th>\n",
       "      <td>0</td>\n",
       "      <td>1</td>\n",
       "    </tr>\n",
       "    <tr>\n",
       "      <th>5</th>\n",
       "      <td>0</td>\n",
       "      <td>1</td>\n",
       "    </tr>\n",
       "  </tbody>\n",
       "</table>\n",
       "</div>"
      ],
      "text/plain": [
       "    Yes  No\n",
       "0     0   1\n",
       "1     0   1\n",
       "3     0   1\n",
       "4     0   1\n",
       "5     0   1"
      ]
     },
     "execution_count": 74,
     "metadata": {},
     "output_type": "execute_result"
    }
   ],
   "source": [
    "pd.get_dummies(df['on_waterfront']).head()"
   ]
  },
  {
   "cell_type": "code",
   "execution_count": 75,
   "metadata": {
    "scrolled": true
   },
   "outputs": [
    {
     "name": "stdout",
     "output_type": "stream",
     "text": [
      "\n",
      "Training R^2 score was: 0.5736168633746781\n",
      "\n",
      "Validation R^2 score was: -0.3817150485316443\n",
      "Feature coefficient results: \n",
      "\n",
      "bedrooms : -123393.84\n",
      "bathrooms : -396.87\n",
      "sf : 458.59\n",
      "year_built : 846.12\n",
      "lot_size : 0.05\n",
      "garage_spaces : -20268.38\n",
      "on_waterfront_ Yes : 71516.02\n",
      "on_waterfront_No : -71516.02\n"
     ]
    }
   ],
   "source": [
    "X2 = X.copy()\n",
    "\n",
    "X2['on_waterfront'] = df['on_waterfront']\n",
    "\n",
    "split_and_validate(pd.get_dummies(X2), y)"
   ]
  },
  {
   "cell_type": "code",
   "execution_count": 76,
   "metadata": {},
   "outputs": [],
   "source": [
    "# Confused why bedrooms is negative"
   ]
  },
  {
   "cell_type": "code",
   "execution_count": 77,
   "metadata": {},
   "outputs": [
    {
     "data": {
      "text/plain": [
       "<seaborn.axisgrid.FacetGrid at 0x1ae5e6413d0>"
      ]
     },
     "execution_count": 77,
     "metadata": {},
     "output_type": "execute_result"
    },
    {
     "data": {
      "image/png": "[encoded data removed]",
      "text/plain": [
       "<Figure size 360x360 with 1 Axes>"
      ]
     },
     "metadata": {
      "image/png": {
       "height": 349,
       "width": 350
      }
     },
     "output_type": "display_data"
    }
   ],
   "source": [
    "sns.displot(df, x=\"bedrooms\")"
   ]
  },
  {
   "cell_type": "code",
   "execution_count": 78,
   "metadata": {},
   "outputs": [
    {
     "data": {
      "text/plain": [
       "<AxesSubplot:xlabel='bedrooms', ylabel='price'>"
      ]
     },
     "execution_count": 78,
     "metadata": {},
     "output_type": "execute_result"
    },
    {
     "data": {
      "image/png": "[encoded data removed]",
      "text/plain": [
       "<Figure size 432x288 with 1 Axes>"
      ]
     },
     "metadata": {
      "image/png": {
       "height": 277,
       "width": 393
      }
     },
     "output_type": "display_data"
    }
   ],
   "source": [
    "sns.scatterplot(x=\"bedrooms\", y=\"price\",data=df)"
   ]
  },
  {
   "cell_type": "code",
   "execution_count": 79,
   "metadata": {},
   "outputs": [
    {
     "data": {
      "text/plain": [
       "<AxesSubplot:xlabel='bathrooms', ylabel='price'>"
      ]
     },
     "execution_count": 79,
     "metadata": {},
     "output_type": "execute_result"
    },
    {
     "data": {
      "image/png": "[encoded data removed]",
      "text/plain": [
       "<Figure size 432x288 with 1 Axes>"
      ]
     },
     "metadata": {
      "image/png": {
       "height": 277,
       "width": 389
      }
     },
     "output_type": "display_data"
    }
   ],
   "source": [
    "sns.scatterplot(x=\"bathrooms\", y=\"price\",data=df)"
   ]
  },
  {
   "cell_type": "code",
   "execution_count": 80,
   "metadata": {},
   "outputs": [
    {
     "data": {
      "text/plain": [
       "<AxesSubplot:xlabel='lot_size', ylabel='price'>"
      ]
     },
     "execution_count": 80,
     "metadata": {},
     "output_type": "execute_result"
    },
    {
     "data": {
      "image/png": "[encoded data removed]",
      "text/plain": [
       "<Figure size 432x288 with 1 Axes>"
      ]
     },
     "metadata": {
      "image/png": {
       "height": 277,
       "width": 389
      }
     },
     "output_type": "display_data"
    }
   ],
   "source": [
    "sns.scatterplot(x=\"lot_size\", y=\"price\",data=df)"
   ]
  },
  {
   "cell_type": "markdown",
   "metadata": {},
   "source": [
    "## Interaction Terms"
   ]
  },
  {
   "cell_type": "code",
   "execution_count": 81,
   "metadata": {},
   "outputs": [
    {
     "data": {
      "text/plain": [
       "<AxesSubplot:xlabel='year_built', ylabel='price'>"
      ]
     },
     "execution_count": 81,
     "metadata": {},
     "output_type": "execute_result"
    },
    {
     "data": {
      "image/png": "[encoded data removed]",
      "text/plain": [
       "<Figure size 432x288 with 1 Axes>"
      ]
     },
     "metadata": {
      "image/png": {
       "height": 277,
       "width": 389
      }
     },
     "output_type": "display_data"
    }
   ],
   "source": [
    "sns.scatterplot(x=\"year_built\", y=\"price\",data=df)"
   ]
  },
  {
   "cell_type": "code",
   "execution_count": 82,
   "metadata": {},
   "outputs": [],
   "source": [
    "# Looking back at the homes, it appears to be these \n",
    "#old, large homes are less expensive and have many bathrooms/beds"
   ]
  },
  {
   "cell_type": "code",
   "execution_count": 83,
   "metadata": {},
   "outputs": [],
   "source": [
    "# Adding interaction terms of year_built on bedrooms and bathrooms"
   ]
  },
  {
   "cell_type": "code",
   "execution_count": 84,
   "metadata": {},
   "outputs": [
    {
     "name": "stdout",
     "output_type": "stream",
     "text": [
      "\n",
      "Training R^2 score was: 0.5966695543395821\n",
      "\n",
      "Validation R^2 score was: -0.17998218823273393\n",
      "Feature coefficient results: \n",
      "\n",
      "bedrooms : 347052.18\n",
      "bathrooms : -3104244.74\n",
      "sf : 383.01\n",
      "year_built : -2949.39\n",
      "lot_size : 0.05\n",
      "garage_spaces : -19629.15\n",
      "Bed_x_YB : -230.99\n",
      "Bath_x_YB : 1631.88\n",
      "on_waterfront_ Yes : 73268.74\n",
      "on_waterfront_No : -73268.74\n"
     ]
    }
   ],
   "source": [
    "X3 = X2.copy()\n",
    "\n",
    "# multiplicative interaction\n",
    "X3['Bed_x_YB'] = X3['bedrooms'] * X3['year_built']\n",
    "\n",
    "# division interaction\n",
    "X3['Bath_x_YB'] = X3['bathrooms'] * X3['year_built']\n",
    "\n",
    "split_and_validate(pd.get_dummies(X3), y)"
   ]
  },
  {
   "cell_type": "code",
   "execution_count": 85,
   "metadata": {},
   "outputs": [
    {
     "name": "stdout",
     "output_type": "stream",
     "text": [
      "\n",
      "Training R^2 score was: 0.5955811356053635\n",
      "\n",
      "Validation R^2 score was: -0.14747654632441942\n",
      "Feature coefficient results: \n",
      "\n",
      "bedrooms : -103467.59\n",
      "bathrooms : -2821532.12\n",
      "sf : 379.71\n",
      "year_built : -3457.51\n",
      "lot_size : 0.05\n",
      "Bath_x_YB : 1484.20\n",
      "on_waterfront_ Yes : 74286.97\n",
      "on_waterfront_No : -74286.97\n"
     ]
    }
   ],
   "source": [
    "X4 = X2.copy()\n",
    "\n",
    "# division interaction\n",
    "X4['Bath_x_YB'] = X4['bathrooms'] * X4['year_built']\n",
    "X4 = X4.drop(['garage_spaces'], axis=1)\n",
    "\n",
    "split_and_validate(pd.get_dummies(X4), y)"
   ]
  },
  {
   "cell_type": "markdown",
   "metadata": {},
   "source": [
    "## Adding more categorical variables and interaction terms"
   ]
  },
  {
   "cell_type": "code",
   "execution_count": 86,
   "metadata": {},
   "outputs": [],
   "source": [
    "df[\"view_description\"].replace({\"{}\":\"None\"}, inplace=True)"
   ]
  },
  {
   "cell_type": "code",
   "execution_count": 87,
   "metadata": {},
   "outputs": [
    {
     "data": {
      "text/html": [
       "<div>\n",
       "<style scoped>\n",
       "    .dataframe tbody tr th:only-of-type {\n",
       "        vertical-align: middle;\n",
       "    }\n",
       "\n",
       "    .dataframe tbody tr th {\n",
       "        vertical-align: top;\n",
       "    }\n",
       "\n",
       "    .dataframe thead th {\n",
       "        text-align: right;\n",
       "    }\n",
       "</style>\n",
       "<table border=\"1\" class=\"dataframe\">\n",
       "  <thead>\n",
       "    <tr style=\"text-align: right;\">\n",
       "      <th></th>\n",
       "      <th>Mountain</th>\n",
       "      <th>Mountain, Water</th>\n",
       "      <th>Water</th>\n",
       "      <th>None</th>\n",
       "    </tr>\n",
       "  </thead>\n",
       "  <tbody>\n",
       "    <tr>\n",
       "      <th>0</th>\n",
       "      <td>0</td>\n",
       "      <td>0</td>\n",
       "      <td>0</td>\n",
       "      <td>1</td>\n",
       "    </tr>\n",
       "    <tr>\n",
       "      <th>1</th>\n",
       "      <td>0</td>\n",
       "      <td>0</td>\n",
       "      <td>0</td>\n",
       "      <td>1</td>\n",
       "    </tr>\n",
       "    <tr>\n",
       "      <th>3</th>\n",
       "      <td>0</td>\n",
       "      <td>0</td>\n",
       "      <td>0</td>\n",
       "      <td>1</td>\n",
       "    </tr>\n",
       "    <tr>\n",
       "      <th>4</th>\n",
       "      <td>0</td>\n",
       "      <td>0</td>\n",
       "      <td>0</td>\n",
       "      <td>1</td>\n",
       "    </tr>\n",
       "    <tr>\n",
       "      <th>5</th>\n",
       "      <td>0</td>\n",
       "      <td>0</td>\n",
       "      <td>0</td>\n",
       "      <td>1</td>\n",
       "    </tr>\n",
       "  </tbody>\n",
       "</table>\n",
       "</div>"
      ],
      "text/plain": [
       "    Mountain   Mountain, Water   Water  None\n",
       "0          0                 0       0     1\n",
       "1          0                 0       0     1\n",
       "3          0                 0       0     1\n",
       "4          0                 0       0     1\n",
       "5          0                 0       0     1"
      ]
     },
     "execution_count": 87,
     "metadata": {},
     "output_type": "execute_result"
    }
   ],
   "source": [
    "pd.get_dummies(df['view_description']).head()"
   ]
  },
  {
   "cell_type": "code",
   "execution_count": 88,
   "metadata": {},
   "outputs": [
    {
     "name": "stdout",
     "output_type": "stream",
     "text": [
      "\n",
      "Training R^2 score was: 0.5979699091339556\n",
      "\n",
      "Validation R^2 score was: -0.15046836878456182\n",
      "Feature coefficient results: \n",
      "\n",
      "bedrooms : -104742.30\n",
      "bathrooms : -2826086.15\n",
      "sf : 384.03\n",
      "year_built : -3380.84\n",
      "lot_size : 0.05\n",
      "Bath_x_YB : 1487.85\n",
      "on_waterfront_ Yes : 63079.72\n",
      "on_waterfront_No : -63079.72\n",
      "view_description_ Mountain : -99103.63\n",
      "view_description_ Mountain, Water : 31231.71\n",
      "view_description_ Water : 59116.18\n",
      "view_description_None : 8755.73\n"
     ]
    }
   ],
   "source": [
    "# View description gets worse\n",
    "\n",
    "X5 = X2.copy()\n",
    "\n",
    "# division interaction\n",
    "X5['Bath_x_YB'] = X5['bathrooms'] * X5['year_built']\n",
    "X5 = X5.drop(['garage_spaces'], axis=1)\n",
    "X5['view_description'] = df['view_description']\n",
    "\n",
    "split_and_validate(pd.get_dummies(X5), y)"
   ]
  },
  {
   "cell_type": "code",
   "execution_count": 89,
   "metadata": {},
   "outputs": [
    {
     "name": "stdout",
     "output_type": "stream",
     "text": [
      "\n",
      "Training R^2 score was: 0.5955854819118784\n",
      "\n",
      "Validation R^2 score was: -0.14717615654343907\n",
      "Feature coefficient results: \n",
      "\n",
      "bedrooms : -103500.29\n",
      "bathrooms : -2820214.85\n",
      "sf : 379.89\n",
      "year_built : -3460.15\n",
      "lot_size : 0.05\n",
      "Bath_x_YB : 1483.44\n",
      "on_waterfront_ Yes : 74365.79\n",
      "on_waterfront_No : -74365.79\n",
      "new_construction_ No : -9502.24\n",
      "new_construction_ Yes : 9502.24\n"
     ]
    }
   ],
   "source": [
    "# Adding interaction term for new construction\n",
    "\n",
    "X6 = X2.copy()\n",
    "\n",
    "# division interaction\n",
    "X6['Bath_x_YB'] = X6['bathrooms'] * X6['year_built']\n",
    "X6 = X6.drop(['garage_spaces'], axis=1)\n",
    "X6['new_construction'] = df['new_construction']\n",
    "\n",
    "\n",
    "split_and_validate(pd.get_dummies(X6), y)"
   ]
  },
  {
   "cell_type": "markdown",
   "metadata": {},
   "source": [
    "### Zip Code"
   ]
  },
  {
   "cell_type": "code",
   "execution_count": 90,
   "metadata": {},
   "outputs": [],
   "source": [
    "zip_code_counts = df.zip_code.value_counts()\n",
    "df_zip_code = pd.DataFrame(zip_code_counts)"
   ]
  },
  {
   "cell_type": "code",
   "execution_count": 91,
   "metadata": {},
   "outputs": [],
   "source": [
    "#sns.displot(df_zip_code, x=\"zip_code\")"
   ]
  },
  {
   "cell_type": "code",
   "execution_count": 92,
   "metadata": {},
   "outputs": [
    {
     "data": {
      "text/plain": [
       "05701    36\n",
       "05143    21\n",
       "05301    18\n",
       "05201    16\n",
       "05251    15\n",
       "         ..\n",
       "05462     1\n",
       "05734     1\n",
       "05654     1\n",
       "05058     1\n",
       "05821     1\n",
       "Name: zip_code, Length: 196, dtype: int64"
      ]
     },
     "execution_count": 92,
     "metadata": {},
     "output_type": "execute_result"
    }
   ],
   "source": [
    "zip_code_counts"
   ]
  },
  {
   "cell_type": "code",
   "execution_count": 93,
   "metadata": {},
   "outputs": [
    {
     "name": "stdout",
     "output_type": "stream",
     "text": [
      "\n",
      "Training R^2 score was: 0.6737637795873531\n",
      "\n",
      "Validation R^2 score was: 0.20266081161923688\n",
      "Feature coefficient results: \n",
      "\n",
      "bathrooms : -2417034.26\n",
      "sf : 318.85\n",
      "year_built : -2373.82\n",
      "lot_size : 0.06\n",
      "Bath_x_YB : 1246.31\n",
      "on_waterfront_ Yes : 70179.39\n",
      "on_waterfront_No : -70179.39\n",
      "new_construction_ No : -29126.18\n",
      "new_construction_ Yes : 29126.18\n",
      "zip_code_05143 : -182023.59\n",
      "zip_code_05149 : -36132.42\n",
      "zip_code_05156 : -139356.86\n",
      "zip_code_05201 : -167406.86\n",
      "zip_code_05251 : 152963.48\n",
      "zip_code_05301 : -87389.95\n",
      "zip_code_05356 : -222047.50\n",
      "zip_code_05363 : -102506.57\n",
      "zip_code_05641 : -108185.36\n",
      "zip_code_05661 : 315687.10\n",
      "zip_code_05672 : 2055995.78\n",
      "zip_code_05701 : -50446.18\n",
      "zip_code_05733 : -146413.47\n",
      "zip_code_05743 : -423732.64\n",
      "zip_code_05753 : -27055.02\n",
      "zip_code_05764 : -292447.16\n",
      "zip_code_05819 : -129967.97\n",
      "zip_code_05830 : -18892.55\n",
      "zip_code_05855 : -238676.45\n",
      "zip_code_Other : -151965.80\n",
      "view_description_ Mountain : -132504.72\n",
      "view_description_ Mountain, Water : 80857.35\n",
      "view_description_ Water : 68505.47\n",
      "view_description_None : -16858.10\n"
     ]
    }
   ],
   "source": [
    "other_zips = list(zip_code_counts[zip_code_counts <= 7].index)\n",
    "\n",
    "X7 = X6.copy()\n",
    "\n",
    "X7['zip_code'] = df['zip_code'].replace(other_zips, 'Other')\n",
    "X7['view_description'] = df['view_description']\n",
    "X7 = X7.drop(['bedrooms'], axis=1)\n",
    "\n",
    "split_and_validate(pd.get_dummies(X7), y)"
   ]
  },
  {
   "cell_type": "code",
   "execution_count": 94,
   "metadata": {},
   "outputs": [],
   "source": [
    "# Try stripping down the variables amd addomg polynomials\n",
    "\n",
    "X8 = X7.copy()\n",
    "\n",
    "X8 = X8.drop(['year_built'], axis=1)\n",
    "X8['sf3'] = X8['sf'] ** 3\n",
    "X8['bathrooms3'] = X8['bathrooms'] ** 3\n",
    "X8 = X8.drop(['new_construction'], axis=1)\n",
    "X8 = X8.drop(['sf'], axis=1)\n",
    "X8['on_waterfront'] = pd.get_dummies(X8['on_waterfront'])\n",
    "X8['on_waterfrontXSF'] = X8['on_waterfront'] * df['sf'] ** 2\n",
    "X8['on_waterfrontXbedrooms'] = X8['on_waterfront'] * df['bedrooms'] ** 3\n",
    "\n",
    "#split_and_validate(pd.get_dummies(X8), y)"
   ]
  },
  {
   "cell_type": "code",
   "execution_count": 95,
   "metadata": {},
   "outputs": [
    {
     "name": "stdout",
     "output_type": "stream",
     "text": [
      "\n",
      "Training R^2 score was: 0.861825199230305\n",
      "\n",
      "Validation R^2 score was: 0.672157356426301\n",
      "Feature coefficient results: \n",
      "\n",
      "on_waterfront : 132426.75\n",
      "Bath_x_YB : 67.15\n",
      "view_description : 109900.82\n",
      "sf3 : 0.00\n",
      "bathrooms3 : -609.04\n",
      "on_waterfrontXSF : 0.02\n",
      "on_waterfrontXbedrooms : -562.17\n",
      "view_descriptionXbathrooms : -150576.56\n",
      "sfXlot_size2 : 0.00\n",
      "on_waterfrontXview_description : -151321.05\n",
      "zip_code_05143 : -103790.30\n",
      "zip_code_05149 : 63605.69\n",
      "zip_code_05156 : -142031.68\n",
      "zip_code_05201 : -150460.92\n",
      "zip_code_05251 : 357982.05\n",
      "zip_code_05301 : -99244.79\n",
      "zip_code_05356 : -123187.78\n",
      "zip_code_05363 : -122820.32\n",
      "zip_code_05641 : -98786.93\n",
      "zip_code_05661 : 469012.94\n",
      "zip_code_05672 : 1162556.01\n",
      "zip_code_05701 : -40225.78\n",
      "zip_code_05733 : -186408.89\n",
      "zip_code_05743 : -265220.41\n",
      "zip_code_05753 : 40340.05\n",
      "zip_code_05764 : -140309.59\n",
      "zip_code_05819 : -134243.12\n",
      "zip_code_05830 : -163816.95\n",
      "zip_code_05855 : -259143.83\n",
      "zip_code_Other : -62055.75\n"
     ]
    }
   ],
   "source": [
    "# Adding view description\n",
    "\n",
    "X9 = X8.copy()\n",
    "\n",
    "X9['view_description'] = pd.get_dummies(X9['view_description'])\n",
    "X9['view_descriptionXbathrooms'] = X9['view_description'] * X9['on_waterfront'] \n",
    "X9['sfXlot_size2'] = X9['lot_size'] * df['sf'] **2\n",
    "X9['on_waterfrontXview_description'] = X9['view_description'] * X9['on_waterfront'] \n",
    "X9 = X9.drop(['bathrooms'], axis=1)\n",
    "X9 = X9.drop(['lot_size'], axis=1)\n",
    "\n",
    "split_and_validate(pd.get_dummies(X9), y)"
   ]
  },
  {
   "cell_type": "code",
   "execution_count": 96,
   "metadata": {},
   "outputs": [
    {
     "name": "stdout",
     "output_type": "stream",
     "text": [
      "\n",
      "Training R^2 score was: 0.861825199230305\n",
      "\n",
      "Validation R^2 score was: 0.672157356426301\n",
      "Feature coefficient results: \n",
      "\n",
      "on_waterfront : 132426.75\n",
      "Bath_x_YB : 67.15\n",
      "view_description : 109900.82\n",
      "sf3 : 0.00\n",
      "bathrooms3 : -609.04\n",
      "on_waterfrontXSF : 0.02\n",
      "on_waterfrontXbedrooms : -562.17\n",
      "view_descriptionXbathrooms : -150576.56\n",
      "sfXlot_size2 : 0.00\n",
      "on_waterfrontXview_description : -151321.05\n",
      "zip_code_05143 : -103790.30\n",
      "zip_code_05149 : 63605.69\n",
      "zip_code_05156 : -142031.68\n",
      "zip_code_05201 : -150460.92\n",
      "zip_code_05251 : 357982.05\n",
      "zip_code_05301 : -99244.79\n",
      "zip_code_05356 : -123187.78\n",
      "zip_code_05363 : -122820.32\n",
      "zip_code_05641 : -98786.93\n",
      "zip_code_05661 : 469012.94\n",
      "zip_code_05672 : 1162556.01\n",
      "zip_code_05701 : -40225.78\n",
      "zip_code_05733 : -186408.89\n",
      "zip_code_05743 : -265220.41\n",
      "zip_code_05753 : 40340.05\n",
      "zip_code_05764 : -140309.59\n",
      "zip_code_05819 : -134243.12\n",
      "zip_code_05830 : -163816.95\n",
      "zip_code_05855 : -259143.83\n",
      "zip_code_Other : -62055.75\n"
     ]
    }
   ],
   "source": [
    "# perform train/val split\n",
    "X_train, X_val, y_train, y_val = \\\n",
    "    train_test_split(pd.get_dummies(X9), y, test_size=0.2, random_state=42)\n",
    "    \n",
    "# fit linear regression to training data\n",
    "lr_model = LinearRegression()\n",
    "lr_model.fit(X_train, y_train)\n",
    "    \n",
    "# score fit model on training & validation data\n",
    "train_score = lr_model.score(X_train, y_train)\n",
    "val_score = lr_model.score(X_val, y_val)\n",
    "    \n",
    "# report training results\n",
    "print('\\nTraining R^2 score was:', train_score)\n",
    "    \n",
    "# report validation results\n",
    "print('\\nValidation R^2 score was:', val_score)\n",
    "print('Feature coefficient results: \\n')\n",
    "for feature, coef in zip(pd.get_dummies(X9).columns, lr_model.coef_):\n",
    "    print(feature, ':', f'{coef:.2f}') "
   ]
  },
  {
   "cell_type": "code",
   "execution_count": 97,
   "metadata": {},
   "outputs": [
    {
     "data": {
      "image/png": "[encoded data removed]",
      "text/plain": [
       "<Figure size 576x396 with 2 Axes>"
      ]
     },
     "metadata": {
      "image/png": {
       "height": 358,
       "width": 511
      }
     },
     "output_type": "display_data"
    },
    {
     "data": {
      "text/plain": [
       "<AxesSubplot:title={'center':'Residuals for LinearRegression Model'}, xlabel='Predicted Value', ylabel='Residuals'>"
      ]
     },
     "execution_count": 97,
     "metadata": {},
     "output_type": "execute_result"
    }
   ],
   "source": [
    "# Viewing residuals\n",
    "\n",
    "from sklearn.linear_model import Ridge\n",
    "from sklearn.model_selection import train_test_split\n",
    "\n",
    "from yellowbrick.datasets import load_concrete\n",
    "from yellowbrick.regressor import ResidualsPlot\n",
    "\n",
    "# Instantiate the linear model and visualizer\n",
    "model = lr_model\n",
    "visualizer = ResidualsPlot(model)\n",
    "\n",
    "visualizer.fit(X_train, y_train)  # Fit the training data to the visualizer\n",
    "visualizer.score(X_val, y_val)\n",
    "visualizer.show()                 # Finalize and render the figure"
   ]
  },
  {
   "cell_type": "code",
   "execution_count": 98,
   "metadata": {},
   "outputs": [
    {
     "data": {
      "image/png": "[encoded data removed]",
      "text/plain": [
       "<Figure size 576x396 with 2 Axes>"
      ]
     },
     "metadata": {
      "image/png": {
       "height": 358,
       "width": 511
      }
     },
     "output_type": "display_data"
    },
    {
     "data": {
      "text/plain": [
       "<AxesSubplot:title={'center':'Residuals for LinearRegression Model'}, xlabel='Predicted Value', ylabel='Residuals'>"
      ]
     },
     "execution_count": 98,
     "metadata": {},
     "output_type": "execute_result"
    }
   ],
   "source": [
    "visualizer = ResidualsPlot(model, hist=False, qqplot=True)\n",
    "visualizer.fit(X_train, y_train)\n",
    "visualizer.score(X_val, y_val)\n",
    "visualizer.show()"
   ]
  },
  {
   "cell_type": "code",
   "execution_count": 99,
   "metadata": {},
   "outputs": [],
   "source": [
    "lr_model.fit(X_train, y_train)\n",
    "prediction = lr_model.predict(X_val)\n",
    "residual = (y_val - prediction)"
   ]
  },
  {
   "cell_type": "code",
   "execution_count": 100,
   "metadata": {},
   "outputs": [],
   "source": [
    "residual_table = pd.DataFrame(residual)\n",
    "residual_table = residual_table.rename(columns={\"price\":\"res\"})"
   ]
  },
  {
   "cell_type": "code",
   "execution_count": 101,
   "metadata": {},
   "outputs": [],
   "source": [
    "result = pd.merge(residual_table, df, left_index=True, right_index=True)"
   ]
  },
  {
   "cell_type": "code",
   "execution_count": 102,
   "metadata": {},
   "outputs": [],
   "source": [
    "#result.sort_values(by=['res'],ascending=False).head(10)"
   ]
  },
  {
   "cell_type": "code",
   "execution_count": 103,
   "metadata": {},
   "outputs": [],
   "source": [
    "#result.sort_values(by=['res'],ascending=True).head(20)"
   ]
  },
  {
   "cell_type": "markdown",
   "metadata": {},
   "source": [
    "### Adding median family income"
   ]
  },
  {
   "cell_type": "code",
   "execution_count": 186,
   "metadata": {},
   "outputs": [
    {
     "data": {
      "text/html": [
       "<div>\n",
       "<style scoped>\n",
       "    .dataframe tbody tr th:only-of-type {\n",
       "        vertical-align: middle;\n",
       "    }\n",
       "\n",
       "    .dataframe tbody tr th {\n",
       "        vertical-align: top;\n",
       "    }\n",
       "\n",
       "    .dataframe thead th {\n",
       "        text-align: right;\n",
       "    }\n",
       "</style>\n",
       "<table border=\"1\" class=\"dataframe\">\n",
       "  <thead>\n",
       "    <tr style=\"text-align: right;\">\n",
       "      <th></th>\n",
       "      <th>on_waterfront</th>\n",
       "      <th>Bath_x_YB</th>\n",
       "      <th>zip_code</th>\n",
       "      <th>view_description</th>\n",
       "      <th>sf3</th>\n",
       "      <th>bathrooms3</th>\n",
       "      <th>on_waterfrontXSF</th>\n",
       "      <th>on_waterfrontXbedrooms</th>\n",
       "      <th>view_descriptionXbathrooms</th>\n",
       "      <th>sfXlot_size2</th>\n",
       "      <th>on_waterfrontXview_description</th>\n",
       "    </tr>\n",
       "  </thead>\n",
       "  <tbody>\n",
       "    <tr>\n",
       "      <th>0</th>\n",
       "      <td>0</td>\n",
       "      <td>3920.0</td>\n",
       "      <td>Other</td>\n",
       "      <td>0</td>\n",
       "      <td>7.338708e+08</td>\n",
       "      <td>8.0</td>\n",
       "      <td>0.0</td>\n",
       "      <td>0</td>\n",
       "      <td>0</td>\n",
       "      <td>3.260534e+11</td>\n",
       "      <td>0</td>\n",
       "    </tr>\n",
       "    <tr>\n",
       "      <th>1</th>\n",
       "      <td>0</td>\n",
       "      <td>3972.0</td>\n",
       "      <td>Other</td>\n",
       "      <td>0</td>\n",
       "      <td>4.741632e+09</td>\n",
       "      <td>8.0</td>\n",
       "      <td>0.0</td>\n",
       "      <td>0</td>\n",
       "      <td>0</td>\n",
       "      <td>8.606062e+11</td>\n",
       "      <td>0</td>\n",
       "    </tr>\n",
       "    <tr>\n",
       "      <th>3</th>\n",
       "      <td>0</td>\n",
       "      <td>3920.0</td>\n",
       "      <td>Other</td>\n",
       "      <td>0</td>\n",
       "      <td>2.038721e+09</td>\n",
       "      <td>8.0</td>\n",
       "      <td>0.0</td>\n",
       "      <td>0</td>\n",
       "      <td>0</td>\n",
       "      <td>2.801473e+11</td>\n",
       "      <td>0</td>\n",
       "    </tr>\n",
       "    <tr>\n",
       "      <th>4</th>\n",
       "      <td>0</td>\n",
       "      <td>16749.0</td>\n",
       "      <td>05143</td>\n",
       "      <td>0</td>\n",
       "      <td>1.939035e+11</td>\n",
       "      <td>729.0</td>\n",
       "      <td>0.0</td>\n",
       "      <td>0</td>\n",
       "      <td>0</td>\n",
       "      <td>1.897091e+12</td>\n",
       "      <td>0</td>\n",
       "    </tr>\n",
       "    <tr>\n",
       "      <th>5</th>\n",
       "      <td>0</td>\n",
       "      <td>3924.0</td>\n",
       "      <td>Other</td>\n",
       "      <td>0</td>\n",
       "      <td>5.870966e+09</td>\n",
       "      <td>8.0</td>\n",
       "      <td>0.0</td>\n",
       "      <td>0</td>\n",
       "      <td>0</td>\n",
       "      <td>5.953954e+10</td>\n",
       "      <td>0</td>\n",
       "    </tr>\n",
       "  </tbody>\n",
       "</table>\n",
       "</div>"
      ],
      "text/plain": [
       "   on_waterfront  Bath_x_YB zip_code  view_description           sf3  \\\n",
       "0              0     3920.0    Other                 0  7.338708e+08   \n",
       "1              0     3972.0    Other                 0  4.741632e+09   \n",
       "3              0     3920.0    Other                 0  2.038721e+09   \n",
       "4              0    16749.0    05143                 0  1.939035e+11   \n",
       "5              0     3924.0    Other                 0  5.870966e+09   \n",
       "\n",
       "   bathrooms3  on_waterfrontXSF  on_waterfrontXbedrooms  \\\n",
       "0         8.0               0.0                       0   \n",
       "1         8.0               0.0                       0   \n",
       "3         8.0               0.0                       0   \n",
       "4       729.0               0.0                       0   \n",
       "5         8.0               0.0                       0   \n",
       "\n",
       "   view_descriptionXbathrooms  sfXlot_size2  on_waterfrontXview_description  \n",
       "0                           0  3.260534e+11                               0  \n",
       "1                           0  8.606062e+11                               0  \n",
       "3                           0  2.801473e+11                               0  \n",
       "4                           0  1.897091e+12                               0  \n",
       "5                           0  5.953954e+10                               0  "
      ]
     },
     "execution_count": 186,
     "metadata": {},
     "output_type": "execute_result"
    }
   ],
   "source": [
    "X9.head()"
   ]
  },
  {
   "cell_type": "code",
   "execution_count": 187,
   "metadata": {},
   "outputs": [
    {
     "data": {
      "text/plain": [
       "(309, 3)"
      ]
     },
     "execution_count": 187,
     "metadata": {},
     "output_type": "execute_result"
    }
   ],
   "source": [
    "df_agg_income.shape"
   ]
  },
  {
   "cell_type": "code",
   "execution_count": 188,
   "metadata": {},
   "outputs": [
    {
     "data": {
      "text/plain": [
       "(729, 12)"
      ]
     },
     "execution_count": 188,
     "metadata": {},
     "output_type": "execute_result"
    }
   ],
   "source": [
    "# Add a zip_code that is not binary\n",
    "X10 = X9.copy()\n",
    "X10['non_dummy_zip'] = df['zip_code']\n",
    "X10.shape"
   ]
  },
  {
   "cell_type": "code",
   "execution_count": 189,
   "metadata": {},
   "outputs": [],
   "source": [
    "X10['non_dummy_zip'] = pd.to_numeric(X10['non_dummy_zip'])"
   ]
  },
  {
   "cell_type": "code",
   "execution_count": 190,
   "metadata": {},
   "outputs": [],
   "source": [
    "X11 = pd.merge(left = X10, right = df_agg_income,how = 'left', left_on = 'non_dummy_zip', right_on='zip_code')"
   ]
  },
  {
   "cell_type": "code",
   "execution_count": 191,
   "metadata": {},
   "outputs": [
    {
     "data": {
      "text/plain": [
       "(729, 15)"
      ]
     },
     "execution_count": 191,
     "metadata": {},
     "output_type": "execute_result"
    }
   ],
   "source": [
    "X11.shape"
   ]
  },
  {
   "cell_type": "code",
   "execution_count": 192,
   "metadata": {},
   "outputs": [
    {
     "data": {
      "text/html": [
       "<div>\n",
       "<style scoped>\n",
       "    .dataframe tbody tr th:only-of-type {\n",
       "        vertical-align: middle;\n",
       "    }\n",
       "\n",
       "    .dataframe tbody tr th {\n",
       "        vertical-align: top;\n",
       "    }\n",
       "\n",
       "    .dataframe thead th {\n",
       "        text-align: right;\n",
       "    }\n",
       "</style>\n",
       "<table border=\"1\" class=\"dataframe\">\n",
       "  <thead>\n",
       "    <tr style=\"text-align: right;\">\n",
       "      <th></th>\n",
       "      <th>on_waterfront</th>\n",
       "      <th>Bath_x_YB</th>\n",
       "      <th>zip_code_x</th>\n",
       "      <th>view_description</th>\n",
       "      <th>sf3</th>\n",
       "      <th>bathrooms3</th>\n",
       "      <th>on_waterfrontXSF</th>\n",
       "      <th>on_waterfrontXbedrooms</th>\n",
       "      <th>view_descriptionXbathrooms</th>\n",
       "      <th>sfXlot_size2</th>\n",
       "      <th>on_waterfrontXview_description</th>\n",
       "      <th>non_dummy_zip</th>\n",
       "      <th>zip_code_y</th>\n",
       "      <th>county</th>\n",
       "      <th>median_income</th>\n",
       "    </tr>\n",
       "  </thead>\n",
       "  <tbody>\n",
       "    <tr>\n",
       "      <th>629</th>\n",
       "      <td>1</td>\n",
       "      <td>8020.0</td>\n",
       "      <td>Other</td>\n",
       "      <td>1</td>\n",
       "      <td>9.320615e+10</td>\n",
       "      <td>64.0</td>\n",
       "      <td>20557156.0</td>\n",
       "      <td>64</td>\n",
       "      <td>1</td>\n",
       "      <td>1.996897e+14</td>\n",
       "      <td>1</td>\n",
       "      <td>5355</td>\n",
       "      <td>5355.0</td>\n",
       "      <td>Windham</td>\n",
       "      <td>70900.0</td>\n",
       "    </tr>\n",
       "    <tr>\n",
       "      <th>630</th>\n",
       "      <td>0</td>\n",
       "      <td>5655.0</td>\n",
       "      <td>Other</td>\n",
       "      <td>0</td>\n",
       "      <td>4.353991e+10</td>\n",
       "      <td>27.0</td>\n",
       "      <td>0.0</td>\n",
       "      <td>0</td>\n",
       "      <td>0</td>\n",
       "      <td>4.097306e+11</td>\n",
       "      <td>0</td>\n",
       "      <td>5845</td>\n",
       "      <td>5845.0</td>\n",
       "      <td>Orleans</td>\n",
       "      <td>59800.0</td>\n",
       "    </tr>\n",
       "    <tr>\n",
       "      <th>631</th>\n",
       "      <td>1</td>\n",
       "      <td>1964.0</td>\n",
       "      <td>Other</td>\n",
       "      <td>0</td>\n",
       "      <td>6.076454e+08</td>\n",
       "      <td>1.0</td>\n",
       "      <td>717409.0</td>\n",
       "      <td>8</td>\n",
       "      <td>0</td>\n",
       "      <td>5.312414e+09</td>\n",
       "      <td>0</td>\n",
       "      <td>5446</td>\n",
       "      <td>5446.0</td>\n",
       "      <td>Chittenden</td>\n",
       "      <td>89700.0</td>\n",
       "    </tr>\n",
       "    <tr>\n",
       "      <th>632</th>\n",
       "      <td>0</td>\n",
       "      <td>4006.0</td>\n",
       "      <td>Other</td>\n",
       "      <td>1</td>\n",
       "      <td>9.651309e+10</td>\n",
       "      <td>8.0</td>\n",
       "      <td>0.0</td>\n",
       "      <td>0</td>\n",
       "      <td>0</td>\n",
       "      <td>2.978713e+12</td>\n",
       "      <td>0</td>\n",
       "      <td>5777</td>\n",
       "      <td>5777.0</td>\n",
       "      <td>Rutland</td>\n",
       "      <td>71500.0</td>\n",
       "    </tr>\n",
       "    <tr>\n",
       "      <th>633</th>\n",
       "      <td>1</td>\n",
       "      <td>5892.0</td>\n",
       "      <td>Other</td>\n",
       "      <td>0</td>\n",
       "      <td>1.327838e+10</td>\n",
       "      <td>27.0</td>\n",
       "      <td>5607424.0</td>\n",
       "      <td>125</td>\n",
       "      <td>0</td>\n",
       "      <td>4.127961e+11</td>\n",
       "      <td>0</td>\n",
       "      <td>5463</td>\n",
       "      <td>5463.0</td>\n",
       "      <td>Grand Isle</td>\n",
       "      <td>89700.0</td>\n",
       "    </tr>\n",
       "    <tr>\n",
       "      <th>...</th>\n",
       "      <td>...</td>\n",
       "      <td>...</td>\n",
       "      <td>...</td>\n",
       "      <td>...</td>\n",
       "      <td>...</td>\n",
       "      <td>...</td>\n",
       "      <td>...</td>\n",
       "      <td>...</td>\n",
       "      <td>...</td>\n",
       "      <td>...</td>\n",
       "      <td>...</td>\n",
       "      <td>...</td>\n",
       "      <td>...</td>\n",
       "      <td>...</td>\n",
       "      <td>...</td>\n",
       "    </tr>\n",
       "    <tr>\n",
       "      <th>724</th>\n",
       "      <td>1</td>\n",
       "      <td>11922.0</td>\n",
       "      <td>05301</td>\n",
       "      <td>0</td>\n",
       "      <td>1.447031e+11</td>\n",
       "      <td>216.0</td>\n",
       "      <td>27562500.0</td>\n",
       "      <td>343</td>\n",
       "      <td>0</td>\n",
       "      <td>1.200622e+13</td>\n",
       "      <td>0</td>\n",
       "      <td>5301</td>\n",
       "      <td>5301.0</td>\n",
       "      <td>Windham</td>\n",
       "      <td>70900.0</td>\n",
       "    </tr>\n",
       "    <tr>\n",
       "      <th>725</th>\n",
       "      <td>1</td>\n",
       "      <td>6021.0</td>\n",
       "      <td>Other</td>\n",
       "      <td>1</td>\n",
       "      <td>3.019645e+10</td>\n",
       "      <td>27.0</td>\n",
       "      <td>9696996.0</td>\n",
       "      <td>64</td>\n",
       "      <td>1</td>\n",
       "      <td>1.136255e+12</td>\n",
       "      <td>1</td>\n",
       "      <td>5440</td>\n",
       "      <td>5440.0</td>\n",
       "      <td>Grand Isle</td>\n",
       "      <td>89700.0</td>\n",
       "    </tr>\n",
       "    <tr>\n",
       "      <th>726</th>\n",
       "      <td>1</td>\n",
       "      <td>1930.0</td>\n",
       "      <td>Other</td>\n",
       "      <td>0</td>\n",
       "      <td>3.579110e+08</td>\n",
       "      <td>1.0</td>\n",
       "      <td>504100.0</td>\n",
       "      <td>27</td>\n",
       "      <td>0</td>\n",
       "      <td>4.830790e+09</td>\n",
       "      <td>0</td>\n",
       "      <td>5769</td>\n",
       "      <td>5769.0</td>\n",
       "      <td>Addison</td>\n",
       "      <td>80700.0</td>\n",
       "    </tr>\n",
       "    <tr>\n",
       "      <th>727</th>\n",
       "      <td>0</td>\n",
       "      <td>3720.0</td>\n",
       "      <td>05149</td>\n",
       "      <td>0</td>\n",
       "      <td>1.113438e+10</td>\n",
       "      <td>8.0</td>\n",
       "      <td>0.0</td>\n",
       "      <td>0</td>\n",
       "      <td>0</td>\n",
       "      <td>1.238046e+11</td>\n",
       "      <td>0</td>\n",
       "      <td>5149</td>\n",
       "      <td>5149.0</td>\n",
       "      <td>Windsor</td>\n",
       "      <td>79300.0</td>\n",
       "    </tr>\n",
       "    <tr>\n",
       "      <th>728</th>\n",
       "      <td>0</td>\n",
       "      <td>3994.0</td>\n",
       "      <td>05855</td>\n",
       "      <td>0</td>\n",
       "      <td>6.311112e+09</td>\n",
       "      <td>8.0</td>\n",
       "      <td>0.0</td>\n",
       "      <td>0</td>\n",
       "      <td>0</td>\n",
       "      <td>2.975239e+11</td>\n",
       "      <td>0</td>\n",
       "      <td>5855</td>\n",
       "      <td>5855.0</td>\n",
       "      <td>Orleans</td>\n",
       "      <td>59800.0</td>\n",
       "    </tr>\n",
       "  </tbody>\n",
       "</table>\n",
       "<p>100 rows × 15 columns</p>\n",
       "</div>"
      ],
      "text/plain": [
       "     on_waterfront  Bath_x_YB zip_code_x  view_description           sf3  \\\n",
       "629              1     8020.0      Other                 1  9.320615e+10   \n",
       "630              0     5655.0      Other                 0  4.353991e+10   \n",
       "631              1     1964.0      Other                 0  6.076454e+08   \n",
       "632              0     4006.0      Other                 1  9.651309e+10   \n",
       "633              1     5892.0      Other                 0  1.327838e+10   \n",
       "..             ...        ...        ...               ...           ...   \n",
       "724              1    11922.0      05301                 0  1.447031e+11   \n",
       "725              1     6021.0      Other                 1  3.019645e+10   \n",
       "726              1     1930.0      Other                 0  3.579110e+08   \n",
       "727              0     3720.0      05149                 0  1.113438e+10   \n",
       "728              0     3994.0      05855                 0  6.311112e+09   \n",
       "\n",
       "     bathrooms3  on_waterfrontXSF  on_waterfrontXbedrooms  \\\n",
       "629        64.0        20557156.0                      64   \n",
       "630        27.0               0.0                       0   \n",
       "631         1.0          717409.0                       8   \n",
       "632         8.0               0.0                       0   \n",
       "633        27.0         5607424.0                     125   \n",
       "..          ...               ...                     ...   \n",
       "724       216.0        27562500.0                     343   \n",
       "725        27.0         9696996.0                      64   \n",
       "726         1.0          504100.0                      27   \n",
       "727         8.0               0.0                       0   \n",
       "728         8.0               0.0                       0   \n",
       "\n",
       "     view_descriptionXbathrooms  sfXlot_size2  on_waterfrontXview_description  \\\n",
       "629                           1  1.996897e+14                               1   \n",
       "630                           0  4.097306e+11                               0   \n",
       "631                           0  5.312414e+09                               0   \n",
       "632                           0  2.978713e+12                               0   \n",
       "633                           0  4.127961e+11                               0   \n",
       "..                          ...           ...                             ...   \n",
       "724                           0  1.200622e+13                               0   \n",
       "725                           1  1.136255e+12                               1   \n",
       "726                           0  4.830790e+09                               0   \n",
       "727                           0  1.238046e+11                               0   \n",
       "728                           0  2.975239e+11                               0   \n",
       "\n",
       "     non_dummy_zip  zip_code_y      county  median_income  \n",
       "629           5355      5355.0     Windham        70900.0  \n",
       "630           5845      5845.0     Orleans        59800.0  \n",
       "631           5446      5446.0  Chittenden        89700.0  \n",
       "632           5777      5777.0     Rutland        71500.0  \n",
       "633           5463      5463.0  Grand Isle        89700.0  \n",
       "..             ...         ...         ...            ...  \n",
       "724           5301      5301.0     Windham        70900.0  \n",
       "725           5440      5440.0  Grand Isle        89700.0  \n",
       "726           5769      5769.0     Addison        80700.0  \n",
       "727           5149      5149.0     Windsor        79300.0  \n",
       "728           5855      5855.0     Orleans        59800.0  \n",
       "\n",
       "[100 rows x 15 columns]"
      ]
     },
     "execution_count": 192,
     "metadata": {},
     "output_type": "execute_result"
    }
   ],
   "source": [
    "X11.tail(100)"
   ]
  },
  {
   "cell_type": "code",
   "execution_count": 193,
   "metadata": {},
   "outputs": [],
   "source": [
    "#Drop zip code\n",
    "X11 = X11.drop(['non_dummy_zip'], axis = 1)"
   ]
  },
  {
   "cell_type": "code",
   "execution_count": 194,
   "metadata": {},
   "outputs": [
    {
     "data": {
      "text/plain": [
       "(729, 14)"
      ]
     },
     "execution_count": 194,
     "metadata": {},
     "output_type": "execute_result"
    }
   ],
   "source": [
    "X11.shape"
   ]
  },
  {
   "cell_type": "code",
   "execution_count": 195,
   "metadata": {},
   "outputs": [
    {
     "data": {
      "text/plain": [
       "(728,)"
      ]
     },
     "execution_count": 195,
     "metadata": {},
     "output_type": "execute_result"
    }
   ],
   "source": [
    "y.shape"
   ]
  },
  {
   "cell_type": "code",
   "execution_count": 196,
   "metadata": {},
   "outputs": [
    {
     "data": {
      "text/html": [
       "<div>\n",
       "<style scoped>\n",
       "    .dataframe tbody tr th:only-of-type {\n",
       "        vertical-align: middle;\n",
       "    }\n",
       "\n",
       "    .dataframe tbody tr th {\n",
       "        vertical-align: top;\n",
       "    }\n",
       "\n",
       "    .dataframe thead th {\n",
       "        text-align: right;\n",
       "    }\n",
       "</style>\n",
       "<table border=\"1\" class=\"dataframe\">\n",
       "  <thead>\n",
       "    <tr style=\"text-align: right;\">\n",
       "      <th></th>\n",
       "      <th>on_waterfront</th>\n",
       "      <th>Bath_x_YB</th>\n",
       "      <th>zip_code_x</th>\n",
       "      <th>view_description</th>\n",
       "      <th>sf3</th>\n",
       "      <th>bathrooms3</th>\n",
       "      <th>on_waterfrontXSF</th>\n",
       "      <th>on_waterfrontXbedrooms</th>\n",
       "      <th>view_descriptionXbathrooms</th>\n",
       "      <th>sfXlot_size2</th>\n",
       "      <th>on_waterfrontXview_description</th>\n",
       "      <th>zip_code_y</th>\n",
       "      <th>county</th>\n",
       "      <th>median_income</th>\n",
       "    </tr>\n",
       "  </thead>\n",
       "  <tbody>\n",
       "    <tr>\n",
       "      <th>49</th>\n",
       "      <td>0</td>\n",
       "      <td>3984.0</td>\n",
       "      <td>Other</td>\n",
       "      <td>1</td>\n",
       "      <td>2.767587e+09</td>\n",
       "      <td>8.0</td>\n",
       "      <td>0.0</td>\n",
       "      <td>0</td>\n",
       "      <td>0</td>\n",
       "      <td>9.874609e+11</td>\n",
       "      <td>0</td>\n",
       "      <td>NaN</td>\n",
       "      <td>NaN</td>\n",
       "      <td>NaN</td>\n",
       "    </tr>\n",
       "  </tbody>\n",
       "</table>\n",
       "</div>"
      ],
      "text/plain": [
       "    on_waterfront  Bath_x_YB zip_code_x  view_description           sf3  \\\n",
       "49              0     3984.0      Other                 1  2.767587e+09   \n",
       "\n",
       "    bathrooms3  on_waterfrontXSF  on_waterfrontXbedrooms  \\\n",
       "49         8.0               0.0                       0   \n",
       "\n",
       "    view_descriptionXbathrooms  sfXlot_size2  on_waterfrontXview_description  \\\n",
       "49                           0  9.874609e+11                               0   \n",
       "\n",
       "    zip_code_y county  median_income  \n",
       "49         NaN    NaN            NaN  "
      ]
     },
     "execution_count": 196,
     "metadata": {},
     "output_type": "execute_result"
    }
   ],
   "source": [
    "null_data = X11[X11.isnull().any(axis=1)]\n",
    "null_data"
   ]
  },
  {
   "cell_type": "code",
   "execution_count": 197,
   "metadata": {},
   "outputs": [],
   "source": [
    "# Drop index 49 in x and y data\n",
    "\n",
    "X11 = X11.drop(index= 49)"
   ]
  },
  {
   "cell_type": "code",
   "execution_count": 198,
   "metadata": {},
   "outputs": [
    {
     "ename": "KeyError",
     "evalue": "'[49] not found in axis'",
     "output_type": "error",
     "traceback": [
      "\u001b[1;31m---------------------------------------------------------------------------\u001b[0m",
      "\u001b[1;31mKeyError\u001b[0m                                  Traceback (most recent call last)",
      "\u001b[1;32m<ipython-input-198-315a36b44401>\u001b[0m in \u001b[0;36m<module>\u001b[1;34m\u001b[0m\n\u001b[1;32m----> 1\u001b[1;33m \u001b[0my\u001b[0m \u001b[1;33m=\u001b[0m \u001b[0my\u001b[0m\u001b[1;33m.\u001b[0m\u001b[0mdrop\u001b[0m\u001b[1;33m(\u001b[0m\u001b[0mindex\u001b[0m\u001b[1;33m=\u001b[0m\u001b[1;36m49\u001b[0m\u001b[1;33m)\u001b[0m\u001b[1;33m\u001b[0m\u001b[1;33m\u001b[0m\u001b[0m\n\u001b[0m",
      "\u001b[1;32m~\\anaconda3\\lib\\site-packages\\pandas\\core\\series.py\u001b[0m in \u001b[0;36mdrop\u001b[1;34m(self, labels, axis, index, columns, level, inplace, errors)\u001b[0m\n\u001b[0;32m   4508\u001b[0m         \u001b[0mdtype\u001b[0m\u001b[1;33m:\u001b[0m \u001b[0mfloat64\u001b[0m\u001b[1;33m\u001b[0m\u001b[1;33m\u001b[0m\u001b[0m\n\u001b[0;32m   4509\u001b[0m         \"\"\"\n\u001b[1;32m-> 4510\u001b[1;33m         return super().drop(\n\u001b[0m\u001b[0;32m   4511\u001b[0m             \u001b[0mlabels\u001b[0m\u001b[1;33m=\u001b[0m\u001b[0mlabels\u001b[0m\u001b[1;33m,\u001b[0m\u001b[1;33m\u001b[0m\u001b[1;33m\u001b[0m\u001b[0m\n\u001b[0;32m   4512\u001b[0m             \u001b[0maxis\u001b[0m\u001b[1;33m=\u001b[0m\u001b[0maxis\u001b[0m\u001b[1;33m,\u001b[0m\u001b[1;33m\u001b[0m\u001b[1;33m\u001b[0m\u001b[0m\n",
      "\u001b[1;32m~\\anaconda3\\lib\\site-packages\\pandas\\core\\generic.py\u001b[0m in \u001b[0;36mdrop\u001b[1;34m(self, labels, axis, index, columns, level, inplace, errors)\u001b[0m\n\u001b[0;32m   3887\u001b[0m         \u001b[1;32mfor\u001b[0m \u001b[0maxis\u001b[0m\u001b[1;33m,\u001b[0m \u001b[0mlabels\u001b[0m \u001b[1;32min\u001b[0m \u001b[0maxes\u001b[0m\u001b[1;33m.\u001b[0m\u001b[0mitems\u001b[0m\u001b[1;33m(\u001b[0m\u001b[1;33m)\u001b[0m\u001b[1;33m:\u001b[0m\u001b[1;33m\u001b[0m\u001b[1;33m\u001b[0m\u001b[0m\n\u001b[0;32m   3888\u001b[0m             \u001b[1;32mif\u001b[0m \u001b[0mlabels\u001b[0m \u001b[1;32mis\u001b[0m \u001b[1;32mnot\u001b[0m \u001b[1;32mNone\u001b[0m\u001b[1;33m:\u001b[0m\u001b[1;33m\u001b[0m\u001b[1;33m\u001b[0m\u001b[0m\n\u001b[1;32m-> 3889\u001b[1;33m                 \u001b[0mobj\u001b[0m \u001b[1;33m=\u001b[0m \u001b[0mobj\u001b[0m\u001b[1;33m.\u001b[0m\u001b[0m_drop_axis\u001b[0m\u001b[1;33m(\u001b[0m\u001b[0mlabels\u001b[0m\u001b[1;33m,\u001b[0m \u001b[0maxis\u001b[0m\u001b[1;33m,\u001b[0m \u001b[0mlevel\u001b[0m\u001b[1;33m=\u001b[0m\u001b[0mlevel\u001b[0m\u001b[1;33m,\u001b[0m \u001b[0merrors\u001b[0m\u001b[1;33m=\u001b[0m\u001b[0merrors\u001b[0m\u001b[1;33m)\u001b[0m\u001b[1;33m\u001b[0m\u001b[1;33m\u001b[0m\u001b[0m\n\u001b[0m\u001b[0;32m   3890\u001b[0m \u001b[1;33m\u001b[0m\u001b[0m\n\u001b[0;32m   3891\u001b[0m         \u001b[1;32mif\u001b[0m \u001b[0minplace\u001b[0m\u001b[1;33m:\u001b[0m\u001b[1;33m\u001b[0m\u001b[1;33m\u001b[0m\u001b[0m\n",
      "\u001b[1;32m~\\anaconda3\\lib\\site-packages\\pandas\\core\\generic.py\u001b[0m in \u001b[0;36m_drop_axis\u001b[1;34m(self, labels, axis, level, errors)\u001b[0m\n\u001b[0;32m   3921\u001b[0m                 \u001b[0mnew_axis\u001b[0m \u001b[1;33m=\u001b[0m \u001b[0maxis\u001b[0m\u001b[1;33m.\u001b[0m\u001b[0mdrop\u001b[0m\u001b[1;33m(\u001b[0m\u001b[0mlabels\u001b[0m\u001b[1;33m,\u001b[0m \u001b[0mlevel\u001b[0m\u001b[1;33m=\u001b[0m\u001b[0mlevel\u001b[0m\u001b[1;33m,\u001b[0m \u001b[0merrors\u001b[0m\u001b[1;33m=\u001b[0m\u001b[0merrors\u001b[0m\u001b[1;33m)\u001b[0m\u001b[1;33m\u001b[0m\u001b[1;33m\u001b[0m\u001b[0m\n\u001b[0;32m   3922\u001b[0m             \u001b[1;32melse\u001b[0m\u001b[1;33m:\u001b[0m\u001b[1;33m\u001b[0m\u001b[1;33m\u001b[0m\u001b[0m\n\u001b[1;32m-> 3923\u001b[1;33m                 \u001b[0mnew_axis\u001b[0m \u001b[1;33m=\u001b[0m \u001b[0maxis\u001b[0m\u001b[1;33m.\u001b[0m\u001b[0mdrop\u001b[0m\u001b[1;33m(\u001b[0m\u001b[0mlabels\u001b[0m\u001b[1;33m,\u001b[0m \u001b[0merrors\u001b[0m\u001b[1;33m=\u001b[0m\u001b[0merrors\u001b[0m\u001b[1;33m)\u001b[0m\u001b[1;33m\u001b[0m\u001b[1;33m\u001b[0m\u001b[0m\n\u001b[0m\u001b[0;32m   3924\u001b[0m             \u001b[0mresult\u001b[0m \u001b[1;33m=\u001b[0m \u001b[0mself\u001b[0m\u001b[1;33m.\u001b[0m\u001b[0mreindex\u001b[0m\u001b[1;33m(\u001b[0m\u001b[1;33m**\u001b[0m\u001b[1;33m{\u001b[0m\u001b[0maxis_name\u001b[0m\u001b[1;33m:\u001b[0m \u001b[0mnew_axis\u001b[0m\u001b[1;33m}\u001b[0m\u001b[1;33m)\u001b[0m\u001b[1;33m\u001b[0m\u001b[1;33m\u001b[0m\u001b[0m\n\u001b[0;32m   3925\u001b[0m \u001b[1;33m\u001b[0m\u001b[0m\n",
      "\u001b[1;32m~\\anaconda3\\lib\\site-packages\\pandas\\core\\indexes\\base.py\u001b[0m in \u001b[0;36mdrop\u001b[1;34m(self, labels, errors)\u001b[0m\n\u001b[0;32m   5285\u001b[0m         \u001b[1;32mif\u001b[0m \u001b[0mmask\u001b[0m\u001b[1;33m.\u001b[0m\u001b[0many\u001b[0m\u001b[1;33m(\u001b[0m\u001b[1;33m)\u001b[0m\u001b[1;33m:\u001b[0m\u001b[1;33m\u001b[0m\u001b[1;33m\u001b[0m\u001b[0m\n\u001b[0;32m   5286\u001b[0m             \u001b[1;32mif\u001b[0m \u001b[0merrors\u001b[0m \u001b[1;33m!=\u001b[0m \u001b[1;34m\"ignore\"\u001b[0m\u001b[1;33m:\u001b[0m\u001b[1;33m\u001b[0m\u001b[1;33m\u001b[0m\u001b[0m\n\u001b[1;32m-> 5287\u001b[1;33m                 \u001b[1;32mraise\u001b[0m \u001b[0mKeyError\u001b[0m\u001b[1;33m(\u001b[0m\u001b[1;34mf\"{labels[mask]} not found in axis\"\u001b[0m\u001b[1;33m)\u001b[0m\u001b[1;33m\u001b[0m\u001b[1;33m\u001b[0m\u001b[0m\n\u001b[0m\u001b[0;32m   5288\u001b[0m             \u001b[0mindexer\u001b[0m \u001b[1;33m=\u001b[0m \u001b[0mindexer\u001b[0m\u001b[1;33m[\u001b[0m\u001b[1;33m~\u001b[0m\u001b[0mmask\u001b[0m\u001b[1;33m]\u001b[0m\u001b[1;33m\u001b[0m\u001b[1;33m\u001b[0m\u001b[0m\n\u001b[0;32m   5289\u001b[0m         \u001b[1;32mreturn\u001b[0m \u001b[0mself\u001b[0m\u001b[1;33m.\u001b[0m\u001b[0mdelete\u001b[0m\u001b[1;33m(\u001b[0m\u001b[0mindexer\u001b[0m\u001b[1;33m)\u001b[0m\u001b[1;33m\u001b[0m\u001b[1;33m\u001b[0m\u001b[0m\n",
      "\u001b[1;31mKeyError\u001b[0m: '[49] not found in axis'"
     ]
    }
   ],
   "source": [
    "y = y.drop(index=49)"
   ]
  },
  {
   "cell_type": "code",
   "execution_count": 199,
   "metadata": {},
   "outputs": [],
   "source": [
    "X11 = X11.drop(['zip_code_y'], axis = 1)\n",
    "X11 = X11.drop(['county'], axis = 1)"
   ]
  },
  {
   "cell_type": "code",
   "execution_count": 200,
   "metadata": {},
   "outputs": [
    {
     "name": "stdout",
     "output_type": "stream",
     "text": [
      "\n",
      "Training R^2 score was: 0.8739438666803798\n",
      "\n",
      "Validation R^2 score was: 0.5876744949451312\n",
      "Feature coefficient results: \n",
      "\n",
      "on_waterfront : 121490.48\n",
      "Bath_x_YB : 64.61\n",
      "view_description : 123231.63\n",
      "sf3 : 0.00\n",
      "bathrooms3 : -588.23\n",
      "on_waterfrontXSF : 0.02\n",
      "on_waterfrontXbedrooms : -601.88\n",
      "view_descriptionXbathrooms : -151919.15\n",
      "sfXlot_size2 : 0.00\n",
      "on_waterfrontXview_description : -158494.56\n",
      "median_income : 6.06\n",
      "zip_code_x_05143 : -154765.85\n",
      "zip_code_x_05149 : 17198.08\n",
      "zip_code_x_05156 : -181348.30\n",
      "zip_code_x_05201 : -143734.11\n",
      "zip_code_x_05251 : 454781.44\n",
      "zip_code_x_05301 : -121797.19\n",
      "zip_code_x_05356 : -121405.26\n",
      "zip_code_x_05363 : -160336.48\n",
      "zip_code_x_05641 : -180704.01\n",
      "zip_code_x_05661 : 476049.04\n",
      "zip_code_x_05672 : 1126959.21\n",
      "zip_code_x_05701 : -11058.84\n",
      "zip_code_x_05733 : -162497.96\n",
      "zip_code_x_05743 : -225292.74\n",
      "zip_code_x_05753 : -76028.19\n",
      "zip_code_x_05764 : -114593.93\n",
      "zip_code_x_05819 : -68814.13\n",
      "zip_code_x_05830 : -99336.08\n",
      "zip_code_x_05855 : -161771.29\n",
      "zip_code_x_Other : -91592.07\n"
     ]
    }
   ],
   "source": [
    "# perform train/val split\n",
    "X_train, X_val, y_train, y_val = \\\n",
    "    train_test_split(pd.get_dummies(X11), y, test_size=0.2, random_state=42)\n",
    "    \n",
    "# fit linear regression to training data\n",
    "lr_model = LinearRegression()\n",
    "lr_model.fit(X_train, y_train)\n",
    "    \n",
    "# score fit model on training & validation data\n",
    "train_score = lr_model.score(X_train, y_train)\n",
    "val_score = lr_model.score(X_val, y_val)\n",
    "    \n",
    "# report training results\n",
    "print('\\nTraining R^2 score was:', train_score)\n",
    "    \n",
    "# report validation results\n",
    "print('\\nValidation R^2 score was:', val_score)\n",
    "print('Feature coefficient results: \\n')\n",
    "for feature, coef in zip(pd.get_dummies(X11).columns, lr_model.coef_):\n",
    "    print(feature, ':', f'{coef:.2f}') "
   ]
  },
  {
   "cell_type": "markdown",
   "metadata": {},
   "source": [
    "### Are there any ways that I can make the above more accurate through dropping terms or interaction terms?"
   ]
  },
  {
   "cell_type": "markdown",
   "metadata": {},
   "source": [
    "#### Try dropping zip codes"
   ]
  },
  {
   "cell_type": "code",
   "execution_count": 201,
   "metadata": {},
   "outputs": [
    {
     "data": {
      "text/html": [
       "<div>\n",
       "<style scoped>\n",
       "    .dataframe tbody tr th:only-of-type {\n",
       "        vertical-align: middle;\n",
       "    }\n",
       "\n",
       "    .dataframe tbody tr th {\n",
       "        vertical-align: top;\n",
       "    }\n",
       "\n",
       "    .dataframe thead th {\n",
       "        text-align: right;\n",
       "    }\n",
       "</style>\n",
       "<table border=\"1\" class=\"dataframe\">\n",
       "  <thead>\n",
       "    <tr style=\"text-align: right;\">\n",
       "      <th></th>\n",
       "      <th>on_waterfront</th>\n",
       "      <th>Bath_x_YB</th>\n",
       "      <th>zip_code_x</th>\n",
       "      <th>view_description</th>\n",
       "      <th>sf3</th>\n",
       "      <th>bathrooms3</th>\n",
       "      <th>on_waterfrontXSF</th>\n",
       "      <th>on_waterfrontXbedrooms</th>\n",
       "      <th>view_descriptionXbathrooms</th>\n",
       "      <th>sfXlot_size2</th>\n",
       "      <th>on_waterfrontXview_description</th>\n",
       "      <th>median_income</th>\n",
       "    </tr>\n",
       "  </thead>\n",
       "  <tbody>\n",
       "    <tr>\n",
       "      <th>0</th>\n",
       "      <td>0</td>\n",
       "      <td>3920.0</td>\n",
       "      <td>Other</td>\n",
       "      <td>0</td>\n",
       "      <td>7.338708e+08</td>\n",
       "      <td>8.0</td>\n",
       "      <td>0.0</td>\n",
       "      <td>0</td>\n",
       "      <td>0</td>\n",
       "      <td>3.260534e+11</td>\n",
       "      <td>0</td>\n",
       "      <td>74400.0</td>\n",
       "    </tr>\n",
       "    <tr>\n",
       "      <th>1</th>\n",
       "      <td>0</td>\n",
       "      <td>3972.0</td>\n",
       "      <td>Other</td>\n",
       "      <td>0</td>\n",
       "      <td>4.741632e+09</td>\n",
       "      <td>8.0</td>\n",
       "      <td>0.0</td>\n",
       "      <td>0</td>\n",
       "      <td>0</td>\n",
       "      <td>8.606062e+11</td>\n",
       "      <td>0</td>\n",
       "      <td>80300.0</td>\n",
       "    </tr>\n",
       "    <tr>\n",
       "      <th>2</th>\n",
       "      <td>0</td>\n",
       "      <td>3920.0</td>\n",
       "      <td>Other</td>\n",
       "      <td>0</td>\n",
       "      <td>2.038721e+09</td>\n",
       "      <td>8.0</td>\n",
       "      <td>0.0</td>\n",
       "      <td>0</td>\n",
       "      <td>0</td>\n",
       "      <td>2.801473e+11</td>\n",
       "      <td>0</td>\n",
       "      <td>71500.0</td>\n",
       "    </tr>\n",
       "    <tr>\n",
       "      <th>3</th>\n",
       "      <td>0</td>\n",
       "      <td>16749.0</td>\n",
       "      <td>05143</td>\n",
       "      <td>0</td>\n",
       "      <td>1.939035e+11</td>\n",
       "      <td>729.0</td>\n",
       "      <td>0.0</td>\n",
       "      <td>0</td>\n",
       "      <td>0</td>\n",
       "      <td>1.897091e+12</td>\n",
       "      <td>0</td>\n",
       "      <td>79300.0</td>\n",
       "    </tr>\n",
       "    <tr>\n",
       "      <th>4</th>\n",
       "      <td>0</td>\n",
       "      <td>3924.0</td>\n",
       "      <td>Other</td>\n",
       "      <td>0</td>\n",
       "      <td>5.870966e+09</td>\n",
       "      <td>8.0</td>\n",
       "      <td>0.0</td>\n",
       "      <td>0</td>\n",
       "      <td>0</td>\n",
       "      <td>5.953954e+10</td>\n",
       "      <td>0</td>\n",
       "      <td>89700.0</td>\n",
       "    </tr>\n",
       "  </tbody>\n",
       "</table>\n",
       "</div>"
      ],
      "text/plain": [
       "   on_waterfront  Bath_x_YB zip_code_x  view_description           sf3  \\\n",
       "0              0     3920.0      Other                 0  7.338708e+08   \n",
       "1              0     3972.0      Other                 0  4.741632e+09   \n",
       "2              0     3920.0      Other                 0  2.038721e+09   \n",
       "3              0    16749.0      05143                 0  1.939035e+11   \n",
       "4              0     3924.0      Other                 0  5.870966e+09   \n",
       "\n",
       "   bathrooms3  on_waterfrontXSF  on_waterfrontXbedrooms  \\\n",
       "0         8.0               0.0                       0   \n",
       "1         8.0               0.0                       0   \n",
       "2         8.0               0.0                       0   \n",
       "3       729.0               0.0                       0   \n",
       "4         8.0               0.0                       0   \n",
       "\n",
       "   view_descriptionXbathrooms  sfXlot_size2  on_waterfrontXview_description  \\\n",
       "0                           0  3.260534e+11                               0   \n",
       "1                           0  8.606062e+11                               0   \n",
       "2                           0  2.801473e+11                               0   \n",
       "3                           0  1.897091e+12                               0   \n",
       "4                           0  5.953954e+10                               0   \n",
       "\n",
       "   median_income  \n",
       "0        74400.0  \n",
       "1        80300.0  \n",
       "2        71500.0  \n",
       "3        79300.0  \n",
       "4        89700.0  "
      ]
     },
     "execution_count": 201,
     "metadata": {},
     "output_type": "execute_result"
    }
   ],
   "source": [
    "X11.head()"
   ]
  },
  {
   "cell_type": "code",
   "execution_count": 202,
   "metadata": {},
   "outputs": [],
   "source": [
    "X12 = X11.copy()"
   ]
  },
  {
   "cell_type": "code",
   "execution_count": 203,
   "metadata": {},
   "outputs": [],
   "source": [
    "X12 = X12.drop(['zip_code_x'], axis = 1)"
   ]
  },
  {
   "cell_type": "code",
   "execution_count": 204,
   "metadata": {},
   "outputs": [
    {
     "name": "stdout",
     "output_type": "stream",
     "text": [
      "\n",
      "Training R^2 score was: 0.8480095374631349\n",
      "\n",
      "Validation R^2 score was: 0.4021874118056956\n",
      "Feature coefficient results: \n",
      "\n",
      "on_waterfront : 109651.67\n",
      "Bath_x_YB : 71.73\n",
      "view_description : 176708.41\n",
      "sf3 : 0.00\n",
      "bathrooms3 : -621.86\n",
      "on_waterfrontXSF : 0.02\n",
      "on_waterfrontXbedrooms : -771.05\n",
      "view_descriptionXbathrooms : -150578.41\n",
      "sfXlot_size2 : 0.00\n",
      "on_waterfrontXview_description : -150578.41\n",
      "median_income : 5.08\n"
     ]
    }
   ],
   "source": [
    "# perform train/val split\n",
    "X_train, X_val, y_train, y_val = \\\n",
    "    train_test_split(pd.get_dummies(X12), y, test_size=0.2, random_state=42)\n",
    "    \n",
    "# fit linear regression to training data\n",
    "lr_model = LinearRegression()\n",
    "lr_model.fit(X_train, y_train)\n",
    "    \n",
    "# score fit model on training & validation data\n",
    "train_score = lr_model.score(X_train, y_train)\n",
    "val_score = lr_model.score(X_val, y_val)\n",
    "    \n",
    "# report training results\n",
    "print('\\nTraining R^2 score was:', train_score)\n",
    "    \n",
    "# report validation results\n",
    "print('\\nValidation R^2 score was:', val_score)\n",
    "print('Feature coefficient results: \\n')\n",
    "for feature, coef in zip(pd.get_dummies(X11).columns, lr_model.coef_):\n",
    "    print(feature, ':', f'{coef:.2f}') "
   ]
  },
  {
   "cell_type": "markdown",
   "metadata": {},
   "source": [
    "### Generating Interaction Terms and using Lasso"
   ]
  },
  {
   "cell_type": "markdown",
   "metadata": {},
   "source": [
    "#### Without lasso"
   ]
  },
  {
   "cell_type": "code",
   "execution_count": 897,
   "metadata": {},
   "outputs": [
    {
     "data": {
      "text/plain": [
       "Index(['price', 'bedrooms', 'bathrooms', 'sf', 'year_built', 'lot_size',\n",
       "       'view_description', 'on_waterfront', 'house_style', 'new_construction',\n",
       "       'garage_spaces', 'zip_code'],\n",
       "      dtype='object')"
      ]
     },
     "execution_count": 897,
     "metadata": {},
     "output_type": "execute_result"
    }
   ],
   "source": [
    "df.columns"
   ]
  },
  {
   "cell_type": "code",
   "execution_count": 898,
   "metadata": {},
   "outputs": [],
   "source": [
    "# Set x and y\n",
    "\n",
    "x_train, x_test, y_train, y_test = train_test_split(\n",
    "    df[['bedrooms','bathrooms','sf','sf','lot_size', 'view_description',\n",
    "       'on_waterfront','house_style','new_construction','garage_spaces',\n",
    "       'zip_code']], df['price']\n",
    "    , test_size=0.33, random_state=42)"
   ]
  },
  {
   "cell_type": "code",
   "execution_count": 899,
   "metadata": {},
   "outputs": [],
   "source": [
    "m = LinearRegression()"
   ]
  },
  {
   "cell_type": "code",
   "execution_count": 900,
   "metadata": {},
   "outputs": [
    {
     "data": {
      "text/plain": [
       "0.8603119761035467"
      ]
     },
     "execution_count": 900,
     "metadata": {},
     "output_type": "execute_result"
    }
   ],
   "source": [
    "# Train\n",
    "\n",
    "from sklearn.preprocessing import PolynomialFeatures\n",
    "p = PolynomialFeatures(degree=2,interaction_only=True)\n",
    "# Get dummies\n",
    "x_train['on_waterfront'] = pd.get_dummies(x_train['on_waterfront'],drop_first=True)\n",
    "x_train['view_description'] = pd.get_dummies(x_train['view_description'],drop_first=True)\n",
    "x_train['house_style'] = pd.get_dummies(x_train['house_style'],drop_first=True)\n",
    "x_train['new_construction'] = pd.get_dummies(x_train['new_construction'],drop_first=True)\n",
    "x_train_poly = p.fit_transform(x_train)\n",
    "# Fit and score\n",
    "m.fit(x_train_poly,y_train)\n",
    "m.score(x_train_poly,y_train)"
   ]
  },
  {
   "cell_type": "code",
   "execution_count": 901,
   "metadata": {},
   "outputs": [],
   "source": [
    "#list(zip(p.get_feature_names(['bedrooms','bathrooms','sf','sf','lot_size', 'view_description',\n",
    "#       'on_waterfront','house_style','new_construction','garage_spaces',\n",
    "#       'zip_code']),m.coef_))"
   ]
  },
  {
   "cell_type": "code",
   "execution_count": 902,
   "metadata": {},
   "outputs": [
    {
     "data": {
      "text/plain": [
       "-23.19951981937141"
      ]
     },
     "execution_count": 902,
     "metadata": {},
     "output_type": "execute_result"
    }
   ],
   "source": [
    "# Apply to test data\n",
    "x_test['on_waterfront'] = pd.get_dummies(x_test['on_waterfront'],drop_first=True)\n",
    "x_test['view_description'] = pd.get_dummies(x_test['view_description'],drop_first=True)\n",
    "x_test['house_style'] = pd.get_dummies(x_test['house_style'],drop_first=True)\n",
    "x_test['new_construction'] = pd.get_dummies(x_test['new_construction'],drop_first=True)\n",
    "#Transform and score\n",
    "x_test_poly = p.transform(x_test)\n",
    "m.score(x_test_poly,y_test)"
   ]
  },
  {
   "cell_type": "markdown",
   "metadata": {},
   "source": [
    "### Apply Lasso - all variables / interaction terms (includes squaring)"
   ]
  },
  {
   "cell_type": "code",
   "execution_count": 911,
   "metadata": {},
   "outputs": [],
   "source": [
    "from sklearn.linear_model import LassoCV\n",
    "from sklearn.linear_model import RidgeCV"
   ]
  },
  {
   "cell_type": "code",
   "execution_count": 912,
   "metadata": {},
   "outputs": [],
   "source": [
    "# Set x and y\n",
    "\n",
    "x_train, x_test, y_train, y_test = train_test_split(\n",
    "    df[['bedrooms','bathrooms','sf','sf','lot_size', 'view_description',\n",
    "       'on_waterfront','house_style','new_construction','garage_spaces',\n",
    "       'zip_code']], df['price']\n",
    "    , test_size=0.33, random_state=42)"
   ]
  },
  {
   "cell_type": "code",
   "execution_count": 913,
   "metadata": {},
   "outputs": [
    {
     "data": {
      "text/plain": [
       "0.8148179460170832"
      ]
     },
     "execution_count": 913,
     "metadata": {},
     "output_type": "execute_result"
    }
   ],
   "source": [
    "# Lasso squared and interaction terms training\n",
    "\n",
    "m = LassoCV()\n",
    "p = PolynomialFeatures(degree=2)\n",
    "# Create Dummies\n",
    "x_train['on_waterfront'] = pd.get_dummies(x_train['on_waterfront'],drop_first=True)\n",
    "x_train['view_description'] = pd.get_dummies(x_train['view_description'],drop_first=True)\n",
    "x_train['house_style'] = pd.get_dummies(x_train['house_style'],drop_first=True)\n",
    "x_train['new_construction'] = pd.get_dummies(x_train['new_construction'],drop_first=True)\n",
    "x_train_poly = p.fit_transform(x_train)\n",
    "# Standardize, train, and fit \n",
    "s = StandardScaler(with_mean=False)\n",
    "x_train_poly_scaled = s.fit_transform(x_train_poly)\n",
    "m.fit(x_train_poly_scaled,y_train)\n",
    "m.score(x_train_poly_scaled,y_train)"
   ]
  },
  {
   "cell_type": "code",
   "execution_count": 914,
   "metadata": {},
   "outputs": [
    {
     "data": {
      "text/plain": [
       "-1.0226498228329044"
      ]
     },
     "execution_count": 914,
     "metadata": {},
     "output_type": "execute_result"
    }
   ],
   "source": [
    "# Lasso squared and interaction terms test\n",
    "\n",
    "# Create Dummies\n",
    "x_test['on_waterfront'] = pd.get_dummies(x_test['on_waterfront'],drop_first=True)\n",
    "x_test['view_description'] = pd.get_dummies(x_test['view_description'],drop_first=True)\n",
    "x_test['house_style'] = pd.get_dummies(x_test['house_style'],drop_first=True)\n",
    "x_test['new_construction'] = pd.get_dummies(x_test['new_construction'],drop_first=True)\n",
    "# Standardize and transform\n",
    "x_test_poly = p.transform(x_test)\n",
    "x_test_poly_scaled = s.transform(x_test_poly)\n",
    "m.score(x_test_poly_scaled,y_test)"
   ]
  },
  {
   "cell_type": "code",
   "execution_count": 915,
   "metadata": {},
   "outputs": [
    {
     "data": {
      "text/plain": [
       "[('1', 0.0),\n",
       " ('bedrooms', -0.0),\n",
       " ('bathrooms', 0.0),\n",
       " ('sf', 0.0),\n",
       " ('sf', 0.0),\n",
       " ('lot_size', 0.0),\n",
       " ('view_description', 0.0),\n",
       " ('on_waterfront', -0.0),\n",
       " ('house_style', -0.0),\n",
       " ('new_construction', 0.0),\n",
       " ('garage_spaces', -0.0),\n",
       " ('zip_code', -0.0),\n",
       " ('bedrooms^2', -42746.83100329199),\n",
       " ('bedrooms bathrooms', -0.0),\n",
       " ('bedrooms sf', -0.0),\n",
       " ('bedrooms sf', -0.0),\n",
       " ('bedrooms lot_size', 0.0),\n",
       " ('bedrooms view_description', 0.0),\n",
       " ('bedrooms on_waterfront', -0.0),\n",
       " ('bedrooms house_style', -0.0),\n",
       " ('bedrooms new_construction', 0.0),\n",
       " ('bedrooms garage_spaces', -0.0),\n",
       " ('bedrooms zip_code', -0.0),\n",
       " ('bathrooms^2', 0.0),\n",
       " ('bathrooms sf', 0.0),\n",
       " ('bathrooms sf', 0.0),\n",
       " ('bathrooms lot_size', 92145.65075056403),\n",
       " ('bathrooms view_description', 0.0),\n",
       " ('bathrooms on_waterfront', -0.0),\n",
       " ('bathrooms house_style', -0.0),\n",
       " ('bathrooms new_construction', 0.0),\n",
       " ('bathrooms garage_spaces', -0.0),\n",
       " ('bathrooms zip_code', 0.0),\n",
       " ('sf^2', 849914.9452297478),\n",
       " ('sf sf', 0.0),\n",
       " ('sf lot_size', 27783.95467594039),\n",
       " ('sf view_description', 51349.616846189594),\n",
       " ('sf on_waterfront', -21667.98579270453),\n",
       " ('sf house_style', -0.0),\n",
       " ('sf new_construction', 0.0),\n",
       " ('sf garage_spaces', -0.0),\n",
       " ('sf zip_code', 0.0),\n",
       " ('sf^2', 0.0),\n",
       " ('sf lot_size', 0.0),\n",
       " ('sf view_description', 3.4144778478676545),\n",
       " ('sf on_waterfront', -8606.230624350988),\n",
       " ('sf house_style', -0.0),\n",
       " ('sf new_construction', 0.0),\n",
       " ('sf garage_spaces', -0.0),\n",
       " ('sf zip_code', 0.0),\n",
       " ('lot_size^2', 0.0),\n",
       " ('lot_size view_description', 0.0),\n",
       " ('lot_size on_waterfront', -5344.704593112933),\n",
       " ('lot_size house_style', -0.0),\n",
       " ('lot_size new_construction', -0.0),\n",
       " ('lot_size garage_spaces', 0.0),\n",
       " ('lot_size zip_code', 0.0),\n",
       " ('view_description^2', 0.0),\n",
       " ('view_description on_waterfront', 0.0),\n",
       " ('view_description house_style', 0.0),\n",
       " ('view_description new_construction', -0.0),\n",
       " ('view_description garage_spaces', 0.0),\n",
       " ('view_description zip_code', 0.0),\n",
       " ('on_waterfront^2', -0.0),\n",
       " ('on_waterfront house_style', -0.0),\n",
       " ('on_waterfront new_construction', 0.0),\n",
       " ('on_waterfront garage_spaces', -0.0),\n",
       " ('on_waterfront zip_code', -0.0),\n",
       " ('house_style^2', -0.0),\n",
       " ('house_style new_construction', 0.0),\n",
       " ('house_style garage_spaces', -0.0),\n",
       " ('house_style zip_code', -0.0),\n",
       " ('new_construction^2', 0.0),\n",
       " ('new_construction garage_spaces', 0.0),\n",
       " ('new_construction zip_code', 0.0),\n",
       " ('garage_spaces^2', -4353.607478802834),\n",
       " ('garage_spaces zip_code', -0.0),\n",
       " ('zip_code^2', -0.0)]"
      ]
     },
     "execution_count": 915,
     "metadata": {},
     "output_type": "execute_result"
    }
   ],
   "source": [
    "# Investigate the high value coefficients\n",
    "\n",
    "list(zip(p.get_feature_names(['bedrooms','bathrooms','sf','sf','lot_size', 'view_description',\n",
    "       'on_waterfront','house_style','new_construction','garage_spaces',\n",
    "       'zip_code']),m.coef_))"
   ]
  },
  {
   "cell_type": "markdown",
   "metadata": {},
   "source": [
    "Variables with a large impact\n",
    "- ('bedrooms^2', -42746.83100329199),\n",
    "- ('bathrooms lot_size', 92145.65075056403),\n",
    "- ('sf^2', 849914.9452297478),\n",
    "- ('sf lot_size', 27783.95467594039),\n",
    "- ('sf view_description', 51349.616846189594),\n",
    "- ('sf on_waterfront', -21667.98579270453),\n",
    "- ('sf on_waterfront', -8606.230624350988),\n",
    "- ('lot_size on_waterfront', -5344.704593112933),\n",
    "- ('garage_spaces^2', -4353.607478802834),"
   ]
  },
  {
   "cell_type": "markdown",
   "metadata": {},
   "source": [
    "## Apply Lasso - all variables"
   ]
  },
  {
   "cell_type": "code",
   "execution_count": 916,
   "metadata": {},
   "outputs": [],
   "source": [
    "# Set x and y\n",
    "\n",
    "x_train, x_test, y_train, y_test = train_test_split(\n",
    "    df[['bedrooms','bathrooms','sf','sf','lot_size', 'view_description',\n",
    "       'on_waterfront','garage_spaces',\n",
    "       'zip_code']], df['price']\n",
    "    , test_size=0.33, random_state=42)"
   ]
  },
  {
   "cell_type": "code",
   "execution_count": 917,
   "metadata": {},
   "outputs": [
    {
     "data": {
      "text/plain": [
       "0.8123706739793402"
      ]
     },
     "execution_count": 917,
     "metadata": {},
     "output_type": "execute_result"
    }
   ],
   "source": [
    "# Lasso squared and interaction terms training\n",
    "\n",
    "m = LassoCV()\n",
    "p = PolynomialFeatures(interaction_only=True)\n",
    "# Create Dummies\n",
    "x_train['on_waterfront'] = pd.get_dummies(x_train['on_waterfront'],drop_first=True)\n",
    "x_train['view_description'] = pd.get_dummies(x_train['view_description'],drop_first=True)\n",
    "x_train_poly = p.fit_transform(x_train)\n",
    "# Standardize, train, and fit \n",
    "s = StandardScaler(with_mean=False)\n",
    "x_train_poly_scaled = s.fit_transform(x_train_poly)\n",
    "m.fit(x_train_poly_scaled,y_train)\n",
    "m.score(x_train_poly_scaled,y_train)"
   ]
  },
  {
   "cell_type": "code",
   "execution_count": 918,
   "metadata": {},
   "outputs": [
    {
     "data": {
      "text/plain": [
       "-1.2926588135086896"
      ]
     },
     "execution_count": 918,
     "metadata": {},
     "output_type": "execute_result"
    }
   ],
   "source": [
    "# Lasso squared and interaction terms test\n",
    "\n",
    "# Create Dummies\n",
    "x_test['on_waterfront'] = pd.get_dummies(x_test['on_waterfront'],drop_first=True)\n",
    "x_test['view_description'] = pd.get_dummies(x_test['view_description'],drop_first=True)\n",
    "# Standardize and transform\n",
    "x_test_poly = p.transform(x_test)\n",
    "x_test_poly_scaled = s.transform(x_test_poly)\n",
    "m.score(x_test_poly_scaled,y_test)"
   ]
  }
 ],
 "metadata": {
  "kernelspec": {
   "display_name": "Python 3",
   "language": "python",
   "name": "python3"
  },
  "language_info": {
   "codemirror_mode": {
    "name": "ipython",
    "version": 3
   },
   "file_extension": ".py",
   "mimetype": "text/x-python",
   "name": "python",
   "nbconvert_exporter": "python",
   "pygments_lexer": "ipython3",
   "version": "3.8.5"
  }
 },
 "nbformat": 4,
 "nbformat_minor": 4
}
