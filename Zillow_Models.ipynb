{
 "cells": [
  {
   "cell_type": "markdown",
   "metadata": {},
   "source": [
    "# Import Key Libraries"
   ]
  },
  {
   "cell_type": "code",
   "execution_count": 100,
   "metadata": {},
   "outputs": [],
   "source": [
    "import pandas as pd\n",
    "import matplotlib.pyplot as plt\n",
    "import numpy as np\n",
    "from sklearn.linear_model import LinearRegression\n",
    "import seaborn as sns\n",
    "from sklearn.preprocessing import OneHotEncoder"
   ]
  },
  {
   "cell_type": "markdown",
   "metadata": {},
   "source": [
    "# Data Cleaning"
   ]
  },
  {
   "cell_type": "code",
   "execution_count": 101,
   "metadata": {},
   "outputs": [],
   "source": [
    "# Load dataset\n",
    "\n",
    "df = pd.read_csv(\"df_all_rounds.csv\")"
   ]
  },
  {
   "cell_type": "markdown",
   "metadata": {},
   "source": [
    "### Zip Code"
   ]
  },
  {
   "cell_type": "code",
   "execution_count": 102,
   "metadata": {},
   "outputs": [],
   "source": [
    "# Create a column for zip code\n",
    "\n",
    "df['zip_code'] = [url[url.find(\"VT\")+3:url.find(\"VT\")+8] for url in df['link']]"
   ]
  },
  {
   "cell_type": "code",
   "execution_count": 103,
   "metadata": {},
   "outputs": [],
   "source": [
    "# Drop links column\n",
    "\n",
    "df = df.drop(['link'], axis = 1)"
   ]
  },
  {
   "cell_type": "markdown",
   "metadata": {},
   "source": [
    "### View Description"
   ]
  },
  {
   "cell_type": "code",
   "execution_count": 104,
   "metadata": {},
   "outputs": [
    {
     "data": {
      "text/plain": [
       "array(['{}', ' Mountain(s)', ' Mountain(s), Water', ' Water', ' Mountain'],\n",
       "      dtype=object)"
      ]
     },
     "execution_count": 104,
     "metadata": {},
     "output_type": "execute_result"
    }
   ],
   "source": [
    "# Regroup view description so all \"Mountain(s)\" become \"Mountain\"\n",
    "\n",
    "df['view_description'].unique()"
   ]
  },
  {
   "cell_type": "code",
   "execution_count": 105,
   "metadata": {},
   "outputs": [
    {
     "data": {
      "text/plain": [
       "array(['{}', ' Mountain', ' Mountain, Water', ' Water'], dtype=object)"
      ]
     },
     "execution_count": 105,
     "metadata": {},
     "output_type": "execute_result"
    }
   ],
   "source": [
    "df['view_description'] = [view.replace(\"Mountain(s)\",\"Mountain\") for view in df['view_description']]\n",
    "df['view_description'].unique()"
   ]
  },
  {
   "cell_type": "markdown",
   "metadata": {},
   "source": [
    "### Lot Size"
   ]
  },
  {
   "cell_type": "code",
   "execution_count": 106,
   "metadata": {},
   "outputs": [],
   "source": [
    "# Drop where lot size column includes a price per year (a few HOA fees are here)\n",
    "\n",
    "df = df.drop(df[df.lot_size.str.contains(r'[$]')].index)"
   ]
  },
  {
   "cell_type": "code",
   "execution_count": 107,
   "metadata": {},
   "outputs": [],
   "source": [
    "# Take acres out of lot size \n",
    "\n",
    "df['lot_size'] = [lot.split(\" \")[0] for lot in df['lot_size']]\n",
    "df['lot_size'] = [lot.replace(\",\",\"\") for lot in df['lot_size']]"
   ]
  },
  {
   "cell_type": "code",
   "execution_count": 108,
   "metadata": {},
   "outputs": [],
   "source": [
    "# Convert to float 64\n",
    "\n",
    "df['lot_size'] = pd.to_numeric(df['lot_size'],errors='coerce')"
   ]
  },
  {
   "cell_type": "markdown",
   "metadata": {},
   "source": [
    "### Home Square Footage"
   ]
  },
  {
   "cell_type": "code",
   "execution_count": 109,
   "metadata": {},
   "outputs": [],
   "source": [
    "# Take sqft out of square footage\n",
    "\n",
    "df['sf'] = [footage.split(\" \")[0] for footage in df['sf']]\n",
    "df['sf'] = [footage.replace(\",\",\"\") for footage in df['sf']]"
   ]
  },
  {
   "cell_type": "code",
   "execution_count": 110,
   "metadata": {},
   "outputs": [],
   "source": [
    "# Convert to float 64\n",
    "\n",
    "df['sf'] = pd.to_numeric(df['sf'],errors='coerce')"
   ]
  },
  {
   "cell_type": "markdown",
   "metadata": {},
   "source": [
    "### Bathrooms"
   ]
  },
  {
   "cell_type": "code",
   "execution_count": 111,
   "metadata": {},
   "outputs": [],
   "source": [
    "# Take ba out of bathrooms\n",
    "\n",
    "df['bathrooms'] = [bathroom.split(\" \")[0] for bathroom in df['bathrooms']]"
   ]
  },
  {
   "cell_type": "code",
   "execution_count": 112,
   "metadata": {},
   "outputs": [],
   "source": [
    "# Convert to float 64\n",
    "\n",
    "df['bathrooms'] = pd.to_numeric(df['bathrooms'],errors='coerce')"
   ]
  },
  {
   "cell_type": "markdown",
   "metadata": {},
   "source": [
    "### Home Price"
   ]
  },
  {
   "cell_type": "code",
   "execution_count": 113,
   "metadata": {},
   "outputs": [],
   "source": [
    "# Take dollar signs out of price\n",
    "\n",
    "df['price'] = [value.split(\"$\")[1] for value in df['price']]\n",
    "df['price'] = [value.replace(\",\",\"\") for value in df['price']]"
   ]
  },
  {
   "cell_type": "code",
   "execution_count": 114,
   "metadata": {},
   "outputs": [],
   "source": [
    "# Convert to float 64\n",
    "\n",
    "df['price'] = pd.to_numeric(df['price'],errors='coerce')"
   ]
  },
  {
   "cell_type": "code",
   "execution_count": 115,
   "metadata": {},
   "outputs": [
    {
     "data": {
      "text/plain": [
       "Index(['Unnamed: 0', 'price', 'bedrooms', 'bathrooms', 'sf', 'year_built',\n",
       "       'lot_size', 'view_description', 'on_waterfront', 'house_style',\n",
       "       'new_construction', 'garage_spaces', 'zip_code'],\n",
       "      dtype='object')"
      ]
     },
     "execution_count": 115,
     "metadata": {},
     "output_type": "execute_result"
    }
   ],
   "source": [
    "df.columns"
   ]
  },
  {
   "cell_type": "code",
   "execution_count": 116,
   "metadata": {},
   "outputs": [],
   "source": [
    "df = df.drop(['Unnamed: 0'], axis = 1)"
   ]
  },
  {
   "cell_type": "code",
   "execution_count": 117,
   "metadata": {},
   "outputs": [
    {
     "data": {
      "text/html": [
       "<div>\n",
       "<style scoped>\n",
       "    .dataframe tbody tr th:only-of-type {\n",
       "        vertical-align: middle;\n",
       "    }\n",
       "\n",
       "    .dataframe tbody tr th {\n",
       "        vertical-align: top;\n",
       "    }\n",
       "\n",
       "    .dataframe thead th {\n",
       "        text-align: right;\n",
       "    }\n",
       "</style>\n",
       "<table border=\"1\" class=\"dataframe\">\n",
       "  <thead>\n",
       "    <tr style=\"text-align: right;\">\n",
       "      <th></th>\n",
       "      <th>price</th>\n",
       "      <th>bedrooms</th>\n",
       "      <th>bathrooms</th>\n",
       "      <th>sf</th>\n",
       "      <th>year_built</th>\n",
       "      <th>lot_size</th>\n",
       "      <th>view_description</th>\n",
       "      <th>on_waterfront</th>\n",
       "      <th>house_style</th>\n",
       "      <th>new_construction</th>\n",
       "      <th>garage_spaces</th>\n",
       "      <th>zip_code</th>\n",
       "    </tr>\n",
       "  </thead>\n",
       "  <tbody>\n",
       "    <tr>\n",
       "      <th>0</th>\n",
       "      <td>84900</td>\n",
       "      <td>2</td>\n",
       "      <td>2.0</td>\n",
       "      <td>902.0</td>\n",
       "      <td>1960</td>\n",
       "      <td>400752.0</td>\n",
       "      <td>{}</td>\n",
       "      <td>{}</td>\n",
       "      <td>Ranch</td>\n",
       "      <td>No</td>\n",
       "      <td>1</td>\n",
       "      <td>05045</td>\n",
       "    </tr>\n",
       "    <tr>\n",
       "      <th>1</th>\n",
       "      <td>335000</td>\n",
       "      <td>2</td>\n",
       "      <td>2.0</td>\n",
       "      <td>1680.0</td>\n",
       "      <td>1986</td>\n",
       "      <td>304920.0</td>\n",
       "      <td>{}</td>\n",
       "      <td>{}</td>\n",
       "      <td>Cape</td>\n",
       "      <td>No</td>\n",
       "      <td>0</td>\n",
       "      <td>05677</td>\n",
       "    </tr>\n",
       "    <tr>\n",
       "      <th>3</th>\n",
       "      <td>245000</td>\n",
       "      <td>3</td>\n",
       "      <td>2.0</td>\n",
       "      <td>1268.0</td>\n",
       "      <td>1960</td>\n",
       "      <td>174240.0</td>\n",
       "      <td>{}</td>\n",
       "      <td>{}</td>\n",
       "      <td>Cape</td>\n",
       "      <td>No</td>\n",
       "      <td>0</td>\n",
       "      <td>05730</td>\n",
       "    </tr>\n",
       "    <tr>\n",
       "      <th>4</th>\n",
       "      <td>374000</td>\n",
       "      <td>9</td>\n",
       "      <td>9.0</td>\n",
       "      <td>5788.0</td>\n",
       "      <td>1861</td>\n",
       "      <td>56628.0</td>\n",
       "      <td>{}</td>\n",
       "      <td>{}</td>\n",
       "      <td>Victorian</td>\n",
       "      <td>No</td>\n",
       "      <td>2</td>\n",
       "      <td>05143</td>\n",
       "    </tr>\n",
       "    <tr>\n",
       "      <th>5</th>\n",
       "      <td>360000</td>\n",
       "      <td>3</td>\n",
       "      <td>2.0</td>\n",
       "      <td>1804.0</td>\n",
       "      <td>1962</td>\n",
       "      <td>18295.0</td>\n",
       "      <td>{}</td>\n",
       "      <td>{}</td>\n",
       "      <td>Raised Ranch</td>\n",
       "      <td>No</td>\n",
       "      <td>2</td>\n",
       "      <td>05482</td>\n",
       "    </tr>\n",
       "  </tbody>\n",
       "</table>\n",
       "</div>"
      ],
      "text/plain": [
       "    price  bedrooms  bathrooms      sf year_built  lot_size view_description  \\\n",
       "0   84900         2        2.0   902.0       1960  400752.0               {}   \n",
       "1  335000         2        2.0  1680.0       1986  304920.0               {}   \n",
       "3  245000         3        2.0  1268.0       1960  174240.0               {}   \n",
       "4  374000         9        9.0  5788.0       1861   56628.0               {}   \n",
       "5  360000         3        2.0  1804.0       1962   18295.0               {}   \n",
       "\n",
       "  on_waterfront    house_style new_construction  garage_spaces zip_code  \n",
       "0            {}          Ranch               No              1    05045  \n",
       "1            {}           Cape               No              0    05677  \n",
       "3            {}           Cape               No              0    05730  \n",
       "4            {}      Victorian               No              2    05143  \n",
       "5            {}   Raised Ranch               No              2    05482  "
      ]
     },
     "execution_count": 117,
     "metadata": {},
     "output_type": "execute_result"
    }
   ],
   "source": [
    "df.head()"
   ]
  },
  {
   "cell_type": "markdown",
   "metadata": {},
   "source": [
    "### Year Built"
   ]
  },
  {
   "cell_type": "code",
   "execution_count": 118,
   "metadata": {},
   "outputs": [],
   "source": [
    "# Convert to float 64\n",
    "df['year_built'] = pd.to_numeric(df['year_built'],errors='coerce')"
   ]
  },
  {
   "cell_type": "markdown",
   "metadata": {},
   "source": [
    "### Waterfront"
   ]
  },
  {
   "cell_type": "code",
   "execution_count": 119,
   "metadata": {},
   "outputs": [],
   "source": [
    "df['on_waterfront'] = [value.replace(\"{}\",\"No\") for value in df['on_waterfront']]"
   ]
  },
  {
   "cell_type": "markdown",
   "metadata": {},
   "source": [
    "### Drop NaNs and null values"
   ]
  },
  {
   "cell_type": "code",
   "execution_count": 120,
   "metadata": {},
   "outputs": [],
   "source": [
    "df.dropna(inplace=True)"
   ]
  },
  {
   "cell_type": "code",
   "execution_count": 121,
   "metadata": {},
   "outputs": [
    {
     "data": {
      "text/plain": [
       "(730, 12)"
      ]
     },
     "execution_count": 121,
     "metadata": {},
     "output_type": "execute_result"
    }
   ],
   "source": [
    "df.shape"
   ]
  },
  {
   "cell_type": "markdown",
   "metadata": {},
   "source": [
    "# Exploratory Work"
   ]
  },
  {
   "cell_type": "code",
   "execution_count": 122,
   "metadata": {},
   "outputs": [
    {
     "data": {
      "text/html": [
       "<div>\n",
       "<style scoped>\n",
       "    .dataframe tbody tr th:only-of-type {\n",
       "        vertical-align: middle;\n",
       "    }\n",
       "\n",
       "    .dataframe tbody tr th {\n",
       "        vertical-align: top;\n",
       "    }\n",
       "\n",
       "    .dataframe thead th {\n",
       "        text-align: right;\n",
       "    }\n",
       "</style>\n",
       "<table border=\"1\" class=\"dataframe\">\n",
       "  <thead>\n",
       "    <tr style=\"text-align: right;\">\n",
       "      <th></th>\n",
       "      <th>price</th>\n",
       "      <th>bedrooms</th>\n",
       "      <th>bathrooms</th>\n",
       "      <th>sf</th>\n",
       "      <th>year_built</th>\n",
       "      <th>lot_size</th>\n",
       "      <th>garage_spaces</th>\n",
       "    </tr>\n",
       "  </thead>\n",
       "  <tbody>\n",
       "    <tr>\n",
       "      <th>price</th>\n",
       "      <td>1.000000</td>\n",
       "      <td>0.295525</td>\n",
       "      <td>0.531893</td>\n",
       "      <td>0.702557</td>\n",
       "      <td>0.073997</td>\n",
       "      <td>0.316010</td>\n",
       "      <td>0.276666</td>\n",
       "    </tr>\n",
       "    <tr>\n",
       "      <th>bedrooms</th>\n",
       "      <td>0.295525</td>\n",
       "      <td>1.000000</td>\n",
       "      <td>0.709649</td>\n",
       "      <td>0.605137</td>\n",
       "      <td>-0.134394</td>\n",
       "      <td>0.110465</td>\n",
       "      <td>0.338989</td>\n",
       "    </tr>\n",
       "    <tr>\n",
       "      <th>bathrooms</th>\n",
       "      <td>0.531893</td>\n",
       "      <td>0.709649</td>\n",
       "      <td>1.000000</td>\n",
       "      <td>0.813832</td>\n",
       "      <td>0.003199</td>\n",
       "      <td>0.147100</td>\n",
       "      <td>0.447216</td>\n",
       "    </tr>\n",
       "    <tr>\n",
       "      <th>sf</th>\n",
       "      <td>0.702557</td>\n",
       "      <td>0.605137</td>\n",
       "      <td>0.813832</td>\n",
       "      <td>1.000000</td>\n",
       "      <td>-0.014472</td>\n",
       "      <td>0.252751</td>\n",
       "      <td>0.430452</td>\n",
       "    </tr>\n",
       "    <tr>\n",
       "      <th>year_built</th>\n",
       "      <td>0.073997</td>\n",
       "      <td>-0.134394</td>\n",
       "      <td>0.003199</td>\n",
       "      <td>-0.014472</td>\n",
       "      <td>1.000000</td>\n",
       "      <td>0.003150</td>\n",
       "      <td>0.022956</td>\n",
       "    </tr>\n",
       "    <tr>\n",
       "      <th>lot_size</th>\n",
       "      <td>0.316010</td>\n",
       "      <td>0.110465</td>\n",
       "      <td>0.147100</td>\n",
       "      <td>0.252751</td>\n",
       "      <td>0.003150</td>\n",
       "      <td>1.000000</td>\n",
       "      <td>0.142728</td>\n",
       "    </tr>\n",
       "    <tr>\n",
       "      <th>garage_spaces</th>\n",
       "      <td>0.276666</td>\n",
       "      <td>0.338989</td>\n",
       "      <td>0.447216</td>\n",
       "      <td>0.430452</td>\n",
       "      <td>0.022956</td>\n",
       "      <td>0.142728</td>\n",
       "      <td>1.000000</td>\n",
       "    </tr>\n",
       "  </tbody>\n",
       "</table>\n",
       "</div>"
      ],
      "text/plain": [
       "                  price  bedrooms  bathrooms        sf  year_built  lot_size  \\\n",
       "price          1.000000  0.295525   0.531893  0.702557    0.073997  0.316010   \n",
       "bedrooms       0.295525  1.000000   0.709649  0.605137   -0.134394  0.110465   \n",
       "bathrooms      0.531893  0.709649   1.000000  0.813832    0.003199  0.147100   \n",
       "sf             0.702557  0.605137   0.813832  1.000000   -0.014472  0.252751   \n",
       "year_built     0.073997 -0.134394   0.003199 -0.014472    1.000000  0.003150   \n",
       "lot_size       0.316010  0.110465   0.147100  0.252751    0.003150  1.000000   \n",
       "garage_spaces  0.276666  0.338989   0.447216  0.430452    0.022956  0.142728   \n",
       "\n",
       "               garage_spaces  \n",
       "price               0.276666  \n",
       "bedrooms            0.338989  \n",
       "bathrooms           0.447216  \n",
       "sf                  0.430452  \n",
       "year_built          0.022956  \n",
       "lot_size            0.142728  \n",
       "garage_spaces       1.000000  "
      ]
     },
     "execution_count": 122,
     "metadata": {},
     "output_type": "execute_result"
    }
   ],
   "source": [
    "df.corr()"
   ]
  },
  {
   "cell_type": "markdown",
   "metadata": {},
   "source": [
    "# Simple Model - SF and Sale Price"
   ]
  },
  {
   "cell_type": "code",
   "execution_count": 123,
   "metadata": {},
   "outputs": [
    {
     "data": {
      "text/plain": [
       "Text(0.5, 1.0, 'House Price vs. Square Footage in VT')"
      ]
     },
     "execution_count": 123,
     "metadata": {},
     "output_type": "execute_result"
    },
    {
     "data": {
      "image/png": "[encoded data removed]",
      "text/plain": [
       "<Figure size 648x504 with 1 Axes>"
      ]
     },
     "metadata": {
      "needs_background": "light"
     },
     "output_type": "display_data"
    }
   ],
   "source": [
    "# Plot sale price vs. square footage\n",
    "\n",
    "fig, ax = plt.subplots(figsize = (9,7))\n",
    "\n",
    "x = df[['sf']]\n",
    "y = df['price'] \n",
    "\n",
    "ax.scatter(x,y,alpha=.5)\n",
    "ax.set_xlabel(\"Square Footage\")\n",
    "ax.set_ylabel(\"House Price\")\n",
    "ax.set_title(\"House Price vs. Square Footage in VT\")"
   ]
  },
  {
   "cell_type": "code",
   "execution_count": 124,
   "metadata": {},
   "outputs": [
    {
     "data": {
      "text/plain": [
       "0.4935857186936675"
      ]
     },
     "execution_count": 124,
     "metadata": {},
     "output_type": "execute_result"
    }
   ],
   "source": [
    "# Simple regression\n",
    "\n",
    "lr = LinearRegression()\n",
    "\n",
    "lr.fit(x,y)\n",
    "lr.score(x,y)"
   ]
  },
  {
   "cell_type": "code",
   "execution_count": 125,
   "metadata": {},
   "outputs": [],
   "source": [
    "# Plot our prediction"
   ]
  },
  {
   "cell_type": "code",
   "execution_count": 126,
   "metadata": {},
   "outputs": [
    {
     "data": {
      "text/plain": [
       "[<matplotlib.lines.Line2D at 0x24ee245e070>]"
      ]
     },
     "execution_count": 126,
     "metadata": {},
     "output_type": "execute_result"
    },
    {
     "data": {
      "image/png": "[encoded data removed]",
      "text/plain": [
       "<Figure size 648x504 with 1 Axes>"
      ]
     },
     "metadata": {
      "needs_background": "light"
     },
     "output_type": "display_data"
    }
   ],
   "source": [
    "fig, ax = plt.subplots(figsize=(9, 7))\n",
    "\n",
    "x = df[['sf']]\n",
    "y = df['price']\n",
    "ax.scatter(x, y, alpha=.5)\n",
    "\n",
    "_x = np.linspace(x.min(), x.max())\n",
    "_y = lr.predict(_x)\n",
    "\n",
    "ax.plot(_x, _y, color='orange')"
   ]
  },
  {
   "cell_type": "code",
   "execution_count": 127,
   "metadata": {},
   "outputs": [
    {
     "name": "stdout",
     "output_type": "stream",
     "text": [
      "slope: 368.34\n",
      "y-intercept: -438643.03\n"
     ]
    }
   ],
   "source": [
    "# Caclulat eequation of line \n",
    "\n",
    "print(f'slope: {lr.coef_[0]:.2f}')\n",
    "print(f'y-intercept: {lr.intercept_:.2f}')"
   ]
  },
  {
   "cell_type": "markdown",
   "metadata": {},
   "source": [
    "# Categorical Variables "
   ]
  },
  {
   "cell_type": "code",
   "execution_count": 130,
   "metadata": {},
   "outputs": [],
   "source": [
    "# Start with on waterfront\n",
    "\n",
    "df['on_waterfront'].value_counts()\n",
    "cat_X = df.loc[:,[\"on_waterfront\"]]\n",
    "cat_Y = df['price']"
   ]
  },
  {
   "cell_type": "code",
   "execution_count": 136,
   "metadata": {},
   "outputs": [
    {
     "data": {
      "text/html": [
       "<div>\n",
       "<style scoped>\n",
       "    .dataframe tbody tr th:only-of-type {\n",
       "        vertical-align: middle;\n",
       "    }\n",
       "\n",
       "    .dataframe tbody tr th {\n",
       "        vertical-align: top;\n",
       "    }\n",
       "\n",
       "    .dataframe thead th {\n",
       "        text-align: right;\n",
       "    }\n",
       "</style>\n",
       "<table border=\"1\" class=\"dataframe\">\n",
       "  <thead>\n",
       "    <tr style=\"text-align: right;\">\n",
       "      <th></th>\n",
       "      <th>on_waterfront_No</th>\n",
       "    </tr>\n",
       "  </thead>\n",
       "  <tbody>\n",
       "    <tr>\n",
       "      <th>0</th>\n",
       "      <td>1.0</td>\n",
       "    </tr>\n",
       "    <tr>\n",
       "      <th>1</th>\n",
       "      <td>1.0</td>\n",
       "    </tr>\n",
       "    <tr>\n",
       "      <th>3</th>\n",
       "      <td>1.0</td>\n",
       "    </tr>\n",
       "    <tr>\n",
       "      <th>4</th>\n",
       "      <td>1.0</td>\n",
       "    </tr>\n",
       "    <tr>\n",
       "      <th>5</th>\n",
       "      <td>1.0</td>\n",
       "    </tr>\n",
       "  </tbody>\n",
       "</table>\n",
       "</div>"
      ],
      "text/plain": [
       "   on_waterfront_No\n",
       "0               1.0\n",
       "1               1.0\n",
       "3               1.0\n",
       "4               1.0\n",
       "5               1.0"
      ]
     },
     "execution_count": 136,
     "metadata": {},
     "output_type": "execute_result"
    }
   ],
   "source": [
    "ohe = OneHotEncoder(drop=\"first\",sparse=False)\n",
    "\n",
    "ohe.fit(cat_X)\n",
    "\n",
    "ohe_X = ohe.transform(cat_X)\n",
    "\n",
    "columns = ohe.get_feature_names(['on_waterfront'])\n",
    "\n",
    "ohe_X_df = pd.DataFrame(ohe_X,columns = columns, index = cat_X.index)\n",
    "\n",
    "ohe_X_df.head()"
   ]
  },
  {
   "cell_type": "code",
   "execution_count": 138,
   "metadata": {},
   "outputs": [
    {
     "data": {
      "text/plain": [
       "0.03707512668491619"
      ]
     },
     "execution_count": 138,
     "metadata": {},
     "output_type": "execute_result"
    }
   ],
   "source": [
    "cat_lr = LinearRegression()\n",
    "\n",
    "cat_lr.fit(ohe_X_df, cat_Y)\n",
    "\n",
    "cat_lr.score(ohe_X_df, cat_Y)"
   ]
  },
  {
   "cell_type": "code",
   "execution_count": 139,
   "metadata": {},
   "outputs": [
    {
     "data": {
      "text/plain": [
       "array([-386001.58714969])"
      ]
     },
     "execution_count": 139,
     "metadata": {},
     "output_type": "execute_result"
    }
   ],
   "source": [
    "cat_lr.coef_"
   ]
  },
  {
   "cell_type": "code",
   "execution_count": 140,
   "metadata": {},
   "outputs": [
    {
     "data": {
      "text/html": [
       "<div>\n",
       "<style scoped>\n",
       "    .dataframe tbody tr th:only-of-type {\n",
       "        vertical-align: middle;\n",
       "    }\n",
       "\n",
       "    .dataframe tbody tr th {\n",
       "        vertical-align: top;\n",
       "    }\n",
       "\n",
       "    .dataframe thead th {\n",
       "        text-align: right;\n",
       "    }\n",
       "</style>\n",
       "<table border=\"1\" class=\"dataframe\">\n",
       "  <thead>\n",
       "    <tr style=\"text-align: right;\">\n",
       "      <th></th>\n",
       "      <th>on_waterfront_No</th>\n",
       "      <th>sf</th>\n",
       "    </tr>\n",
       "  </thead>\n",
       "  <tbody>\n",
       "    <tr>\n",
       "      <th>0</th>\n",
       "      <td>1.0</td>\n",
       "      <td>902.0</td>\n",
       "    </tr>\n",
       "    <tr>\n",
       "      <th>1</th>\n",
       "      <td>1.0</td>\n",
       "      <td>1680.0</td>\n",
       "    </tr>\n",
       "    <tr>\n",
       "      <th>3</th>\n",
       "      <td>1.0</td>\n",
       "      <td>1268.0</td>\n",
       "    </tr>\n",
       "    <tr>\n",
       "      <th>4</th>\n",
       "      <td>1.0</td>\n",
       "      <td>5788.0</td>\n",
       "    </tr>\n",
       "    <tr>\n",
       "      <th>5</th>\n",
       "      <td>1.0</td>\n",
       "      <td>1804.0</td>\n",
       "    </tr>\n",
       "  </tbody>\n",
       "</table>\n",
       "</div>"
      ],
      "text/plain": [
       "   on_waterfront_No      sf\n",
       "0               1.0   902.0\n",
       "1               1.0  1680.0\n",
       "3               1.0  1268.0\n",
       "4               1.0  5788.0\n",
       "5               1.0  1804.0"
      ]
     },
     "execution_count": 140,
     "metadata": {},
     "output_type": "execute_result"
    }
   ],
   "source": [
    "# Combining into one model\n",
    "\n",
    "combined_df = pd.concat([ohe_X_df, df[['sf']]], axis=1)\n",
    "combined_df.head()"
   ]
  },
  {
   "cell_type": "code",
   "execution_count": 144,
   "metadata": {},
   "outputs": [
    {
     "data": {
      "text/plain": [
       "0.5063680389993913"
      ]
     },
     "execution_count": 144,
     "metadata": {},
     "output_type": "execute_result"
    }
   ],
   "source": [
    "combined_lr = LinearRegression()\n",
    "\n",
    "combined_lr.fit(combined_df, cat_Y)\n",
    "\n",
    "combined_lr.score(combined_df, cat_Y)"
   ]
  },
  {
   "cell_type": "code",
   "execution_count": 145,
   "metadata": {},
   "outputs": [
    {
     "data": {
      "text/plain": [
       "(array([-228140.84252499,     361.5227288 ]), -254947.97892555362)"
      ]
     },
     "execution_count": 145,
     "metadata": {},
     "output_type": "execute_result"
    }
   ],
   "source": [
    "combined_lr.coef_, combined_lr.intercept_"
   ]
  },
  {
   "cell_type": "code",
   "execution_count": null,
   "metadata": {},
   "outputs": [],
   "source": [
    "# Get dummis for garage spaces"
   ]
  },
  {
   "cell_type": "code",
   "execution_count": 13,
   "metadata": {},
   "outputs": [],
   "source": [
    "# Get Dummies for new construction"
   ]
  },
  {
   "cell_type": "code",
   "execution_count": null,
   "metadata": {},
   "outputs": [],
   "source": [
    "# Get dummis for waterfront"
   ]
  },
  {
   "cell_type": "code",
   "execution_count": 328,
   "metadata": {},
   "outputs": [],
   "source": [
    "# Get dummis for home type"
   ]
  },
  {
   "cell_type": "code",
   "execution_count": null,
   "metadata": {},
   "outputs": [],
   "source": []
  },
  {
   "cell_type": "code",
   "execution_count": null,
   "metadata": {},
   "outputs": [],
   "source": []
  },
  {
   "cell_type": "code",
   "execution_count": null,
   "metadata": {},
   "outputs": [],
   "source": []
  },
  {
   "cell_type": "code",
   "execution_count": null,
   "metadata": {},
   "outputs": [],
   "source": []
  },
  {
   "cell_type": "code",
   "execution_count": null,
   "metadata": {},
   "outputs": [],
   "source": []
  }
 ],
 "metadata": {
  "kernelspec": {
   "display_name": "Python 3",
   "language": "python",
   "name": "python3"
  },
  "language_info": {
   "codemirror_mode": {
    "name": "ipython",
    "version": 3
   },
   "file_extension": ".py",
   "mimetype": "text/x-python",
   "name": "python",
   "nbconvert_exporter": "python",
   "pygments_lexer": "ipython3",
   "version": "3.8.5"
  }
 },
 "nbformat": 4,
 "nbformat_minor": 4
}
