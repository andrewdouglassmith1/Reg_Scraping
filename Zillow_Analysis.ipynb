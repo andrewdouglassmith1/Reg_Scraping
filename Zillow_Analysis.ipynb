{
 "cells": [
  {
   "cell_type": "markdown",
   "metadata": {},
   "source": [
    "# Import Key Libraries"
   ]
  },
  {
   "cell_type": "code",
   "execution_count": null,
   "metadata": {},
   "outputs": [],
   "source": [
    "import requests\n",
    "from bs4 import BeautifulSoup\n",
    "from random import choice\n",
    "from fake_useragent import UserAgent"
   ]
  },
  {
   "cell_type": "markdown",
   "metadata": {},
   "source": [
    "# Create Functions to Rotate Random User Agents and Proxies when Requesting a URL"
   ]
  },
  {
   "cell_type": "code",
   "execution_count": null,
   "metadata": {},
   "outputs": [],
   "source": [
    "# create functions"
   ]
  },
  {
   "cell_type": "code",
   "execution_count": null,
   "metadata": {},
   "outputs": [],
   "source": [
    "def get_proxy():\n",
    "    '''\n",
    "    Returns a random proxy from a sslproxies.org\n",
    "    '''\n",
    "    url = \"https://www.sslproxies.org/\"\n",
    "    r = requests.get(url)\n",
    "    soup = BeautifulSoup(r.content, \"html5lib\")\n",
    "    return {'https': \n",
    "     choice(list(map(lambda x:x[0]+':'+x[1],\n",
    "        list(zip(map(lambda x:x.text, soup.findAll('td')[::8]), \n",
    "                 map(lambda x:x.text, soup.findAll('td')[1::8]))))))}"
   ]
  },
  {
   "cell_type": "code",
   "execution_count": null,
   "metadata": {},
   "outputs": [],
   "source": [
    "def proxy_request(request_type, url, **kwargs):\n",
    "    '''\n",
    "    A function to request a url through a random user agent and a proxy, the function test the proxy\n",
    "    '''\n",
    "    while 1:\n",
    "        try:\n",
    "            proxy = get_proxy()\n",
    "            ua = UserAgent()\n",
    "            user_agent = {'User-agent': ua.random}\n",
    "            print(\"Using proxy: {}\".format(proxy))\n",
    "            print(\"Using user agent: {}\".format(user_agent))\n",
    "            r = requests.request(request_type, url, proxies=proxy, headers=user_agent, timeout=5, **kwargs)\n",
    "            break\n",
    "        except:\n",
    "            pass\n",
    "    return r "
   ]
  },
  {
   "cell_type": "code",
   "execution_count": 5,
   "metadata": {},
   "outputs": [
    {
     "name": "stdout",
     "output_type": "stream",
     "text": [
      "Using proxy: {'https': '118.175.93.103:48214'}\n",
      "Using user agent: {'User-agent': 'Mozilla/5.0 (Windows NT 5.1) AppleWebKit/537.36 (KHTML, like Gecko) Chrome/27.0.1453.93 Safari/537.36'}\n",
      "Using proxy: {'https': '168.119.202.71:8080'}\n",
      "Using user agent: {'User-agent': 'Mozilla/5.0 (Windows NT 6.2; WOW64) AppleWebKit/537.36 (KHTML, like Gecko) Chrome/27.0.1453.93 Safari/537.36'}\n",
      "Using proxy: {'https': '202.180.54.211:8080'}\n",
      "Using user agent: {'User-agent': 'Mozilla/5.0 (Macintosh; Intel Mac OS X 10_8_4) AppleWebKit/537.36 (KHTML, like Gecko) Chrome/49.0.2656.18 Safari/537.36'}\n",
      "Using proxy: {'https': '79.137.44.85:3129'}\n",
      "Using user agent: {'User-agent': 'Mozilla/5.0 (X11; Linux x86_64) AppleWebKit/537.36 (KHTML, like Gecko) Chrome/33.0.1750.517 Safari/537.36'}\n"
     ]
    }
   ],
   "source": [
    "# testing functions\n",
    "\n",
    "r = proxy_request('get', \"https://www.youtube.com/\")"
   ]
  },
  {
   "cell_type": "code",
   "execution_count": 6,
   "metadata": {},
   "outputs": [
    {
     "data": {
      "text/plain": [
       "200"
      ]
     },
     "execution_count": 6,
     "metadata": {},
     "output_type": "execute_result"
    }
   ],
   "source": [
    "r.status_code"
   ]
  },
  {
   "cell_type": "code",
   "execution_count": null,
   "metadata": {},
   "outputs": [],
   "source": [
    "# For ignoring SSL certificate errors\n",
    "\n",
    "ctx = ssl.create_default_context()\n",
    "ctx.check_hostname = False\n",
    "ctx.verify_mode = ssl.CERT_NONE"
   ]
  },
  {
   "cell_type": "markdown",
   "metadata": {},
   "source": [
    "# Grab URLs for all properties listed in Vermont from homepage"
   ]
  },
  {
   "cell_type": "code",
   "execution_count": null,
   "metadata": {},
   "outputs": [],
   "source": []
  }
 ],
 "metadata": {
  "kernelspec": {
   "display_name": "Python 3",
   "language": "python",
   "name": "python3"
  },
  "language_info": {
   "codemirror_mode": {
    "name": "ipython",
    "version": 3
   },
   "file_extension": ".py",
   "mimetype": "text/x-python",
   "name": "python",
   "nbconvert_exporter": "python",
   "pygments_lexer": "ipython3",
   "version": "3.8.5"
  }
 },
 "nbformat": 4,
 "nbformat_minor": 4
}
